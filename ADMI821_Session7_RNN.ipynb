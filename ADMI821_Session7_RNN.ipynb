{
  "nbformat": 4,
  "nbformat_minor": 0,
  "metadata": {
    "colab": {
      "name": "ADMI821- Session7-RNN.ipynb",
      "provenance": [],
      "collapsed_sections": [],
      "include_colab_link": true
    },
    "kernelspec": {
      "name": "python3",
      "display_name": "Python 3"
    }
  },
  "cells": [
    {
      "cell_type": "markdown",
      "metadata": {
        "id": "view-in-github",
        "colab_type": "text"
      },
      "source": [
        "<a href=\"https://colab.research.google.com/github/Parisa-Foroutan/Tutorials/blob/main/ADMI821_Session7_RNN.ipynb\" target=\"_parent\"><img src=\"https://colab.research.google.com/assets/colab-badge.svg\" alt=\"Open In Colab\"/></a>"
      ]
    },
    {
      "cell_type": "markdown",
      "source": [
        "#Tutorial 7: Recurrent Neural Networks\n",
        "\n",
        "Link to Datasets: [AMZN_train](https://drive.google.com/file/d/1cVpK7WrUA2-tWQe73BPFE5C4CZ3gT3iO/view?usp=sharing), [AMZN_test](https://drive.google.com/file/d/1oK4pXOQeU-8SIRAvuB7j-1TdiF9DvvTr/view?usp=sharing)"
      ],
      "metadata": {
        "id": "NPDbFpRXona9"
      }
    },
    {
      "cell_type": "code",
      "metadata": {
        "id": "LS2JO0dXGqaS"
      },
      "source": [
        "import numpy as np\n",
        "import pandas as pd\n",
        "import matplotlib.pyplot as plt"
      ],
      "execution_count": 2,
      "outputs": []
    },
    {
      "cell_type": "markdown",
      "source": [
        "### Recurrent Neural Networks (LSTM)"
      ],
      "metadata": {
        "id": "KWCG50gJZsbI"
      }
    },
    {
      "cell_type": "markdown",
      "metadata": {
        "id": "nQ47JAxrgmaL"
      },
      "source": [
        "##### Data Preprocessing\n",
        "inputs of Keras can only be numpy arrays"
      ]
    },
    {
      "cell_type": "code",
      "metadata": {
        "id": "9PMOK7C9TiYZ",
        "outputId": "4faa1582-cca5-4252-b626-7e8e5af892a7",
        "colab": {
          "base_uri": "https://localhost:8080/"
        }
      },
      "source": [
        "dataset_train = pd.read_csv('/content/AMZN_train.csv')\n",
        "# use column 'close' and convert it to np array\n",
        "training_set = dataset_train.iloc[:, 4:5].values\n",
        "len(training_set)"
      ],
      "execution_count": 4,
      "outputs": [
        {
          "output_type": "execute_result",
          "data": {
            "text/plain": [
              "525"
            ]
          },
          "metadata": {},
          "execution_count": 4
        }
      ]
    },
    {
      "cell_type": "markdown",
      "metadata": {
        "id": "HT8_2UJegtG5"
      },
      "source": [
        "Feature Scaling"
      ]
    },
    {
      "cell_type": "code",
      "metadata": {
        "id": "OTrF2kR7gx9x"
      },
      "source": [
        "# normalize your data for RNN\n",
        "from sklearn.preprocessing import MinMaxScaler\n",
        "sc = MinMaxScaler(feature_range = (0,1))\n",
        "training_set_scaled = sc.fit_transform(training_set)"
      ],
      "execution_count": 5,
      "outputs": []
    },
    {
      "cell_type": "markdown",
      "metadata": {
        "id": "JyYgYocqhNUg"
      },
      "source": [
        "Creating a data structure with 30 timesteps and 1 output"
      ]
    },
    {
      "cell_type": "code",
      "metadata": {
        "id": "iofU21B0i6ST",
        "colab": {
          "base_uri": "https://localhost:8080/"
        },
        "outputId": "e7230710-9159-4df0-c5f8-05abf075dd3c"
      },
      "source": [
        "# lag = 30, n_obs = 525\n",
        "X_train = []\n",
        "y_train = []\n",
        "for i in range(30, 525):\n",
        "  X_train.append(training_set_scaled[i-30:i, 0]) # upperbound not included\n",
        "  y_train.append(training_set_scaled[i, 0])\n",
        "X_train , y_train = np.array(X_train), np.array(y_train) # convert list to np array\n",
        "X_train.shape"
      ],
      "execution_count": 6,
      "outputs": [
        {
          "output_type": "execute_result",
          "data": {
            "text/plain": [
              "(495, 30)"
            ]
          },
          "metadata": {},
          "execution_count": 6
        }
      ]
    },
    {
      "cell_type": "markdown",
      "metadata": {
        "id": "D8yaN7Zvi95l"
      },
      "source": [
        "Reshaping: anytime you want to add dimensions to np array, you can use reshape"
      ]
    },
    {
      "cell_type": "code",
      "metadata": {
        "id": "FOXqJHmNjBkz"
      },
      "source": [
        "# specify or add indicators(here 1, close price)\n",
        "# keras documentation-> Recurrent Layers -> Input shape: (batch_size,timesteps,input_dim)\n",
        "X_train = np.reshape(X_train, (X_train.shape[0], X_train.shape[1], 1))"
      ],
      "execution_count": 7,
      "outputs": []
    },
    {
      "cell_type": "markdown",
      "metadata": {
        "id": "ZRRSOJeVjEWV"
      },
      "source": [
        "#### Building and Training the RNN"
      ]
    },
    {
      "cell_type": "markdown",
      "metadata": {
        "id": "FEIE-1s9jNzC"
      },
      "source": [
        "RNN architecture"
      ]
    },
    {
      "cell_type": "code",
      "metadata": {
        "id": "1338dJ0UjRKH"
      },
      "source": [
        "from keras.models import Sequential\n",
        "from keras.layers import Dense, LSTM, Dropout\n",
        "\n",
        "model = Sequential()\n",
        "\n",
        "# Adding the first LSTM layer and some Dropout regularisation\n",
        "model.add(LSTM(units = 50, return_sequences = True, input_shape = (X_train.shape[1], 1)))\n",
        "# return_sequences = True, because we want to add another LSTM layer after this\n",
        "model.add(Dropout(rate=0.2)) # 20% of the neurans will be droped out during each training iteration\n",
        "\n",
        "# Adding a second LSTM layer and some Dropout regularisation\n",
        "model.add(LSTM(units = 50, return_sequences = True))\n",
        "model.add(Dropout(0.2))\n",
        "\n",
        "# Adding the last LSTM layer and some Dropout regularisation\n",
        "model.add(LSTM(units = 50))\n",
        "model.add(Dropout(0.2))\n",
        "\n",
        "# Adding the output layer\n",
        "model.add(Dense(units = 1))"
      ],
      "execution_count": 8,
      "outputs": []
    },
    {
      "cell_type": "markdown",
      "metadata": {
        "id": "-mPhwKGkkebi"
      },
      "source": [
        "Fitting the RNN to the Training set"
      ]
    },
    {
      "cell_type": "code",
      "metadata": {
        "id": "I06Nkrz5kkb-",
        "outputId": "f5423a12-337a-4aeb-95ca-fc02a21045a1",
        "colab": {
          "base_uri": "https://localhost:8080/"
        }
      },
      "source": [
        "# Compiling the RNN\n",
        "model.compile(optimizer = 'adam', loss = 'mean_squared_error')\n",
        "# Fitting\n",
        "model.fit(X_train, y_train, epochs=100, batch_size=32)"
      ],
      "execution_count": 9,
      "outputs": [
        {
          "output_type": "stream",
          "name": "stdout",
          "text": [
            "Epoch 1/100\n",
            "16/16 [==============================] - 7s 50ms/step - loss: 0.1091\n",
            "Epoch 2/100\n",
            "16/16 [==============================] - 1s 47ms/step - loss: 0.0235\n",
            "Epoch 3/100\n",
            "16/16 [==============================] - 1s 49ms/step - loss: 0.0133\n",
            "Epoch 4/100\n",
            "16/16 [==============================] - 1s 47ms/step - loss: 0.0113\n",
            "Epoch 5/100\n",
            "16/16 [==============================] - 1s 49ms/step - loss: 0.0105\n",
            "Epoch 6/100\n",
            "16/16 [==============================] - 1s 50ms/step - loss: 0.0092\n",
            "Epoch 7/100\n",
            "16/16 [==============================] - 1s 47ms/step - loss: 0.0096\n",
            "Epoch 8/100\n",
            "16/16 [==============================] - 1s 48ms/step - loss: 0.0106\n",
            "Epoch 9/100\n",
            "16/16 [==============================] - 1s 49ms/step - loss: 0.0096\n",
            "Epoch 10/100\n",
            "16/16 [==============================] - 1s 46ms/step - loss: 0.0087\n",
            "Epoch 11/100\n",
            "16/16 [==============================] - 1s 47ms/step - loss: 0.0096\n",
            "Epoch 12/100\n",
            "16/16 [==============================] - 1s 48ms/step - loss: 0.0107\n",
            "Epoch 13/100\n",
            "16/16 [==============================] - 1s 48ms/step - loss: 0.0096\n",
            "Epoch 14/100\n",
            "16/16 [==============================] - 1s 48ms/step - loss: 0.0099\n",
            "Epoch 15/100\n",
            "16/16 [==============================] - 1s 46ms/step - loss: 0.0088\n",
            "Epoch 16/100\n",
            "16/16 [==============================] - 1s 47ms/step - loss: 0.0092\n",
            "Epoch 17/100\n",
            "16/16 [==============================] - 1s 54ms/step - loss: 0.0084\n",
            "Epoch 18/100\n",
            "16/16 [==============================] - 1s 50ms/step - loss: 0.0083\n",
            "Epoch 19/100\n",
            "16/16 [==============================] - 1s 49ms/step - loss: 0.0081\n",
            "Epoch 20/100\n",
            "16/16 [==============================] - 1s 49ms/step - loss: 0.0085\n",
            "Epoch 21/100\n",
            "16/16 [==============================] - 1s 48ms/step - loss: 0.0082\n",
            "Epoch 22/100\n",
            "16/16 [==============================] - 1s 47ms/step - loss: 0.0076\n",
            "Epoch 23/100\n",
            "16/16 [==============================] - 1s 47ms/step - loss: 0.0076\n",
            "Epoch 24/100\n",
            "16/16 [==============================] - 1s 48ms/step - loss: 0.0073\n",
            "Epoch 25/100\n",
            "16/16 [==============================] - 1s 46ms/step - loss: 0.0079\n",
            "Epoch 26/100\n",
            "16/16 [==============================] - 1s 47ms/step - loss: 0.0074\n",
            "Epoch 27/100\n",
            "16/16 [==============================] - 1s 48ms/step - loss: 0.0081\n",
            "Epoch 28/100\n",
            "16/16 [==============================] - 1s 46ms/step - loss: 0.0097\n",
            "Epoch 29/100\n",
            "16/16 [==============================] - 1s 47ms/step - loss: 0.0079\n",
            "Epoch 30/100\n",
            "16/16 [==============================] - 1s 47ms/step - loss: 0.0080\n",
            "Epoch 31/100\n",
            "16/16 [==============================] - 1s 47ms/step - loss: 0.0077\n",
            "Epoch 32/100\n",
            "16/16 [==============================] - 1s 49ms/step - loss: 0.0075\n",
            "Epoch 33/100\n",
            "16/16 [==============================] - 1s 48ms/step - loss: 0.0072\n",
            "Epoch 34/100\n",
            "16/16 [==============================] - 1s 47ms/step - loss: 0.0075\n",
            "Epoch 35/100\n",
            "16/16 [==============================] - 1s 47ms/step - loss: 0.0075\n",
            "Epoch 36/100\n",
            "16/16 [==============================] - 1s 49ms/step - loss: 0.0076\n",
            "Epoch 37/100\n",
            "16/16 [==============================] - 1s 47ms/step - loss: 0.0068\n",
            "Epoch 38/100\n",
            "16/16 [==============================] - 1s 47ms/step - loss: 0.0067\n",
            "Epoch 39/100\n",
            "16/16 [==============================] - 1s 46ms/step - loss: 0.0067\n",
            "Epoch 40/100\n",
            "16/16 [==============================] - 1s 48ms/step - loss: 0.0070\n",
            "Epoch 41/100\n",
            "16/16 [==============================] - 1s 48ms/step - loss: 0.0067\n",
            "Epoch 42/100\n",
            "16/16 [==============================] - 1s 47ms/step - loss: 0.0072\n",
            "Epoch 43/100\n",
            "16/16 [==============================] - 1s 47ms/step - loss: 0.0070\n",
            "Epoch 44/100\n",
            "16/16 [==============================] - 1s 48ms/step - loss: 0.0060\n",
            "Epoch 45/100\n",
            "16/16 [==============================] - 1s 50ms/step - loss: 0.0064\n",
            "Epoch 46/100\n",
            "16/16 [==============================] - 1s 48ms/step - loss: 0.0061\n",
            "Epoch 47/100\n",
            "16/16 [==============================] - 1s 47ms/step - loss: 0.0058\n",
            "Epoch 48/100\n",
            "16/16 [==============================] - 1s 47ms/step - loss: 0.0053\n",
            "Epoch 49/100\n",
            "16/16 [==============================] - 1s 50ms/step - loss: 0.0059\n",
            "Epoch 50/100\n",
            "16/16 [==============================] - 1s 48ms/step - loss: 0.0061\n",
            "Epoch 51/100\n",
            "16/16 [==============================] - 1s 47ms/step - loss: 0.0057\n",
            "Epoch 52/100\n",
            "16/16 [==============================] - 1s 48ms/step - loss: 0.0055\n",
            "Epoch 53/100\n",
            "16/16 [==============================] - 1s 48ms/step - loss: 0.0058\n",
            "Epoch 54/100\n",
            "16/16 [==============================] - 1s 47ms/step - loss: 0.0061\n",
            "Epoch 55/100\n",
            "16/16 [==============================] - 1s 47ms/step - loss: 0.0061\n",
            "Epoch 56/100\n",
            "16/16 [==============================] - 1s 48ms/step - loss: 0.0057\n",
            "Epoch 57/100\n",
            "16/16 [==============================] - 1s 50ms/step - loss: 0.0054\n",
            "Epoch 58/100\n",
            "16/16 [==============================] - 1s 52ms/step - loss: 0.0059\n",
            "Epoch 59/100\n",
            "16/16 [==============================] - 1s 49ms/step - loss: 0.0056\n",
            "Epoch 60/100\n",
            "16/16 [==============================] - 1s 46ms/step - loss: 0.0054\n",
            "Epoch 61/100\n",
            "16/16 [==============================] - 1s 48ms/step - loss: 0.0055\n",
            "Epoch 62/100\n",
            "16/16 [==============================] - 1s 48ms/step - loss: 0.0056\n",
            "Epoch 63/100\n",
            "16/16 [==============================] - 1s 48ms/step - loss: 0.0061\n",
            "Epoch 64/100\n",
            "16/16 [==============================] - 1s 47ms/step - loss: 0.0058\n",
            "Epoch 65/100\n",
            "16/16 [==============================] - 1s 48ms/step - loss: 0.0054\n",
            "Epoch 66/100\n",
            "16/16 [==============================] - 1s 49ms/step - loss: 0.0050\n",
            "Epoch 67/100\n",
            "16/16 [==============================] - 1s 51ms/step - loss: 0.0056\n",
            "Epoch 68/100\n",
            "16/16 [==============================] - 1s 48ms/step - loss: 0.0053\n",
            "Epoch 69/100\n",
            "16/16 [==============================] - 1s 48ms/step - loss: 0.0054\n",
            "Epoch 70/100\n",
            "16/16 [==============================] - 1s 50ms/step - loss: 0.0052\n",
            "Epoch 71/100\n",
            "16/16 [==============================] - 1s 51ms/step - loss: 0.0068\n",
            "Epoch 72/100\n",
            "16/16 [==============================] - 1s 48ms/step - loss: 0.0057\n",
            "Epoch 73/100\n",
            "16/16 [==============================] - 1s 48ms/step - loss: 0.0056\n",
            "Epoch 74/100\n",
            "16/16 [==============================] - 1s 49ms/step - loss: 0.0054\n",
            "Epoch 75/100\n",
            "16/16 [==============================] - 1s 50ms/step - loss: 0.0052\n",
            "Epoch 76/100\n",
            "16/16 [==============================] - 1s 48ms/step - loss: 0.0051\n",
            "Epoch 77/100\n",
            "16/16 [==============================] - 1s 48ms/step - loss: 0.0046\n",
            "Epoch 78/100\n",
            "16/16 [==============================] - 1s 48ms/step - loss: 0.0050\n",
            "Epoch 79/100\n",
            "16/16 [==============================] - 1s 50ms/step - loss: 0.0048\n",
            "Epoch 80/100\n",
            "16/16 [==============================] - 1s 51ms/step - loss: 0.0052\n",
            "Epoch 81/100\n",
            "16/16 [==============================] - 1s 49ms/step - loss: 0.0047\n",
            "Epoch 82/100\n",
            "16/16 [==============================] - 1s 48ms/step - loss: 0.0050\n",
            "Epoch 83/100\n",
            "16/16 [==============================] - 1s 52ms/step - loss: 0.0046\n",
            "Epoch 84/100\n",
            "16/16 [==============================] - 1s 51ms/step - loss: 0.0048\n",
            "Epoch 85/100\n",
            "16/16 [==============================] - 1s 48ms/step - loss: 0.0052\n",
            "Epoch 86/100\n",
            "16/16 [==============================] - 1s 49ms/step - loss: 0.0044\n",
            "Epoch 87/100\n",
            "16/16 [==============================] - 1s 50ms/step - loss: 0.0045\n",
            "Epoch 88/100\n",
            "16/16 [==============================] - 1s 49ms/step - loss: 0.0045\n",
            "Epoch 89/100\n",
            "16/16 [==============================] - 1s 49ms/step - loss: 0.0047\n",
            "Epoch 90/100\n",
            "16/16 [==============================] - 1s 49ms/step - loss: 0.0048\n",
            "Epoch 91/100\n",
            "16/16 [==============================] - 1s 48ms/step - loss: 0.0040\n",
            "Epoch 92/100\n",
            "16/16 [==============================] - 1s 49ms/step - loss: 0.0041\n",
            "Epoch 93/100\n",
            "16/16 [==============================] - 1s 50ms/step - loss: 0.0046\n",
            "Epoch 94/100\n",
            "16/16 [==============================] - 1s 49ms/step - loss: 0.0043\n",
            "Epoch 95/100\n",
            "16/16 [==============================] - 1s 50ms/step - loss: 0.0047\n",
            "Epoch 96/100\n",
            "16/16 [==============================] - 1s 53ms/step - loss: 0.0039\n",
            "Epoch 97/100\n",
            "16/16 [==============================] - 1s 54ms/step - loss: 0.0049\n",
            "Epoch 98/100\n",
            "16/16 [==============================] - 1s 47ms/step - loss: 0.0049\n",
            "Epoch 99/100\n",
            "16/16 [==============================] - 1s 51ms/step - loss: 0.0051\n",
            "Epoch 100/100\n",
            "16/16 [==============================] - 1s 47ms/step - loss: 0.0048\n"
          ]
        },
        {
          "output_type": "execute_result",
          "data": {
            "text/plain": [
              "<keras.callbacks.History at 0x7fa188ddd710>"
            ]
          },
          "metadata": {},
          "execution_count": 9
        }
      ]
    },
    {
      "cell_type": "markdown",
      "metadata": {
        "id": "4hRau_lIkrE8"
      },
      "source": [
        "##### Making the predictions and visualising the results"
      ]
    },
    {
      "cell_type": "markdown",
      "metadata": {
        "id": "GrvrLblxkz42"
      },
      "source": [
        "Getting the predicted stock price of Feb 2022:\n",
        "we need to concatenate test set with training set (before normalization) to use 30 observation before Feb 2022."
      ]
    },
    {
      "cell_type": "code",
      "metadata": {
        "id": "emikTvUpk3Ck"
      },
      "source": [
        "# Test data\n",
        "dataset_test = pd.read_csv('/content/AMZN_test.csv')\n",
        "real_stock_price = dataset_test.iloc[:,4:5].values\n",
        "\n",
        "data_set_total = pd.concat([dataset_train['Close'], dataset_test['Close']], axis = 0)\n",
        "inputs = data_set_total[len(data_set_total)- len(dataset_test) - 30:].values\n",
        "# reshape inputs to get a numpy array with rows and one column\n",
        "inputs = inputs.reshape(-1,1)\n",
        "# scale inputs (like what we did with training set)\n",
        "inputs = sc.transform(inputs)\n",
        "X_test = []\n",
        "# test set contains 14 observations\n",
        "for i in range (30,44):\n",
        "  X_test.append(inputs[i-30:i,0])\n",
        "X_test = np.array(X_test)\n",
        "X_test = np.reshape(X_test, (X_test.shape[0], X_test.shape[1], 1))\n",
        "pred_stock_price = model.predict(X_test)\n",
        "# rescale to original format\n",
        "pred_stock_price = sc.inverse_transform(pred_stock_price)\n",
        "MSE = np.mean(np.sum((pred_stock_price-real_stock_price)**2))"
      ],
      "execution_count": 10,
      "outputs": []
    },
    {
      "cell_type": "code",
      "metadata": {
        "id": "8OUI8U49k9tH",
        "colab": {
          "base_uri": "https://localhost:8080/",
          "height": 295
        },
        "outputId": "b0d0d0de-d817-4191-dcda-0e31ab2c7a29"
      },
      "source": [
        "plt.plot(real_stock_price, color = 'red', label = 'Real Amazon Stock Price')\n",
        "plt.plot(pred_stock_price, color = 'blue', label = 'Predicted Amazon Stock Price')\n",
        "plt.title('Amazon Stock Price Prediction')\n",
        "plt.xlabel('Time')\n",
        "plt.ylabel('Price')\n",
        "plt.legend()\n",
        "plt.show()"
      ],
      "execution_count": 12,
      "outputs": [
        {
          "output_type": "display_data",
          "data": {
            "text/plain": [
              "<Figure size 432x288 with 1 Axes>"
            ],
            "image/png": "[encoded data removed]"
          },
          "metadata": {
            "needs_background": "light"
          }
        }
      ]
    }
  ]
}