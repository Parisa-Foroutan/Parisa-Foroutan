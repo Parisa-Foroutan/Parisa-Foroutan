{
  "nbformat": 4,
  "nbformat_minor": 0,
  "metadata": {
    "colab": {
      "name": "ADMI821- Session6.ipynb",
      "provenance": [],
      "collapsed_sections": [
        "ytGf_U3sTD2w",
        "S6WxrmGnZiFn",
        "hS_FUtQmZmxO",
        "KWCG50gJZsbI",
        "ZRRSOJeVjEWV",
        "4hRau_lIkrE8",
        "eLxLuFE0VLPM",
        "c44IhzZIKN7V"
      ],
      "include_colab_link": true
    },
    "kernelspec": {
      "name": "python3",
      "display_name": "Python 3"
    }
  },
  "cells": [
    {
      "cell_type": "markdown",
      "metadata": {
        "id": "view-in-github",
        "colab_type": "text"
      },
      "source": [
        "<a href=\"https://colab.research.google.com/github/Parisa-Foroutan/Tutorials/blob/main/ADMI821_Session6.ipynb\" target=\"_parent\"><img src=\"https://colab.research.google.com/assets/colab-badge.svg\" alt=\"Open In Colab\"/></a>"
      ]
    },
    {
      "cell_type": "markdown",
      "source": [
        "#Tutorial 6: Neural Networks\n",
        "\n",
        "Find it on GitHub: https://github.com/Parisa-Foroutan/Tutorials/blob/main/ADMI821_Session6.ipynb\n",
        "\n",
        "Link to Datasets: [AMZN_train](https://drive.google.com/file/d/1cVpK7WrUA2-tWQe73BPFE5C4CZ3gT3iO/view?usp=sharing), [AMZN_test](https://drive.google.com/file/d/1oK4pXOQeU-8SIRAvuB7j-1TdiF9DvvTr/view?usp=sharing)"
      ],
      "metadata": {
        "id": "NPDbFpRXona9"
      }
    },
    {
      "cell_type": "code",
      "metadata": {
        "id": "LS2JO0dXGqaS"
      },
      "source": [
        "import numpy as np\n",
        "import pandas as pd\n",
        "import matplotlib.pyplot as plt"
      ],
      "execution_count": 3,
      "outputs": []
    },
    {
      "cell_type": "code",
      "source": [
        "import tensorflow as tf\n",
        "from tensorflow.keras import datasets, layers, models\n",
        "tf.random.set_seed(123)"
      ],
      "metadata": {
        "id": "JeIo9-KNw01z"
      },
      "execution_count": 30,
      "outputs": []
    },
    {
      "cell_type": "markdown",
      "metadata": {
        "id": "ytGf_U3sTD2w"
      },
      "source": [
        "## Standard Feed Forward Neural Network:\n"
      ]
    },
    {
      "cell_type": "code",
      "source": [
        "from sklearn.datasets import load_wine\n",
        "from sklearn.model_selection import train_test_split\n",
        "\n",
        "X,y = load_wine(return_X_y=True)\n",
        "X_train, X_test, y_train, y_test = train_test_split(X, y, shuffle=True, test_size=0.2, random_state=123)"
      ],
      "metadata": {
        "id": "_EJhavlsCQ6T"
      },
      "execution_count": 4,
      "outputs": []
    },
    {
      "cell_type": "code",
      "metadata": {
        "id": "RVFphk4ELBkA",
        "colab": {
          "base_uri": "https://localhost:8080/"
        },
        "outputId": "c97b524c-a097-4a97-c571-867f889e51bf"
      },
      "source": [
        "raw_data = load_wine()\n",
        "print(raw_data['DESCR'])"
      ],
      "execution_count": 5,
      "outputs": [
        {
          "output_type": "stream",
          "name": "stdout",
          "text": [
            ".. _wine_dataset:\n",
            "\n",
            "Wine recognition dataset\n",
            "------------------------\n",
            "\n",
            "**Data Set Characteristics:**\n",
            "\n",
            "    :Number of Instances: 178 (50 in each of three classes)\n",
            "    :Number of Attributes: 13 numeric, predictive attributes and the class\n",
            "    :Attribute Information:\n",
            " \t\t- Alcohol\n",
            " \t\t- Malic acid\n",
            " \t\t- Ash\n",
            "\t\t- Alcalinity of ash  \n",
            " \t\t- Magnesium\n",
            "\t\t- Total phenols\n",
            " \t\t- Flavanoids\n",
            " \t\t- Nonflavanoid phenols\n",
            " \t\t- Proanthocyanins\n",
            "\t\t- Color intensity\n",
            " \t\t- Hue\n",
            " \t\t- OD280/OD315 of diluted wines\n",
            " \t\t- Proline\n",
            "\n",
            "    - class:\n",
            "            - class_0\n",
            "            - class_1\n",
            "            - class_2\n",
            "\t\t\n",
            "    :Summary Statistics:\n",
            "    \n",
            "    ============================= ==== ===== ======= =====\n",
            "                                   Min   Max   Mean     SD\n",
            "    ============================= ==== ===== ======= =====\n",
            "    Alcohol:                      11.0  14.8    13.0   0.8\n",
            "    Malic Acid:                   0.74  5.80    2.34  1.12\n",
            "    Ash:                          1.36  3.23    2.36  0.27\n",
            "    Alcalinity of Ash:            10.6  30.0    19.5   3.3\n",
            "    Magnesium:                    70.0 162.0    99.7  14.3\n",
            "    Total Phenols:                0.98  3.88    2.29  0.63\n",
            "    Flavanoids:                   0.34  5.08    2.03  1.00\n",
            "    Nonflavanoid Phenols:         0.13  0.66    0.36  0.12\n",
            "    Proanthocyanins:              0.41  3.58    1.59  0.57\n",
            "    Colour Intensity:              1.3  13.0     5.1   2.3\n",
            "    Hue:                          0.48  1.71    0.96  0.23\n",
            "    OD280/OD315 of diluted wines: 1.27  4.00    2.61  0.71\n",
            "    Proline:                       278  1680     746   315\n",
            "    ============================= ==== ===== ======= =====\n",
            "\n",
            "    :Missing Attribute Values: None\n",
            "    :Class Distribution: class_0 (59), class_1 (71), class_2 (48)\n",
            "    :Creator: R.A. Fisher\n",
            "    :Donor: Michael Marshall (MARSHALL%PLU@io.arc.nasa.gov)\n",
            "    :Date: July, 1988\n",
            "\n",
            "This is a copy of UCI ML Wine recognition datasets.\n",
            "https://archive.ics.uci.edu/ml/machine-learning-databases/wine/wine.data\n",
            "\n",
            "The data is the results of a chemical analysis of wines grown in the same\n",
            "region in Italy by three different cultivators. There are thirteen different\n",
            "measurements taken for different constituents found in the three types of\n",
            "wine.\n",
            "\n",
            "Original Owners: \n",
            "\n",
            "Forina, M. et al, PARVUS - \n",
            "An Extendible Package for Data Exploration, Classification and Correlation. \n",
            "Institute of Pharmaceutical and Food Analysis and Technologies,\n",
            "Via Brigata Salerno, 16147 Genoa, Italy.\n",
            "\n",
            "Citation:\n",
            "\n",
            "Lichman, M. (2013). UCI Machine Learning Repository\n",
            "[https://archive.ics.uci.edu/ml]. Irvine, CA: University of California,\n",
            "School of Information and Computer Science. \n",
            "\n",
            ".. topic:: References\n",
            "\n",
            "  (1) S. Aeberhard, D. Coomans and O. de Vel, \n",
            "  Comparison of Classifiers in High Dimensional Settings, \n",
            "  Tech. Rep. no. 92-02, (1992), Dept. of Computer Science and Dept. of  \n",
            "  Mathematics and Statistics, James Cook University of North Queensland. \n",
            "  (Also submitted to Technometrics). \n",
            "\n",
            "  The data was used with many others for comparing various \n",
            "  classifiers. The classes are separable, though only RDA \n",
            "  has achieved 100% correct classification. \n",
            "  (RDA : 100%, QDA 99.4%, LDA 98.9%, 1NN 96.1% (z-transformed data)) \n",
            "  (All results using the leave-one-out technique) \n",
            "\n",
            "  (2) S. Aeberhard, D. Coomans and O. de Vel, \n",
            "  \"THE CLASSIFICATION PERFORMANCE OF RDA\" \n",
            "  Tech. Rep. no. 92-01, (1992), Dept. of Computer Science and Dept. of \n",
            "  Mathematics and Statistics, James Cook University of North Queensland. \n",
            "  (Also submitted to Journal of Chemometrics).\n",
            "\n"
          ]
        }
      ]
    },
    {
      "cell_type": "markdown",
      "source": [
        "Encode class Values:"
      ],
      "metadata": {
        "id": "5qZOrTmcpbwj"
      }
    },
    {
      "cell_type": "code",
      "source": [
        "y_train[:5]"
      ],
      "metadata": {
        "colab": {
          "base_uri": "https://localhost:8080/"
        },
        "id": "4npOQJgt7aiG",
        "outputId": "e3fa83e1-1860-4eed-debf-45ae6d9ce92f"
      },
      "execution_count": 6,
      "outputs": [
        {
          "output_type": "execute_result",
          "data": {
            "text/plain": [
              "array([2, 0, 1, 1, 2])"
            ]
          },
          "metadata": {},
          "execution_count": 6
        }
      ]
    },
    {
      "cell_type": "code",
      "metadata": {
        "id": "1xE05BzY24o5",
        "colab": {
          "base_uri": "https://localhost:8080/"
        },
        "outputId": "8595219e-0a02-4a41-a523-65859b6b0ac7"
      },
      "source": [
        "from keras.utils import np_utils\n",
        "\n",
        "y_train_d = np_utils.to_categorical(y_train) # Converts a class vector (integers) to binary class matrix.\n",
        "y_test_d = np_utils.to_categorical(y_test)\n",
        "y_train_d[:5,:]"
      ],
      "execution_count": 7,
      "outputs": [
        {
          "output_type": "execute_result",
          "data": {
            "text/plain": [
              "array([[0., 0., 1.],\n",
              "       [1., 0., 0.],\n",
              "       [0., 1., 0.],\n",
              "       [0., 1., 0.],\n",
              "       [0., 0., 1.]], dtype=float32)"
            ]
          },
          "metadata": {},
          "execution_count": 7
        }
      ]
    },
    {
      "cell_type": "markdown",
      "source": [
        "create MLP architecture:"
      ],
      "metadata": {
        "id": "Vp7HqwtD9Csd"
      }
    },
    {
      "cell_type": "code",
      "metadata": {
        "id": "GHE9LzsRTIyZ"
      },
      "source": [
        "mlp = models.Sequential()\n",
        "mlp.add(layers.Dense(units=10, activation='relu'))\n",
        "# second hidden layer\n",
        "mlp.add(layers.Dense(units=8, activation='relu'))\n",
        "mlp.add(layers.Dense(units=3, activation='softmax'))"
      ],
      "execution_count": 8,
      "outputs": []
    },
    {
      "cell_type": "markdown",
      "metadata": {
        "id": "IZCVjIje0md5"
      },
      "source": [
        "#### Training the FFMLP on the Training set"
      ]
    },
    {
      "cell_type": "code",
      "metadata": {
        "id": "UIp6o0AQ0gEL",
        "colab": {
          "base_uri": "https://localhost:8080/"
        },
        "outputId": "efb159d2-439e-4e7c-cf3e-c2aeda9fc4fb"
      },
      "source": [
        "mlp.compile(optimizer= 'adam', loss= 'categorical_crossentropy' , metrics=['accuracy']) \n",
        "mlp.fit(X_train, y_train_d, batch_size=32, epochs=100,  validation_data=(X_test, y_test_d),  verbose=1)\n",
        "score, acc = mlp.evaluate(X_test, y_test_d, batch_size=32)"
      ],
      "execution_count": 9,
      "outputs": [
        {
          "output_type": "stream",
          "name": "stdout",
          "text": [
            "Epoch 1/100\n",
            "5/5 [==============================] - 1s 69ms/step - loss: 195.1838 - accuracy: 0.4225 - val_loss: 214.6431 - val_accuracy: 0.3056\n",
            "Epoch 2/100\n",
            "5/5 [==============================] - 0s 9ms/step - loss: 180.7779 - accuracy: 0.4225 - val_loss: 200.2826 - val_accuracy: 0.3056\n",
            "Epoch 3/100\n",
            "5/5 [==============================] - 0s 9ms/step - loss: 166.3921 - accuracy: 0.4225 - val_loss: 186.4334 - val_accuracy: 0.3056\n",
            "Epoch 4/100\n",
            "5/5 [==============================] - 0s 10ms/step - loss: 152.2845 - accuracy: 0.4225 - val_loss: 173.1430 - val_accuracy: 0.3056\n",
            "Epoch 5/100\n",
            "5/5 [==============================] - 0s 12ms/step - loss: 138.7081 - accuracy: 0.4225 - val_loss: 160.1826 - val_accuracy: 0.3056\n",
            "Epoch 6/100\n",
            "5/5 [==============================] - 0s 10ms/step - loss: 125.4552 - accuracy: 0.4225 - val_loss: 147.5164 - val_accuracy: 0.3056\n",
            "Epoch 7/100\n",
            "5/5 [==============================] - 0s 10ms/step - loss: 111.7965 - accuracy: 0.4225 - val_loss: 135.4092 - val_accuracy: 0.3056\n",
            "Epoch 8/100\n",
            "5/5 [==============================] - 0s 9ms/step - loss: 99.5627 - accuracy: 0.4225 - val_loss: 123.4028 - val_accuracy: 0.3056\n",
            "Epoch 9/100\n",
            "5/5 [==============================] - 0s 10ms/step - loss: 86.5839 - accuracy: 0.4225 - val_loss: 109.4491 - val_accuracy: 0.3056\n",
            "Epoch 10/100\n",
            "5/5 [==============================] - 0s 9ms/step - loss: 69.6468 - accuracy: 0.4225 - val_loss: 94.3528 - val_accuracy: 0.3056\n",
            "Epoch 11/100\n",
            "5/5 [==============================] - 0s 10ms/step - loss: 56.2925 - accuracy: 0.4225 - val_loss: 83.1162 - val_accuracy: 0.3056\n",
            "Epoch 12/100\n",
            "5/5 [==============================] - 0s 10ms/step - loss: 45.6366 - accuracy: 0.4225 - val_loss: 72.1954 - val_accuracy: 0.3056\n",
            "Epoch 13/100\n",
            "5/5 [==============================] - 0s 12ms/step - loss: 35.9522 - accuracy: 0.4225 - val_loss: 61.2925 - val_accuracy: 0.3056\n",
            "Epoch 14/100\n",
            "5/5 [==============================] - 0s 10ms/step - loss: 28.6983 - accuracy: 0.4507 - val_loss: 60.2946 - val_accuracy: 0.2222\n",
            "Epoch 15/100\n",
            "5/5 [==============================] - 0s 9ms/step - loss: 29.6122 - accuracy: 0.3592 - val_loss: 58.8748 - val_accuracy: 0.2222\n",
            "Epoch 16/100\n",
            "5/5 [==============================] - 0s 10ms/step - loss: 28.7286 - accuracy: 0.3592 - val_loss: 55.6239 - val_accuracy: 0.2222\n",
            "Epoch 17/100\n",
            "5/5 [==============================] - 0s 10ms/step - loss: 26.4581 - accuracy: 0.3592 - val_loss: 51.8043 - val_accuracy: 0.3056\n",
            "Epoch 18/100\n",
            "5/5 [==============================] - 0s 10ms/step - loss: 24.1812 - accuracy: 0.5070 - val_loss: 49.7547 - val_accuracy: 0.4722\n",
            "Epoch 19/100\n",
            "5/5 [==============================] - 0s 9ms/step - loss: 23.3995 - accuracy: 0.5704 - val_loss: 47.9514 - val_accuracy: 0.4722\n",
            "Epoch 20/100\n",
            "5/5 [==============================] - 0s 11ms/step - loss: 22.3527 - accuracy: 0.6056 - val_loss: 45.5890 - val_accuracy: 0.3889\n",
            "Epoch 21/100\n",
            "5/5 [==============================] - 0s 9ms/step - loss: 21.2583 - accuracy: 0.5493 - val_loss: 43.8429 - val_accuracy: 0.3889\n",
            "Epoch 22/100\n",
            "5/5 [==============================] - 0s 9ms/step - loss: 20.4740 - accuracy: 0.5141 - val_loss: 42.0518 - val_accuracy: 0.3889\n",
            "Epoch 23/100\n",
            "5/5 [==============================] - 0s 11ms/step - loss: 19.6372 - accuracy: 0.5352 - val_loss: 40.2369 - val_accuracy: 0.3889\n",
            "Epoch 24/100\n",
            "5/5 [==============================] - 0s 9ms/step - loss: 18.7441 - accuracy: 0.6127 - val_loss: 38.6360 - val_accuracy: 0.4722\n",
            "Epoch 25/100\n",
            "5/5 [==============================] - 0s 8ms/step - loss: 18.0228 - accuracy: 0.6127 - val_loss: 36.8579 - val_accuracy: 0.4444\n",
            "Epoch 26/100\n",
            "5/5 [==============================] - 0s 11ms/step - loss: 17.2024 - accuracy: 0.5775 - val_loss: 35.2133 - val_accuracy: 0.3889\n",
            "Epoch 27/100\n",
            "5/5 [==============================] - 0s 9ms/step - loss: 16.4846 - accuracy: 0.5704 - val_loss: 33.6042 - val_accuracy: 0.3889\n",
            "Epoch 28/100\n",
            "5/5 [==============================] - 0s 13ms/step - loss: 15.7040 - accuracy: 0.5775 - val_loss: 32.0486 - val_accuracy: 0.3889\n",
            "Epoch 29/100\n",
            "5/5 [==============================] - 0s 10ms/step - loss: 14.9608 - accuracy: 0.5775 - val_loss: 30.4943 - val_accuracy: 0.3889\n",
            "Epoch 30/100\n",
            "5/5 [==============================] - 0s 9ms/step - loss: 14.3084 - accuracy: 0.5775 - val_loss: 28.9412 - val_accuracy: 0.3889\n",
            "Epoch 31/100\n",
            "5/5 [==============================] - 0s 10ms/step - loss: 13.5873 - accuracy: 0.5845 - val_loss: 27.4704 - val_accuracy: 0.3889\n",
            "Epoch 32/100\n",
            "5/5 [==============================] - 0s 9ms/step - loss: 12.9263 - accuracy: 0.5845 - val_loss: 26.0319 - val_accuracy: 0.3889\n",
            "Epoch 33/100\n",
            "5/5 [==============================] - 0s 10ms/step - loss: 12.2273 - accuracy: 0.5845 - val_loss: 24.6711 - val_accuracy: 0.3889\n",
            "Epoch 34/100\n",
            "5/5 [==============================] - 0s 10ms/step - loss: 11.6130 - accuracy: 0.5845 - val_loss: 23.3376 - val_accuracy: 0.3889\n",
            "Epoch 35/100\n",
            "5/5 [==============================] - 0s 10ms/step - loss: 10.9831 - accuracy: 0.5845 - val_loss: 22.0437 - val_accuracy: 0.3889\n",
            "Epoch 36/100\n",
            "5/5 [==============================] - 0s 11ms/step - loss: 10.3979 - accuracy: 0.5704 - val_loss: 20.8111 - val_accuracy: 0.3889\n",
            "Epoch 37/100\n",
            "5/5 [==============================] - 0s 10ms/step - loss: 9.8450 - accuracy: 0.5634 - val_loss: 19.7351 - val_accuracy: 0.3889\n",
            "Epoch 38/100\n",
            "5/5 [==============================] - 0s 9ms/step - loss: 9.4271 - accuracy: 0.5704 - val_loss: 18.7327 - val_accuracy: 0.3889\n",
            "Epoch 39/100\n",
            "5/5 [==============================] - 0s 14ms/step - loss: 8.9572 - accuracy: 0.5775 - val_loss: 17.8651 - val_accuracy: 0.3889\n",
            "Epoch 40/100\n",
            "5/5 [==============================] - 0s 10ms/step - loss: 8.5344 - accuracy: 0.5845 - val_loss: 16.9525 - val_accuracy: 0.3889\n",
            "Epoch 41/100\n",
            "5/5 [==============================] - 0s 9ms/step - loss: 8.1186 - accuracy: 0.5704 - val_loss: 16.0848 - val_accuracy: 0.3889\n",
            "Epoch 42/100\n",
            "5/5 [==============================] - 0s 11ms/step - loss: 7.7490 - accuracy: 0.5704 - val_loss: 15.2283 - val_accuracy: 0.3889\n",
            "Epoch 43/100\n",
            "5/5 [==============================] - 0s 10ms/step - loss: 7.3440 - accuracy: 0.5775 - val_loss: 14.4210 - val_accuracy: 0.3889\n",
            "Epoch 44/100\n",
            "5/5 [==============================] - 0s 12ms/step - loss: 6.9612 - accuracy: 0.5915 - val_loss: 13.6312 - val_accuracy: 0.3889\n",
            "Epoch 45/100\n",
            "5/5 [==============================] - 0s 10ms/step - loss: 6.6050 - accuracy: 0.5775 - val_loss: 12.8144 - val_accuracy: 0.3889\n",
            "Epoch 46/100\n",
            "5/5 [==============================] - 0s 11ms/step - loss: 6.2447 - accuracy: 0.5704 - val_loss: 12.0702 - val_accuracy: 0.3889\n",
            "Epoch 47/100\n",
            "5/5 [==============================] - 0s 12ms/step - loss: 5.8793 - accuracy: 0.5775 - val_loss: 11.3728 - val_accuracy: 0.3889\n",
            "Epoch 48/100\n",
            "5/5 [==============================] - 0s 10ms/step - loss: 5.5789 - accuracy: 0.5775 - val_loss: 10.6507 - val_accuracy: 0.3889\n",
            "Epoch 49/100\n",
            "5/5 [==============================] - 0s 39ms/step - loss: 5.2280 - accuracy: 0.5775 - val_loss: 9.9612 - val_accuracy: 0.3889\n",
            "Epoch 50/100\n",
            "5/5 [==============================] - 0s 15ms/step - loss: 4.9014 - accuracy: 0.5775 - val_loss: 9.3472 - val_accuracy: 0.3889\n",
            "Epoch 51/100\n",
            "5/5 [==============================] - 0s 10ms/step - loss: 4.6306 - accuracy: 0.5915 - val_loss: 8.6501 - val_accuracy: 0.3889\n",
            "Epoch 52/100\n",
            "5/5 [==============================] - 0s 12ms/step - loss: 4.2835 - accuracy: 0.5775 - val_loss: 8.0879 - val_accuracy: 0.3889\n",
            "Epoch 53/100\n",
            "5/5 [==============================] - 0s 10ms/step - loss: 4.0347 - accuracy: 0.5845 - val_loss: 7.4634 - val_accuracy: 0.3889\n",
            "Epoch 54/100\n",
            "5/5 [==============================] - 0s 11ms/step - loss: 3.7124 - accuracy: 0.5915 - val_loss: 6.9097 - val_accuracy: 0.3889\n",
            "Epoch 55/100\n",
            "5/5 [==============================] - 0s 11ms/step - loss: 3.4764 - accuracy: 0.5775 - val_loss: 6.2595 - val_accuracy: 0.3889\n",
            "Epoch 56/100\n",
            "5/5 [==============================] - 0s 11ms/step - loss: 3.2060 - accuracy: 0.5634 - val_loss: 5.7147 - val_accuracy: 0.3889\n",
            "Epoch 57/100\n",
            "5/5 [==============================] - 0s 9ms/step - loss: 2.9360 - accuracy: 0.5775 - val_loss: 5.2112 - val_accuracy: 0.3889\n",
            "Epoch 58/100\n",
            "5/5 [==============================] - 0s 15ms/step - loss: 2.6724 - accuracy: 0.5775 - val_loss: 4.6802 - val_accuracy: 0.3889\n",
            "Epoch 59/100\n",
            "5/5 [==============================] - 0s 10ms/step - loss: 2.4245 - accuracy: 0.5775 - val_loss: 4.1560 - val_accuracy: 0.3889\n",
            "Epoch 60/100\n",
            "5/5 [==============================] - 0s 10ms/step - loss: 2.1807 - accuracy: 0.5775 - val_loss: 3.6641 - val_accuracy: 0.3889\n",
            "Epoch 61/100\n",
            "5/5 [==============================] - 0s 10ms/step - loss: 1.9475 - accuracy: 0.5775 - val_loss: 3.1189 - val_accuracy: 0.3889\n",
            "Epoch 62/100\n",
            "5/5 [==============================] - 0s 10ms/step - loss: 1.7109 - accuracy: 0.5634 - val_loss: 2.5574 - val_accuracy: 0.3889\n",
            "Epoch 63/100\n",
            "5/5 [==============================] - 0s 9ms/step - loss: 1.4813 - accuracy: 0.5423 - val_loss: 2.0730 - val_accuracy: 0.3889\n",
            "Epoch 64/100\n",
            "5/5 [==============================] - 0s 10ms/step - loss: 1.2590 - accuracy: 0.5704 - val_loss: 1.7193 - val_accuracy: 0.3889\n",
            "Epoch 65/100\n",
            "5/5 [==============================] - 0s 10ms/step - loss: 1.0938 - accuracy: 0.5704 - val_loss: 1.4419 - val_accuracy: 0.3889\n",
            "Epoch 66/100\n",
            "5/5 [==============================] - 0s 12ms/step - loss: 1.0111 - accuracy: 0.5845 - val_loss: 1.2507 - val_accuracy: 0.3889\n",
            "Epoch 67/100\n",
            "5/5 [==============================] - 0s 9ms/step - loss: 0.9797 - accuracy: 0.5915 - val_loss: 1.2124 - val_accuracy: 0.4444\n",
            "Epoch 68/100\n",
            "5/5 [==============================] - 0s 14ms/step - loss: 0.9432 - accuracy: 0.6056 - val_loss: 1.2524 - val_accuracy: 0.4722\n",
            "Epoch 69/100\n",
            "5/5 [==============================] - 0s 10ms/step - loss: 0.9338 - accuracy: 0.6127 - val_loss: 1.2311 - val_accuracy: 0.4722\n",
            "Epoch 70/100\n",
            "5/5 [==============================] - 0s 11ms/step - loss: 0.9185 - accuracy: 0.6127 - val_loss: 1.1652 - val_accuracy: 0.4722\n",
            "Epoch 71/100\n",
            "5/5 [==============================] - 0s 10ms/step - loss: 0.9103 - accuracy: 0.6056 - val_loss: 1.1452 - val_accuracy: 0.4722\n",
            "Epoch 72/100\n",
            "5/5 [==============================] - 0s 10ms/step - loss: 0.9052 - accuracy: 0.6127 - val_loss: 1.1375 - val_accuracy: 0.4722\n",
            "Epoch 73/100\n",
            "5/5 [==============================] - 0s 12ms/step - loss: 0.8976 - accuracy: 0.6127 - val_loss: 1.1305 - val_accuracy: 0.4722\n",
            "Epoch 74/100\n",
            "5/5 [==============================] - 0s 10ms/step - loss: 0.8920 - accuracy: 0.6127 - val_loss: 1.1196 - val_accuracy: 0.4722\n",
            "Epoch 75/100\n",
            "5/5 [==============================] - 0s 10ms/step - loss: 0.8861 - accuracy: 0.6056 - val_loss: 1.0835 - val_accuracy: 0.4722\n",
            "Epoch 76/100\n",
            "5/5 [==============================] - 0s 10ms/step - loss: 0.8859 - accuracy: 0.6127 - val_loss: 1.1004 - val_accuracy: 0.4722\n",
            "Epoch 77/100\n",
            "5/5 [==============================] - 0s 10ms/step - loss: 0.8768 - accuracy: 0.6127 - val_loss: 1.0616 - val_accuracy: 0.4722\n",
            "Epoch 78/100\n",
            "5/5 [==============================] - 0s 11ms/step - loss: 0.8734 - accuracy: 0.5986 - val_loss: 1.0826 - val_accuracy: 0.4722\n",
            "Epoch 79/100\n",
            "5/5 [==============================] - 0s 10ms/step - loss: 0.8696 - accuracy: 0.6338 - val_loss: 1.1106 - val_accuracy: 0.4722\n",
            "Epoch 80/100\n",
            "5/5 [==============================] - 0s 11ms/step - loss: 0.8721 - accuracy: 0.6338 - val_loss: 1.0790 - val_accuracy: 0.4722\n",
            "Epoch 81/100\n",
            "5/5 [==============================] - 0s 9ms/step - loss: 0.8633 - accuracy: 0.6338 - val_loss: 1.0431 - val_accuracy: 0.4722\n",
            "Epoch 82/100\n",
            "5/5 [==============================] - 0s 10ms/step - loss: 0.8565 - accuracy: 0.6338 - val_loss: 1.0377 - val_accuracy: 0.4722\n",
            "Epoch 83/100\n",
            "5/5 [==============================] - 0s 10ms/step - loss: 0.8520 - accuracy: 0.6056 - val_loss: 1.0193 - val_accuracy: 0.4722\n",
            "Epoch 84/100\n",
            "5/5 [==============================] - 0s 10ms/step - loss: 0.8559 - accuracy: 0.5915 - val_loss: 0.9923 - val_accuracy: 0.4722\n",
            "Epoch 85/100\n",
            "5/5 [==============================] - 0s 10ms/step - loss: 0.8529 - accuracy: 0.5986 - val_loss: 1.0051 - val_accuracy: 0.4722\n",
            "Epoch 86/100\n",
            "5/5 [==============================] - 0s 14ms/step - loss: 0.8469 - accuracy: 0.6268 - val_loss: 1.1269 - val_accuracy: 0.5000\n",
            "Epoch 87/100\n",
            "5/5 [==============================] - 0s 10ms/step - loss: 0.8438 - accuracy: 0.6408 - val_loss: 0.9826 - val_accuracy: 0.4722\n",
            "Epoch 88/100\n",
            "5/5 [==============================] - 0s 9ms/step - loss: 0.8329 - accuracy: 0.6197 - val_loss: 0.9467 - val_accuracy: 0.4444\n",
            "Epoch 89/100\n",
            "5/5 [==============================] - 0s 10ms/step - loss: 0.8321 - accuracy: 0.6127 - val_loss: 0.9794 - val_accuracy: 0.4722\n",
            "Epoch 90/100\n",
            "5/5 [==============================] - 0s 10ms/step - loss: 0.8214 - accuracy: 0.6338 - val_loss: 1.0057 - val_accuracy: 0.4722\n",
            "Epoch 91/100\n",
            "5/5 [==============================] - 0s 14ms/step - loss: 0.8194 - accuracy: 0.6338 - val_loss: 0.9891 - val_accuracy: 0.4722\n",
            "Epoch 92/100\n",
            "5/5 [==============================] - 0s 11ms/step - loss: 0.8202 - accuracy: 0.6338 - val_loss: 0.9922 - val_accuracy: 0.5000\n",
            "Epoch 93/100\n",
            "5/5 [==============================] - 0s 9ms/step - loss: 0.8151 - accuracy: 0.6338 - val_loss: 0.9298 - val_accuracy: 0.4722\n",
            "Epoch 94/100\n",
            "5/5 [==============================] - 0s 10ms/step - loss: 0.8122 - accuracy: 0.6268 - val_loss: 0.9736 - val_accuracy: 0.5000\n",
            "Epoch 95/100\n",
            "5/5 [==============================] - 0s 10ms/step - loss: 0.8011 - accuracy: 0.6338 - val_loss: 0.9264 - val_accuracy: 0.4722\n",
            "Epoch 96/100\n",
            "5/5 [==============================] - 0s 11ms/step - loss: 0.8027 - accuracy: 0.6620 - val_loss: 0.8860 - val_accuracy: 0.5278\n",
            "Epoch 97/100\n",
            "5/5 [==============================] - 0s 10ms/step - loss: 0.7978 - accuracy: 0.6690 - val_loss: 0.9259 - val_accuracy: 0.5000\n",
            "Epoch 98/100\n",
            "5/5 [==============================] - 0s 10ms/step - loss: 0.7897 - accuracy: 0.6479 - val_loss: 0.9338 - val_accuracy: 0.5000\n",
            "Epoch 99/100\n",
            "5/5 [==============================] - 0s 11ms/step - loss: 0.7861 - accuracy: 0.6479 - val_loss: 0.9369 - val_accuracy: 0.5000\n",
            "Epoch 100/100\n",
            "5/5 [==============================] - 0s 10ms/step - loss: 0.7813 - accuracy: 0.6479 - val_loss: 0.9095 - val_accuracy: 0.4722\n",
            "2/2 [==============================] - 0s 7ms/step - loss: 0.9095 - accuracy: 0.4722\n"
          ]
        }
      ]
    },
    {
      "cell_type": "markdown",
      "metadata": {
        "id": "SjFW9Cjt05RU"
      },
      "source": [
        "#### Making the predictions and evaluating the model"
      ]
    },
    {
      "cell_type": "code",
      "metadata": {
        "id": "yFKwyb9j3ujc",
        "colab": {
          "base_uri": "https://localhost:8080/"
        },
        "outputId": "3e36fb84-6cbf-4326-aec9-3bb2ec8b9619"
      },
      "source": [
        "y_pred_nn = mlp.predict(X_test)\n",
        "print(y_pred_nn[-5:,])\n",
        "predicted_class = np.argmax(y_pred_nn, axis=1)\n",
        "predicted_class[-5:,]"
      ],
      "execution_count": 11,
      "outputs": [
        {
          "output_type": "stream",
          "name": "stdout",
          "text": [
            "[[0.8375839  0.01470784 0.14770818]\n",
            " [0.5025387  0.13563854 0.36182284]\n",
            " [0.10470537 0.7722674  0.12302719]\n",
            " [0.54376745 0.12234156 0.33389097]\n",
            " [0.29290554 0.47582817 0.23126628]]\n"
          ]
        },
        {
          "output_type": "execute_result",
          "data": {
            "text/plain": [
              "array([0, 0, 1, 0, 1])"
            ]
          },
          "metadata": {},
          "execution_count": 11
        }
      ]
    },
    {
      "cell_type": "markdown",
      "source": [
        "## Deep Neural Networks"
      ],
      "metadata": {
        "id": "S6WxrmGnZiFn"
      }
    },
    {
      "cell_type": "markdown",
      "source": [
        "### Convolutional Neural Networks"
      ],
      "metadata": {
        "id": "hS_FUtQmZmxO"
      }
    },
    {
      "cell_type": "markdown",
      "source": [
        "##### Data Preprocessing"
      ],
      "metadata": {
        "id": "8-SIEIM3-Rq2"
      }
    },
    {
      "cell_type": "code",
      "source": [
        "(train_images, train_labels), (test_images, test_labels) = datasets.cifar10.load_data() # datasets from keras\n",
        "assert train_images.shape == (50000, 32, 32, 3)\n",
        "assert test_images.shape == (10000, 32, 32, 3)\n",
        "\n",
        "# Normalize pixel values to be between 0 and 1\n",
        "train_images, test_images = train_images / 255.0, test_images / 255.0"
      ],
      "metadata": {
        "id": "DUJIU24D-I03",
        "colab": {
          "base_uri": "https://localhost:8080/"
        },
        "outputId": "03923975-0fdf-41b4-dd2e-440c08ade132"
      },
      "execution_count": 31,
      "outputs": [
        {
          "output_type": "stream",
          "name": "stdout",
          "text": [
            "Downloading data from https://www.cs.toronto.edu/~kriz/cifar-10-python.tar.gz\n",
            "170500096/170498071 [==============================] - 2s 0us/step\n",
            "170508288/170498071 [==============================] - 2s 0us/step\n"
          ]
        }
      ]
    },
    {
      "cell_type": "code",
      "source": [
        "# Show one of the images from the training dataset\n",
        "print(train_labels[5])\n",
        "plt.imshow(train_images[5])"
      ],
      "metadata": {
        "colab": {
          "base_uri": "https://localhost:8080/",
          "height": 301
        },
        "id": "wyYUdBRjSv6e",
        "outputId": "31cb49be-b4da-41e5-ca5f-364f08427b96"
      },
      "execution_count": 32,
      "outputs": [
        {
          "output_type": "stream",
          "name": "stdout",
          "text": [
            "[1]\n"
          ]
        },
        {
          "output_type": "execute_result",
          "data": {
            "text/plain": [
              "<matplotlib.image.AxesImage at 0x7f9b753b9450>"
            ]
          },
          "metadata": {},
          "execution_count": 32
        },
        {
          "output_type": "display_data",
          "data": {
            "image/png": "[encoded data removed]",
            "text/plain": [
              "<Figure size 432x288 with 1 Axes>"
            ]
          },
          "metadata": {
            "needs_background": "light"
          }
        }
      ]
    },
    {
      "cell_type": "markdown",
      "metadata": {
        "id": "u5YJj_XMl5LF"
      },
      "source": [
        "##### CNN Architecture"
      ]
    },
    {
      "cell_type": "markdown",
      "source": [
        "![](https://drive.google.com/uc?export=view&id=1MZUsl8dQkIQqXBqAp1jLN8eKHTTyaaFp)\n",
        "[source](https://towardsdatascience.com/a-comprehensive-guide-to-convolutional-neural-networks-the-eli5-way-3bd2b1164a53)"
      ],
      "metadata": {
        "id": "-ufY2jFaOS6h"
      }
    },
    {
      "cell_type": "code",
      "metadata": {
        "id": "8GtmUlLd26Nq",
        "colab": {
          "base_uri": "https://localhost:8080/"
        },
        "outputId": "ab32cfc2-291a-487b-f85f-1376a732d12e"
      },
      "source": [
        "# Initialising the CNN\n",
        "cnn = models.Sequential()\n",
        "# Convolution\n",
        "cnn.add(layers.Conv2D(filters=32, kernel_size=3, activation='relu', input_shape=(32, 32, 3)))\n",
        "# Pooling\n",
        "cnn.add(layers.MaxPool2D(pool_size=2, strides=2))\n",
        "# Adding a second convolutional layer\n",
        "cnn.add(layers.Conv2D(filters=32, kernel_size=3, activation='relu'))\n",
        "cnn.add(layers.MaxPool2D(pool_size=2, strides=2))\n",
        "# Flattening\n",
        "cnn.add(layers.Flatten())\n",
        "# Full Connection\n",
        "cnn.add(layers.Dense(units=64, activation='relu'))\n",
        "# Output Layer\n",
        "cnn.add(layers.Dense(units=10))\n",
        "\n",
        "cnn.summary()"
      ],
      "execution_count": 39,
      "outputs": [
        {
          "output_type": "stream",
          "name": "stdout",
          "text": [
            "Model: \"sequential_4\"\n",
            "_________________________________________________________________\n",
            " Layer (type)                Output Shape              Param #   \n",
            "=================================================================\n",
            " conv2d_6 (Conv2D)           (None, 30, 30, 32)        896       \n",
            "                                                                 \n",
            " max_pooling2d_6 (MaxPooling  (None, 15, 15, 32)       0         \n",
            " 2D)                                                             \n",
            "                                                                 \n",
            " conv2d_7 (Conv2D)           (None, 13, 13, 32)        9248      \n",
            "                                                                 \n",
            " max_pooling2d_7 (MaxPooling  (None, 6, 6, 32)         0         \n",
            " 2D)                                                             \n",
            "                                                                 \n",
            " flatten_3 (Flatten)         (None, 1152)              0         \n",
            "                                                                 \n",
            " dense_9 (Dense)             (None, 64)                73792     \n",
            "                                                                 \n",
            " dense_10 (Dense)            (None, 10)                650       \n",
            "                                                                 \n",
            "=================================================================\n",
            "Total params: 84,586\n",
            "Trainable params: 84,586\n",
            "Non-trainable params: 0\n",
            "_________________________________________________________________\n"
          ]
        }
      ]
    },
    {
      "cell_type": "markdown",
      "metadata": {
        "id": "D6XkI90snSDl"
      },
      "source": [
        "##### Training the CNN"
      ]
    },
    {
      "cell_type": "code",
      "metadata": {
        "id": "NALksrNQpUlJ",
        "colab": {
          "base_uri": "https://localhost:8080/"
        },
        "outputId": "54a20ee4-3584-45ec-dfe7-8ce66d04fec7"
      },
      "source": [
        "cnn.compile(optimizer = 'adam', loss = 'binary_crossentropy', metrics = ['accuracy'])\n",
        "cnn.fit(train_images, train_labels, epochs=5, validation_data=(test_images, test_labels))"
      ],
      "execution_count": 40,
      "outputs": [
        {
          "output_type": "stream",
          "name": "stdout",
          "text": [
            "Epoch 1/5\n",
            "1563/1563 [==============================] - 65s 41ms/step - loss: -40.8845 - accuracy: 0.1001 - val_loss: -41.0938 - val_accuracy: 0.1000\n",
            "Epoch 2/5\n",
            "1563/1563 [==============================] - 64s 41ms/step - loss: -41.0939 - accuracy: 0.1000 - val_loss: -41.0938 - val_accuracy: 0.1000\n",
            "Epoch 3/5\n",
            "1563/1563 [==============================] - 63s 40ms/step - loss: -41.0938 - accuracy: 0.1000 - val_loss: -41.0938 - val_accuracy: 0.1000\n",
            "Epoch 4/5\n",
            "1563/1563 [==============================] - 62s 40ms/step - loss: -41.0938 - accuracy: 0.1000 - val_loss: -41.0938 - val_accuracy: 0.1000\n",
            "Epoch 5/5\n",
            "1563/1563 [==============================] - 62s 40ms/step - loss: -41.0938 - accuracy: 0.1000 - val_loss: -41.0938 - val_accuracy: 0.1000\n"
          ]
        },
        {
          "output_type": "execute_result",
          "data": {
            "text/plain": [
              "<keras.callbacks.History at 0x7f9b730f4150>"
            ]
          },
          "metadata": {},
          "execution_count": 40
        }
      ]
    },
    {
      "cell_type": "markdown",
      "metadata": {
        "id": "U3PZasO0006Z"
      },
      "source": [
        "##### Evaluate test predictions"
      ]
    },
    {
      "cell_type": "code",
      "source": [
        "test_loss, test_acc = cnn.evaluate(test_images, test_labels)\n",
        "print(test_acc)"
      ],
      "metadata": {
        "colab": {
          "base_uri": "https://localhost:8080/"
        },
        "id": "O5N-IaMGgemO",
        "outputId": "10f056a1-3ca6-4625-f121-7f57862217e9"
      },
      "execution_count": 41,
      "outputs": [
        {
          "output_type": "stream",
          "name": "stdout",
          "text": [
            "313/313 [==============================] - 4s 12ms/step - loss: -41.0938 - accuracy: 0.1000\n",
            "0.10000000149011612\n"
          ]
        }
      ]
    },
    {
      "cell_type": "markdown",
      "source": [
        "## Probablistic Neural Networks (Classification)"
      ],
      "metadata": {
        "id": "eLxLuFE0VLPM"
      }
    },
    {
      "cell_type": "markdown",
      "source": [
        "with a given training dataset \\{$x_{n}, y_{n}$}, n=1,...,N, where each label $y_{n}$ represents the class of $x_{n}$, the basic idea of PNN is to learn a probabillity distribution function for each class. \n",
        "\n",
        "![](https://drive.google.com/uc?export=view&id=1Ri42d59mR61ZNf_bLzZQryFyGwM_AYqz)\n",
        "[image source](https://www.researchgate.net/publication/259390898_Parallel_and_local_learning_for_fast_Probabilistic_Neural_Networks_in_scalable_data_mining)\n"
      ],
      "metadata": {
        "id": "qBhtY4l2xz62"
      }
    },
    {
      "cell_type": "markdown",
      "source": [
        "http://neupy.com/apidocs/neupy.algorithms.rbfn.pnn.html"
      ],
      "metadata": {
        "id": "gexlggnBWg3_"
      }
    },
    {
      "cell_type": "code",
      "source": [
        "!pip install neupy\n",
        "from google.colab import output\n",
        "output.clear()"
      ],
      "metadata": {
        "id": "OKPfDLKM-24b"
      },
      "execution_count": 12,
      "outputs": []
    },
    {
      "cell_type": "code",
      "source": [
        "from sklearn import datasets\n",
        "from sklearn.model_selection import StratifiedKFold\n",
        "\n",
        "from neupy.algorithms import PNN\n",
        "\n",
        "\n",
        "dataset = datasets.load_wine()\n",
        "data, target = dataset.data, dataset.target\n",
        "\n",
        "print(\"> Start classify wine quality dataset\")\n",
        "skfold = StratifiedKFold(n_splits=10)\n",
        "\n",
        "for i, (train, test) in enumerate(skfold.split(data, target), start=1):\n",
        "    x_train, x_test = data[train], data[test]\n",
        "    y_train, y_test = target[train], target[test]\n",
        "\n",
        "    pnn_network = PNN(std=0.6, verbose=False) # Standard deviation for the Probability Density Function (PDF).\n",
        "# If your input features have high values than std should also be high.\n",
        "    pnn_network.train(x_train, y_train)\n",
        "    result = pnn_network.predict(x_test)\n",
        "\n",
        "    n_correct_pred = np.sum(result == y_test)\n",
        "    n_test_samples = test.size\n",
        "\n",
        "    print(\"Test #{}: {} correct out of {}\".format(i, n_correct_pred, n_test_samples))"
      ],
      "metadata": {
        "id": "tF_mS33NVRD0",
        "colab": {
          "base_uri": "https://localhost:8080/"
        },
        "outputId": "292f4606-5e71-463a-f0e4-b079c2ebb7e5"
      },
      "execution_count": 13,
      "outputs": [
        {
          "output_type": "stream",
          "name": "stdout",
          "text": [
            "> Start classify wine quality dataset\n",
            "Test #1: 16 correct out of 18\n",
            "Test #2: 13 correct out of 18\n",
            "Test #3: 12 correct out of 18\n",
            "Test #4: 11 correct out of 18\n",
            "Test #5: 12 correct out of 18\n",
            "Test #6: 14 correct out of 18\n",
            "Test #7: 14 correct out of 18\n",
            "Test #8: 13 correct out of 18\n",
            "Test #9: 14 correct out of 17\n",
            "Test #10: 14 correct out of 17\n"
          ]
        },
        {
          "output_type": "stream",
          "name": "stderr",
          "text": [
            "\r                                                                               \r\r                                                                               \r\r                                                                               \r\r                                                                               \r\r                                                                               \r\r                                                                               \r\r                                                                               \r\r                                                                               \r\r                                                                               \r\r                                                                               \r"
          ]
        }
      ]
    },
    {
      "cell_type": "markdown",
      "source": [
        "## Radial Basis Function Neural Network "
      ],
      "metadata": {
        "id": "c44IhzZIKN7V"
      }
    },
    {
      "cell_type": "markdown",
      "source": [
        "RBF models the data using smooth transitioning circular shapes instead of sharp cut-off circles. Additionally, RBF gives information about the confidence rate of prediction which the K-means Clustering algorithm can’t.\n",
        "\n",
        "![](https://drive.google.com/uc?export=view&id=1iOOQthoNifkPxg2Sg8z5YCAt98RoSamJ)\n",
        " ![](https://drive.google.com/uc?export=view&id=1KJre0KOkin4Hu_WVdoP8bg8FLUqMpe63) \n",
        " \n",
        " [source](https://towardsdatascience.com/most-effective-way-to-implement-radial-basis-function-neural-network-for-classification-problem-33c467803319)\n"
      ],
      "metadata": {
        "id": "8RxbwO-63how"
      }
    },
    {
      "cell_type": "markdown",
      "source": [
        "RBF code adapted from [here](https://www.madrasresearch.org/post/radial-basis-functions-neural-networks). "
      ],
      "metadata": {
        "id": "HDBxW-JETt9s"
      }
    },
    {
      "cell_type": "code",
      "source": [
        "from sklearn.preprocessing import LabelEncoder, StandardScaler\n",
        "from sklearn.model_selection import train_test_split\n",
        "from sklearn.cluster import KMeans\n",
        "from sklearn.metrics import accuracy_score\n",
        "import math"
      ],
      "metadata": {
        "id": "AzRfzPGYJkGP"
      },
      "execution_count": 15,
      "outputs": []
    },
    {
      "cell_type": "code",
      "source": [
        "# Nasa Dataset\n",
        "df = pd.read_csv(\"/content/nasa.csv\")\n",
        "\n",
        "X_c = df.iloc[:, 1:-1] \n",
        "y_c = df[\"Hazardous\"]\n",
        "X_train_c, X_test_c, y_train_c, y_test_c = train_test_split(X_c, y_c, test_size = 0.2, random_state = 123)\n",
        "\n",
        "# Scale the data \n",
        "scaler = StandardScaler()\n",
        "X_train_c= scaler.fit_transform(X_train_c)\n",
        "X_test_c= scaler.transform(X_test_c)"
      ],
      "metadata": {
        "id": "p38Gv7xZK298"
      },
      "execution_count": 16,
      "outputs": []
    },
    {
      "cell_type": "markdown",
      "source": [
        "determine centers of the radial base neurons using KMeans:"
      ],
      "metadata": {
        "id": "d1P_QwbENwXk"
      }
    },
    {
      "cell_type": "code",
      "source": [
        "k_center=10\n",
        "kmeans = KMeans(n_clusters=k_center, init=\"k-means++\", max_iter=100, random_state=123)\n",
        "kmeans.fit(X_train_c)\n",
        "center = kmeans.cluster_centers_\n",
        "center.shape # (k_center, X_train_c.shape[1])"
      ],
      "metadata": {
        "colab": {
          "base_uri": "https://localhost:8080/"
        },
        "id": "ZvrlFV28LQia",
        "outputId": "a3b03c74-316b-404a-d904-cebe80052b53"
      },
      "execution_count": 23,
      "outputs": [
        {
          "output_type": "execute_result",
          "data": {
            "text/plain": [
              "(10, 25)"
            ]
          },
          "metadata": {},
          "execution_count": 23
        }
      ]
    },
    {
      "cell_type": "markdown",
      "source": [
        "determine σ:"
      ],
      "metadata": {
        "id": "8Hvnf0xgNlCi"
      }
    },
    {
      "cell_type": "code",
      "source": [
        "max=0\n",
        "for i in range(k_center):\n",
        "  for j in range(k_center):\n",
        "    d=np.linalg.norm(center[i] - center[j]) # distance norm betwen two hidden neurons\n",
        "    if(d>max):\n",
        "      max = d\n",
        "d = max\n",
        "sigma = d/math.sqrt(2*k_center)"
      ],
      "metadata": {
        "id": "cWFJf8lzNUUx"
      },
      "execution_count": 24,
      "outputs": []
    },
    {
      "cell_type": "markdown",
      "source": [
        "determine the output of radial basis hidden neurons:"
      ],
      "metadata": {
        "id": "0YGMAH62UiX5"
      }
    },
    {
      "cell_type": "code",
      "source": [
        "phi = np.empty((X_train_c.shape[0] , k_center), dtype=float)\n",
        "\n",
        "for i in range(X_train_c.shape[0]):\n",
        "  for j in range(k_center):\n",
        "    dist = np.linalg.norm(X_train_c[i] - center[j])\n",
        "    phi[i][j] = math.exp(-math.pow(dist,2)/math.pow(2*sigma,2))"
      ],
      "metadata": {
        "id": "F_32mEkiUtdU"
      },
      "execution_count": 25,
      "outputs": []
    },
    {
      "cell_type": "markdown",
      "source": [
        "weight matrix W to train the network:"
      ],
      "metadata": {
        "id": "vqkG9rjdX7tj"
      }
    },
    {
      "cell_type": "code",
      "source": [
        "phiTphi_inv = np.linalg.inv(np.dot(phi.T, phi))\n",
        "w = np.dot(np.dot(phiTphi_inv, phi.T), y_train_c)"
      ],
      "metadata": {
        "id": "Ost1CyFEYCSB"
      },
      "execution_count": 26,
      "outputs": []
    },
    {
      "cell_type": "markdown",
      "source": [
        "Matrix phi for test data:"
      ],
      "metadata": {
        "id": "STqWB1pLZiu2"
      }
    },
    {
      "cell_type": "code",
      "source": [
        "phi_test = np.empty((X_test_c.shape[0] , k_center), dtype=float)\n",
        "\n",
        "for i in range(X_test_c.shape[0]):\n",
        "  for j in range(k_center):\n",
        "    dist = np.linalg.norm(X_test_c[i] - center[j])\n",
        "    phi_test[i][j] = math.exp(- math.pow(dist,2)/math.pow(2*sigma,2))"
      ],
      "metadata": {
        "id": "0gsqmN1XZhWx"
      },
      "execution_count": 27,
      "outputs": []
    },
    {
      "cell_type": "markdown",
      "source": [
        "Prediction Performance:"
      ],
      "metadata": {
        "id": "oCZOYhefaGpK"
      }
    },
    {
      "cell_type": "code",
      "source": [
        "y_pred = np.dot(phi_test, w)\n",
        "y_pred= 0.5*(np.sign(y_pred-0.5)+1)\n",
        "\n",
        "acc = accuracy_score(y_pred, y_test_c)\n",
        "acc"
      ],
      "metadata": {
        "colab": {
          "base_uri": "https://localhost:8080/"
        },
        "id": "D0leQeHPaKoM",
        "outputId": "20f86bb5-0d95-45cf-a5e4-f069f9e5d1e5"
      },
      "execution_count": 28,
      "outputs": [
        {
          "output_type": "execute_result",
          "data": {
            "text/plain": [
              "0.7204301075268817"
            ]
          },
          "metadata": {},
          "execution_count": 28
        }
      ]
    }
  ]
}