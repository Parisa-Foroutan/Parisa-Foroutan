{
  "nbformat": 4,
  "nbformat_minor": 0,
  "metadata": {
    "colab": {
      "name": "ADMI821- Session4.ipynb",
      "provenance": [],
      "collapsed_sections": [
        "4u-_2a62xvDA",
        "dDgISHnjx49Q"
      ],
      "authorship_tag": "ABX9TyN0/tJuAfKzZHhlv9WseV0e",
      "include_colab_link": true
    },
    "kernelspec": {
      "name": "python3",
      "display_name": "Python 3"
    },
    "language_info": {
      "name": "python"
    }
  },
  "cells": [
    {
      "cell_type": "markdown",
      "metadata": {
        "id": "view-in-github",
        "colab_type": "text"
      },
      "source": [
        "<a href=\"https://colab.research.google.com/github/Parisa-Foroutan/Tutorials/blob/main/ADMI821_Session4.ipynb\" target=\"_parent\"><img src=\"https://colab.research.google.com/assets/colab-badge.svg\" alt=\"Open In Colab\"/></a>"
      ]
    },
    {
      "cell_type": "markdown",
      "source": [
        "**Session 4:** \n",
        "\n",
        "Find it on GitHub: https://github.com/Parisa-Foroutan/Tutorials/blob/main/ADMI821_Session4.ipynb\n",
        "\n",
        "In this session [Feature selection](https://scikit-learn.org/stable/modules/feature_selection.html#feature-selection), cross-validation, Support Vector Machine, K-Nearest Neighbors, and Decision Tree models for Classification and Regression tasks will be presented. You can find the datasets here: [nasa.csv ](https://drive.google.com/file/d/1JPUOwwIuFbyIWPNyMCWj78S-CIuqb75d/view?usp=sharing) , [daily demand order](https://docs.google.com/spreadsheets/d/1dTLJDzJu_pG_IEStgT5RRI1VSeGgjEKH/edit?usp=sharing&ouid=117858513827551292983&rtpof=true&sd=true), [life expectance](https://drive.google.com/file/d/1F8bGNt7ZE7fINFkvTBITCfu1TqB_t5Re/view?usp=sharing), and [divorce descision](https://docs.google.com/spreadsheets/d/1cvpFwTfB3LnHK3MWVcYojF3doWc84dVE/edit?usp=sharing&ouid=117858513827551292983&rtpof=true&sd=true)."
      ],
      "metadata": {
        "id": "4c9VfK0SZxur"
      }
    },
    {
      "cell_type": "markdown",
      "source": [
        "Import Libraries:"
      ],
      "metadata": {
        "id": "3N0b4yenR_W4"
      }
    },
    {
      "cell_type": "code",
      "source": [
        "import numpy as np\n",
        "import pandas as pd\n",
        "import matplotlib.pyplot as plt\n",
        "\n",
        "from sklearn import linear_model, feature_selection, metrics, naive_bayes"
      ],
      "metadata": {
        "id": "UHj3oiJg3cI0"
      },
      "execution_count": 92,
      "outputs": []
    },
    {
      "cell_type": "markdown",
      "source": [
        "## Multiple Linear Regression"
      ],
      "metadata": {
        "id": "4u-_2a62xvDA"
      }
    },
    {
      "cell_type": "markdown",
      "source": [
        "Read the Data:"
      ],
      "metadata": {
        "id": "dlQWJdDk4zb9"
      }
    },
    {
      "cell_type": "code",
      "source": [
        "# Forecasting_data = pd.read_csv(\"/content/Daily Demand Order (Forecasting) dated.csv\") # Daily Demand Order dataset\n",
        "Forecasting_data = pd.read_csv(\"/content/life_dexpectency.csv\") # life_expectancy dataset\n",
        "\n",
        "print(Forecasting_data.columns)\n",
        "Forecasting_data.head(3)"
      ],
      "metadata": {
        "id": "elWRN9vT3EwZ",
        "colab": {
          "base_uri": "https://localhost:8080/",
          "height": 363
        },
        "outputId": "c420fd8a-dd51-4494-d2cc-5d6fb1dc8b8f"
      },
      "execution_count": 93,
      "outputs": [
        {
          "output_type": "stream",
          "name": "stdout",
          "text": [
            "Index(['Country', 'Year', 'Status', 'Life expectancy', 'Adult Mortality',\n",
            "       'infant deaths', 'Alcohol', 'percentage expenditure', 'Hepatitis B',\n",
            "       'Measles ', 'BMI', 'under-five deaths ', 'Polio', 'Total expenditure',\n",
            "       'Diphtheria ', 'HIV/AIDS', 'GDP', 'Population', ' thinness  1-19 years',\n",
            "       ' thinness 5-9 years', 'Income composition of resources', 'Schooling'],\n",
            "      dtype='object')\n"
          ]
        },
        {
          "output_type": "execute_result",
          "data": {
            "text/html": [
              "\n",
              "  <div id=\"df-de0f81f7-e989-42fe-995a-de66d5c643cd\">\n",
              "    <div class=\"colab-df-container\">\n",
              "      <div>\n",
              "<style scoped>\n",
              "    .dataframe tbody tr th:only-of-type {\n",
              "        vertical-align: middle;\n",
              "    }\n",
              "\n",
              "    .dataframe tbody tr th {\n",
              "        vertical-align: top;\n",
              "    }\n",
              "\n",
              "    .dataframe thead th {\n",
              "        text-align: right;\n",
              "    }\n",
              "</style>\n",
              "<table border=\"1\" class=\"dataframe\">\n",
              "  <thead>\n",
              "    <tr style=\"text-align: right;\">\n",
              "      <th></th>\n",
              "      <th>Country</th>\n",
              "      <th>Year</th>\n",
              "      <th>Status</th>\n",
              "      <th>Life expectancy</th>\n",
              "      <th>Adult Mortality</th>\n",
              "      <th>infant deaths</th>\n",
              "      <th>Alcohol</th>\n",
              "      <th>percentage expenditure</th>\n",
              "      <th>Hepatitis B</th>\n",
              "      <th>Measles</th>\n",
              "      <th>BMI</th>\n",
              "      <th>under-five deaths</th>\n",
              "      <th>Polio</th>\n",
              "      <th>Total expenditure</th>\n",
              "      <th>Diphtheria</th>\n",
              "      <th>HIV/AIDS</th>\n",
              "      <th>GDP</th>\n",
              "      <th>Population</th>\n",
              "      <th>thinness  1-19 years</th>\n",
              "      <th>thinness 5-9 years</th>\n",
              "      <th>Income composition of resources</th>\n",
              "      <th>Schooling</th>\n",
              "    </tr>\n",
              "  </thead>\n",
              "  <tbody>\n",
              "    <tr>\n",
              "      <th>0</th>\n",
              "      <td>Afghanistan</td>\n",
              "      <td>2015</td>\n",
              "      <td>Developing</td>\n",
              "      <td>65.0</td>\n",
              "      <td>263.0</td>\n",
              "      <td>62</td>\n",
              "      <td>0.01</td>\n",
              "      <td>71.279624</td>\n",
              "      <td>65.0</td>\n",
              "      <td>1154</td>\n",
              "      <td>19.1</td>\n",
              "      <td>83</td>\n",
              "      <td>6.0</td>\n",
              "      <td>8.16</td>\n",
              "      <td>65.0</td>\n",
              "      <td>0.1</td>\n",
              "      <td>584.259210</td>\n",
              "      <td>33736494.0</td>\n",
              "      <td>17.2</td>\n",
              "      <td>17.3</td>\n",
              "      <td>0.479</td>\n",
              "      <td>10.1</td>\n",
              "    </tr>\n",
              "    <tr>\n",
              "      <th>1</th>\n",
              "      <td>Afghanistan</td>\n",
              "      <td>2014</td>\n",
              "      <td>Developing</td>\n",
              "      <td>59.9</td>\n",
              "      <td>271.0</td>\n",
              "      <td>64</td>\n",
              "      <td>0.01</td>\n",
              "      <td>73.523582</td>\n",
              "      <td>62.0</td>\n",
              "      <td>492</td>\n",
              "      <td>18.6</td>\n",
              "      <td>86</td>\n",
              "      <td>58.0</td>\n",
              "      <td>8.18</td>\n",
              "      <td>62.0</td>\n",
              "      <td>0.1</td>\n",
              "      <td>612.696514</td>\n",
              "      <td>327582.0</td>\n",
              "      <td>17.5</td>\n",
              "      <td>17.5</td>\n",
              "      <td>0.476</td>\n",
              "      <td>10.0</td>\n",
              "    </tr>\n",
              "    <tr>\n",
              "      <th>2</th>\n",
              "      <td>Afghanistan</td>\n",
              "      <td>2013</td>\n",
              "      <td>Developing</td>\n",
              "      <td>59.9</td>\n",
              "      <td>268.0</td>\n",
              "      <td>66</td>\n",
              "      <td>0.01</td>\n",
              "      <td>73.219243</td>\n",
              "      <td>64.0</td>\n",
              "      <td>430</td>\n",
              "      <td>18.1</td>\n",
              "      <td>89</td>\n",
              "      <td>62.0</td>\n",
              "      <td>8.13</td>\n",
              "      <td>64.0</td>\n",
              "      <td>0.1</td>\n",
              "      <td>631.744976</td>\n",
              "      <td>31731688.0</td>\n",
              "      <td>17.7</td>\n",
              "      <td>17.7</td>\n",
              "      <td>0.470</td>\n",
              "      <td>9.9</td>\n",
              "    </tr>\n",
              "  </tbody>\n",
              "</table>\n",
              "</div>\n",
              "      <button class=\"colab-df-convert\" onclick=\"convertToInteractive('df-de0f81f7-e989-42fe-995a-de66d5c643cd')\"\n",
              "              title=\"Convert this dataframe to an interactive table.\"\n",
              "              style=\"display:none;\">\n",
              "        \n",
              "  <svg xmlns=\"http://www.w3.org/2000/svg\" height=\"24px\"viewBox=\"0 0 24 24\"\n",
              "       width=\"24px\">\n",
              "    <path d=\"M0 0h24v24H0V0z\" fill=\"none\"/>\n",
              "    <path d=\"M18.56 5.44l.94 2.06.94-2.06 2.06-.94-2.06-.94-.94-2.06-.94 2.06-2.06.94zm-11 1L8.5 8.5l.94-2.06 2.06-.94-2.06-.94L8.5 2.5l-.94 2.06-2.06.94zm10 10l.94 2.06.94-2.06 2.06-.94-2.06-.94-.94-2.06-.94 2.06-2.06.94z\"/><path d=\"M17.41 7.96l-1.37-1.37c-.4-.4-.92-.59-1.43-.59-.52 0-1.04.2-1.43.59L10.3 9.45l-7.72 7.72c-.78.78-.78 2.05 0 2.83L4 21.41c.39.39.9.59 1.41.59.51 0 1.02-.2 1.41-.59l7.78-7.78 2.81-2.81c.8-.78.8-2.07 0-2.86zM5.41 20L4 18.59l7.72-7.72 1.47 1.35L5.41 20z\"/>\n",
              "  </svg>\n",
              "      </button>\n",
              "      \n",
              "  <style>\n",
              "    .colab-df-container {\n",
              "      display:flex;\n",
              "      flex-wrap:wrap;\n",
              "      gap: 12px;\n",
              "    }\n",
              "\n",
              "    .colab-df-convert {\n",
              "      background-color: #E8F0FE;\n",
              "      border: none;\n",
              "      border-radius: 50%;\n",
              "      cursor: pointer;\n",
              "      display: none;\n",
              "      fill: #1967D2;\n",
              "      height: 32px;\n",
              "      padding: 0 0 0 0;\n",
              "      width: 32px;\n",
              "    }\n",
              "\n",
              "    .colab-df-convert:hover {\n",
              "      background-color: #E2EBFA;\n",
              "      box-shadow: 0px 1px 2px rgba(60, 64, 67, 0.3), 0px 1px 3px 1px rgba(60, 64, 67, 0.15);\n",
              "      fill: #174EA6;\n",
              "    }\n",
              "\n",
              "    [theme=dark] .colab-df-convert {\n",
              "      background-color: #3B4455;\n",
              "      fill: #D2E3FC;\n",
              "    }\n",
              "\n",
              "    [theme=dark] .colab-df-convert:hover {\n",
              "      background-color: #434B5C;\n",
              "      box-shadow: 0px 1px 3px 1px rgba(0, 0, 0, 0.15);\n",
              "      filter: drop-shadow(0px 1px 2px rgba(0, 0, 0, 0.3));\n",
              "      fill: #FFFFFF;\n",
              "    }\n",
              "  </style>\n",
              "\n",
              "      <script>\n",
              "        const buttonEl =\n",
              "          document.querySelector('#df-de0f81f7-e989-42fe-995a-de66d5c643cd button.colab-df-convert');\n",
              "        buttonEl.style.display =\n",
              "          google.colab.kernel.accessAllowed ? 'block' : 'none';\n",
              "\n",
              "        async function convertToInteractive(key) {\n",
              "          const element = document.querySelector('#df-de0f81f7-e989-42fe-995a-de66d5c643cd');\n",
              "          const dataTable =\n",
              "            await google.colab.kernel.invokeFunction('convertToInteractive',\n",
              "                                                     [key], {});\n",
              "          if (!dataTable) return;\n",
              "\n",
              "          const docLinkHtml = 'Like what you see? Visit the ' +\n",
              "            '<a target=\"_blank\" href=https://colab.research.google.com/notebooks/data_table.ipynb>data table notebook</a>'\n",
              "            + ' to learn more about interactive tables.';\n",
              "          element.innerHTML = '';\n",
              "          dataTable['output_type'] = 'display_data';\n",
              "          await google.colab.output.renderOutput(dataTable, element);\n",
              "          const docLink = document.createElement('div');\n",
              "          docLink.innerHTML = docLinkHtml;\n",
              "          element.appendChild(docLink);\n",
              "        }\n",
              "      </script>\n",
              "    </div>\n",
              "  </div>\n",
              "  "
            ],
            "text/plain": [
              "       Country  Year  ... Income composition of resources  Schooling\n",
              "0  Afghanistan  2015  ...                           0.479       10.1\n",
              "1  Afghanistan  2014  ...                           0.476       10.0\n",
              "2  Afghanistan  2013  ...                           0.470        9.9\n",
              "\n",
              "[3 rows x 22 columns]"
            ]
          },
          "metadata": {},
          "execution_count": 93
        }
      ]
    },
    {
      "cell_type": "code",
      "source": [
        "Forecasting_data.info()\n",
        "Forecasting_data.dropna(inplace=True)\n",
        "Forecasting_data.info()"
      ],
      "metadata": {
        "id": "Kat9ke8ukpvl",
        "colab": {
          "base_uri": "https://localhost:8080/"
        },
        "outputId": "0594cebc-55aa-4df8-d82a-248648315512"
      },
      "execution_count": 94,
      "outputs": [
        {
          "output_type": "stream",
          "name": "stdout",
          "text": [
            "<class 'pandas.core.frame.DataFrame'>\n",
            "RangeIndex: 1990 entries, 0 to 1989\n",
            "Data columns (total 22 columns):\n",
            " #   Column                           Non-Null Count  Dtype  \n",
            "---  ------                           --------------  -----  \n",
            " 0   Country                          1990 non-null   object \n",
            " 1   Year                             1990 non-null   int64  \n",
            " 2   Status                           1990 non-null   object \n",
            " 3   Life expectancy                  1983 non-null   float64\n",
            " 4   Adult Mortality                  1983 non-null   float64\n",
            " 5   infant deaths                    1990 non-null   int64  \n",
            " 6   Alcohol                          1868 non-null   float64\n",
            " 7   percentage expenditure           1990 non-null   float64\n",
            " 8   Hepatitis B                      1731 non-null   float64\n",
            " 9   Measles                          1990 non-null   int64  \n",
            " 10  BMI                              1985 non-null   float64\n",
            " 11  under-five deaths                1990 non-null   int64  \n",
            " 12  Polio                            1988 non-null   float64\n",
            " 13  Total expenditure                1869 non-null   float64\n",
            " 14  Diphtheria                       1988 non-null   float64\n",
            " 15  HIV/AIDS                         1990 non-null   float64\n",
            " 16  GDP                              1966 non-null   float64\n",
            " 17  Population                       1953 non-null   float64\n",
            " 18   thinness  1-19 years            1985 non-null   float64\n",
            " 19   thinness 5-9 years              1985 non-null   float64\n",
            " 20  Income composition of resources  1985 non-null   float64\n",
            " 21  Schooling                        1989 non-null   float64\n",
            "dtypes: float64(16), int64(4), object(2)\n",
            "memory usage: 342.2+ KB\n",
            "<class 'pandas.core.frame.DataFrame'>\n",
            "Int64Index: 1579 entries, 0 to 1989\n",
            "Data columns (total 22 columns):\n",
            " #   Column                           Non-Null Count  Dtype  \n",
            "---  ------                           --------------  -----  \n",
            " 0   Country                          1579 non-null   object \n",
            " 1   Year                             1579 non-null   int64  \n",
            " 2   Status                           1579 non-null   object \n",
            " 3   Life expectancy                  1579 non-null   float64\n",
            " 4   Adult Mortality                  1579 non-null   float64\n",
            " 5   infant deaths                    1579 non-null   int64  \n",
            " 6   Alcohol                          1579 non-null   float64\n",
            " 7   percentage expenditure           1579 non-null   float64\n",
            " 8   Hepatitis B                      1579 non-null   float64\n",
            " 9   Measles                          1579 non-null   int64  \n",
            " 10  BMI                              1579 non-null   float64\n",
            " 11  under-five deaths                1579 non-null   int64  \n",
            " 12  Polio                            1579 non-null   float64\n",
            " 13  Total expenditure                1579 non-null   float64\n",
            " 14  Diphtheria                       1579 non-null   float64\n",
            " 15  HIV/AIDS                         1579 non-null   float64\n",
            " 16  GDP                              1579 non-null   float64\n",
            " 17  Population                       1579 non-null   float64\n",
            " 18   thinness  1-19 years            1579 non-null   float64\n",
            " 19   thinness 5-9 years              1579 non-null   float64\n",
            " 20  Income composition of resources  1579 non-null   float64\n",
            " 21  Schooling                        1579 non-null   float64\n",
            "dtypes: float64(16), int64(4), object(2)\n",
            "memory usage: 283.7+ KB\n"
          ]
        }
      ]
    },
    {
      "cell_type": "markdown",
      "source": [
        "Split the data into train and test subsets (Note: Time series data cannot be randomly subsampled):"
      ],
      "metadata": {
        "id": "a11jfjnUkHfz"
      }
    },
    {
      "cell_type": "code",
      "source": [
        "rate = 0.75\n",
        "index = int(rate * len(Forecasting_data))\n",
        "\n",
        "## using Daily Demand Order dataset\n",
        "\n",
        "# X_train = Forecasting_data.iloc[:index, 1:-1]\n",
        "# y_train = Forecasting_data.loc[:index-1, \"Target (Total orders)\"]\n",
        "# X_test = Forecasting_data.iloc[index:, 1:-1]\n",
        "# y_test = Forecasting_data.loc[index:, \"Target (Total orders)\"]\n",
        "\n",
        "## using life expectency dataset\n",
        "from sklearn.model_selection import train_test_split\n",
        "\n",
        "X = Forecasting_data.iloc[:, 4:]\n",
        "y = Forecasting_data.iloc[:, 3]\n",
        "X_train, X_test, y_train, y_test = train_test_split(X, y, test_size = 0.25, random_state = 123)\n",
        "\n",
        "X_train.shape"
      ],
      "metadata": {
        "id": "WmAdZuOqiVQ9",
        "colab": {
          "base_uri": "https://localhost:8080/"
        },
        "outputId": "455591e7-2053-4349-bb9d-3347db737b0e"
      },
      "execution_count": 95,
      "outputs": [
        {
          "output_type": "execute_result",
          "data": {
            "text/plain": [
              "(1184, 18)"
            ]
          },
          "metadata": {},
          "execution_count": 95
        }
      ]
    },
    {
      "cell_type": "markdown",
      "source": [
        "Train linear regression model:"
      ],
      "metadata": {
        "id": "wK3123z_CFai"
      }
    },
    {
      "cell_type": "code",
      "source": [
        "# create linear regression object\n",
        "linear_reg = linear_model.LinearRegression(fit_intercept=True)\n",
        "# fit the linear regression model to your training data\n",
        "linear_reg.fit(X_train, y_train)\n",
        "print(f\"intercept:{linear_reg.intercept_}\\n\")\n",
        "print(f\"Estiamted coefficients:{linear_reg.coef_}\")"
      ],
      "metadata": {
        "id": "cbybQM3fCHxk",
        "colab": {
          "base_uri": "https://localhost:8080/"
        },
        "outputId": "832ee860-0e79-4798-956d-20e6527e919d"
      },
      "execution_count": null,
      "outputs": [
        {
          "output_type": "stream",
          "name": "stdout",
          "text": [
            "intercept:52.92982518120826\n",
            "\n",
            "Estiamted coefficients:[-1.63085682e-02  9.20027038e-02 -5.88370037e-02  4.01446946e-04\n",
            " -8.02347094e-03 -3.69962565e-06  2.62973918e-02 -6.86938316e-02\n",
            "  2.88861609e-03  1.89960362e-01  2.51294138e-02 -5.43107073e-01\n",
            "  3.53216581e-06  1.97503726e-09 -4.67247847e-03 -6.58815005e-02\n",
            "  1.02369941e+01  8.45064658e-01]\n"
          ]
        }
      ]
    },
    {
      "cell_type": "markdown",
      "source": [
        "Linear Regression Equation:   $ŷ = β_{0} + \\beta_{1} X_{1} + ...+ \\beta_{k} X_{k}$\n",
        "\n",
        "Test the prediction performance:"
      ],
      "metadata": {
        "id": "tvZ0BynRnGtq"
      }
    },
    {
      "cell_type": "code",
      "source": [
        "y_pred = linear_reg.predict(X_test)\n",
        "\n",
        "# using sklearn metrics\n",
        "MSE_sk = metrics.mean_squared_error(y_test, y_pred)\n",
        "print(f\"MSE: {MSE_sk}\") \n",
        "MAE_sk = metrics.mean_absolute_error(y_test, y_pred)\n",
        "print(f\"MAE: {MAE_sk}\") \n",
        "MAPE_sk = metrics.mean_absolute_percentage_error(y_test, y_pred)\n",
        "print(f\"MAPE: {MAPE_sk}\") "
      ],
      "metadata": {
        "colab": {
          "base_uri": "https://localhost:8080/"
        },
        "id": "f0n1oJGErjsy",
        "outputId": "d444b4c1-bc59-4fcf-e096-c7410482615e"
      },
      "execution_count": null,
      "outputs": [
        {
          "output_type": "stream",
          "name": "stdout",
          "text": [
            "MSE: 16.563185566874303\n",
            "MAE: 2.917934375682162\n",
            "MAPE: 0.04730566611233722\n"
          ]
        }
      ]
    },
    {
      "cell_type": "markdown",
      "source": [
        "###Feature Selection Methods:\n",
        "\n",
        "See documentations for [SelectKBest](https://scikit-learn.org/stable/modules/generated/sklearn.feature_selection.SelectKBest.html#sklearn.feature_selection.SelectKBest) for more score functions."
      ],
      "metadata": {
        "id": "Ta98yqIXxk3Q"
      }
    },
    {
      "cell_type": "code",
      "source": [
        "from sklearn.feature_selection import f_regression # to find the significance of each feature\n",
        "\n",
        "f_statistic, p_values = f_regression(X_train,y_train)\n",
        "print(p_values)"
      ],
      "metadata": {
        "colab": {
          "base_uri": "https://localhost:8080/"
        },
        "id": "r0uh0isKuu7A",
        "outputId": "682324d7-c7c9-45fc-99ea-fc868ae38327"
      },
      "execution_count": null,
      "outputs": [
        {
          "output_type": "stream",
          "name": "stdout",
          "text": [
            "[6.42696702e-194 3.25722196e-023 1.08353239e-070 4.07331494e-054\n",
            " 4.94979947e-014 2.80670015e-002 9.57629693e-102 7.36236431e-029\n",
            " 6.81432382e-036 9.94536716e-018 7.20584729e-050 2.41172487e-109\n",
            " 5.39171559e-063 9.24272537e-001 1.78743874e-079 5.64428556e-079\n",
            " 3.57924190e-220 3.73922650e-220]\n"
          ]
        }
      ]
    },
    {
      "cell_type": "code",
      "source": [
        "from sklearn.feature_selection import SelectKBest, SelectFpr \n",
        "\n",
        "Selected = SelectKBest(f_regression, k=8).fit(X_train, y_train)  # Select features based on the k highest scores. You can try various values for k and select the best one.\n",
        "# Selected = SelectFpr(f_regression, alpha=0.05).fit(X_train, y_train) # makes more sense for classification tasks \n",
        "print(f\"selected features are: {Selected.get_feature_names_out()}\")\n",
        "X_selected = Selected.transform(X_train) # reduces X_train to the selected features.\n",
        "X_selected.shape"
      ],
      "metadata": {
        "id": "Dyfi1NA7x4aJ",
        "colab": {
          "base_uri": "https://localhost:8080/"
        },
        "outputId": "4ce34c2a-ff63-47b3-96d8-06a2ff04e0e3"
      },
      "execution_count": null,
      "outputs": [
        {
          "output_type": "stream",
          "name": "stdout",
          "text": [
            "selected features are: ['Adult Mortality' 'Alcohol' 'BMI' 'HIV/AIDS' ' thinness  1-19 years'\n",
            " ' thinness 5-9 years' 'Income composition of resources' 'Schooling']\n"
          ]
        },
        {
          "output_type": "execute_result",
          "data": {
            "text/plain": [
              "(1184, 8)"
            ]
          },
          "metadata": {},
          "execution_count": 117
        }
      ]
    },
    {
      "cell_type": "code",
      "source": [
        "X_test_new = Selected.transform(X_test)\n",
        "print(X_test_new[:2])\n",
        "X_test.head(2)"
      ],
      "metadata": {
        "colab": {
          "base_uri": "https://localhost:8080/",
          "height": 263
        },
        "id": "eqAUpNNjROjg",
        "outputId": "a9450b4d-f1f9-4b4f-b95c-09607183598b"
      },
      "execution_count": null,
      "outputs": [
        {
          "output_type": "stream",
          "name": "stdout",
          "text": [
            "[[1.44e+02 9.50e+00 5.55e+01 1.00e-01 2.30e+00 2.50e+00 7.97e-01 1.48e+01]\n",
            " [1.43e+02 9.19e+00 5.50e+01 1.00e-01 2.40e+00 2.50e+00 8.00e-01 1.55e+01]]\n"
          ]
        },
        {
          "output_type": "execute_result",
          "data": {
            "text/html": [
              "\n",
              "  <div id=\"df-cde2e39b-6fc9-470a-9c99-671b5025f5db\">\n",
              "    <div class=\"colab-df-container\">\n",
              "      <div>\n",
              "<style scoped>\n",
              "    .dataframe tbody tr th:only-of-type {\n",
              "        vertical-align: middle;\n",
              "    }\n",
              "\n",
              "    .dataframe tbody tr th {\n",
              "        vertical-align: top;\n",
              "    }\n",
              "\n",
              "    .dataframe thead th {\n",
              "        text-align: right;\n",
              "    }\n",
              "</style>\n",
              "<table border=\"1\" class=\"dataframe\">\n",
              "  <thead>\n",
              "    <tr style=\"text-align: right;\">\n",
              "      <th></th>\n",
              "      <th>Adult Mortality</th>\n",
              "      <th>infant deaths</th>\n",
              "      <th>Alcohol</th>\n",
              "      <th>percentage expenditure</th>\n",
              "      <th>Hepatitis B</th>\n",
              "      <th>Measles</th>\n",
              "      <th>BMI</th>\n",
              "      <th>under-five deaths</th>\n",
              "      <th>Polio</th>\n",
              "      <th>Total expenditure</th>\n",
              "      <th>Diphtheria</th>\n",
              "      <th>HIV/AIDS</th>\n",
              "      <th>GDP</th>\n",
              "      <th>Population</th>\n",
              "      <th>thinness  1-19 years</th>\n",
              "      <th>thinness 5-9 years</th>\n",
              "      <th>Income composition of resources</th>\n",
              "      <th>Schooling</th>\n",
              "    </tr>\n",
              "  </thead>\n",
              "  <tbody>\n",
              "    <tr>\n",
              "      <th>1457</th>\n",
              "      <td>144.0</td>\n",
              "      <td>2</td>\n",
              "      <td>9.50</td>\n",
              "      <td>79.415027</td>\n",
              "      <td>98.0</td>\n",
              "      <td>13</td>\n",
              "      <td>55.5</td>\n",
              "      <td>3</td>\n",
              "      <td>99.0</td>\n",
              "      <td>6.20</td>\n",
              "      <td>99.0</td>\n",
              "      <td>0.1</td>\n",
              "      <td>821.251569</td>\n",
              "      <td>38165445.0</td>\n",
              "      <td>2.3</td>\n",
              "      <td>2.5</td>\n",
              "      <td>0.797</td>\n",
              "      <td>14.8</td>\n",
              "    </tr>\n",
              "    <tr>\n",
              "      <th>1458</th>\n",
              "      <td>143.0</td>\n",
              "      <td>2</td>\n",
              "      <td>9.19</td>\n",
              "      <td>648.074345</td>\n",
              "      <td>98.0</td>\n",
              "      <td>11</td>\n",
              "      <td>55.0</td>\n",
              "      <td>3</td>\n",
              "      <td>99.0</td>\n",
              "      <td>6.19</td>\n",
              "      <td>99.0</td>\n",
              "      <td>0.1</td>\n",
              "      <td>6681.178818</td>\n",
              "      <td>38182222.0</td>\n",
              "      <td>2.4</td>\n",
              "      <td>2.5</td>\n",
              "      <td>0.800</td>\n",
              "      <td>15.5</td>\n",
              "    </tr>\n",
              "  </tbody>\n",
              "</table>\n",
              "</div>\n",
              "      <button class=\"colab-df-convert\" onclick=\"convertToInteractive('df-cde2e39b-6fc9-470a-9c99-671b5025f5db')\"\n",
              "              title=\"Convert this dataframe to an interactive table.\"\n",
              "              style=\"display:none;\">\n",
              "        \n",
              "  <svg xmlns=\"http://www.w3.org/2000/svg\" height=\"24px\"viewBox=\"0 0 24 24\"\n",
              "       width=\"24px\">\n",
              "    <path d=\"M0 0h24v24H0V0z\" fill=\"none\"/>\n",
              "    <path d=\"M18.56 5.44l.94 2.06.94-2.06 2.06-.94-2.06-.94-.94-2.06-.94 2.06-2.06.94zm-11 1L8.5 8.5l.94-2.06 2.06-.94-2.06-.94L8.5 2.5l-.94 2.06-2.06.94zm10 10l.94 2.06.94-2.06 2.06-.94-2.06-.94-.94-2.06-.94 2.06-2.06.94z\"/><path d=\"M17.41 7.96l-1.37-1.37c-.4-.4-.92-.59-1.43-.59-.52 0-1.04.2-1.43.59L10.3 9.45l-7.72 7.72c-.78.78-.78 2.05 0 2.83L4 21.41c.39.39.9.59 1.41.59.51 0 1.02-.2 1.41-.59l7.78-7.78 2.81-2.81c.8-.78.8-2.07 0-2.86zM5.41 20L4 18.59l7.72-7.72 1.47 1.35L5.41 20z\"/>\n",
              "  </svg>\n",
              "      </button>\n",
              "      \n",
              "  <style>\n",
              "    .colab-df-container {\n",
              "      display:flex;\n",
              "      flex-wrap:wrap;\n",
              "      gap: 12px;\n",
              "    }\n",
              "\n",
              "    .colab-df-convert {\n",
              "      background-color: #E8F0FE;\n",
              "      border: none;\n",
              "      border-radius: 50%;\n",
              "      cursor: pointer;\n",
              "      display: none;\n",
              "      fill: #1967D2;\n",
              "      height: 32px;\n",
              "      padding: 0 0 0 0;\n",
              "      width: 32px;\n",
              "    }\n",
              "\n",
              "    .colab-df-convert:hover {\n",
              "      background-color: #E2EBFA;\n",
              "      box-shadow: 0px 1px 2px rgba(60, 64, 67, 0.3), 0px 1px 3px 1px rgba(60, 64, 67, 0.15);\n",
              "      fill: #174EA6;\n",
              "    }\n",
              "\n",
              "    [theme=dark] .colab-df-convert {\n",
              "      background-color: #3B4455;\n",
              "      fill: #D2E3FC;\n",
              "    }\n",
              "\n",
              "    [theme=dark] .colab-df-convert:hover {\n",
              "      background-color: #434B5C;\n",
              "      box-shadow: 0px 1px 3px 1px rgba(0, 0, 0, 0.15);\n",
              "      filter: drop-shadow(0px 1px 2px rgba(0, 0, 0, 0.3));\n",
              "      fill: #FFFFFF;\n",
              "    }\n",
              "  </style>\n",
              "\n",
              "      <script>\n",
              "        const buttonEl =\n",
              "          document.querySelector('#df-cde2e39b-6fc9-470a-9c99-671b5025f5db button.colab-df-convert');\n",
              "        buttonEl.style.display =\n",
              "          google.colab.kernel.accessAllowed ? 'block' : 'none';\n",
              "\n",
              "        async function convertToInteractive(key) {\n",
              "          const element = document.querySelector('#df-cde2e39b-6fc9-470a-9c99-671b5025f5db');\n",
              "          const dataTable =\n",
              "            await google.colab.kernel.invokeFunction('convertToInteractive',\n",
              "                                                     [key], {});\n",
              "          if (!dataTable) return;\n",
              "\n",
              "          const docLinkHtml = 'Like what you see? Visit the ' +\n",
              "            '<a target=\"_blank\" href=https://colab.research.google.com/notebooks/data_table.ipynb>data table notebook</a>'\n",
              "            + ' to learn more about interactive tables.';\n",
              "          element.innerHTML = '';\n",
              "          dataTable['output_type'] = 'display_data';\n",
              "          await google.colab.output.renderOutput(dataTable, element);\n",
              "          const docLink = document.createElement('div');\n",
              "          docLink.innerHTML = docLinkHtml;\n",
              "          element.appendChild(docLink);\n",
              "        }\n",
              "      </script>\n",
              "    </div>\n",
              "  </div>\n",
              "  "
            ],
            "text/plain": [
              "      Adult Mortality  ...  Schooling\n",
              "1457            144.0  ...       14.8\n",
              "1458            143.0  ...       15.5\n",
              "\n",
              "[2 rows x 18 columns]"
            ]
          },
          "metadata": {},
          "execution_count": 118
        }
      ]
    },
    {
      "cell_type": "markdown",
      "source": [
        "Evaluate the new model's performance on the test set:"
      ],
      "metadata": {
        "id": "YoY1nnIiafZh"
      }
    },
    {
      "cell_type": "code",
      "source": [
        "linear_reg = linear_model.LinearRegression(fit_intercept=True)\n",
        "# fit the linear regression model to your training data\n",
        "linear_reg.fit(X_selected, y_train)\n",
        "y_pred = linear_reg.predict(X_test_new)\n",
        "\n",
        "# using sklearn metrics\n",
        "MSE_sk = metrics.mean_squared_error(y_test, y_pred)\n",
        "print(f\"MSE: {MSE_sk}\") \n",
        "MAE_sk = metrics.mean_absolute_error(y_test, y_pred)\n",
        "print(f\"MAE: {MAE_sk}\") \n",
        "MAPE_sk = metrics.mean_absolute_percentage_error(y_test, y_pred)\n",
        "print(f\"MAPE: {MAPE_sk}\") "
      ],
      "metadata": {
        "colab": {
          "base_uri": "https://localhost:8080/"
        },
        "id": "kVndbV3oQW41",
        "outputId": "2c3f174d-c2c0-481d-d3da-3ce368240ce2"
      },
      "execution_count": null,
      "outputs": [
        {
          "output_type": "stream",
          "name": "stdout",
          "text": [
            "MSE: 17.242351829814798\n",
            "MAE: 2.9958376963850792\n",
            "MAPE: 0.04864516868304993\n"
          ]
        }
      ]
    },
    {
      "cell_type": "markdown",
      "source": [
        "### Statistical Analysis of Linear Regression"
      ],
      "metadata": {
        "id": "nc_P3BhLgwYv"
      }
    },
    {
      "cell_type": "code",
      "source": [
        "import statsmodels.api as sm\n",
        "\n",
        "X_train = sm.add_constant(X_train)\n",
        "model = sm.OLS(y_train, X_train) #endog: dependent variable, exog: regressors\n",
        "res = model.fit()\n",
        "print(res.summary())"
      ],
      "metadata": {
        "id": "s5l5nMdig0kn"
      },
      "execution_count": null,
      "outputs": []
    },
    {
      "cell_type": "markdown",
      "source": [
        "## Cross-validation: Logistic Regression"
      ],
      "metadata": {
        "id": "dDgISHnjx49Q"
      }
    },
    {
      "cell_type": "markdown",
      "source": [
        "###Read the Data:"
      ],
      "metadata": {
        "id": "zvFoqxSfx49R"
      }
    },
    {
      "cell_type": "code",
      "source": [
        "# Nasa Dataset\n",
        "classification_data = pd.read_csv(\"/content/nasa.csv\")\n",
        "classification_data.head(3)"
      ],
      "metadata": {
        "colab": {
          "base_uri": "https://localhost:8080/",
          "height": 259
        },
        "outputId": "a8326a97-883f-457b-8da1-5974b6401529",
        "id": "7En9EWmsx49S"
      },
      "execution_count": 96,
      "outputs": [
        {
          "output_type": "execute_result",
          "data": {
            "text/html": [
              "\n",
              "  <div id=\"df-70d98843-c9d6-4f12-b68e-ab59a619f16d\">\n",
              "    <div class=\"colab-df-container\">\n",
              "      <div>\n",
              "<style scoped>\n",
              "    .dataframe tbody tr th:only-of-type {\n",
              "        vertical-align: middle;\n",
              "    }\n",
              "\n",
              "    .dataframe tbody tr th {\n",
              "        vertical-align: top;\n",
              "    }\n",
              "\n",
              "    .dataframe thead th {\n",
              "        text-align: right;\n",
              "    }\n",
              "</style>\n",
              "<table border=\"1\" class=\"dataframe\">\n",
              "  <thead>\n",
              "    <tr style=\"text-align: right;\">\n",
              "      <th></th>\n",
              "      <th>Name</th>\n",
              "      <th>Eccentricity</th>\n",
              "      <th>Inclination</th>\n",
              "      <th>Neo Reference ID</th>\n",
              "      <th>Absolute Magnitude</th>\n",
              "      <th>Est Dia in Feet(min)</th>\n",
              "      <th>Est Dia in Feet(max)</th>\n",
              "      <th>Close Approach Date</th>\n",
              "      <th>Epoch Date Close Approach</th>\n",
              "      <th>Relative Velocity km per sec</th>\n",
              "      <th>Relative Velocity km per hr</th>\n",
              "      <th>Miles per hour</th>\n",
              "      <th>Miss Dist.(Astronomical)</th>\n",
              "      <th>Miss Dist.(lunar)</th>\n",
              "      <th>Orbit Uncertainity</th>\n",
              "      <th>Minimum Orbit Intersection</th>\n",
              "      <th>Jupiter Tisserand Invariant</th>\n",
              "      <th>Semi Major Axis</th>\n",
              "      <th>Asc Node Longitude</th>\n",
              "      <th>Orbital Period</th>\n",
              "      <th>Perihelion Distance</th>\n",
              "      <th>Perihelion Arg</th>\n",
              "      <th>Aphelion Dist</th>\n",
              "      <th>Perihelion Time</th>\n",
              "      <th>Mean Anomaly</th>\n",
              "      <th>Mean Motion</th>\n",
              "      <th>Hazardous</th>\n",
              "    </tr>\n",
              "  </thead>\n",
              "  <tbody>\n",
              "    <tr>\n",
              "      <th>0</th>\n",
              "      <td>3723955</td>\n",
              "      <td>0.351674</td>\n",
              "      <td>28.412996</td>\n",
              "      <td>3723955</td>\n",
              "      <td>21.3</td>\n",
              "      <td>479.225620</td>\n",
              "      <td>1071.581063</td>\n",
              "      <td>12784</td>\n",
              "      <td>7.890000e+11</td>\n",
              "      <td>18.113985</td>\n",
              "      <td>65210.34609</td>\n",
              "      <td>40519.17311</td>\n",
              "      <td>0.383014</td>\n",
              "      <td>148.992630</td>\n",
              "      <td>3</td>\n",
              "      <td>0.186935</td>\n",
              "      <td>5.457</td>\n",
              "      <td>1.107776</td>\n",
              "      <td>136.717242</td>\n",
              "      <td>425.869294</td>\n",
              "      <td>0.718200</td>\n",
              "      <td>313.091975</td>\n",
              "      <td>1.497352</td>\n",
              "      <td>2457794.969</td>\n",
              "      <td>173.741112</td>\n",
              "      <td>0.845330</td>\n",
              "      <td>0</td>\n",
              "    </tr>\n",
              "    <tr>\n",
              "      <th>1</th>\n",
              "      <td>2446862</td>\n",
              "      <td>0.348248</td>\n",
              "      <td>4.237961</td>\n",
              "      <td>2446862</td>\n",
              "      <td>20.3</td>\n",
              "      <td>759.521423</td>\n",
              "      <td>1698.341531</td>\n",
              "      <td>12791</td>\n",
              "      <td>7.900000e+11</td>\n",
              "      <td>7.590711</td>\n",
              "      <td>27326.56018</td>\n",
              "      <td>16979.66180</td>\n",
              "      <td>0.050956</td>\n",
              "      <td>19.821890</td>\n",
              "      <td>0</td>\n",
              "      <td>0.043058</td>\n",
              "      <td>4.557</td>\n",
              "      <td>1.458824</td>\n",
              "      <td>259.475979</td>\n",
              "      <td>643.580228</td>\n",
              "      <td>0.950791</td>\n",
              "      <td>248.415038</td>\n",
              "      <td>1.966857</td>\n",
              "      <td>2458120.468</td>\n",
              "      <td>292.893654</td>\n",
              "      <td>0.559371</td>\n",
              "      <td>1</td>\n",
              "    </tr>\n",
              "    <tr>\n",
              "      <th>2</th>\n",
              "      <td>3671135</td>\n",
              "      <td>0.563441</td>\n",
              "      <td>17.927751</td>\n",
              "      <td>3671135</td>\n",
              "      <td>19.6</td>\n",
              "      <td>1048.431420</td>\n",
              "      <td>2344.363926</td>\n",
              "      <td>12798</td>\n",
              "      <td>7.900000e+11</td>\n",
              "      <td>10.808844</td>\n",
              "      <td>38911.83825</td>\n",
              "      <td>24178.30305</td>\n",
              "      <td>0.392785</td>\n",
              "      <td>152.793274</td>\n",
              "      <td>1</td>\n",
              "      <td>0.272213</td>\n",
              "      <td>4.724</td>\n",
              "      <td>1.323532</td>\n",
              "      <td>178.971951</td>\n",
              "      <td>556.160556</td>\n",
              "      <td>0.577800</td>\n",
              "      <td>198.145969</td>\n",
              "      <td>2.069265</td>\n",
              "      <td>2458009.403</td>\n",
              "      <td>354.237368</td>\n",
              "      <td>0.647295</td>\n",
              "      <td>0</td>\n",
              "    </tr>\n",
              "  </tbody>\n",
              "</table>\n",
              "</div>\n",
              "      <button class=\"colab-df-convert\" onclick=\"convertToInteractive('df-70d98843-c9d6-4f12-b68e-ab59a619f16d')\"\n",
              "              title=\"Convert this dataframe to an interactive table.\"\n",
              "              style=\"display:none;\">\n",
              "        \n",
              "  <svg xmlns=\"http://www.w3.org/2000/svg\" height=\"24px\"viewBox=\"0 0 24 24\"\n",
              "       width=\"24px\">\n",
              "    <path d=\"M0 0h24v24H0V0z\" fill=\"none\"/>\n",
              "    <path d=\"M18.56 5.44l.94 2.06.94-2.06 2.06-.94-2.06-.94-.94-2.06-.94 2.06-2.06.94zm-11 1L8.5 8.5l.94-2.06 2.06-.94-2.06-.94L8.5 2.5l-.94 2.06-2.06.94zm10 10l.94 2.06.94-2.06 2.06-.94-2.06-.94-.94-2.06-.94 2.06-2.06.94z\"/><path d=\"M17.41 7.96l-1.37-1.37c-.4-.4-.92-.59-1.43-.59-.52 0-1.04.2-1.43.59L10.3 9.45l-7.72 7.72c-.78.78-.78 2.05 0 2.83L4 21.41c.39.39.9.59 1.41.59.51 0 1.02-.2 1.41-.59l7.78-7.78 2.81-2.81c.8-.78.8-2.07 0-2.86zM5.41 20L4 18.59l7.72-7.72 1.47 1.35L5.41 20z\"/>\n",
              "  </svg>\n",
              "      </button>\n",
              "      \n",
              "  <style>\n",
              "    .colab-df-container {\n",
              "      display:flex;\n",
              "      flex-wrap:wrap;\n",
              "      gap: 12px;\n",
              "    }\n",
              "\n",
              "    .colab-df-convert {\n",
              "      background-color: #E8F0FE;\n",
              "      border: none;\n",
              "      border-radius: 50%;\n",
              "      cursor: pointer;\n",
              "      display: none;\n",
              "      fill: #1967D2;\n",
              "      height: 32px;\n",
              "      padding: 0 0 0 0;\n",
              "      width: 32px;\n",
              "    }\n",
              "\n",
              "    .colab-df-convert:hover {\n",
              "      background-color: #E2EBFA;\n",
              "      box-shadow: 0px 1px 2px rgba(60, 64, 67, 0.3), 0px 1px 3px 1px rgba(60, 64, 67, 0.15);\n",
              "      fill: #174EA6;\n",
              "    }\n",
              "\n",
              "    [theme=dark] .colab-df-convert {\n",
              "      background-color: #3B4455;\n",
              "      fill: #D2E3FC;\n",
              "    }\n",
              "\n",
              "    [theme=dark] .colab-df-convert:hover {\n",
              "      background-color: #434B5C;\n",
              "      box-shadow: 0px 1px 3px 1px rgba(0, 0, 0, 0.15);\n",
              "      filter: drop-shadow(0px 1px 2px rgba(0, 0, 0, 0.3));\n",
              "      fill: #FFFFFF;\n",
              "    }\n",
              "  </style>\n",
              "\n",
              "      <script>\n",
              "        const buttonEl =\n",
              "          document.querySelector('#df-70d98843-c9d6-4f12-b68e-ab59a619f16d button.colab-df-convert');\n",
              "        buttonEl.style.display =\n",
              "          google.colab.kernel.accessAllowed ? 'block' : 'none';\n",
              "\n",
              "        async function convertToInteractive(key) {\n",
              "          const element = document.querySelector('#df-70d98843-c9d6-4f12-b68e-ab59a619f16d');\n",
              "          const dataTable =\n",
              "            await google.colab.kernel.invokeFunction('convertToInteractive',\n",
              "                                                     [key], {});\n",
              "          if (!dataTable) return;\n",
              "\n",
              "          const docLinkHtml = 'Like what you see? Visit the ' +\n",
              "            '<a target=\"_blank\" href=https://colab.research.google.com/notebooks/data_table.ipynb>data table notebook</a>'\n",
              "            + ' to learn more about interactive tables.';\n",
              "          element.innerHTML = '';\n",
              "          dataTable['output_type'] = 'display_data';\n",
              "          await google.colab.output.renderOutput(dataTable, element);\n",
              "          const docLink = document.createElement('div');\n",
              "          docLink.innerHTML = docLinkHtml;\n",
              "          element.appendChild(docLink);\n",
              "        }\n",
              "      </script>\n",
              "    </div>\n",
              "  </div>\n",
              "  "
            ],
            "text/plain": [
              "      Name  Eccentricity  Inclination  ...  Mean Anomaly  Mean Motion  Hazardous\n",
              "0  3723955      0.351674    28.412996  ...    173.741112     0.845330          0\n",
              "1  2446862      0.348248     4.237961  ...    292.893654     0.559371          1\n",
              "2  3671135      0.563441    17.927751  ...    354.237368     0.647295          0\n",
              "\n",
              "[3 rows x 27 columns]"
            ]
          },
          "metadata": {},
          "execution_count": 96
        }
      ]
    },
    {
      "cell_type": "markdown",
      "source": [
        "###Randomly split the data into train and test subsets"
      ],
      "metadata": {
        "id": "M6xEmdZUx49U"
      }
    },
    {
      "cell_type": "code",
      "source": [
        "from sklearn.model_selection import train_test_split\n",
        "\n",
        "X_c = classification_data.iloc[:, 1:-1] \n",
        "y_c = classification_data[\"Hazardous\"]\n",
        "\n",
        "X_train_c, X_test_c, y_train_c, y_test_c = train_test_split(X_c, y_c, test_size = 0.2, random_state = 123)\n",
        "print(f\"Shape of X_train: {X_train_c.shape}\") "
      ],
      "metadata": {
        "id": "NURtEmyfx49U",
        "colab": {
          "base_uri": "https://localhost:8080/"
        },
        "outputId": "6c5b905b-ce4f-416d-b68a-c7ad4dc29eda"
      },
      "execution_count": 97,
      "outputs": [
        {
          "output_type": "stream",
          "name": "stdout",
          "text": [
            "Shape of X_train: (369, 25)\n"
          ]
        }
      ]
    },
    {
      "cell_type": "markdown",
      "source": [
        "Look for the scikit-learn cross-validation documentations [here](https://scikit-learn.org/stable/modules/model_evaluation.html#common-cases-predefined-values)."
      ],
      "metadata": {
        "id": "iENXZnB4x49V"
      }
    },
    {
      "cell_type": "code",
      "source": [
        "from sklearn.model_selection import cross_val_score\n",
        "\n",
        "# create classifier object\n",
        "clf = linear_model.LogisticRegression()\n",
        "# clf = naive_bayes.GaussianNB()\n",
        "\n",
        "# fit classifier with 5-fold cross-validation\n",
        "acc_scores = cross_val_score(clf,X_train_c, y_train_c, cv=5, scoring=\"accuracy\") # https://scikit-learn.org/stable/modules/model_evaluation.html#common-cases-predefined-values\n",
        "print(f\"accuracies:{acc_scores}\")\n",
        "print(\"%0.3f accuracy with a standard deviation of %0.3f\" % (acc_scores.mean(), acc_scores.std()))"
      ],
      "metadata": {
        "colab": {
          "base_uri": "https://localhost:8080/"
        },
        "outputId": "49c6b382-0487-4fe4-8ab2-e686fc91fb5c",
        "id": "1Anqqlz7x49W"
      },
      "execution_count": null,
      "outputs": [
        {
          "output_type": "stream",
          "name": "stdout",
          "text": [
            "accuracies:[0.56756757 0.55405405 0.64864865 0.59459459 0.56164384]\n",
            "0.585 accuracy with a standard deviation of 0.034\n"
          ]
        }
      ]
    },
    {
      "cell_type": "markdown",
      "source": [
        "## Support Vector Machines (SVM)\n",
        "\n",
        "SVM documentions are available [here](https://scikit-learn.org/stable/modules/svm.html)."
      ],
      "metadata": {
        "id": "bor28z1fWliA"
      }
    },
    {
      "cell_type": "markdown",
      "source": [
        "Support Vector Regression (SVR):\n",
        "Formulation are [here](https://scikit-learn.org/stable/modules/svm.html#svr)."
      ],
      "metadata": {
        "id": "kcqVJBy5YBxZ"
      }
    },
    {
      "cell_type": "code",
      "source": [
        "from sklearn import svm\n",
        "\n",
        "svr = svm.SVR(kernel ='rbf') # kernel : {'linear', 'poly', 'rbf', 'sigmoid', 'precomputed'}\n",
        "svr_p = svm.SVR(kernel ='poly', degree=3, C=1.5)  \n",
        "svr.fit(X_train, y_train)\n",
        "svr_p.fit(X_train, y_train)\n",
        "# svr.support_vectors_\n",
        "print(f\"Number of support vectors with rbf kernel: {svr.n_support_}\")\n",
        "print(f\"Number of support vectors with polynomial kernel: {svr_p.n_support_}\")"
      ],
      "metadata": {
        "id": "hB3w4eKVWq9f",
        "colab": {
          "base_uri": "https://localhost:8080/"
        },
        "outputId": "778819eb-2dfd-4c2b-a04e-afcd75cbb9ea"
      },
      "execution_count": 98,
      "outputs": [
        {
          "output_type": "stream",
          "name": "stdout",
          "text": [
            "Number of support vectors with rbf kernel: [1166]\n",
            "Number of support vectors with polynomial kernel: [1169]\n"
          ]
        }
      ]
    },
    {
      "cell_type": "code",
      "source": [
        "y_pred = svr.predict(X_test)\n",
        "y_pred_p = svr_p.predict(X_test)\n",
        "\n",
        "mse = metrics.mean_squared_error(y_test, y_pred)\n",
        "mse_p = metrics.mean_squared_error(y_test, y_pred_p)\n",
        "mape = metrics.mean_absolute_percentage_error(y_test, y_pred)\n",
        "mape_p = metrics.mean_absolute_percentage_error(y_test, y_pred_p)\n",
        "print(f\"MSE with rbf kernel: {mse}\")\n",
        "print(f\"MSE with Polynomian degree 3 kernel: {mse_p}\")\n",
        "print(f\"MAPE with rbf kernel: {mape}\")\n",
        "print(f\"MAPE with Polynomian degree 3 kernel: {mape_p}\")"
      ],
      "metadata": {
        "colab": {
          "base_uri": "https://localhost:8080/"
        },
        "id": "L1A0L5LGZ5sp",
        "outputId": "9a564d3d-89a3-49a5-921a-29bfaad66f26"
      },
      "execution_count": 99,
      "outputs": [
        {
          "output_type": "stream",
          "name": "stdout",
          "text": [
            "MSE with rbf kernel: 90.37086219960835\n",
            "MSE with Polynomian degree 3 kernel: 93.37119137800731\n",
            "MAPE with rbf kernel: 0.11780200008700366\n",
            "MAPE with Polynomian degree 3 kernel: 0.1192781423428543\n"
          ]
        }
      ]
    },
    {
      "cell_type": "markdown",
      "source": [
        "Support Vector Classification (SVC):\n",
        "\n",
        "Formulations are [here](https://scikit-learn.org/stable/modules/svm.html#svc)."
      ],
      "metadata": {
        "id": "srZmXpvmaQXg"
      }
    },
    {
      "cell_type": "code",
      "source": [
        "svc = svm.SVC(kernel ='rbf', probability =True) # kernel : {'linear', 'poly', 'rbf', 'sigmoid', 'precomputed'} \n",
        "svc_s = svm.SVC(kernel ='sigmoid', probability =True) \n",
        "svc.fit(X_train_c, y_train_c)\n",
        "svc_s.fit(X_train_c, y_train_c)\n",
        "probs = svc.predict_proba(X_test_c)\n",
        "probs_s = svc_s.predict_proba(X_test_c)\n",
        "probs[:10]"
      ],
      "metadata": {
        "colab": {
          "base_uri": "https://localhost:8080/"
        },
        "id": "VIGOXLEZaT47",
        "outputId": "edea7edf-fe6d-4dd1-a1d2-d76e62fae9a0"
      },
      "execution_count": 100,
      "outputs": [
        {
          "output_type": "execute_result",
          "data": {
            "text/plain": [
              "array([[0.63106041, 0.36893959],\n",
              "       [0.62241716, 0.37758284],\n",
              "       [0.63440886, 0.36559114],\n",
              "       [0.5741725 , 0.4258275 ],\n",
              "       [0.57035058, 0.42964942],\n",
              "       [0.4144417 , 0.5855583 ],\n",
              "       [0.61695313, 0.38304687],\n",
              "       [0.62034088, 0.37965912],\n",
              "       [0.5       , 0.5       ],\n",
              "       [0.63828869, 0.36171131]])"
            ]
          },
          "metadata": {},
          "execution_count": 100
        }
      ]
    },
    {
      "cell_type": "code",
      "source": [
        "y_pred_c = svc.predict(X_test_c)\n",
        "y_pred_c_s = svc_s.predict(X_test_c)\n",
        "print(y_pred_c[:10])\n",
        "\n",
        "acc = metrics.accuracy_score(y_test_c, y_pred_c)\n",
        "acc_s = metrics.accuracy_score(y_test_c, y_pred_c_s)\n",
        "\n",
        "print(f\"Accuracy with rbf kernel: {acc}\")\n",
        "print(f\"Accuracy with sigmoid kernel: {acc_s}\")\n",
        "\n",
        "confusion = metrics.confusion_matrix(y_test_c, y_pred_c)\n",
        "print(f\"Confusion matrix with rbf kernel: {confusion}\")\n",
        "confusion_s = metrics.confusion_matrix(y_test_c, y_pred_c_s)\n",
        "print(f\"Confusion matrix with sigmoid kernel: {confusion_s}\")"
      ],
      "metadata": {
        "colab": {
          "base_uri": "https://localhost:8080/"
        },
        "id": "ALTHWQ9-iAFw",
        "outputId": "bdf5981b-1bb6-4b16-de28-fc5636e6b5a6"
      },
      "execution_count": 104,
      "outputs": [
        {
          "output_type": "stream",
          "name": "stdout",
          "text": [
            "[0 0 0 0 0 1 0 0 0 0]\n",
            "Accuracy with rbf kernel: 0.5913978494623656\n",
            "Accuracy with sigmoid kernel: 0.3978494623655914\n",
            "Confusion matrix with rbf kernel: [[35  7]\n",
            " [31 20]]\n",
            "Confusion matrix with sigmoid kernel: [[10 32]\n",
            " [24 27]]\n"
          ]
        }
      ]
    },
    {
      "cell_type": "markdown",
      "source": [
        "## K-Nearest Neigborhood\n",
        "Documentation for KNN is available [here](https://scikit-learn.org/stable/modules/neighbors.html#nearest-neighbors)."
      ],
      "metadata": {
        "id": "HvyHkv5zlC6_"
      }
    },
    {
      "cell_type": "markdown",
      "source": [
        "KNN for Classification:"
      ],
      "metadata": {
        "id": "XIN0Vsz5rBlW"
      }
    },
    {
      "cell_type": "code",
      "source": [
        "from sklearn import neighbors\n",
        "\n",
        "n_neighbors = 5\n",
        "knn = neighbors.KNeighborsClassifier(n_neighbors=n_neighbors, weights='uniform', metric='minkowski') # Sandard Euclidean distance \n",
        "\n",
        "knn.fit(X_train_c, y_train_c)\n",
        "probs = svc.predict_proba(X_test_c)\n",
        "probs[:10]"
      ],
      "metadata": {
        "colab": {
          "base_uri": "https://localhost:8080/"
        },
        "id": "kte7fOAxlb3f",
        "outputId": "73980915-a7af-4cdd-812a-ec6710b2793f"
      },
      "execution_count": 102,
      "outputs": [
        {
          "output_type": "execute_result",
          "data": {
            "text/plain": [
              "array([[0.63106041, 0.36893959],\n",
              "       [0.62241716, 0.37758284],\n",
              "       [0.63440886, 0.36559114],\n",
              "       [0.5741725 , 0.4258275 ],\n",
              "       [0.57035058, 0.42964942],\n",
              "       [0.4144417 , 0.5855583 ],\n",
              "       [0.61695313, 0.38304687],\n",
              "       [0.62034088, 0.37965912],\n",
              "       [0.5       , 0.5       ],\n",
              "       [0.63828869, 0.36171131]])"
            ]
          },
          "metadata": {},
          "execution_count": 102
        }
      ]
    },
    {
      "cell_type": "code",
      "source": [
        "y_pred_c = knn.predict(X_test_c)\n",
        "acc_knn = knn.score(X_test_c, y_test_c)\n",
        "print(f\"Accuracy with knn model: {acc_knn}\")\n",
        "\n",
        "confusion = metrics.confusion_matrix(y_test_c, y_pred_c)\n",
        "print(f\"Confusion matrix with knn model: {confusion}\")"
      ],
      "metadata": {
        "colab": {
          "base_uri": "https://localhost:8080/"
        },
        "id": "xlYLQD9cogB-",
        "outputId": "aa8bfc21-6914-4bde-834c-4d9779710e7d"
      },
      "execution_count": 103,
      "outputs": [
        {
          "output_type": "stream",
          "name": "stdout",
          "text": [
            "Accuracy with knn model: 0.6451612903225806\n",
            "Confusion matrix with knn model: [[34  8]\n",
            " [25 26]]\n"
          ]
        }
      ]
    },
    {
      "cell_type": "code",
      "source": [
        "# Find the K-neighbors of a point.\n",
        "X0 = X_test_c.iloc[0:1]\n",
        "neigh_dist, neigh_ind = knn.kneighbors(X0, n_neighbors, return_distance =True)\n",
        "print(neigh_ind)\n",
        "neigh_dist"
      ],
      "metadata": {
        "colab": {
          "base_uri": "https://localhost:8080/"
        },
        "id": "8yfIXFZAoTc1",
        "outputId": "ac46f1b8-4ef1-46f2-e3eb-5cd48264cf75"
      },
      "execution_count": 107,
      "outputs": [
        {
          "output_type": "stream",
          "name": "stdout",
          "text": [
            "[[281 203 353  94 248]]\n"
          ]
        },
        {
          "output_type": "execute_result",
          "data": {
            "text/plain": [
              "array([[1.00000000e+09, 1.00000001e+09, 2.00000000e+09, 2.00000000e+09,\n",
              "        2.00000001e+09]])"
            ]
          },
          "metadata": {},
          "execution_count": 107
        }
      ]
    },
    {
      "cell_type": "markdown",
      "source": [
        "KNN for regression (forecasting): "
      ],
      "metadata": {
        "id": "xkSEMqq1rGN1"
      }
    },
    {
      "cell_type": "code",
      "source": [
        "knn_r = neighbors.KNeighborsRegressor(n_neighbors)\n",
        "knn_r.fit(X_train, y_train)\n",
        "y_pred = knn_r.predict(X_test)\n",
        "\n",
        "mse_knn = metrics.mean_squared_error(y_test, y_pred)\n",
        "mape_knn = metrics.mean_absolute_percentage_error(y_test, y_pred)\n",
        "\n",
        "print(f\"MSE with KNN regression model: {mse_knn}\") \n",
        "print(f\"MAPE with KNN regression model: {mape_knn}\") "
      ],
      "metadata": {
        "colab": {
          "base_uri": "https://localhost:8080/"
        },
        "id": "_UCm3Z7erKvR",
        "outputId": "586bb25d-a0ae-479c-e377-551682cf0fb5"
      },
      "execution_count": 108,
      "outputs": [
        {
          "output_type": "stream",
          "name": "stdout",
          "text": [
            "MSE with KNN regression model: 75.61600101265822\n",
            "MAPE with KNN regression model: 0.103526639209308\n"
          ]
        }
      ]
    },
    {
      "cell_type": "markdown",
      "source": [
        "## Decision Trees\n",
        "\n",
        "You can find the sklearn documentations for Decision Tree models [here](https://scikit-learn.org/stable/modules/tree.html#decision-trees).\n",
        "\n"
      ],
      "metadata": {
        "id": "qyUjdF6TsLQr"
      }
    },
    {
      "cell_type": "markdown",
      "source": [
        "### Decision Trees for classification:"
      ],
      "metadata": {
        "id": "tqpyjnKmMcaw"
      }
    },
    {
      "cell_type": "code",
      "source": [
        "from sklearn import tree\n",
        "\n",
        "dtc = tree.DecisionTreeClassifier(criterion=\"gini\", max_depth=None, min_samples_split= 0.1, \n",
        "                                  min_samples_leaf = 10, random_state=123)\n",
        "dtc.fit(X_train_c, y_train_c)\n",
        "plt.figure(figsize=(8,8))\n",
        "tree_plot = tree.plot_tree(dtc)"
      ],
      "metadata": {
        "colab": {
          "base_uri": "https://localhost:8080/",
          "height": 466
        },
        "id": "ueC2EOVXMf7G",
        "outputId": "2d649152-2bf8-449d-f408-05b6333cd1a3"
      },
      "execution_count": 109,
      "outputs": [
        {
          "output_type": "display_data",
          "data": {
            "image/png": "[encoded data removed]",
            "text/plain": [
              "<Figure size 576x576 with 1 Axes>"
            ]
          },
          "metadata": {
            "needs_background": "light"
          }
        }
      ]
    },
    {
      "cell_type": "code",
      "source": [
        "# children_left[i]: id of the left child of node i or -1 if leaf node\n",
        "# children_right[i]: id of the right child of node i or -1 if leaf node\n",
        "# feature[i]: feature used for splitting node i\n",
        "# threshold[i]: threshold value at node i\n",
        "# n_node_samples[i]: the number of of training samples reaching node i\n",
        "# impurity[i]: the impurity at node i\n",
        "\n",
        "n_nodes = dtc.tree_.node_count\n",
        "children_left = dtc.tree_.children_left\n",
        "children_right = dtc.tree_.children_right\n",
        "feature = dtc.tree_.feature\n",
        "threshold = dtc.tree_.threshold\n",
        "impurity = dtc.tree_.impurity"
      ],
      "metadata": {
        "id": "ferYB5XmQG-r"
      },
      "execution_count": 110,
      "outputs": []
    },
    {
      "cell_type": "markdown",
      "source": [
        "We can interpret the tree construction rules:"
      ],
      "metadata": {
        "id": "-p1juF3xUyzG"
      }
    },
    {
      "cell_type": "code",
      "source": [
        "i = 3 # tree split node index\n",
        "print(\"node= {node} is a split node: go to node {left} if X[:, {feature}] <= {threshold} \"\n",
        "      \"else to node {right}.\".format(\n",
        "          node=i,\n",
        "          left=children_left[i],\n",
        "          feature=feature[i],\n",
        "          threshold=threshold[i],\n",
        "          right=children_right[i]))"
      ],
      "metadata": {
        "colab": {
          "base_uri": "https://localhost:8080/"
        },
        "id": "R9-AFReJQOKt",
        "outputId": "868bb6e5-3015-4a44-f32a-d5fbb9eb5066"
      },
      "execution_count": 111,
      "outputs": [
        {
          "output_type": "stream",
          "name": "stdout",
          "text": [
            "node= 3 is a split node: go to node 4 if X[:, 5] <= 832.0322265625 else to node 5.\n"
          ]
        }
      ]
    },
    {
      "cell_type": "markdown",
      "source": [
        "A better visualization of graph:"
      ],
      "metadata": {
        "id": "9y1hIqCsXQXw"
      }
    },
    {
      "cell_type": "code",
      "source": [
        "import graphviz \n",
        " \n",
        "dot_data = tree.export_graphviz(dtc, out_file=None, \n",
        "                    feature_names=X_train_c.columns,   \n",
        "                    filled=True, rounded=True, fontname=\"calibri\")  \n",
        "graph = graphviz.Source(dot_data)  \n",
        "graph "
      ],
      "metadata": {
        "colab": {
          "base_uri": "https://localhost:8080/",
          "height": 519
        },
        "id": "8Ua3vKkuPHzX",
        "outputId": "3f1d52fd-dd6c-4cbb-86c4-78f9a034fb49"
      },
      "execution_count": 112,
      "outputs": [
        {
          "output_type": "execute_result",
          "data": {
            "text/plain": [
              "<graphviz.files.Source at 0x7f6babc19690>"
            ],
            "image/svg+xml": "<?xml version=\"1.0\" encoding=\"UTF-8\" standalone=\"no\"?>\n<!DOCTYPE svg PUBLIC \"-//W3C//DTD SVG 1.1//EN\"\n \"http://www.w3.org/Graphics/SVG/1.1/DTD/svg11.dtd\">\n<!-- Generated by graphviz version 2.40.1 (20161225.0304)\n -->\n<!-- Title: Tree Pages: 1 -->\n<svg width=\"494pt\" height=\"373pt\"\n viewBox=\"0.00 0.00 493.50 373.00\" xmlns=\"http://www.w3.org/2000/svg\" xmlns:xlink=\"http://www.w3.org/1999/xlink\">\n<g id=\"graph0\" class=\"graph\" transform=\"scale(1 1) rotate(0) translate(4 369)\">\n<title>Tree</title>\n<polygon fill=\"#ffffff\" stroke=\"transparent\" points=\"-4,4 -4,-369 489.5,-369 489.5,4 -4,4\"/>\n<!-- 0 -->\n<g id=\"node1\" class=\"node\">\n<title>0</title>\n<path fill=\"#fbebe0\" stroke=\"#000000\" d=\"M432.5,-365C432.5,-365 159.5,-365 159.5,-365 153.5,-365 147.5,-359 147.5,-353 147.5,-353 147.5,-309 147.5,-309 147.5,-303 153.5,-297 159.5,-297 159.5,-297 432.5,-297 432.5,-297 438.5,-297 444.5,-303 444.5,-309 444.5,-309 444.5,-353 444.5,-353 444.5,-359 438.5,-365 432.5,-365\"/>\n<text text-anchor=\"middle\" x=\"296\" y=\"-349.8\" font-family=\"calibri\" font-size=\"14.00\" fill=\"#000000\">Minimum Orbit Intersection &lt;= 0.05</text>\n<text text-anchor=\"middle\" x=\"296\" y=\"-334.8\" font-family=\"calibri\" font-size=\"14.00\" fill=\"#000000\">gini = 0.496</text>\n<text text-anchor=\"middle\" x=\"296\" y=\"-319.8\" font-family=\"calibri\" font-size=\"14.00\" fill=\"#000000\">samples = 369</text>\n<text text-anchor=\"middle\" x=\"296\" y=\"-304.8\" font-family=\"calibri\" font-size=\"14.00\" fill=\"#000000\">value = [200, 169]</text>\n</g>\n<!-- 1 -->\n<g id=\"node2\" class=\"node\">\n<title>1</title>\n<path fill=\"#9dcef2\" stroke=\"#000000\" d=\"M306,-261C306,-261 58,-261 58,-261 52,-261 46,-255 46,-249 46,-249 46,-205 46,-205 46,-199 52,-193 58,-193 58,-193 306,-193 306,-193 312,-193 318,-199 318,-205 318,-205 318,-249 318,-249 318,-255 312,-261 306,-261\"/>\n<text text-anchor=\"middle\" x=\"182\" y=\"-245.8\" font-family=\"calibri\" font-size=\"14.00\" fill=\"#000000\">Est Dia in Feet(max) &lt;= 692.054</text>\n<text text-anchor=\"middle\" x=\"182\" y=\"-230.8\" font-family=\"calibri\" font-size=\"14.00\" fill=\"#000000\">gini = 0.445</text>\n<text text-anchor=\"middle\" x=\"182\" y=\"-215.8\" font-family=\"calibri\" font-size=\"14.00\" fill=\"#000000\">samples = 254</text>\n<text text-anchor=\"middle\" x=\"182\" y=\"-200.8\" font-family=\"calibri\" font-size=\"14.00\" fill=\"#000000\">value = [85, 169]</text>\n</g>\n<!-- 0&#45;&gt;1 -->\n<g id=\"edge1\" class=\"edge\">\n<title>0&#45;&gt;1</title>\n<path fill=\"none\" stroke=\"#000000\" d=\"M258.6721,-296.9465C248.535,-287.6986 237.4517,-277.5876 226.9417,-267.9994\"/>\n<polygon fill=\"#000000\" stroke=\"#000000\" points=\"229.1583,-265.284 219.4117,-261.13 224.4405,-270.4553 229.1583,-265.284\"/>\n<text text-anchor=\"middle\" x=\"220.5573\" y=\"-282.4037\" font-family=\"calibri\" font-size=\"14.00\" fill=\"#000000\">True</text>\n</g>\n<!-- 6 -->\n<g id=\"node7\" class=\"node\">\n<title>6</title>\n<path fill=\"#e58139\" stroke=\"#000000\" d=\"M473.5,-253.5C473.5,-253.5 348.5,-253.5 348.5,-253.5 342.5,-253.5 336.5,-247.5 336.5,-241.5 336.5,-241.5 336.5,-212.5 336.5,-212.5 336.5,-206.5 342.5,-200.5 348.5,-200.5 348.5,-200.5 473.5,-200.5 473.5,-200.5 479.5,-200.5 485.5,-206.5 485.5,-212.5 485.5,-212.5 485.5,-241.5 485.5,-241.5 485.5,-247.5 479.5,-253.5 473.5,-253.5\"/>\n<text text-anchor=\"middle\" x=\"411\" y=\"-238.3\" font-family=\"calibri\" font-size=\"14.00\" fill=\"#000000\">gini = 0.0</text>\n<text text-anchor=\"middle\" x=\"411\" y=\"-223.3\" font-family=\"calibri\" font-size=\"14.00\" fill=\"#000000\">samples = 115</text>\n<text text-anchor=\"middle\" x=\"411\" y=\"-208.3\" font-family=\"calibri\" font-size=\"14.00\" fill=\"#000000\">value = [115, 0]</text>\n</g>\n<!-- 0&#45;&gt;6 -->\n<g id=\"edge6\" class=\"edge\">\n<title>0&#45;&gt;6</title>\n<path fill=\"none\" stroke=\"#000000\" d=\"M333.6553,-296.9465C346.6878,-285.1606 361.2706,-271.9726 374.2311,-260.2519\"/>\n<polygon fill=\"#000000\" stroke=\"#000000\" points=\"376.5812,-262.8456 381.6505,-253.5422 371.886,-257.6537 376.5812,-262.8456\"/>\n<text text-anchor=\"middle\" x=\"380.3964\" y=\"-274.8107\" font-family=\"calibri\" font-size=\"14.00\" fill=\"#000000\">False</text>\n</g>\n<!-- 2 -->\n<g id=\"node3\" class=\"node\">\n<title>2</title>\n<path fill=\"#e58139\" stroke=\"#000000\" d=\"M128,-149.5C128,-149.5 12,-149.5 12,-149.5 6,-149.5 0,-143.5 0,-137.5 0,-137.5 0,-108.5 0,-108.5 0,-102.5 6,-96.5 12,-96.5 12,-96.5 128,-96.5 128,-96.5 134,-96.5 140,-102.5 140,-108.5 140,-108.5 140,-137.5 140,-137.5 140,-143.5 134,-149.5 128,-149.5\"/>\n<text text-anchor=\"middle\" x=\"70\" y=\"-134.3\" font-family=\"calibri\" font-size=\"14.00\" fill=\"#000000\">gini = 0.0</text>\n<text text-anchor=\"middle\" x=\"70\" y=\"-119.3\" font-family=\"calibri\" font-size=\"14.00\" fill=\"#000000\">samples = 83</text>\n<text text-anchor=\"middle\" x=\"70\" y=\"-104.3\" font-family=\"calibri\" font-size=\"14.00\" fill=\"#000000\">value = [83, 0]</text>\n</g>\n<!-- 1&#45;&gt;2 -->\n<g id=\"edge2\" class=\"edge\">\n<title>1&#45;&gt;2</title>\n<path fill=\"none\" stroke=\"#000000\" d=\"M145.327,-192.9465C132.7531,-181.2707 118.6974,-168.219 106.1641,-156.5809\"/>\n<polygon fill=\"#000000\" stroke=\"#000000\" points=\"108.2934,-153.7819 98.5839,-149.5422 103.5302,-158.9115 108.2934,-153.7819\"/>\n</g>\n<!-- 3 -->\n<g id=\"node4\" class=\"node\">\n<title>3</title>\n<path fill=\"#3b9ee5\" stroke=\"#000000\" d=\"M418,-157C418,-157 170,-157 170,-157 164,-157 158,-151 158,-145 158,-145 158,-101 158,-101 158,-95 164,-89 170,-89 170,-89 418,-89 418,-89 424,-89 430,-95 430,-101 430,-101 430,-145 430,-145 430,-151 424,-157 418,-157\"/>\n<text text-anchor=\"middle\" x=\"294\" y=\"-141.8\" font-family=\"calibri\" font-size=\"14.00\" fill=\"#000000\">Est Dia in Feet(max) &lt;= 832.032</text>\n<text text-anchor=\"middle\" x=\"294\" y=\"-126.8\" font-family=\"calibri\" font-size=\"14.00\" fill=\"#000000\">gini = 0.023</text>\n<text text-anchor=\"middle\" x=\"294\" y=\"-111.8\" font-family=\"calibri\" font-size=\"14.00\" fill=\"#000000\">samples = 171</text>\n<text text-anchor=\"middle\" x=\"294\" y=\"-96.8\" font-family=\"calibri\" font-size=\"14.00\" fill=\"#000000\">value = [2, 169]</text>\n</g>\n<!-- 1&#45;&gt;3 -->\n<g id=\"edge3\" class=\"edge\">\n<title>1&#45;&gt;3</title>\n<path fill=\"none\" stroke=\"#000000\" d=\"M218.673,-192.9465C228.6323,-183.6986 239.5211,-173.5876 249.8468,-163.9994\"/>\n<polygon fill=\"#000000\" stroke=\"#000000\" points=\"252.2982,-166.4993 257.2446,-157.13 247.5351,-161.3698 252.2982,-166.4993\"/>\n</g>\n<!-- 4 -->\n<g id=\"node5\" class=\"node\">\n<title>4</title>\n<path fill=\"#61b1ea\" stroke=\"#000000\" d=\"M270,-53C270,-53 154,-53 154,-53 148,-53 142,-47 142,-41 142,-41 142,-12 142,-12 142,-6 148,0 154,0 154,0 270,0 270,0 276,0 282,-6 282,-12 282,-12 282,-41 282,-41 282,-47 276,-53 270,-53\"/>\n<text text-anchor=\"middle\" x=\"212\" y=\"-37.8\" font-family=\"calibri\" font-size=\"14.00\" fill=\"#000000\">gini = 0.278</text>\n<text text-anchor=\"middle\" x=\"212\" y=\"-22.8\" font-family=\"calibri\" font-size=\"14.00\" fill=\"#000000\">samples = 12</text>\n<text text-anchor=\"middle\" x=\"212\" y=\"-7.8\" font-family=\"calibri\" font-size=\"14.00\" fill=\"#000000\">value = [2, 10]</text>\n</g>\n<!-- 3&#45;&gt;4 -->\n<g id=\"edge4\" class=\"edge\">\n<title>3&#45;&gt;4</title>\n<path fill=\"none\" stroke=\"#000000\" d=\"M265.0899,-88.9777C257.3866,-79.9123 249.0581,-70.111 241.3324,-61.0192\"/>\n<polygon fill=\"#000000\" stroke=\"#000000\" points=\"243.8718,-58.6025 234.7293,-53.2485 238.5375,-63.1352 243.8718,-58.6025\"/>\n</g>\n<!-- 5 -->\n<g id=\"node6\" class=\"node\">\n<title>5</title>\n<path fill=\"#399de5\" stroke=\"#000000\" d=\"M437.5,-53C437.5,-53 312.5,-53 312.5,-53 306.5,-53 300.5,-47 300.5,-41 300.5,-41 300.5,-12 300.5,-12 300.5,-6 306.5,0 312.5,0 312.5,0 437.5,0 437.5,0 443.5,0 449.5,-6 449.5,-12 449.5,-12 449.5,-41 449.5,-41 449.5,-47 443.5,-53 437.5,-53\"/>\n<text text-anchor=\"middle\" x=\"375\" y=\"-37.8\" font-family=\"calibri\" font-size=\"14.00\" fill=\"#000000\">gini = 0.0</text>\n<text text-anchor=\"middle\" x=\"375\" y=\"-22.8\" font-family=\"calibri\" font-size=\"14.00\" fill=\"#000000\">samples = 159</text>\n<text text-anchor=\"middle\" x=\"375\" y=\"-7.8\" font-family=\"calibri\" font-size=\"14.00\" fill=\"#000000\">value = [0, 159]</text>\n</g>\n<!-- 3&#45;&gt;5 -->\n<g id=\"edge5\" class=\"edge\">\n<title>3&#45;&gt;5</title>\n<path fill=\"none\" stroke=\"#000000\" d=\"M322.5576,-88.9777C330.1669,-79.9123 338.3939,-70.111 346.0253,-61.0192\"/>\n<polygon fill=\"#000000\" stroke=\"#000000\" points=\"348.7995,-63.1581 352.5479,-53.2485 343.438,-58.6577 348.7995,-63.1581\"/>\n</g>\n</g>\n</svg>\n"
          },
          "metadata": {},
          "execution_count": 112
        }
      ]
    },
    {
      "cell_type": "markdown",
      "source": [
        "Predictions on test set:"
      ],
      "metadata": {
        "id": "o4CDuODtNEy2"
      }
    },
    {
      "cell_type": "code",
      "source": [
        "probs = dtc.predict_proba(X_test_c)\n",
        "y_pred_c = dtc.predict(X_test_c)\n",
        "\n",
        "acc_tree = dtc.score(X_test_c, y_test_c)\n",
        "print(f\"Accuracy with decision tree model: {acc_tree}\")\n",
        "\n",
        "confusion = metrics.confusion_matrix(y_test_c, y_pred_c)\n",
        "print(f\"Confusion matrix with decision tree model: {confusion}\")"
      ],
      "metadata": {
        "colab": {
          "base_uri": "https://localhost:8080/"
        },
        "id": "lMKliuT7NIxs",
        "outputId": "2b56179d-2103-4356-fae6-b3cca1a3cdd8"
      },
      "execution_count": 113,
      "outputs": [
        {
          "output_type": "stream",
          "name": "stdout",
          "text": [
            "Accuracy with decision tree model: 1.0\n",
            "Confusion matrix with decision tree model: [[42  0]\n",
            " [ 0 51]]\n"
          ]
        }
      ]
    },
    {
      "cell_type": "markdown",
      "source": [
        "### Decision Trees for regression (forecasting):"
      ],
      "metadata": {
        "id": "ve3jJq7UMJl6"
      }
    },
    {
      "cell_type": "code",
      "source": [
        "dtr = tree.DecisionTreeRegressor(criterion=\"squared_error\", max_depth=4, min_samples_split= 0.1,\n",
        "                                 min_samples_leaf = 10, random_state=123)\n",
        "dtr.fit(X_train, y_train)"
      ],
      "metadata": {
        "id": "sbrs3IwOsfm-",
        "colab": {
          "base_uri": "https://localhost:8080/"
        },
        "outputId": "2c928238-07bb-4581-bc56-264072966c70"
      },
      "execution_count": 118,
      "outputs": [
        {
          "output_type": "execute_result",
          "data": {
            "text/plain": [
              "DecisionTreeRegressor(max_depth=4, min_samples_leaf=10, min_samples_split=0.1,\n",
              "                      random_state=123)"
            ]
          },
          "metadata": {},
          "execution_count": 118
        }
      ]
    },
    {
      "cell_type": "code",
      "source": [
        "dot_data = tree.export_graphviz(dtr, out_file=None, feature_names=X_train.columns,\n",
        "                    node_ids= True, precision=2,   \n",
        "                    filled=True, rounded=True, fontname=\"calibri\")  \n",
        "\n",
        "\n",
        "graph = graphviz.Source(dot_data)\n",
        "\n",
        "import pydotplus\n",
        "pydot_graph = pydotplus.graph_from_dot_data(dot_data)\n",
        "pydot_graph.write_png('regression_tree.png')\n",
        "graph\n"
      ],
      "metadata": {
        "colab": {
          "base_uri": "https://localhost:8080/",
          "height": 777
        },
        "id": "WV9StG9fZoPd",
        "outputId": "c0be921f-3aad-4003-ce1d-64f9b5a6ef70"
      },
      "execution_count": 120,
      "outputs": [
        {
          "output_type": "execute_result",
          "data": {
            "text/plain": [
              "<graphviz.files.Source at 0x7f6bab959810>"
            ],
            "image/svg+xml": "<?xml version=\"1.0\" encoding=\"UTF-8\" standalone=\"no\"?>\n<!DOCTYPE svg PUBLIC \"-//W3C//DTD SVG 1.1//EN\"\n \"http://www.w3.org/Graphics/SVG/1.1/DTD/svg11.dtd\">\n<!-- Generated by graphviz version 2.40.1 (20161225.0304)\n -->\n<!-- Title: Tree Pages: 1 -->\n<svg width=\"1944pt\" height=\"552pt\"\n viewBox=\"0.00 0.00 1944.00 552.00\" xmlns=\"http://www.w3.org/2000/svg\" xmlns:xlink=\"http://www.w3.org/1999/xlink\">\n<g id=\"graph0\" class=\"graph\" transform=\"scale(1 1) rotate(0) translate(4 548)\">\n<title>Tree</title>\n<polygon fill=\"#ffffff\" stroke=\"transparent\" points=\"-4,4 -4,-548 1940,-548 1940,4 -4,4\"/>\n<!-- 0 -->\n<g id=\"node1\" class=\"node\">\n<title>0</title>\n<path fill=\"#eeae80\" stroke=\"#000000\" d=\"M1032,-544C1032,-544 718,-544 718,-544 712,-544 706,-538 706,-532 706,-532 706,-473 706,-473 706,-467 712,-461 718,-461 718,-461 1032,-461 1032,-461 1038,-461 1044,-467 1044,-473 1044,-473 1044,-532 1044,-532 1044,-538 1038,-544 1032,-544\"/>\n<text text-anchor=\"middle\" x=\"875\" y=\"-528.8\" font-family=\"calibri\" font-size=\"14.00\" fill=\"#000000\">node #0</text>\n<text text-anchor=\"middle\" x=\"875\" y=\"-513.8\" font-family=\"calibri\" font-size=\"14.00\" fill=\"#000000\">Income composition of resources &lt;= 0.56</text>\n<text text-anchor=\"middle\" x=\"875\" y=\"-498.8\" font-family=\"calibri\" font-size=\"14.00\" fill=\"#000000\">squared_error = 78.48</text>\n<text text-anchor=\"middle\" x=\"875\" y=\"-483.8\" font-family=\"calibri\" font-size=\"14.00\" fill=\"#000000\">samples = 1184</text>\n<text text-anchor=\"middle\" x=\"875\" y=\"-468.8\" font-family=\"calibri\" font-size=\"14.00\" fill=\"#000000\">value = 69.38</text>\n</g>\n<!-- 1 -->\n<g id=\"node2\" class=\"node\">\n<title>1</title>\n<path fill=\"#f6d2b9\" stroke=\"#000000\" d=\"M713,-425C713,-425 547,-425 547,-425 541,-425 535,-419 535,-413 535,-413 535,-354 535,-354 535,-348 541,-342 547,-342 547,-342 713,-342 713,-342 719,-342 725,-348 725,-354 725,-354 725,-413 725,-413 725,-419 719,-425 713,-425\"/>\n<text text-anchor=\"middle\" x=\"630\" y=\"-409.8\" font-family=\"calibri\" font-size=\"14.00\" fill=\"#000000\">node #1</text>\n<text text-anchor=\"middle\" x=\"630\" y=\"-394.8\" font-family=\"calibri\" font-size=\"14.00\" fill=\"#000000\">HIV/AIDS &lt;= 1.25</text>\n<text text-anchor=\"middle\" x=\"630\" y=\"-379.8\" font-family=\"calibri\" font-size=\"14.00\" fill=\"#000000\">squared_error = 44.86</text>\n<text text-anchor=\"middle\" x=\"630\" y=\"-364.8\" font-family=\"calibri\" font-size=\"14.00\" fill=\"#000000\">samples = 350</text>\n<text text-anchor=\"middle\" x=\"630\" y=\"-349.8\" font-family=\"calibri\" font-size=\"14.00\" fill=\"#000000\">value = 59.37</text>\n</g>\n<!-- 0&#45;&gt;1 -->\n<g id=\"edge1\" class=\"edge\">\n<title>0&#45;&gt;1</title>\n<path fill=\"none\" stroke=\"#000000\" d=\"M789.3109,-460.8796C768.4226,-450.7339 745.9602,-439.8235 724.6803,-429.4876\"/>\n<polygon fill=\"#000000\" stroke=\"#000000\" points=\"726.165,-426.3177 715.6407,-425.0969 723.1066,-432.6143 726.165,-426.3177\"/>\n<text text-anchor=\"middle\" x=\"723.8185\" y=\"-445.0216\" font-family=\"calibri\" font-size=\"14.00\" fill=\"#000000\">True</text>\n</g>\n<!-- 10 -->\n<g id=\"node11\" class=\"node\">\n<title>10</title>\n<path fill=\"#eb9f68\" stroke=\"#000000\" d=\"M1305,-425C1305,-425 999,-425 999,-425 993,-425 987,-419 987,-413 987,-413 987,-354 987,-354 987,-348 993,-342 999,-342 999,-342 1305,-342 1305,-342 1311,-342 1317,-348 1317,-354 1317,-354 1317,-413 1317,-413 1317,-419 1311,-425 1305,-425\"/>\n<text text-anchor=\"middle\" x=\"1152\" y=\"-409.8\" font-family=\"calibri\" font-size=\"14.00\" fill=\"#000000\">node #10</text>\n<text text-anchor=\"middle\" x=\"1152\" y=\"-394.8\" font-family=\"calibri\" font-size=\"14.00\" fill=\"#000000\">Income composition of resources &lt;= 0.8</text>\n<text text-anchor=\"middle\" x=\"1152\" y=\"-379.8\" font-family=\"calibri\" font-size=\"14.00\" fill=\"#000000\">squared_error = 32.82</text>\n<text text-anchor=\"middle\" x=\"1152\" y=\"-364.8\" font-family=\"calibri\" font-size=\"14.00\" fill=\"#000000\">samples = 834</text>\n<text text-anchor=\"middle\" x=\"1152\" y=\"-349.8\" font-family=\"calibri\" font-size=\"14.00\" fill=\"#000000\">value = 73.59</text>\n</g>\n<!-- 0&#45;&gt;10 -->\n<g id=\"edge10\" class=\"edge\">\n<title>0&#45;&gt;10</title>\n<path fill=\"none\" stroke=\"#000000\" d=\"M971.8812,-460.8796C995.814,-450.598 1021.5746,-439.5311 1045.9193,-429.0726\"/>\n<polygon fill=\"#000000\" stroke=\"#000000\" points=\"1047.3671,-432.26 1055.1735,-425.0969 1044.604,-425.8284 1047.3671,-432.26\"/>\n<text text-anchor=\"middle\" x=\"1045.909\" y=\"-444.6169\" font-family=\"calibri\" font-size=\"14.00\" fill=\"#000000\">False</text>\n</g>\n<!-- 2 -->\n<g id=\"node3\" class=\"node\">\n<title>2</title>\n<path fill=\"#f2c29f\" stroke=\"#000000\" d=\"M398.5,-306C398.5,-306 207.5,-306 207.5,-306 201.5,-306 195.5,-300 195.5,-294 195.5,-294 195.5,-235 195.5,-235 195.5,-229 201.5,-223 207.5,-223 207.5,-223 398.5,-223 398.5,-223 404.5,-223 410.5,-229 410.5,-235 410.5,-235 410.5,-294 410.5,-294 410.5,-300 404.5,-306 398.5,-306\"/>\n<text text-anchor=\"middle\" x=\"303\" y=\"-290.8\" font-family=\"calibri\" font-size=\"14.00\" fill=\"#000000\">node #2</text>\n<text text-anchor=\"middle\" x=\"303\" y=\"-275.8\" font-family=\"calibri\" font-size=\"14.00\" fill=\"#000000\">Adult Mortality &lt;= 245.5</text>\n<text text-anchor=\"middle\" x=\"303\" y=\"-260.8\" font-family=\"calibri\" font-size=\"14.00\" fill=\"#000000\">squared_error = 19.52</text>\n<text text-anchor=\"middle\" x=\"303\" y=\"-245.8\" font-family=\"calibri\" font-size=\"14.00\" fill=\"#000000\">samples = 169</text>\n<text text-anchor=\"middle\" x=\"303\" y=\"-230.8\" font-family=\"calibri\" font-size=\"14.00\" fill=\"#000000\">value = 63.96</text>\n</g>\n<!-- 1&#45;&gt;2 -->\n<g id=\"edge2\" class=\"edge\">\n<title>1&#45;&gt;2</title>\n<path fill=\"none\" stroke=\"#000000\" d=\"M534.9788,-348.9204C499.0813,-335.8568 457.8085,-320.837 420.1201,-307.1217\"/>\n<polygon fill=\"#000000\" stroke=\"#000000\" points=\"421.215,-303.7956 410.621,-303.6648 418.8211,-310.3736 421.215,-303.7956\"/>\n</g>\n<!-- 5 -->\n<g id=\"node6\" class=\"node\">\n<title>5</title>\n<path fill=\"#f9e2d2\" stroke=\"#000000\" d=\"M713,-306C713,-306 547,-306 547,-306 541,-306 535,-300 535,-294 535,-294 535,-235 535,-235 535,-229 541,-223 547,-223 547,-223 713,-223 713,-223 719,-223 725,-229 725,-235 725,-235 725,-294 725,-294 725,-300 719,-306 713,-306\"/>\n<text text-anchor=\"middle\" x=\"630\" y=\"-290.8\" font-family=\"calibri\" font-size=\"14.00\" fill=\"#000000\">node #5</text>\n<text text-anchor=\"middle\" x=\"630\" y=\"-275.8\" font-family=\"calibri\" font-size=\"14.00\" fill=\"#000000\">HIV/AIDS &lt;= 16.25</text>\n<text text-anchor=\"middle\" x=\"630\" y=\"-260.8\" font-family=\"calibri\" font-size=\"14.00\" fill=\"#000000\">squared_error = 30.47</text>\n<text text-anchor=\"middle\" x=\"630\" y=\"-245.8\" font-family=\"calibri\" font-size=\"14.00\" fill=\"#000000\">samples = 181</text>\n<text text-anchor=\"middle\" x=\"630\" y=\"-230.8\" font-family=\"calibri\" font-size=\"14.00\" fill=\"#000000\">value = 55.08</text>\n</g>\n<!-- 1&#45;&gt;5 -->\n<g id=\"edge5\" class=\"edge\">\n<title>1&#45;&gt;5</title>\n<path fill=\"none\" stroke=\"#000000\" d=\"M630,-341.8796C630,-333.6838 630,-324.9891 630,-316.5013\"/>\n<polygon fill=\"#000000\" stroke=\"#000000\" points=\"633.5001,-316.298 630,-306.2981 626.5001,-316.2981 633.5001,-316.298\"/>\n</g>\n<!-- 3 -->\n<g id=\"node4\" class=\"node\">\n<title>3</title>\n<path fill=\"#f1ba93\" stroke=\"#000000\" d=\"M178,-179.5C178,-179.5 12,-179.5 12,-179.5 6,-179.5 0,-173.5 0,-167.5 0,-167.5 0,-123.5 0,-123.5 0,-117.5 6,-111.5 12,-111.5 12,-111.5 178,-111.5 178,-111.5 184,-111.5 190,-117.5 190,-123.5 190,-123.5 190,-167.5 190,-167.5 190,-173.5 184,-179.5 178,-179.5\"/>\n<text text-anchor=\"middle\" x=\"95\" y=\"-164.3\" font-family=\"calibri\" font-size=\"14.00\" fill=\"#000000\">node #3</text>\n<text text-anchor=\"middle\" x=\"95\" y=\"-149.3\" font-family=\"calibri\" font-size=\"14.00\" fill=\"#000000\">squared_error = 11.12</text>\n<text text-anchor=\"middle\" x=\"95\" y=\"-134.3\" font-family=\"calibri\" font-size=\"14.00\" fill=\"#000000\">samples = 110</text>\n<text text-anchor=\"middle\" x=\"95\" y=\"-119.3\" font-family=\"calibri\" font-size=\"14.00\" fill=\"#000000\">value = 66.03</text>\n</g>\n<!-- 2&#45;&gt;3 -->\n<g id=\"edge3\" class=\"edge\">\n<title>2&#45;&gt;3</title>\n<path fill=\"none\" stroke=\"#000000\" d=\"M230.2517,-222.8796C208.5262,-210.4501 184.7948,-196.873 163.3609,-184.6103\"/>\n<polygon fill=\"#000000\" stroke=\"#000000\" points=\"165.0616,-181.551 154.6436,-179.623 161.5854,-187.6269 165.0616,-181.551\"/>\n</g>\n<!-- 4 -->\n<g id=\"node5\" class=\"node\">\n<title>4</title>\n<path fill=\"#f5d0b5\" stroke=\"#000000\" d=\"M386,-179.5C386,-179.5 220,-179.5 220,-179.5 214,-179.5 208,-173.5 208,-167.5 208,-167.5 208,-123.5 208,-123.5 208,-117.5 214,-111.5 220,-111.5 220,-111.5 386,-111.5 386,-111.5 392,-111.5 398,-117.5 398,-123.5 398,-123.5 398,-167.5 398,-167.5 398,-173.5 392,-179.5 386,-179.5\"/>\n<text text-anchor=\"middle\" x=\"303\" y=\"-164.3\" font-family=\"calibri\" font-size=\"14.00\" fill=\"#000000\">node #4</text>\n<text text-anchor=\"middle\" x=\"303\" y=\"-149.3\" font-family=\"calibri\" font-size=\"14.00\" fill=\"#000000\">squared_error = 12.15</text>\n<text text-anchor=\"middle\" x=\"303\" y=\"-134.3\" font-family=\"calibri\" font-size=\"14.00\" fill=\"#000000\">samples = 59</text>\n<text text-anchor=\"middle\" x=\"303\" y=\"-119.3\" font-family=\"calibri\" font-size=\"14.00\" fill=\"#000000\">value = 60.09</text>\n</g>\n<!-- 2&#45;&gt;4 -->\n<g id=\"edge4\" class=\"edge\">\n<title>2&#45;&gt;4</title>\n<path fill=\"none\" stroke=\"#000000\" d=\"M303,-222.8796C303,-212.2134 303,-200.7021 303,-189.9015\"/>\n<polygon fill=\"#000000\" stroke=\"#000000\" points=\"306.5001,-189.8149 303,-179.8149 299.5001,-189.815 306.5001,-189.8149\"/>\n</g>\n<!-- 6 -->\n<g id=\"node7\" class=\"node\">\n<title>6</title>\n<path fill=\"#f8ddc9\" stroke=\"#000000\" d=\"M619.5,-187C619.5,-187 428.5,-187 428.5,-187 422.5,-187 416.5,-181 416.5,-175 416.5,-175 416.5,-116 416.5,-116 416.5,-110 422.5,-104 428.5,-104 428.5,-104 619.5,-104 619.5,-104 625.5,-104 631.5,-110 631.5,-116 631.5,-116 631.5,-175 631.5,-175 631.5,-181 625.5,-187 619.5,-187\"/>\n<text text-anchor=\"middle\" x=\"524\" y=\"-171.8\" font-family=\"calibri\" font-size=\"14.00\" fill=\"#000000\">node #6</text>\n<text text-anchor=\"middle\" x=\"524\" y=\"-156.8\" font-family=\"calibri\" font-size=\"14.00\" fill=\"#000000\">Adult Mortality &lt;= 351.0</text>\n<text text-anchor=\"middle\" x=\"524\" y=\"-141.8\" font-family=\"calibri\" font-size=\"14.00\" fill=\"#000000\">squared_error = 21.19</text>\n<text text-anchor=\"middle\" x=\"524\" y=\"-126.8\" font-family=\"calibri\" font-size=\"14.00\" fill=\"#000000\">samples = 153</text>\n<text text-anchor=\"middle\" x=\"524\" y=\"-111.8\" font-family=\"calibri\" font-size=\"14.00\" fill=\"#000000\">value = 56.54</text>\n</g>\n<!-- 5&#45;&gt;6 -->\n<g id=\"edge6\" class=\"edge\">\n<title>5&#45;&gt;6</title>\n<path fill=\"none\" stroke=\"#000000\" d=\"M592.9263,-222.8796C584.9039,-213.8733 576.3448,-204.2644 568.0833,-194.9897\"/>\n<polygon fill=\"#000000\" stroke=\"#000000\" points=\"570.4969,-192.4373 561.2319,-187.2981 565.2698,-197.0933 570.4969,-192.4373\"/>\n</g>\n<!-- 9 -->\n<g id=\"node10\" class=\"node\">\n<title>9</title>\n<path fill=\"#ffffff\" stroke=\"#000000\" d=\"M820,-179.5C820,-179.5 662,-179.5 662,-179.5 656,-179.5 650,-173.5 650,-167.5 650,-167.5 650,-123.5 650,-123.5 650,-117.5 656,-111.5 662,-111.5 662,-111.5 820,-111.5 820,-111.5 826,-111.5 832,-117.5 832,-123.5 832,-123.5 832,-167.5 832,-167.5 832,-173.5 826,-179.5 820,-179.5\"/>\n<text text-anchor=\"middle\" x=\"741\" y=\"-164.3\" font-family=\"calibri\" font-size=\"14.00\" fill=\"#000000\">node #9</text>\n<text text-anchor=\"middle\" x=\"741\" y=\"-149.3\" font-family=\"calibri\" font-size=\"14.00\" fill=\"#000000\">squared_error = 6.15</text>\n<text text-anchor=\"middle\" x=\"741\" y=\"-134.3\" font-family=\"calibri\" font-size=\"14.00\" fill=\"#000000\">samples = 28</text>\n<text text-anchor=\"middle\" x=\"741\" y=\"-119.3\" font-family=\"calibri\" font-size=\"14.00\" fill=\"#000000\">value = 47.12</text>\n</g>\n<!-- 5&#45;&gt;9 -->\n<g id=\"edge9\" class=\"edge\">\n<title>5&#45;&gt;9</title>\n<path fill=\"none\" stroke=\"#000000\" d=\"M668.8224,-222.8796C679.5921,-211.3337 691.2854,-198.7976 702.0617,-187.2446\"/>\n<polygon fill=\"#000000\" stroke=\"#000000\" points=\"704.7303,-189.5149 708.992,-179.8149 699.6115,-184.7402 704.7303,-189.5149\"/>\n</g>\n<!-- 7 -->\n<g id=\"node8\" class=\"node\">\n<title>7</title>\n<path fill=\"#f6d5bd\" stroke=\"#000000\" d=\"M505,-68C505,-68 339,-68 339,-68 333,-68 327,-62 327,-56 327,-56 327,-12 327,-12 327,-6 333,0 339,0 339,0 505,0 505,0 511,0 517,-6 517,-12 517,-12 517,-56 517,-56 517,-62 511,-68 505,-68\"/>\n<text text-anchor=\"middle\" x=\"422\" y=\"-52.8\" font-family=\"calibri\" font-size=\"14.00\" fill=\"#000000\">node #7</text>\n<text text-anchor=\"middle\" x=\"422\" y=\"-37.8\" font-family=\"calibri\" font-size=\"14.00\" fill=\"#000000\">squared_error = 17.16</text>\n<text text-anchor=\"middle\" x=\"422\" y=\"-22.8\" font-family=\"calibri\" font-size=\"14.00\" fill=\"#000000\">samples = 92</text>\n<text text-anchor=\"middle\" x=\"422\" y=\"-7.8\" font-family=\"calibri\" font-size=\"14.00\" fill=\"#000000\">value = 58.62</text>\n</g>\n<!-- 6&#45;&gt;7 -->\n<g id=\"edge7\" class=\"edge\">\n<title>6&#45;&gt;7</title>\n<path fill=\"none\" stroke=\"#000000\" d=\"M486.019,-103.9815C477.6114,-94.7908 468.6979,-85.0472 460.2785,-75.8436\"/>\n<polygon fill=\"#000000\" stroke=\"#000000\" points=\"462.6766,-73.2797 453.3443,-68.2637 457.5117,-78.0045 462.6766,-73.2797\"/>\n</g>\n<!-- 8 -->\n<g id=\"node9\" class=\"node\">\n<title>8</title>\n<path fill=\"#fae8db\" stroke=\"#000000\" d=\"M705,-68C705,-68 547,-68 547,-68 541,-68 535,-62 535,-56 535,-56 535,-12 535,-12 535,-6 541,0 547,0 547,0 705,0 705,0 711,0 717,-6 717,-12 717,-12 717,-56 717,-56 717,-62 711,-68 705,-68\"/>\n<text text-anchor=\"middle\" x=\"626\" y=\"-52.8\" font-family=\"calibri\" font-size=\"14.00\" fill=\"#000000\">node #8</text>\n<text text-anchor=\"middle\" x=\"626\" y=\"-37.8\" font-family=\"calibri\" font-size=\"14.00\" fill=\"#000000\">squared_error = 10.9</text>\n<text text-anchor=\"middle\" x=\"626\" y=\"-22.8\" font-family=\"calibri\" font-size=\"14.00\" fill=\"#000000\">samples = 61</text>\n<text text-anchor=\"middle\" x=\"626\" y=\"-7.8\" font-family=\"calibri\" font-size=\"14.00\" fill=\"#000000\">value = 53.4</text>\n</g>\n<!-- 6&#45;&gt;8 -->\n<g id=\"edge8\" class=\"edge\">\n<title>6&#45;&gt;8</title>\n<path fill=\"none\" stroke=\"#000000\" d=\"M561.981,-103.9815C570.3886,-94.7908 579.3021,-85.0472 587.7215,-75.8436\"/>\n<polygon fill=\"#000000\" stroke=\"#000000\" points=\"590.4883,-78.0045 594.6557,-68.2637 585.3234,-73.2797 590.4883,-78.0045\"/>\n</g>\n<!-- 11 -->\n<g id=\"node12\" class=\"node\">\n<title>11</title>\n<path fill=\"#eda674\" stroke=\"#000000\" d=\"M1247.5,-306C1247.5,-306 1056.5,-306 1056.5,-306 1050.5,-306 1044.5,-300 1044.5,-294 1044.5,-294 1044.5,-235 1044.5,-235 1044.5,-229 1050.5,-223 1056.5,-223 1056.5,-223 1247.5,-223 1247.5,-223 1253.5,-223 1259.5,-229 1259.5,-235 1259.5,-235 1259.5,-294 1259.5,-294 1259.5,-300 1253.5,-306 1247.5,-306\"/>\n<text text-anchor=\"middle\" x=\"1152\" y=\"-290.8\" font-family=\"calibri\" font-size=\"14.00\" fill=\"#000000\">node #11</text>\n<text text-anchor=\"middle\" x=\"1152\" y=\"-275.8\" font-family=\"calibri\" font-size=\"14.00\" fill=\"#000000\">Adult Mortality &lt;= 216.5</text>\n<text text-anchor=\"middle\" x=\"1152\" y=\"-260.8\" font-family=\"calibri\" font-size=\"14.00\" fill=\"#000000\">squared_error = 20.96</text>\n<text text-anchor=\"middle\" x=\"1152\" y=\"-245.8\" font-family=\"calibri\" font-size=\"14.00\" fill=\"#000000\">samples = 626</text>\n<text text-anchor=\"middle\" x=\"1152\" y=\"-230.8\" font-family=\"calibri\" font-size=\"14.00\" fill=\"#000000\">value = 71.48</text>\n</g>\n<!-- 10&#45;&gt;11 -->\n<g id=\"edge11\" class=\"edge\">\n<title>10&#45;&gt;11</title>\n<path fill=\"none\" stroke=\"#000000\" d=\"M1152,-341.8796C1152,-333.6838 1152,-324.9891 1152,-316.5013\"/>\n<polygon fill=\"#000000\" stroke=\"#000000\" points=\"1155.5001,-316.298 1152,-306.2981 1148.5001,-316.2981 1155.5001,-316.298\"/>\n</g>\n<!-- 16 -->\n<g id=\"node17\" class=\"node\">\n<title>16</title>\n<path fill=\"#e68844\" stroke=\"#000000\" d=\"M1683,-306C1683,-306 1451,-306 1451,-306 1445,-306 1439,-300 1439,-294 1439,-294 1439,-235 1439,-235 1439,-229 1445,-223 1451,-223 1451,-223 1683,-223 1683,-223 1689,-223 1695,-229 1695,-235 1695,-235 1695,-294 1695,-294 1695,-300 1689,-306 1683,-306\"/>\n<text text-anchor=\"middle\" x=\"1567\" y=\"-290.8\" font-family=\"calibri\" font-size=\"14.00\" fill=\"#000000\">node #16</text>\n<text text-anchor=\"middle\" x=\"1567\" y=\"-275.8\" font-family=\"calibri\" font-size=\"14.00\" fill=\"#000000\"> thinness &#160;1&#45;19 years &lt;= 1.85</text>\n<text text-anchor=\"middle\" x=\"1567\" y=\"-260.8\" font-family=\"calibri\" font-size=\"14.00\" fill=\"#000000\">squared_error = 15.04</text>\n<text text-anchor=\"middle\" x=\"1567\" y=\"-245.8\" font-family=\"calibri\" font-size=\"14.00\" fill=\"#000000\">samples = 208</text>\n<text text-anchor=\"middle\" x=\"1567\" y=\"-230.8\" font-family=\"calibri\" font-size=\"14.00\" fill=\"#000000\">value = 79.92</text>\n</g>\n<!-- 10&#45;&gt;16 -->\n<g id=\"edge16\" class=\"edge\">\n<title>10&#45;&gt;16</title>\n<path fill=\"none\" stroke=\"#000000\" d=\"M1296.8555,-341.9631C1339.6998,-329.6777 1386.476,-316.2647 1428.8828,-304.1047\"/>\n<polygon fill=\"#000000\" stroke=\"#000000\" points=\"1430.0614,-307.4079 1438.7092,-301.287 1428.1318,-300.679 1430.0614,-307.4079\"/>\n</g>\n<!-- 12 -->\n<g id=\"node13\" class=\"node\">\n<title>12</title>\n<path fill=\"#eca16c\" stroke=\"#000000\" d=\"M1168,-187C1168,-187 862,-187 862,-187 856,-187 850,-181 850,-175 850,-175 850,-116 850,-116 850,-110 856,-104 862,-104 862,-104 1168,-104 1168,-104 1174,-104 1180,-110 1180,-116 1180,-116 1180,-175 1180,-175 1180,-181 1174,-187 1168,-187\"/>\n<text text-anchor=\"middle\" x=\"1015\" y=\"-171.8\" font-family=\"calibri\" font-size=\"14.00\" fill=\"#000000\">node #12</text>\n<text text-anchor=\"middle\" x=\"1015\" y=\"-156.8\" font-family=\"calibri\" font-size=\"14.00\" fill=\"#000000\">Income composition of resources &lt;= 0.7</text>\n<text text-anchor=\"middle\" x=\"1015\" y=\"-141.8\" font-family=\"calibri\" font-size=\"14.00\" fill=\"#000000\">squared_error = 9.26</text>\n<text text-anchor=\"middle\" x=\"1015\" y=\"-126.8\" font-family=\"calibri\" font-size=\"14.00\" fill=\"#000000\">samples = 516</text>\n<text text-anchor=\"middle\" x=\"1015\" y=\"-111.8\" font-family=\"calibri\" font-size=\"14.00\" fill=\"#000000\">value = 72.89</text>\n</g>\n<!-- 11&#45;&gt;12 -->\n<g id=\"edge12\" class=\"edge\">\n<title>11&#45;&gt;12</title>\n<path fill=\"none\" stroke=\"#000000\" d=\"M1104.084,-222.8796C1093.3007,-213.513 1081.7671,-203.4948 1070.6961,-193.8784\"/>\n<polygon fill=\"#000000\" stroke=\"#000000\" points=\"1072.9653,-191.2134 1063.1205,-187.2981 1068.3749,-196.4982 1072.9653,-191.2134\"/>\n</g>\n<!-- 15 -->\n<g id=\"node16\" class=\"node\">\n<title>15</title>\n<path fill=\"#f2be9a\" stroke=\"#000000\" d=\"M1368,-179.5C1368,-179.5 1210,-179.5 1210,-179.5 1204,-179.5 1198,-173.5 1198,-167.5 1198,-167.5 1198,-123.5 1198,-123.5 1198,-117.5 1204,-111.5 1210,-111.5 1210,-111.5 1368,-111.5 1368,-111.5 1374,-111.5 1380,-117.5 1380,-123.5 1380,-123.5 1380,-167.5 1380,-167.5 1380,-173.5 1374,-179.5 1368,-179.5\"/>\n<text text-anchor=\"middle\" x=\"1289\" y=\"-164.3\" font-family=\"calibri\" font-size=\"14.00\" fill=\"#000000\">node #15</text>\n<text text-anchor=\"middle\" x=\"1289\" y=\"-149.3\" font-family=\"calibri\" font-size=\"14.00\" fill=\"#000000\">squared_error = 22.9</text>\n<text text-anchor=\"middle\" x=\"1289\" y=\"-134.3\" font-family=\"calibri\" font-size=\"14.00\" fill=\"#000000\">samples = 110</text>\n<text text-anchor=\"middle\" x=\"1289\" y=\"-119.3\" font-family=\"calibri\" font-size=\"14.00\" fill=\"#000000\">value = 64.88</text>\n</g>\n<!-- 11&#45;&gt;15 -->\n<g id=\"edge15\" class=\"edge\">\n<title>11&#45;&gt;15</title>\n<path fill=\"none\" stroke=\"#000000\" d=\"M1199.916,-222.8796C1213.4615,-211.1138 1228.1908,-198.3197 1241.6998,-186.5855\"/>\n<polygon fill=\"#000000\" stroke=\"#000000\" points=\"1244.2401,-189.015 1249.4946,-179.8149 1239.6497,-183.7303 1244.2401,-189.015\"/>\n</g>\n<!-- 13 -->\n<g id=\"node14\" class=\"node\">\n<title>13</title>\n<path fill=\"#eda673\" stroke=\"#000000\" d=\"M1060,-68C1060,-68 902,-68 902,-68 896,-68 890,-62 890,-56 890,-56 890,-12 890,-12 890,-6 896,0 902,0 902,0 1060,0 1060,0 1066,0 1072,-6 1072,-12 1072,-12 1072,-56 1072,-56 1072,-62 1066,-68 1060,-68\"/>\n<text text-anchor=\"middle\" x=\"981\" y=\"-52.8\" font-family=\"calibri\" font-size=\"14.00\" fill=\"#000000\">node #13</text>\n<text text-anchor=\"middle\" x=\"981\" y=\"-37.8\" font-family=\"calibri\" font-size=\"14.00\" fill=\"#000000\">squared_error = 9.76</text>\n<text text-anchor=\"middle\" x=\"981\" y=\"-22.8\" font-family=\"calibri\" font-size=\"14.00\" fill=\"#000000\">samples = 261</text>\n<text text-anchor=\"middle\" x=\"981\" y=\"-7.8\" font-family=\"calibri\" font-size=\"14.00\" fill=\"#000000\">value = 71.63</text>\n</g>\n<!-- 12&#45;&gt;13 -->\n<g id=\"edge13\" class=\"edge\">\n<title>12&#45;&gt;13</title>\n<path fill=\"none\" stroke=\"#000000\" d=\"M1002.3397,-103.9815C999.7613,-95.5261 997.0403,-86.6026 994.436,-78.0623\"/>\n<polygon fill=\"#000000\" stroke=\"#000000\" points=\"997.7127,-76.808 991.4481,-68.2637 991.0171,-78.8497 997.7127,-76.808\"/>\n</g>\n<!-- 14 -->\n<g id=\"node15\" class=\"node\">\n<title>14</title>\n<path fill=\"#eb9d64\" stroke=\"#000000\" d=\"M1260,-68C1260,-68 1102,-68 1102,-68 1096,-68 1090,-62 1090,-56 1090,-56 1090,-12 1090,-12 1090,-6 1096,0 1102,0 1102,0 1260,0 1260,0 1266,0 1272,-6 1272,-12 1272,-12 1272,-56 1272,-56 1272,-62 1266,-68 1260,-68\"/>\n<text text-anchor=\"middle\" x=\"1181\" y=\"-52.8\" font-family=\"calibri\" font-size=\"14.00\" fill=\"#000000\">node #14</text>\n<text text-anchor=\"middle\" x=\"1181\" y=\"-37.8\" font-family=\"calibri\" font-size=\"14.00\" fill=\"#000000\">squared_error = 5.48</text>\n<text text-anchor=\"middle\" x=\"1181\" y=\"-22.8\" font-family=\"calibri\" font-size=\"14.00\" fill=\"#000000\">samples = 255</text>\n<text text-anchor=\"middle\" x=\"1181\" y=\"-7.8\" font-family=\"calibri\" font-size=\"14.00\" fill=\"#000000\">value = 74.18</text>\n</g>\n<!-- 12&#45;&gt;14 -->\n<g id=\"edge14\" class=\"edge\">\n<title>12&#45;&gt;14</title>\n<path fill=\"none\" stroke=\"#000000\" d=\"M1076.8123,-103.9815C1091.5301,-94.0957 1107.2005,-83.5701 1121.7981,-73.7651\"/>\n<polygon fill=\"#000000\" stroke=\"#000000\" points=\"1123.904,-76.5669 1130.2537,-68.0856 1120.0009,-70.7561 1123.904,-76.5669\"/>\n</g>\n<!-- 17 -->\n<g id=\"node18\" class=\"node\">\n<title>17</title>\n<path fill=\"#e5833d\" stroke=\"#000000\" d=\"M1724,-187C1724,-187 1410,-187 1410,-187 1404,-187 1398,-181 1398,-175 1398,-175 1398,-116 1398,-116 1398,-110 1404,-104 1410,-104 1410,-104 1724,-104 1724,-104 1730,-104 1736,-110 1736,-116 1736,-116 1736,-175 1736,-175 1736,-181 1730,-187 1724,-187\"/>\n<text text-anchor=\"middle\" x=\"1567\" y=\"-171.8\" font-family=\"calibri\" font-size=\"14.00\" fill=\"#000000\">node #17</text>\n<text text-anchor=\"middle\" x=\"1567\" y=\"-156.8\" font-family=\"calibri\" font-size=\"14.00\" fill=\"#000000\">Income composition of resources &lt;= 0.83</text>\n<text text-anchor=\"middle\" x=\"1567\" y=\"-141.8\" font-family=\"calibri\" font-size=\"14.00\" fill=\"#000000\">squared_error = 9.3</text>\n<text text-anchor=\"middle\" x=\"1567\" y=\"-126.8\" font-family=\"calibri\" font-size=\"14.00\" fill=\"#000000\">samples = 171</text>\n<text text-anchor=\"middle\" x=\"1567\" y=\"-111.8\" font-family=\"calibri\" font-size=\"14.00\" fill=\"#000000\">value = 81.13</text>\n</g>\n<!-- 16&#45;&gt;17 -->\n<g id=\"edge17\" class=\"edge\">\n<title>16&#45;&gt;17</title>\n<path fill=\"none\" stroke=\"#000000\" d=\"M1567,-222.8796C1567,-214.6838 1567,-205.9891 1567,-197.5013\"/>\n<polygon fill=\"#000000\" stroke=\"#000000\" points=\"1570.5001,-197.298 1567,-187.2981 1563.5001,-197.2981 1570.5001,-197.298\"/>\n</g>\n<!-- 20 -->\n<g id=\"node21\" class=\"node\">\n<title>20</title>\n<path fill=\"#eb9c64\" stroke=\"#000000\" d=\"M1924,-179.5C1924,-179.5 1766,-179.5 1766,-179.5 1760,-179.5 1754,-173.5 1754,-167.5 1754,-167.5 1754,-123.5 1754,-123.5 1754,-117.5 1760,-111.5 1766,-111.5 1766,-111.5 1924,-111.5 1924,-111.5 1930,-111.5 1936,-117.5 1936,-123.5 1936,-123.5 1936,-167.5 1936,-167.5 1936,-173.5 1930,-179.5 1924,-179.5\"/>\n<text text-anchor=\"middle\" x=\"1845\" y=\"-164.3\" font-family=\"calibri\" font-size=\"14.00\" fill=\"#000000\">node #20</text>\n<text text-anchor=\"middle\" x=\"1845\" y=\"-149.3\" font-family=\"calibri\" font-size=\"14.00\" fill=\"#000000\">squared_error = 3.44</text>\n<text text-anchor=\"middle\" x=\"1845\" y=\"-134.3\" font-family=\"calibri\" font-size=\"14.00\" fill=\"#000000\">samples = 37</text>\n<text text-anchor=\"middle\" x=\"1845\" y=\"-119.3\" font-family=\"calibri\" font-size=\"14.00\" fill=\"#000000\">value = 74.32</text>\n</g>\n<!-- 16&#45;&gt;20 -->\n<g id=\"edge20\" class=\"edge\">\n<title>16&#45;&gt;20</title>\n<path fill=\"none\" stroke=\"#000000\" d=\"M1664.2309,-222.8796C1694.0422,-210.1186 1726.6793,-196.1481 1755.9182,-183.6322\"/>\n<polygon fill=\"#000000\" stroke=\"#000000\" points=\"1757.4682,-186.7759 1765.284,-179.623 1754.7135,-180.3407 1757.4682,-186.7759\"/>\n</g>\n<!-- 18 -->\n<g id=\"node19\" class=\"node\">\n<title>18</title>\n<path fill=\"#e78d4c\" stroke=\"#000000\" d=\"M1479,-68C1479,-68 1321,-68 1321,-68 1315,-68 1309,-62 1309,-56 1309,-56 1309,-12 1309,-12 1309,-6 1315,0 1321,0 1321,0 1479,0 1479,0 1485,0 1491,-6 1491,-12 1491,-12 1491,-56 1491,-56 1491,-62 1485,-68 1479,-68\"/>\n<text text-anchor=\"middle\" x=\"1400\" y=\"-52.8\" font-family=\"calibri\" font-size=\"14.00\" fill=\"#000000\">node #18</text>\n<text text-anchor=\"middle\" x=\"1400\" y=\"-37.8\" font-family=\"calibri\" font-size=\"14.00\" fill=\"#000000\">squared_error = 3.61</text>\n<text text-anchor=\"middle\" x=\"1400\" y=\"-22.8\" font-family=\"calibri\" font-size=\"14.00\" fill=\"#000000\">samples = 34</text>\n<text text-anchor=\"middle\" x=\"1400\" y=\"-7.8\" font-family=\"calibri\" font-size=\"14.00\" fill=\"#000000\">value = 78.49</text>\n</g>\n<!-- 17&#45;&gt;18 -->\n<g id=\"edge18\" class=\"edge\">\n<title>17&#45;&gt;18</title>\n<path fill=\"none\" stroke=\"#000000\" d=\"M1504.8154,-103.9815C1490.0089,-94.0957 1474.2441,-83.5701 1459.5585,-73.7651\"/>\n<polygon fill=\"#000000\" stroke=\"#000000\" points=\"1461.3122,-70.7276 1451.052,-68.0856 1457.4252,-76.5493 1461.3122,-70.7276\"/>\n</g>\n<!-- 19 -->\n<g id=\"node20\" class=\"node\">\n<title>19</title>\n<path fill=\"#e58139\" stroke=\"#000000\" d=\"M1679,-68C1679,-68 1521,-68 1521,-68 1515,-68 1509,-62 1509,-56 1509,-56 1509,-12 1509,-12 1509,-6 1515,0 1521,0 1521,0 1679,0 1679,0 1685,0 1691,-6 1691,-12 1691,-12 1691,-56 1691,-56 1691,-62 1685,-68 1679,-68\"/>\n<text text-anchor=\"middle\" x=\"1600\" y=\"-52.8\" font-family=\"calibri\" font-size=\"14.00\" fill=\"#000000\">node #19</text>\n<text text-anchor=\"middle\" x=\"1600\" y=\"-37.8\" font-family=\"calibri\" font-size=\"14.00\" fill=\"#000000\">squared_error = 8.54</text>\n<text text-anchor=\"middle\" x=\"1600\" y=\"-22.8\" font-family=\"calibri\" font-size=\"14.00\" fill=\"#000000\">samples = 137</text>\n<text text-anchor=\"middle\" x=\"1600\" y=\"-7.8\" font-family=\"calibri\" font-size=\"14.00\" fill=\"#000000\">value = 81.79</text>\n</g>\n<!-- 17&#45;&gt;19 -->\n<g id=\"edge19\" class=\"edge\">\n<title>17&#45;&gt;19</title>\n<path fill=\"none\" stroke=\"#000000\" d=\"M1579.288,-103.9815C1581.7905,-95.5261 1584.4315,-86.6026 1586.9591,-78.0623\"/>\n<polygon fill=\"#000000\" stroke=\"#000000\" points=\"1590.3773,-78.8458 1589.8592,-68.2637 1583.6651,-76.8592 1590.3773,-78.8458\"/>\n</g>\n</g>\n</svg>\n"
          },
          "metadata": {},
          "execution_count": 120
        }
      ]
    },
    {
      "cell_type": "code",
      "source": [
        "y_pred = dtr.predict(X_test)\n",
        "\n",
        "mse = metrics.mean_squared_error(y_pred, y_test)\n",
        "print(f\"MSE with decision tree model: {mse}\")\n",
        "\n",
        "mape = metrics.mean_absolute_percentage_error(y_test, y_pred)\n",
        "print(f\"MAPE with decision tree model: {mape}\")"
      ],
      "metadata": {
        "colab": {
          "base_uri": "https://localhost:8080/"
        },
        "id": "qrW7qffhZnr9",
        "outputId": "1f033694-99c9-4d50-8491-bdb87e1ffb6a"
      },
      "execution_count": 121,
      "outputs": [
        {
          "output_type": "stream",
          "name": "stdout",
          "text": [
            "MSE with decision tree model: 9.386691205184329\n",
            "MAPE with decision tree model: 0.03425118268107095\n"
          ]
        }
      ]
    }
  ]
}