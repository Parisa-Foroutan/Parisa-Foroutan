{
  "nbformat": 4,
  "nbformat_minor": 0,
  "metadata": {
    "colab": {
      "provenance": [],
      "collapsed_sections": [
        "4u-_2a62xvDA",
        "dDgISHnjx49Q"
      ],
      "authorship_tag": "ABX9TyNW4Ujs+hj9Bjnw2CEZT4T0"
    },
    "kernelspec": {
      "name": "python3",
      "display_name": "Python 3"
    },
    "language_info": {
      "name": "python"
    }
  },
  "cells": [
    {
      "cell_type": "markdown",
      "source": [
        "**Nonlinear models:**\n",
        "\n",
        "In this session mon-linear models such as Support Vector Machine, K-Nearest Neighbors, and Decision Tree models for Classification and Regression tasks will be presented. You can find the datasets here: [nasa.csv ](https://drive.google.com/file/d/1JPUOwwIuFbyIWPNyMCWj78S-CIuqb75d/view?usp=sharing) , and [life expectancy](https://drive.google.com/file/d/1JbIYKkp6N4C16ixcEe7zDQ536ksYr7Wr/view?usp=sharing).."
      ],
      "metadata": {
        "id": "4c9VfK0SZxur"
      }
    },
    {
      "cell_type": "markdown",
      "source": [
        "Import Libraries:"
      ],
      "metadata": {
        "id": "3N0b4yenR_W4"
      }
    },
    {
      "cell_type": "code",
      "source": [
        "import numpy as np\n",
        "import pandas as pd\n",
        "import matplotlib.pyplot as plt\n",
        "\n",
        "from sklearn import metrics\n",
        "from sklearn.model_selection import train_test_split"
      ],
      "metadata": {
        "id": "UHj3oiJg3cI0"
      },
      "execution_count": null,
      "outputs": []
    },
    {
      "cell_type": "code",
      "source": [
        "Forecasting_data = pd.read_csv(\"/content/life_dexpectency.csv\")\n",
        "Forecasting_data.dropna(inplace=True)\n",
        "\n",
        "X = Forecasting_data.iloc[:, 4:]\n",
        "y = Forecasting_data.iloc[:, 3]\n",
        "X_train, X_test, y_train, y_test = train_test_split(X, y, test_size = 0.25, random_state = 123)\n",
        "\n",
        "X_train.head()"
      ],
      "metadata": {
        "colab": {
          "base_uri": "https://localhost:8080/",
          "height": 278
        },
        "id": "EhueGONXSBQL",
        "outputId": "3e9084ab-12bd-4695-81f3-654517a2982b"
      },
      "execution_count": null,
      "outputs": [
        {
          "output_type": "execute_result",
          "data": {
            "text/plain": [
              "      Adult Mortality  infant deaths  Alcohol  percentage expenditure  \\\n",
              "1438            217.0             60     4.21              155.476762   \n",
              "687             128.0              1     7.17              151.762567   \n",
              "711              95.0              3    12.91             4238.540035   \n",
              "401               9.0              2     7.39              209.487587   \n",
              "1201             17.0              0     0.01              726.029176   \n",
              "\n",
              "      Hepatitis B  Measles    BMI  under-five deaths   Polio  \\\n",
              "1438         88.0       341  21.6                  78   91.0   \n",
              "687          89.0        56   5.5                   1    9.0   \n",
              "711          84.0         0  55.1                   4   94.0   \n",
              "401          92.0         0  58.7                   2   95.0   \n",
              "1201         87.0         0  61.3                   0   91.0   \n",
              "\n",
              "      Total expenditure  Diphtheria   HIV/AIDS           GDP  Population  \\\n",
              "1438               4.50         91.0       0.1   1919.466195   9751864.0   \n",
              "687                8.99         92.0       0.1   3174.949100        43.0   \n",
              "711                1.10          9.0       0.1  23718.746700   8221158.0   \n",
              "401                6.35         96.0       0.1   1526.877460  16491687.0   \n",
              "1201               6.42         91.0       0.1   7378.345289     62181.0   \n",
              "\n",
              "       thinness  1-19 years   thinness 5-9 years  \\\n",
              "1438                    1.0                  9.7   \n",
              "687                     2.6                  2.8   \n",
              "711                     1.2                  1.2   \n",
              "401                     0.9                  0.9   \n",
              "1201                    1.8                  1.9   \n",
              "\n",
              "      Income composition of resources  Schooling  \n",
              "1438                            0.655       11.5  \n",
              "687                             0.735       13.1  \n",
              "711                             0.855       16.2  \n",
              "401                             0.797       14.8  \n",
              "1201                            0.803       15.1  "
            ],
            "text/html": [
              "\n",
              "  <div id=\"df-445cd33c-b172-48be-808f-fb057645526e\" class=\"colab-df-container\">\n",
              "    <div>\n",
              "<style scoped>\n",
              "    .dataframe tbody tr th:only-of-type {\n",
              "        vertical-align: middle;\n",
              "    }\n",
              "\n",
              "    .dataframe tbody tr th {\n",
              "        vertical-align: top;\n",
              "    }\n",
              "\n",
              "    .dataframe thead th {\n",
              "        text-align: right;\n",
              "    }\n",
              "</style>\n",
              "<table border=\"1\" class=\"dataframe\">\n",
              "  <thead>\n",
              "    <tr style=\"text-align: right;\">\n",
              "      <th></th>\n",
              "      <th>Adult Mortality</th>\n",
              "      <th>infant deaths</th>\n",
              "      <th>Alcohol</th>\n",
              "      <th>percentage expenditure</th>\n",
              "      <th>Hepatitis B</th>\n",
              "      <th>Measles</th>\n",
              "      <th>BMI</th>\n",
              "      <th>under-five deaths</th>\n",
              "      <th>Polio</th>\n",
              "      <th>Total expenditure</th>\n",
              "      <th>Diphtheria</th>\n",
              "      <th>HIV/AIDS</th>\n",
              "      <th>GDP</th>\n",
              "      <th>Population</th>\n",
              "      <th>thinness  1-19 years</th>\n",
              "      <th>thinness 5-9 years</th>\n",
              "      <th>Income composition of resources</th>\n",
              "      <th>Schooling</th>\n",
              "    </tr>\n",
              "  </thead>\n",
              "  <tbody>\n",
              "    <tr>\n",
              "      <th>1438</th>\n",
              "      <td>217.0</td>\n",
              "      <td>60</td>\n",
              "      <td>4.21</td>\n",
              "      <td>155.476762</td>\n",
              "      <td>88.0</td>\n",
              "      <td>341</td>\n",
              "      <td>21.6</td>\n",
              "      <td>78</td>\n",
              "      <td>91.0</td>\n",
              "      <td>4.50</td>\n",
              "      <td>91.0</td>\n",
              "      <td>0.1</td>\n",
              "      <td>1919.466195</td>\n",
              "      <td>9751864.0</td>\n",
              "      <td>1.0</td>\n",
              "      <td>9.7</td>\n",
              "      <td>0.655</td>\n",
              "      <td>11.5</td>\n",
              "    </tr>\n",
              "    <tr>\n",
              "      <th>687</th>\n",
              "      <td>128.0</td>\n",
              "      <td>1</td>\n",
              "      <td>7.17</td>\n",
              "      <td>151.762567</td>\n",
              "      <td>89.0</td>\n",
              "      <td>56</td>\n",
              "      <td>5.5</td>\n",
              "      <td>1</td>\n",
              "      <td>9.0</td>\n",
              "      <td>8.99</td>\n",
              "      <td>92.0</td>\n",
              "      <td>0.1</td>\n",
              "      <td>3174.949100</td>\n",
              "      <td>43.0</td>\n",
              "      <td>2.6</td>\n",
              "      <td>2.8</td>\n",
              "      <td>0.735</td>\n",
              "      <td>13.1</td>\n",
              "    </tr>\n",
              "    <tr>\n",
              "      <th>711</th>\n",
              "      <td>95.0</td>\n",
              "      <td>3</td>\n",
              "      <td>12.91</td>\n",
              "      <td>4238.540035</td>\n",
              "      <td>84.0</td>\n",
              "      <td>0</td>\n",
              "      <td>55.1</td>\n",
              "      <td>4</td>\n",
              "      <td>94.0</td>\n",
              "      <td>1.10</td>\n",
              "      <td>9.0</td>\n",
              "      <td>0.1</td>\n",
              "      <td>23718.746700</td>\n",
              "      <td>8221158.0</td>\n",
              "      <td>1.2</td>\n",
              "      <td>1.2</td>\n",
              "      <td>0.855</td>\n",
              "      <td>16.2</td>\n",
              "    </tr>\n",
              "    <tr>\n",
              "      <th>401</th>\n",
              "      <td>9.0</td>\n",
              "      <td>2</td>\n",
              "      <td>7.39</td>\n",
              "      <td>209.487587</td>\n",
              "      <td>92.0</td>\n",
              "      <td>0</td>\n",
              "      <td>58.7</td>\n",
              "      <td>2</td>\n",
              "      <td>95.0</td>\n",
              "      <td>6.35</td>\n",
              "      <td>96.0</td>\n",
              "      <td>0.1</td>\n",
              "      <td>1526.877460</td>\n",
              "      <td>16491687.0</td>\n",
              "      <td>0.9</td>\n",
              "      <td>0.9</td>\n",
              "      <td>0.797</td>\n",
              "      <td>14.8</td>\n",
              "    </tr>\n",
              "    <tr>\n",
              "      <th>1201</th>\n",
              "      <td>17.0</td>\n",
              "      <td>0</td>\n",
              "      <td>0.01</td>\n",
              "      <td>726.029176</td>\n",
              "      <td>87.0</td>\n",
              "      <td>0</td>\n",
              "      <td>61.3</td>\n",
              "      <td>0</td>\n",
              "      <td>91.0</td>\n",
              "      <td>6.42</td>\n",
              "      <td>91.0</td>\n",
              "      <td>0.1</td>\n",
              "      <td>7378.345289</td>\n",
              "      <td>62181.0</td>\n",
              "      <td>1.8</td>\n",
              "      <td>1.9</td>\n",
              "      <td>0.803</td>\n",
              "      <td>15.1</td>\n",
              "    </tr>\n",
              "  </tbody>\n",
              "</table>\n",
              "</div>\n",
              "    <div class=\"colab-df-buttons\">\n",
              "\n",
              "  <div class=\"colab-df-container\">\n",
              "    <button class=\"colab-df-convert\" onclick=\"convertToInteractive('df-445cd33c-b172-48be-808f-fb057645526e')\"\n",
              "            title=\"Convert this dataframe to an interactive table.\"\n",
              "            style=\"display:none;\">\n",
              "\n",
              "  <svg xmlns=\"http://www.w3.org/2000/svg\" height=\"24px\" viewBox=\"0 -960 960 960\">\n",
              "    <path d=\"M120-120v-720h720v720H120Zm60-500h600v-160H180v160Zm220 220h160v-160H400v160Zm0 220h160v-160H400v160ZM180-400h160v-160H180v160Zm440 0h160v-160H620v160ZM180-180h160v-160H180v160Zm440 0h160v-160H620v160Z\"/>\n",
              "  </svg>\n",
              "    </button>\n",
              "\n",
              "  <style>\n",
              "    .colab-df-container {\n",
              "      display:flex;\n",
              "      gap: 12px;\n",
              "    }\n",
              "\n",
              "    .colab-df-convert {\n",
              "      background-color: #E8F0FE;\n",
              "      border: none;\n",
              "      border-radius: 50%;\n",
              "      cursor: pointer;\n",
              "      display: none;\n",
              "      fill: #1967D2;\n",
              "      height: 32px;\n",
              "      padding: 0 0 0 0;\n",
              "      width: 32px;\n",
              "    }\n",
              "\n",
              "    .colab-df-convert:hover {\n",
              "      background-color: #E2EBFA;\n",
              "      box-shadow: 0px 1px 2px rgba(60, 64, 67, 0.3), 0px 1px 3px 1px rgba(60, 64, 67, 0.15);\n",
              "      fill: #174EA6;\n",
              "    }\n",
              "\n",
              "    .colab-df-buttons div {\n",
              "      margin-bottom: 4px;\n",
              "    }\n",
              "\n",
              "    [theme=dark] .colab-df-convert {\n",
              "      background-color: #3B4455;\n",
              "      fill: #D2E3FC;\n",
              "    }\n",
              "\n",
              "    [theme=dark] .colab-df-convert:hover {\n",
              "      background-color: #434B5C;\n",
              "      box-shadow: 0px 1px 3px 1px rgba(0, 0, 0, 0.15);\n",
              "      filter: drop-shadow(0px 1px 2px rgba(0, 0, 0, 0.3));\n",
              "      fill: #FFFFFF;\n",
              "    }\n",
              "  </style>\n",
              "\n",
              "    <script>\n",
              "      const buttonEl =\n",
              "        document.querySelector('#df-445cd33c-b172-48be-808f-fb057645526e button.colab-df-convert');\n",
              "      buttonEl.style.display =\n",
              "        google.colab.kernel.accessAllowed ? 'block' : 'none';\n",
              "\n",
              "      async function convertToInteractive(key) {\n",
              "        const element = document.querySelector('#df-445cd33c-b172-48be-808f-fb057645526e');\n",
              "        const dataTable =\n",
              "          await google.colab.kernel.invokeFunction('convertToInteractive',\n",
              "                                                    [key], {});\n",
              "        if (!dataTable) return;\n",
              "\n",
              "        const docLinkHtml = 'Like what you see? Visit the ' +\n",
              "          '<a target=\"_blank\" href=https://colab.research.google.com/notebooks/data_table.ipynb>data table notebook</a>'\n",
              "          + ' to learn more about interactive tables.';\n",
              "        element.innerHTML = '';\n",
              "        dataTable['output_type'] = 'display_data';\n",
              "        await google.colab.output.renderOutput(dataTable, element);\n",
              "        const docLink = document.createElement('div');\n",
              "        docLink.innerHTML = docLinkHtml;\n",
              "        element.appendChild(docLink);\n",
              "      }\n",
              "    </script>\n",
              "  </div>\n",
              "\n",
              "\n",
              "<div id=\"df-da7258e7-cc89-47c1-91d9-a46548b54f4e\">\n",
              "  <button class=\"colab-df-quickchart\" onclick=\"quickchart('df-da7258e7-cc89-47c1-91d9-a46548b54f4e')\"\n",
              "            title=\"Suggest charts\"\n",
              "            style=\"display:none;\">\n",
              "\n",
              "<svg xmlns=\"http://www.w3.org/2000/svg\" height=\"24px\"viewBox=\"0 0 24 24\"\n",
              "     width=\"24px\">\n",
              "    <g>\n",
              "        <path d=\"M19 3H5c-1.1 0-2 .9-2 2v14c0 1.1.9 2 2 2h14c1.1 0 2-.9 2-2V5c0-1.1-.9-2-2-2zM9 17H7v-7h2v7zm4 0h-2V7h2v10zm4 0h-2v-4h2v4z\"/>\n",
              "    </g>\n",
              "</svg>\n",
              "  </button>\n",
              "\n",
              "<style>\n",
              "  .colab-df-quickchart {\n",
              "      --bg-color: #E8F0FE;\n",
              "      --fill-color: #1967D2;\n",
              "      --hover-bg-color: #E2EBFA;\n",
              "      --hover-fill-color: #174EA6;\n",
              "      --disabled-fill-color: #AAA;\n",
              "      --disabled-bg-color: #DDD;\n",
              "  }\n",
              "\n",
              "  [theme=dark] .colab-df-quickchart {\n",
              "      --bg-color: #3B4455;\n",
              "      --fill-color: #D2E3FC;\n",
              "      --hover-bg-color: #434B5C;\n",
              "      --hover-fill-color: #FFFFFF;\n",
              "      --disabled-bg-color: #3B4455;\n",
              "      --disabled-fill-color: #666;\n",
              "  }\n",
              "\n",
              "  .colab-df-quickchart {\n",
              "    background-color: var(--bg-color);\n",
              "    border: none;\n",
              "    border-radius: 50%;\n",
              "    cursor: pointer;\n",
              "    display: none;\n",
              "    fill: var(--fill-color);\n",
              "    height: 32px;\n",
              "    padding: 0;\n",
              "    width: 32px;\n",
              "  }\n",
              "\n",
              "  .colab-df-quickchart:hover {\n",
              "    background-color: var(--hover-bg-color);\n",
              "    box-shadow: 0 1px 2px rgba(60, 64, 67, 0.3), 0 1px 3px 1px rgba(60, 64, 67, 0.15);\n",
              "    fill: var(--button-hover-fill-color);\n",
              "  }\n",
              "\n",
              "  .colab-df-quickchart-complete:disabled,\n",
              "  .colab-df-quickchart-complete:disabled:hover {\n",
              "    background-color: var(--disabled-bg-color);\n",
              "    fill: var(--disabled-fill-color);\n",
              "    box-shadow: none;\n",
              "  }\n",
              "\n",
              "  .colab-df-spinner {\n",
              "    border: 2px solid var(--fill-color);\n",
              "    border-color: transparent;\n",
              "    border-bottom-color: var(--fill-color);\n",
              "    animation:\n",
              "      spin 1s steps(1) infinite;\n",
              "  }\n",
              "\n",
              "  @keyframes spin {\n",
              "    0% {\n",
              "      border-color: transparent;\n",
              "      border-bottom-color: var(--fill-color);\n",
              "      border-left-color: var(--fill-color);\n",
              "    }\n",
              "    20% {\n",
              "      border-color: transparent;\n",
              "      border-left-color: var(--fill-color);\n",
              "      border-top-color: var(--fill-color);\n",
              "    }\n",
              "    30% {\n",
              "      border-color: transparent;\n",
              "      border-left-color: var(--fill-color);\n",
              "      border-top-color: var(--fill-color);\n",
              "      border-right-color: var(--fill-color);\n",
              "    }\n",
              "    40% {\n",
              "      border-color: transparent;\n",
              "      border-right-color: var(--fill-color);\n",
              "      border-top-color: var(--fill-color);\n",
              "    }\n",
              "    60% {\n",
              "      border-color: transparent;\n",
              "      border-right-color: var(--fill-color);\n",
              "    }\n",
              "    80% {\n",
              "      border-color: transparent;\n",
              "      border-right-color: var(--fill-color);\n",
              "      border-bottom-color: var(--fill-color);\n",
              "    }\n",
              "    90% {\n",
              "      border-color: transparent;\n",
              "      border-bottom-color: var(--fill-color);\n",
              "    }\n",
              "  }\n",
              "</style>\n",
              "\n",
              "  <script>\n",
              "    async function quickchart(key) {\n",
              "      const quickchartButtonEl =\n",
              "        document.querySelector('#' + key + ' button');\n",
              "      quickchartButtonEl.disabled = true;  // To prevent multiple clicks.\n",
              "      quickchartButtonEl.classList.add('colab-df-spinner');\n",
              "      try {\n",
              "        const charts = await google.colab.kernel.invokeFunction(\n",
              "            'suggestCharts', [key], {});\n",
              "      } catch (error) {\n",
              "        console.error('Error during call to suggestCharts:', error);\n",
              "      }\n",
              "      quickchartButtonEl.classList.remove('colab-df-spinner');\n",
              "      quickchartButtonEl.classList.add('colab-df-quickchart-complete');\n",
              "    }\n",
              "    (() => {\n",
              "      let quickchartButtonEl =\n",
              "        document.querySelector('#df-da7258e7-cc89-47c1-91d9-a46548b54f4e button');\n",
              "      quickchartButtonEl.style.display =\n",
              "        google.colab.kernel.accessAllowed ? 'block' : 'none';\n",
              "    })();\n",
              "  </script>\n",
              "</div>\n",
              "\n",
              "    </div>\n",
              "  </div>\n"
            ]
          },
          "metadata": {},
          "execution_count": 5
        }
      ]
    },
    {
      "cell_type": "code",
      "source": [
        "classification_data = pd.read_csv(\"/content/nasa.csv\")\n",
        "\n",
        "X_c = classification_data.drop([\"Name\", \"Hazardous\"], axis = 1)\n",
        "y_c = classification_data[\"Hazardous\"]\n",
        "\n",
        "X_train_c, X_test_c, y_train_c, y_test_c = train_test_split(X_c, y_c, test_size = 0.2, random_state = 123)\n",
        "print(f\"Shape of X_train: {X_train_c.shape}\")"
      ],
      "metadata": {
        "colab": {
          "base_uri": "https://localhost:8080/"
        },
        "id": "dJaFy0dMSR-C",
        "outputId": "b740f4ef-3ebd-49a2-c01d-e0c3c28b751e"
      },
      "execution_count": null,
      "outputs": [
        {
          "output_type": "stream",
          "name": "stdout",
          "text": [
            "Shape of X_train: (369, 25)\n"
          ]
        }
      ]
    },
    {
      "cell_type": "markdown",
      "source": [
        "## K-Nearest Neigborhood\n",
        "Documentation for KNN is available [here](https://scikit-learn.org/stable/modules/neighbors.html#nearest-neighbors)."
      ],
      "metadata": {
        "id": "HvyHkv5zlC6_"
      }
    },
    {
      "cell_type": "markdown",
      "source": [
        "KNN for Classification:"
      ],
      "metadata": {
        "id": "XIN0Vsz5rBlW"
      }
    },
    {
      "cell_type": "code",
      "source": [
        "from sklearn import neighbors\n",
        "\n",
        "n_neighbors = 5\n",
        "knn = neighbors.KNeighborsClassifier(n_neighbors=n_neighbors, weights='uniform', metric='minkowski') # Sandard Euclidean distance\n",
        "\n",
        "knn.fit(X_train_c, y_train_c)\n",
        "probs = knn.predict_proba(X_test_c)\n",
        "probs[:10]"
      ],
      "metadata": {
        "colab": {
          "base_uri": "https://localhost:8080/"
        },
        "id": "kte7fOAxlb3f",
        "outputId": "0566da78-2b00-4880-a9b4-490d7788c686"
      },
      "execution_count": null,
      "outputs": [
        {
          "output_type": "execute_result",
          "data": {
            "text/plain": [
              "array([[1. , 0. ],\n",
              "       [0.8, 0.2],\n",
              "       [1. , 0. ],\n",
              "       [0.6, 0.4],\n",
              "       [0.6, 0.4],\n",
              "       [0.6, 0.4],\n",
              "       [0.6, 0.4],\n",
              "       [0.4, 0.6],\n",
              "       [0.4, 0.6],\n",
              "       [0.4, 0.6]])"
            ]
          },
          "metadata": {},
          "execution_count": 7
        }
      ]
    },
    {
      "cell_type": "code",
      "source": [
        "y_pred_c = knn.predict(X_test_c)\n",
        "acc_knn = knn.score(X_test_c, y_test_c)\n",
        "print(f\"Accuracy with knn model: {acc_knn}\")\n",
        "\n",
        "confusion = metrics.confusion_matrix(y_test_c, y_pred_c)\n",
        "print(\"Confusion matrix with knn model: \")\n",
        "\n",
        "metrics.ConfusionMatrixDisplay.from_predictions(y_test_c, y_pred_c)\n",
        "\n",
        "print(metrics.classification_report(y_test_c, y_pred_c))"
      ],
      "metadata": {
        "colab": {
          "base_uri": "https://localhost:8080/",
          "height": 640
        },
        "id": "xlYLQD9cogB-",
        "outputId": "dc87d80b-e072-4cd9-dd45-5b03b8180ba9"
      },
      "execution_count": null,
      "outputs": [
        {
          "output_type": "stream",
          "name": "stdout",
          "text": [
            "Accuracy with knn model: 0.6451612903225806\n",
            "Confusion matrix with knn model: \n",
            "              precision    recall  f1-score   support\n",
            "\n",
            "           0       0.58      0.81      0.67        42\n",
            "           1       0.76      0.51      0.61        51\n",
            "\n",
            "    accuracy                           0.65        93\n",
            "   macro avg       0.67      0.66      0.64        93\n",
            "weighted avg       0.68      0.65      0.64        93\n",
            "\n"
          ]
        },
        {
          "output_type": "display_data",
          "data": {
            "text/plain": [
              "<Figure size 640x480 with 2 Axes>"
            ],
            "image/png": "[encoded data removed]"
          },
          "metadata": {}
        }
      ]
    },
    {
      "cell_type": "code",
      "source": [
        "# Find the K-neighbors of a point.\n",
        "X0 = X_test_c.iloc[0:2]\n",
        "neigh_dist, neigh_ind = knn.kneighbors(X0, n_neighbors, return_distance =True)\n",
        "print(neigh_ind)\n",
        "neigh_dist"
      ],
      "metadata": {
        "colab": {
          "base_uri": "https://localhost:8080/"
        },
        "id": "8yfIXFZAoTc1",
        "outputId": "473954c1-64e8-4285-9826-6f50d4c948ee"
      },
      "execution_count": null,
      "outputs": [
        {
          "output_type": "stream",
          "name": "stdout",
          "text": [
            "[[281 203 353  94 248]\n",
            " [333 362  15 132 121]]\n"
          ]
        },
        {
          "output_type": "execute_result",
          "data": {
            "text/plain": [
              "array([[1.00000000e+09, 1.00000001e+09, 2.00000000e+09, 2.00000000e+09,\n",
              "        2.00000001e+09],\n",
              "       [9.19549719e+04, 4.75841683e+05, 1.00000004e+09, 1.00000008e+09,\n",
              "        1.00000026e+09]])"
            ]
          },
          "metadata": {},
          "execution_count": 12
        }
      ]
    },
    {
      "cell_type": "markdown",
      "source": [
        "KNN for regression (forecasting):"
      ],
      "metadata": {
        "id": "xkSEMqq1rGN1"
      }
    },
    {
      "cell_type": "code",
      "source": [
        "knn_r = neighbors.KNeighborsRegressor(n_neighbors)\n",
        "knn_r.fit(X_train, y_train)\n",
        "y_pred = knn_r.predict(X_test)\n",
        "\n",
        "mse_knn = metrics.mean_squared_error(y_test, y_pred)\n",
        "mape_knn = metrics.mean_absolute_percentage_error(y_test, y_pred)\n",
        "\n",
        "print(f\"MSE with KNN regression model: {mse_knn}\")\n",
        "print(f\"MAPE with KNN regression model: {mape_knn}\")"
      ],
      "metadata": {
        "colab": {
          "base_uri": "https://localhost:8080/"
        },
        "id": "_UCm3Z7erKvR",
        "outputId": "b2855026-d589-41b4-bf25-30484a80bda0"
      },
      "execution_count": null,
      "outputs": [
        {
          "output_type": "stream",
          "name": "stdout",
          "text": [
            "MSE with KNN regression model: 75.61600101265822\n",
            "MAPE with KNN regression model: 0.103526639209308\n"
          ]
        }
      ]
    },
    {
      "cell_type": "markdown",
      "source": [
        "## Support Vector Machines (SVM)\n",
        "\n",
        "SVM documentions are available [here](https://scikit-learn.org/stable/modules/svm.html)."
      ],
      "metadata": {
        "id": "bor28z1fWliA"
      }
    },
    {
      "cell_type": "markdown",
      "source": [
        "Support Vector Regression (SVR):\n",
        "Formulation are [here](https://scikit-learn.org/stable/modules/svm.html#svr)."
      ],
      "metadata": {
        "id": "kcqVJBy5YBxZ"
      }
    },
    {
      "cell_type": "code",
      "source": [
        "from sklearn import svm\n",
        "\n",
        "svr = svm.SVR(kernel ='rbf') # kernel : {'linear', 'poly', 'rbf', 'sigmoid', 'precomputed'}\n",
        "svr_p = svm.SVR(kernel ='poly', degree=3, C=1.5)\n",
        "svr.fit(X_train, y_train)\n",
        "svr_p.fit(X_train, y_train)\n",
        "\n",
        "print(f\"Number of support vectors with rbf kernel: {svr.n_support_}\")\n",
        "print(f\"Number of support vectors with polynomial kernel: {svr_p.n_support_}\")"
      ],
      "metadata": {
        "id": "hB3w4eKVWq9f",
        "colab": {
          "base_uri": "https://localhost:8080/"
        },
        "outputId": "464e9ed5-77a0-4311-c080-9e87afd05245"
      },
      "execution_count": null,
      "outputs": [
        {
          "output_type": "stream",
          "name": "stdout",
          "text": [
            "Number of support vectors with rbf kernel: [1166]\n",
            "Number of support vectors with polynomial kernel: [1169]\n"
          ]
        }
      ]
    },
    {
      "cell_type": "code",
      "source": [
        "y_pred = svr.predict(X_test)\n",
        "y_pred_p = svr_p.predict(X_test)\n",
        "\n",
        "mse = metrics.mean_squared_error(y_test, y_pred)\n",
        "mse_p = metrics.mean_squared_error(y_test, y_pred_p)\n",
        "mape = metrics.mean_absolute_percentage_error(y_test, y_pred)\n",
        "mape_p = metrics.mean_absolute_percentage_error(y_test, y_pred_p)\n",
        "print(f\"MSE with rbf kernel: {mse}\")\n",
        "print(f\"MSE with Polynomian degree 3 kernel: {mse_p}\")\n",
        "print(f\"MAPE with rbf kernel: {mape}\")\n",
        "print(f\"MAPE with Polynomian degree 3 kernel: {mape_p}\")"
      ],
      "metadata": {
        "colab": {
          "base_uri": "https://localhost:8080/"
        },
        "id": "L1A0L5LGZ5sp",
        "outputId": "81175780-a230-424e-c8ec-37ff7a9df4d6"
      },
      "execution_count": null,
      "outputs": [
        {
          "output_type": "stream",
          "name": "stdout",
          "text": [
            "MSE with rbf kernel: 90.37086219960835\n",
            "MSE with Polynomian degree 3 kernel: 93.37119137800731\n",
            "MAPE with rbf kernel: 0.11780200008700366\n",
            "MAPE with Polynomian degree 3 kernel: 0.1192781423428543\n"
          ]
        }
      ]
    },
    {
      "cell_type": "markdown",
      "source": [
        "Support Vector Classification (SVC):\n",
        "\n",
        "Formulations are [here](https://scikit-learn.org/stable/modules/svm.html#svc)."
      ],
      "metadata": {
        "id": "srZmXpvmaQXg"
      }
    },
    {
      "cell_type": "code",
      "source": [
        "svc = svm.SVC(kernel ='rbf', probability =True) # kernel : {'linear', 'poly', 'rbf', 'sigmoid', 'precomputed'}\n",
        "svc_s = svm.SVC(kernel ='sigmoid', probability =True)\n",
        "svc.fit(X_train_c, y_train_c)\n",
        "svc_s.fit(X_train_c, y_train_c)\n",
        "probs = svc.predict_proba(X_test_c)\n",
        "probs_s = svc_s.predict_proba(X_test_c)\n",
        "probs[:10]"
      ],
      "metadata": {
        "colab": {
          "base_uri": "https://localhost:8080/"
        },
        "id": "VIGOXLEZaT47",
        "outputId": "937e42e2-3d89-4010-fbeb-7d4873cc820d"
      },
      "execution_count": null,
      "outputs": [
        {
          "output_type": "execute_result",
          "data": {
            "text/plain": [
              "array([[0.5896346 , 0.4103654 ],\n",
              "       [0.58414912, 0.41585088],\n",
              "       [0.59177254, 0.40822746],\n",
              "       [0.55428192, 0.44571808],\n",
              "       [0.55195922, 0.44804078],\n",
              "       [0.45834123, 0.54165877],\n",
              "       [0.58070515, 0.41929485],\n",
              "       [0.58283832, 0.41716168],\n",
              "       [0.51226806, 0.48773194],\n",
              "       [0.59425895, 0.40574105]])"
            ]
          },
          "metadata": {},
          "execution_count": 17
        }
      ]
    },
    {
      "cell_type": "code",
      "source": [
        "y_pred_c = svc.predict(X_test_c)\n",
        "y_pred_c_s = svc_s.predict(X_test_c)\n",
        "print(y_pred_c[:10])\n",
        "\n",
        "acc = metrics.accuracy_score(y_test_c, y_pred_c)\n",
        "acc_s = metrics.accuracy_score(y_test_c, y_pred_c_s)\n",
        "\n",
        "print(f\"Accuracy with rbf kernel: {acc}\")\n",
        "print(f\"Accuracy with sigmoid kernel: {acc_s}\")\n",
        "\n",
        "classification_report = metrics.classification_report(y_test_c, y_pred_c)\n",
        "print(f\"classification_report- rbf kernel:\\n {classification_report}\")\n",
        "classification_report_s = metrics.classification_report(y_test_c, y_pred_c_s)\n",
        "print(f\"classification_report- sigmoid kernel:\\n {classification_report_s}\")"
      ],
      "metadata": {
        "colab": {
          "base_uri": "https://localhost:8080/"
        },
        "id": "ALTHWQ9-iAFw",
        "outputId": "5741e18b-3b80-4789-e904-9736a9c3417e"
      },
      "execution_count": null,
      "outputs": [
        {
          "output_type": "stream",
          "name": "stdout",
          "text": [
            "[0 0 0 0 0 1 0 0 0 0]\n",
            "Accuracy with rbf kernel: 0.5913978494623656\n",
            "Accuracy with sigmoid kernel: 0.3978494623655914\n",
            "classification_report- rbf kernel:\n",
            "               precision    recall  f1-score   support\n",
            "\n",
            "           0       0.53      0.83      0.65        42\n",
            "           1       0.74      0.39      0.51        51\n",
            "\n",
            "    accuracy                           0.59        93\n",
            "   macro avg       0.64      0.61      0.58        93\n",
            "weighted avg       0.65      0.59      0.57        93\n",
            "\n",
            "classification_report- sigmoid kernel:\n",
            "               precision    recall  f1-score   support\n",
            "\n",
            "           0       0.29      0.24      0.26        42\n",
            "           1       0.46      0.53      0.49        51\n",
            "\n",
            "    accuracy                           0.40        93\n",
            "   macro avg       0.38      0.38      0.38        93\n",
            "weighted avg       0.38      0.40      0.39        93\n",
            "\n"
          ]
        }
      ]
    },
    {
      "cell_type": "markdown",
      "source": [
        "## Decision Trees\n",
        "\n",
        "You can find the sklearn documentations for Decision Tree models [here](https://scikit-learn.org/stable/modules/tree.html#decision-trees).\n",
        "\n"
      ],
      "metadata": {
        "id": "qyUjdF6TsLQr"
      }
    },
    {
      "cell_type": "markdown",
      "source": [
        "### Decision Trees for classification:"
      ],
      "metadata": {
        "id": "tqpyjnKmMcaw"
      }
    },
    {
      "cell_type": "code",
      "source": [
        "from sklearn import tree\n",
        "\n",
        "dtc = tree.DecisionTreeClassifier(criterion=\"gini\", max_depth=None, min_samples_split= 0.1,\n",
        "                                  min_samples_leaf = 10, random_state=123)\n",
        "dtc.fit(X_train_c, y_train_c)\n",
        "plt.figure(figsize=(8,8))\n",
        "tree_plot = tree.plot_tree(dtc)"
      ],
      "metadata": {
        "colab": {
          "base_uri": "https://localhost:8080/",
          "height": 653
        },
        "id": "ueC2EOVXMf7G",
        "outputId": "84e99492-ff42-4ca6-e655-2c7981078b0a"
      },
      "execution_count": null,
      "outputs": [
        {
          "output_type": "display_data",
          "data": {
            "text/plain": [
              "<Figure size 800x800 with 1 Axes>"
            ],
            "image/png": "[encoded data removed]"
          },
          "metadata": {}
        }
      ]
    },
    {
      "cell_type": "code",
      "source": [
        "####  methods ####\n",
        "\n",
        "# children_left[i]: id of the left child of node i or -1 if leaf node\n",
        "# children_right[i]: id of the right child of node i or -1 if leaf node\n",
        "# feature[i]: feature used for splitting node i\n",
        "# threshold[i]: threshold value at node i\n",
        "# n_node_samples[i]: the number of of training samples reaching node i\n",
        "# impurity[i]: the impurity at node i\n",
        "\n",
        "n_nodes = dtc.tree_.node_count\n",
        "children_left = dtc.tree_.children_left\n",
        "children_right = dtc.tree_.children_right\n",
        "feature = dtc.tree_.feature\n",
        "threshold = dtc.tree_.threshold\n",
        "impurity = dtc.tree_.impurity\n"
      ],
      "metadata": {
        "id": "ferYB5XmQG-r"
      },
      "execution_count": null,
      "outputs": []
    },
    {
      "cell_type": "markdown",
      "source": [
        "We can interpret the tree construction rules:"
      ],
      "metadata": {
        "id": "-p1juF3xUyzG"
      }
    },
    {
      "cell_type": "code",
      "source": [
        "i = 3 # tree split node index\n",
        "print(f\"node= {i} is a split node with impurity of {impurity[i]:.3f}:\\n go to node {children_left[i]} if X[:, {feature[i]}] <= {threshold[i]},\\n else to node {children_right[i]}.\")"
      ],
      "metadata": {
        "colab": {
          "base_uri": "https://localhost:8080/"
        },
        "id": "R9-AFReJQOKt",
        "outputId": "beb5fff0-fdd0-41d1-e328-c23260cb852b"
      },
      "execution_count": null,
      "outputs": [
        {
          "output_type": "stream",
          "name": "stdout",
          "text": [
            "node= 3 is a split node with impurity of 0.023:\n",
            " go to node 4 if X[:, 5] <= 832.0322265625,\n",
            " else to node 5.\n"
          ]
        }
      ]
    },
    {
      "cell_type": "markdown",
      "source": [
        "A better visualization of graph:"
      ],
      "metadata": {
        "id": "9y1hIqCsXQXw"
      }
    },
    {
      "cell_type": "code",
      "source": [
        "import graphviz\n",
        "\n",
        "dot_data = tree.export_graphviz(dtc, out_file=None,\n",
        "                    feature_names=X_train_c.columns,\n",
        "                    filled=True, rounded=True, fontname=\"calibri\")\n",
        "graph = graphviz.Source(dot_data)\n",
        "graph"
      ],
      "metadata": {
        "colab": {
          "base_uri": "https://localhost:8080/",
          "height": 518
        },
        "id": "8Ua3vKkuPHzX",
        "outputId": "88d5f42b-3049-4106-cee6-ae26b43174bf"
      },
      "execution_count": null,
      "outputs": [
        {
          "output_type": "execute_result",
          "data": {
            "image/svg+xml": "<?xml version=\"1.0\" encoding=\"UTF-8\" standalone=\"no\"?>\n<!DOCTYPE svg PUBLIC \"-//W3C//DTD SVG 1.1//EN\"\n \"http://www.w3.org/Graphics/SVG/1.1/DTD/svg11.dtd\">\n<!-- Generated by graphviz version 2.43.0 (0)\n -->\n<!-- Title: Tree Pages: 1 -->\n<svg width=\"494pt\" height=\"373pt\"\n viewBox=\"0.00 0.00 493.50 373.00\" xmlns=\"http://www.w3.org/2000/svg\" xmlns:xlink=\"http://www.w3.org/1999/xlink\">\n<g id=\"graph0\" class=\"graph\" transform=\"scale(1 1) rotate(0) translate(4 369)\">\n<title>Tree</title>\n<polygon fill=\"white\" stroke=\"transparent\" points=\"-4,4 -4,-369 489.5,-369 489.5,4 -4,4\"/>\n<!-- 0 -->\n<g id=\"node1\" class=\"node\">\n<title>0</title>\n<path fill=\"#fbebe0\" stroke=\"black\" d=\"M432.5,-365C432.5,-365 159.5,-365 159.5,-365 153.5,-365 147.5,-359 147.5,-353 147.5,-353 147.5,-309 147.5,-309 147.5,-303 153.5,-297 159.5,-297 159.5,-297 432.5,-297 432.5,-297 438.5,-297 444.5,-303 444.5,-309 444.5,-309 444.5,-353 444.5,-353 444.5,-359 438.5,-365 432.5,-365\"/>\n<text text-anchor=\"middle\" x=\"296\" y=\"-349.8\" font-family=\"calibri\" font-size=\"14.00\">Minimum Orbit Intersection &lt;= 0.05</text>\n<text text-anchor=\"middle\" x=\"296\" y=\"-334.8\" font-family=\"calibri\" font-size=\"14.00\">gini = 0.496</text>\n<text text-anchor=\"middle\" x=\"296\" y=\"-319.8\" font-family=\"calibri\" font-size=\"14.00\">samples = 369</text>\n<text text-anchor=\"middle\" x=\"296\" y=\"-304.8\" font-family=\"calibri\" font-size=\"14.00\">value = [200, 169]</text>\n</g>\n<!-- 1 -->\n<g id=\"node2\" class=\"node\">\n<title>1</title>\n<path fill=\"#9dcef2\" stroke=\"black\" d=\"M306,-261C306,-261 58,-261 58,-261 52,-261 46,-255 46,-249 46,-249 46,-205 46,-205 46,-199 52,-193 58,-193 58,-193 306,-193 306,-193 312,-193 318,-199 318,-205 318,-205 318,-249 318,-249 318,-255 312,-261 306,-261\"/>\n<text text-anchor=\"middle\" x=\"182\" y=\"-245.8\" font-family=\"calibri\" font-size=\"14.00\">Est Dia in Feet(max) &lt;= 692.054</text>\n<text text-anchor=\"middle\" x=\"182\" y=\"-230.8\" font-family=\"calibri\" font-size=\"14.00\">gini = 0.445</text>\n<text text-anchor=\"middle\" x=\"182\" y=\"-215.8\" font-family=\"calibri\" font-size=\"14.00\">samples = 254</text>\n<text text-anchor=\"middle\" x=\"182\" y=\"-200.8\" font-family=\"calibri\" font-size=\"14.00\">value = [85, 169]</text>\n</g>\n<!-- 0&#45;&gt;1 -->\n<g id=\"edge1\" class=\"edge\">\n<title>0&#45;&gt;1</title>\n<path fill=\"none\" stroke=\"black\" d=\"M258.99,-296.88C248.73,-287.71 237.49,-277.65 226.84,-268.12\"/>\n<polygon fill=\"black\" stroke=\"black\" points=\"229,-265.36 219.22,-261.3 224.34,-270.58 229,-265.36\"/>\n<text text-anchor=\"middle\" x=\"220.6\" y=\"-282.56\" font-family=\"calibri\" font-size=\"14.00\">True</text>\n</g>\n<!-- 6 -->\n<g id=\"node7\" class=\"node\">\n<title>6</title>\n<path fill=\"#e58139\" stroke=\"black\" d=\"M473.5,-253.5C473.5,-253.5 348.5,-253.5 348.5,-253.5 342.5,-253.5 336.5,-247.5 336.5,-241.5 336.5,-241.5 336.5,-212.5 336.5,-212.5 336.5,-206.5 342.5,-200.5 348.5,-200.5 348.5,-200.5 473.5,-200.5 473.5,-200.5 479.5,-200.5 485.5,-206.5 485.5,-212.5 485.5,-212.5 485.5,-241.5 485.5,-241.5 485.5,-247.5 479.5,-253.5 473.5,-253.5\"/>\n<text text-anchor=\"middle\" x=\"411\" y=\"-238.3\" font-family=\"calibri\" font-size=\"14.00\">gini = 0.0</text>\n<text text-anchor=\"middle\" x=\"411\" y=\"-223.3\" font-family=\"calibri\" font-size=\"14.00\">samples = 115</text>\n<text text-anchor=\"middle\" x=\"411\" y=\"-208.3\" font-family=\"calibri\" font-size=\"14.00\">value = [115, 0]</text>\n</g>\n<!-- 0&#45;&gt;6 -->\n<g id=\"edge6\" class=\"edge\">\n<title>0&#45;&gt;6</title>\n<path fill=\"none\" stroke=\"black\" d=\"M333.34,-296.88C346.6,-285.12 361.51,-271.89 374.69,-260.2\"/>\n<polygon fill=\"black\" stroke=\"black\" points=\"377.07,-262.77 382.23,-253.52 372.42,-257.54 377.07,-262.77\"/>\n<text text-anchor=\"middle\" x=\"380.73\" y=\"-274.78\" font-family=\"calibri\" font-size=\"14.00\">False</text>\n</g>\n<!-- 2 -->\n<g id=\"node3\" class=\"node\">\n<title>2</title>\n<path fill=\"#e58139\" stroke=\"black\" d=\"M128,-149.5C128,-149.5 12,-149.5 12,-149.5 6,-149.5 0,-143.5 0,-137.5 0,-137.5 0,-108.5 0,-108.5 0,-102.5 6,-96.5 12,-96.5 12,-96.5 128,-96.5 128,-96.5 134,-96.5 140,-102.5 140,-108.5 140,-108.5 140,-137.5 140,-137.5 140,-143.5 134,-149.5 128,-149.5\"/>\n<text text-anchor=\"middle\" x=\"70\" y=\"-134.3\" font-family=\"calibri\" font-size=\"14.00\">gini = 0.0</text>\n<text text-anchor=\"middle\" x=\"70\" y=\"-119.3\" font-family=\"calibri\" font-size=\"14.00\">samples = 83</text>\n<text text-anchor=\"middle\" x=\"70\" y=\"-104.3\" font-family=\"calibri\" font-size=\"14.00\">value = [83, 0]</text>\n</g>\n<!-- 1&#45;&gt;2 -->\n<g id=\"edge2\" class=\"edge\">\n<title>1&#45;&gt;2</title>\n<path fill=\"none\" stroke=\"black\" d=\"M145.64,-192.88C132.84,-181.23 118.47,-168.14 105.72,-156.53\"/>\n<polygon fill=\"black\" stroke=\"black\" points=\"107.77,-153.67 98.02,-149.52 103.06,-158.84 107.77,-153.67\"/>\n</g>\n<!-- 3 -->\n<g id=\"node4\" class=\"node\">\n<title>3</title>\n<path fill=\"#3b9ee5\" stroke=\"black\" d=\"M418,-157C418,-157 170,-157 170,-157 164,-157 158,-151 158,-145 158,-145 158,-101 158,-101 158,-95 164,-89 170,-89 170,-89 418,-89 418,-89 424,-89 430,-95 430,-101 430,-101 430,-145 430,-145 430,-151 424,-157 418,-157\"/>\n<text text-anchor=\"middle\" x=\"294\" y=\"-141.8\" font-family=\"calibri\" font-size=\"14.00\">Est Dia in Feet(max) &lt;= 832.032</text>\n<text text-anchor=\"middle\" x=\"294\" y=\"-126.8\" font-family=\"calibri\" font-size=\"14.00\">gini = 0.023</text>\n<text text-anchor=\"middle\" x=\"294\" y=\"-111.8\" font-family=\"calibri\" font-size=\"14.00\">samples = 171</text>\n<text text-anchor=\"middle\" x=\"294\" y=\"-96.8\" font-family=\"calibri\" font-size=\"14.00\">value = [2, 169]</text>\n</g>\n<!-- 1&#45;&gt;3 -->\n<g id=\"edge3\" class=\"edge\">\n<title>1&#45;&gt;3</title>\n<path fill=\"none\" stroke=\"black\" d=\"M218.36,-192.88C228.44,-183.71 239.48,-173.65 249.94,-164.12\"/>\n<polygon fill=\"black\" stroke=\"black\" points=\"252.4,-166.62 257.44,-157.3 247.69,-161.44 252.4,-166.62\"/>\n</g>\n<!-- 4 -->\n<g id=\"node5\" class=\"node\">\n<title>4</title>\n<path fill=\"#61b1ea\" stroke=\"black\" d=\"M270,-53C270,-53 154,-53 154,-53 148,-53 142,-47 142,-41 142,-41 142,-12 142,-12 142,-6 148,0 154,0 154,0 270,0 270,0 276,0 282,-6 282,-12 282,-12 282,-41 282,-41 282,-47 276,-53 270,-53\"/>\n<text text-anchor=\"middle\" x=\"212\" y=\"-37.8\" font-family=\"calibri\" font-size=\"14.00\">gini = 0.278</text>\n<text text-anchor=\"middle\" x=\"212\" y=\"-22.8\" font-family=\"calibri\" font-size=\"14.00\">samples = 12</text>\n<text text-anchor=\"middle\" x=\"212\" y=\"-7.8\" font-family=\"calibri\" font-size=\"14.00\">value = [2, 10]</text>\n</g>\n<!-- 3&#45;&gt;4 -->\n<g id=\"edge4\" class=\"edge\">\n<title>3&#45;&gt;4</title>\n<path fill=\"none\" stroke=\"black\" d=\"M265.32,-88.95C257.46,-79.89 248.94,-70.07 241.06,-60.99\"/>\n<polygon fill=\"black\" stroke=\"black\" points=\"243.53,-58.5 234.33,-53.24 238.24,-63.08 243.53,-58.5\"/>\n</g>\n<!-- 5 -->\n<g id=\"node6\" class=\"node\">\n<title>5</title>\n<path fill=\"#399de5\" stroke=\"black\" d=\"M437.5,-53C437.5,-53 312.5,-53 312.5,-53 306.5,-53 300.5,-47 300.5,-41 300.5,-41 300.5,-12 300.5,-12 300.5,-6 306.5,0 312.5,0 312.5,0 437.5,0 437.5,0 443.5,0 449.5,-6 449.5,-12 449.5,-12 449.5,-41 449.5,-41 449.5,-47 443.5,-53 437.5,-53\"/>\n<text text-anchor=\"middle\" x=\"375\" y=\"-37.8\" font-family=\"calibri\" font-size=\"14.00\">gini = 0.0</text>\n<text text-anchor=\"middle\" x=\"375\" y=\"-22.8\" font-family=\"calibri\" font-size=\"14.00\">samples = 159</text>\n<text text-anchor=\"middle\" x=\"375\" y=\"-7.8\" font-family=\"calibri\" font-size=\"14.00\">value = [0, 159]</text>\n</g>\n<!-- 3&#45;&gt;5 -->\n<g id=\"edge5\" class=\"edge\">\n<title>3&#45;&gt;5</title>\n<path fill=\"none\" stroke=\"black\" d=\"M322.33,-88.95C330.09,-79.89 338.51,-70.07 346.3,-60.99\"/>\n<polygon fill=\"black\" stroke=\"black\" points=\"349.09,-63.11 352.94,-53.24 343.77,-58.55 349.09,-63.11\"/>\n</g>\n</g>\n</svg>\n",
            "text/plain": [
              "<graphviz.sources.Source at 0x7b5a17e3cf70>"
            ]
          },
          "metadata": {},
          "execution_count": 36
        }
      ]
    },
    {
      "cell_type": "markdown",
      "source": [
        "Predictions on test set:"
      ],
      "metadata": {
        "id": "o4CDuODtNEy2"
      }
    },
    {
      "cell_type": "code",
      "source": [
        "probs = dtc.predict_proba(X_test_c)\n",
        "y_pred_c = dtc.predict(X_test_c)\n",
        "\n",
        "acc_tree = dtc.score(X_test_c, y_test_c)\n",
        "print(f\"Accuracy with decision tree model: {acc_tree}\")\n",
        "\n",
        "confusion = metrics.confusion_matrix(y_test_c, y_pred_c)\n",
        "print(f\"Confusion matrix with decision tree model:\\n {confusion}\")\n",
        "\n",
        "classification_report_d = metrics.classification_report(y_test_c, y_pred_c)\n",
        "print(f\"classification_report with Decision Tree:\\n {classification_report_d}\")"
      ],
      "metadata": {
        "colab": {
          "base_uri": "https://localhost:8080/"
        },
        "id": "lMKliuT7NIxs",
        "outputId": "c1e05a31-7c6a-4f23-c969-fe836bb2efd5"
      },
      "execution_count": null,
      "outputs": [
        {
          "output_type": "stream",
          "name": "stdout",
          "text": [
            "Accuracy with decision tree model: 1.0\n",
            "Confusion matrix with decision tree model:\n",
            " [[42  0]\n",
            " [ 0 51]]\n",
            "classification_report with Decision Tree:\n",
            "               precision    recall  f1-score   support\n",
            "\n",
            "           0       1.00      1.00      1.00        42\n",
            "           1       1.00      1.00      1.00        51\n",
            "\n",
            "    accuracy                           1.00        93\n",
            "   macro avg       1.00      1.00      1.00        93\n",
            "weighted avg       1.00      1.00      1.00        93\n",
            "\n"
          ]
        }
      ]
    },
    {
      "cell_type": "markdown",
      "source": [
        "### Decision Trees for regression (forecasting):"
      ],
      "metadata": {
        "id": "ve3jJq7UMJl6"
      }
    },
    {
      "cell_type": "code",
      "source": [
        "dtr = tree.DecisionTreeRegressor(criterion=\"squared_error\", max_depth=4, min_samples_split= 0.1,\n",
        "                                 min_samples_leaf = 10, random_state=123)\n",
        "dtr.fit(X_train, y_train)"
      ],
      "metadata": {
        "id": "sbrs3IwOsfm-",
        "colab": {
          "base_uri": "https://localhost:8080/",
          "height": 91
        },
        "outputId": "5553302d-7840-442f-940f-477a48fbd47f"
      },
      "execution_count": null,
      "outputs": [
        {
          "output_type": "execute_result",
          "data": {
            "text/plain": [
              "DecisionTreeRegressor(max_depth=4, min_samples_leaf=10, min_samples_split=0.1,\n",
              "                      random_state=123)"
            ],
            "text/html": [
              "<style>#sk-container-id-1 {color: black;background-color: white;}#sk-container-id-1 pre{padding: 0;}#sk-container-id-1 div.sk-toggleable {background-color: white;}#sk-container-id-1 label.sk-toggleable__label {cursor: pointer;display: block;width: 100%;margin-bottom: 0;padding: 0.3em;box-sizing: border-box;text-align: center;}#sk-container-id-1 label.sk-toggleable__label-arrow:before {content: \"▸\";float: left;margin-right: 0.25em;color: #696969;}#sk-container-id-1 label.sk-toggleable__label-arrow:hover:before {color: black;}#sk-container-id-1 div.sk-estimator:hover label.sk-toggleable__label-arrow:before {color: black;}#sk-container-id-1 div.sk-toggleable__content {max-height: 0;max-width: 0;overflow: hidden;text-align: left;background-color: #f0f8ff;}#sk-container-id-1 div.sk-toggleable__content pre {margin: 0.2em;color: black;border-radius: 0.25em;background-color: #f0f8ff;}#sk-container-id-1 input.sk-toggleable__control:checked~div.sk-toggleable__content {max-height: 200px;max-width: 100%;overflow: auto;}#sk-container-id-1 input.sk-toggleable__control:checked~label.sk-toggleable__label-arrow:before {content: \"▾\";}#sk-container-id-1 div.sk-estimator input.sk-toggleable__control:checked~label.sk-toggleable__label {background-color: #d4ebff;}#sk-container-id-1 div.sk-label input.sk-toggleable__control:checked~label.sk-toggleable__label {background-color: #d4ebff;}#sk-container-id-1 input.sk-hidden--visually {border: 0;clip: rect(1px 1px 1px 1px);clip: rect(1px, 1px, 1px, 1px);height: 1px;margin: -1px;overflow: hidden;padding: 0;position: absolute;width: 1px;}#sk-container-id-1 div.sk-estimator {font-family: monospace;background-color: #f0f8ff;border: 1px dotted black;border-radius: 0.25em;box-sizing: border-box;margin-bottom: 0.5em;}#sk-container-id-1 div.sk-estimator:hover {background-color: #d4ebff;}#sk-container-id-1 div.sk-parallel-item::after {content: \"\";width: 100%;border-bottom: 1px solid gray;flex-grow: 1;}#sk-container-id-1 div.sk-label:hover label.sk-toggleable__label {background-color: #d4ebff;}#sk-container-id-1 div.sk-serial::before {content: \"\";position: absolute;border-left: 1px solid gray;box-sizing: border-box;top: 0;bottom: 0;left: 50%;z-index: 0;}#sk-container-id-1 div.sk-serial {display: flex;flex-direction: column;align-items: center;background-color: white;padding-right: 0.2em;padding-left: 0.2em;position: relative;}#sk-container-id-1 div.sk-item {position: relative;z-index: 1;}#sk-container-id-1 div.sk-parallel {display: flex;align-items: stretch;justify-content: center;background-color: white;position: relative;}#sk-container-id-1 div.sk-item::before, #sk-container-id-1 div.sk-parallel-item::before {content: \"\";position: absolute;border-left: 1px solid gray;box-sizing: border-box;top: 0;bottom: 0;left: 50%;z-index: -1;}#sk-container-id-1 div.sk-parallel-item {display: flex;flex-direction: column;z-index: 1;position: relative;background-color: white;}#sk-container-id-1 div.sk-parallel-item:first-child::after {align-self: flex-end;width: 50%;}#sk-container-id-1 div.sk-parallel-item:last-child::after {align-self: flex-start;width: 50%;}#sk-container-id-1 div.sk-parallel-item:only-child::after {width: 0;}#sk-container-id-1 div.sk-dashed-wrapped {border: 1px dashed gray;margin: 0 0.4em 0.5em 0.4em;box-sizing: border-box;padding-bottom: 0.4em;background-color: white;}#sk-container-id-1 div.sk-label label {font-family: monospace;font-weight: bold;display: inline-block;line-height: 1.2em;}#sk-container-id-1 div.sk-label-container {text-align: center;}#sk-container-id-1 div.sk-container {/* jupyter's `normalize.less` sets `[hidden] { display: none; }` but bootstrap.min.css set `[hidden] { display: none !important; }` so we also need the `!important` here to be able to override the default hidden behavior on the sphinx rendered scikit-learn.org. See: https://github.com/scikit-learn/scikit-learn/issues/21755 */display: inline-block !important;position: relative;}#sk-container-id-1 div.sk-text-repr-fallback {display: none;}</style><div id=\"sk-container-id-1\" class=\"sk-top-container\"><div class=\"sk-text-repr-fallback\"><pre>DecisionTreeRegressor(max_depth=4, min_samples_leaf=10, min_samples_split=0.1,\n",
              "                      random_state=123)</pre><b>In a Jupyter environment, please rerun this cell to show the HTML representation or trust the notebook. <br />On GitHub, the HTML representation is unable to render, please try loading this page with nbviewer.org.</b></div><div class=\"sk-container\" hidden><div class=\"sk-item\"><div class=\"sk-estimator sk-toggleable\"><input class=\"sk-toggleable__control sk-hidden--visually\" id=\"sk-estimator-id-1\" type=\"checkbox\" checked><label for=\"sk-estimator-id-1\" class=\"sk-toggleable__label sk-toggleable__label-arrow\">DecisionTreeRegressor</label><div class=\"sk-toggleable__content\"><pre>DecisionTreeRegressor(max_depth=4, min_samples_leaf=10, min_samples_split=0.1,\n",
              "                      random_state=123)</pre></div></div></div></div></div>"
            ]
          },
          "metadata": {},
          "execution_count": 40
        }
      ]
    },
    {
      "cell_type": "code",
      "source": [
        "dot_data = tree.export_graphviz(dtr, out_file=None, feature_names=X_train.columns,\n",
        "                    node_ids= True, precision=2,\n",
        "                    filled=True, rounded=True, fontname=\"calibri\")\n",
        "\n",
        "\n",
        "graph = graphviz.Source(dot_data)\n",
        "\n",
        "import pydotplus\n",
        "pydot_graph = pydotplus.graph_from_dot_data(dot_data)\n",
        "pydot_graph.write_png('regression_tree.png')\n",
        "graph\n"
      ],
      "metadata": {
        "colab": {
          "base_uri": "https://localhost:8080/",
          "height": 777
        },
        "id": "WV9StG9fZoPd",
        "outputId": "11621f13-e1d2-466d-c09c-f933146fbac2"
      },
      "execution_count": null,
      "outputs": [
        {
          "output_type": "execute_result",
          "data": {
            "image/svg+xml": "<?xml version=\"1.0\" encoding=\"UTF-8\" standalone=\"no\"?>\n<!DOCTYPE svg PUBLIC \"-//W3C//DTD SVG 1.1//EN\"\n \"http://www.w3.org/Graphics/SVG/1.1/DTD/svg11.dtd\">\n<!-- Generated by graphviz version 2.43.0 (0)\n -->\n<!-- Title: Tree Pages: 1 -->\n<svg width=\"1944pt\" height=\"552pt\"\n viewBox=\"0.00 0.00 1944.00 552.00\" xmlns=\"http://www.w3.org/2000/svg\" xmlns:xlink=\"http://www.w3.org/1999/xlink\">\n<g id=\"graph0\" class=\"graph\" transform=\"scale(1 1) rotate(0) translate(4 548)\">\n<title>Tree</title>\n<polygon fill=\"white\" stroke=\"transparent\" points=\"-4,4 -4,-548 1940,-548 1940,4 -4,4\"/>\n<!-- 0 -->\n<g id=\"node1\" class=\"node\">\n<title>0</title>\n<path fill=\"#eeae80\" stroke=\"black\" d=\"M1032,-544C1032,-544 718,-544 718,-544 712,-544 706,-538 706,-532 706,-532 706,-473 706,-473 706,-467 712,-461 718,-461 718,-461 1032,-461 1032,-461 1038,-461 1044,-467 1044,-473 1044,-473 1044,-532 1044,-532 1044,-538 1038,-544 1032,-544\"/>\n<text text-anchor=\"middle\" x=\"875\" y=\"-528.8\" font-family=\"calibri\" font-size=\"14.00\">node #0</text>\n<text text-anchor=\"middle\" x=\"875\" y=\"-513.8\" font-family=\"calibri\" font-size=\"14.00\">Income composition of resources &lt;= 0.56</text>\n<text text-anchor=\"middle\" x=\"875\" y=\"-498.8\" font-family=\"calibri\" font-size=\"14.00\">squared_error = 78.48</text>\n<text text-anchor=\"middle\" x=\"875\" y=\"-483.8\" font-family=\"calibri\" font-size=\"14.00\">samples = 1184</text>\n<text text-anchor=\"middle\" x=\"875\" y=\"-468.8\" font-family=\"calibri\" font-size=\"14.00\">value = 69.38</text>\n</g>\n<!-- 1 -->\n<g id=\"node2\" class=\"node\">\n<title>1</title>\n<path fill=\"#f6d2b9\" stroke=\"black\" d=\"M713,-425C713,-425 547,-425 547,-425 541,-425 535,-419 535,-413 535,-413 535,-354 535,-354 535,-348 541,-342 547,-342 547,-342 713,-342 713,-342 719,-342 725,-348 725,-354 725,-354 725,-413 725,-413 725,-419 719,-425 713,-425\"/>\n<text text-anchor=\"middle\" x=\"630\" y=\"-409.8\" font-family=\"calibri\" font-size=\"14.00\">node #1</text>\n<text text-anchor=\"middle\" x=\"630\" y=\"-394.8\" font-family=\"calibri\" font-size=\"14.00\">HIV/AIDS &lt;= 1.25</text>\n<text text-anchor=\"middle\" x=\"630\" y=\"-379.8\" font-family=\"calibri\" font-size=\"14.00\">squared_error = 44.86</text>\n<text text-anchor=\"middle\" x=\"630\" y=\"-364.8\" font-family=\"calibri\" font-size=\"14.00\">samples = 350</text>\n<text text-anchor=\"middle\" x=\"630\" y=\"-349.8\" font-family=\"calibri\" font-size=\"14.00\">value = 59.37</text>\n</g>\n<!-- 0&#45;&gt;1 -->\n<g id=\"edge1\" class=\"edge\">\n<title>0&#45;&gt;1</title>\n<path fill=\"none\" stroke=\"black\" d=\"M790,-460.91C768.71,-450.74 745.76,-439.78 724.06,-429.42\"/>\n<polygon fill=\"black\" stroke=\"black\" points=\"725.38,-426.17 714.85,-425.02 722.37,-432.49 725.38,-426.17\"/>\n<text text-anchor=\"middle\" x=\"723.19\" y=\"-444.89\" font-family=\"calibri\" font-size=\"14.00\">True</text>\n</g>\n<!-- 10 -->\n<g id=\"node11\" class=\"node\">\n<title>10</title>\n<path fill=\"#eb9f68\" stroke=\"black\" d=\"M1305,-425C1305,-425 999,-425 999,-425 993,-425 987,-419 987,-413 987,-413 987,-354 987,-354 987,-348 993,-342 999,-342 999,-342 1305,-342 1305,-342 1311,-342 1317,-348 1317,-354 1317,-354 1317,-413 1317,-413 1317,-419 1311,-425 1305,-425\"/>\n<text text-anchor=\"middle\" x=\"1152\" y=\"-409.8\" font-family=\"calibri\" font-size=\"14.00\">node #10</text>\n<text text-anchor=\"middle\" x=\"1152\" y=\"-394.8\" font-family=\"calibri\" font-size=\"14.00\">Income composition of resources &lt;= 0.8</text>\n<text text-anchor=\"middle\" x=\"1152\" y=\"-379.8\" font-family=\"calibri\" font-size=\"14.00\">squared_error = 32.82</text>\n<text text-anchor=\"middle\" x=\"1152\" y=\"-364.8\" font-family=\"calibri\" font-size=\"14.00\">samples = 834</text>\n<text text-anchor=\"middle\" x=\"1152\" y=\"-349.8\" font-family=\"calibri\" font-size=\"14.00\">value = 73.59</text>\n</g>\n<!-- 0&#45;&gt;10 -->\n<g id=\"edge10\" class=\"edge\">\n<title>0&#45;&gt;10</title>\n<path fill=\"none\" stroke=\"black\" d=\"M971.1,-460.91C995.49,-450.61 1021.82,-439.49 1046.64,-429\"/>\n<polygon fill=\"black\" stroke=\"black\" points=\"1048.22,-432.14 1056.07,-425.02 1045.49,-425.69 1048.22,-432.14\"/>\n<text text-anchor=\"middle\" x=\"1046.66\" y=\"-444.48\" font-family=\"calibri\" font-size=\"14.00\">False</text>\n</g>\n<!-- 2 -->\n<g id=\"node3\" class=\"node\">\n<title>2</title>\n<path fill=\"#f2c29f\" stroke=\"black\" d=\"M398.5,-306C398.5,-306 207.5,-306 207.5,-306 201.5,-306 195.5,-300 195.5,-294 195.5,-294 195.5,-235 195.5,-235 195.5,-229 201.5,-223 207.5,-223 207.5,-223 398.5,-223 398.5,-223 404.5,-223 410.5,-229 410.5,-235 410.5,-235 410.5,-294 410.5,-294 410.5,-300 404.5,-306 398.5,-306\"/>\n<text text-anchor=\"middle\" x=\"303\" y=\"-290.8\" font-family=\"calibri\" font-size=\"14.00\">node #2</text>\n<text text-anchor=\"middle\" x=\"303\" y=\"-275.8\" font-family=\"calibri\" font-size=\"14.00\">Adult Mortality &lt;= 245.5</text>\n<text text-anchor=\"middle\" x=\"303\" y=\"-260.8\" font-family=\"calibri\" font-size=\"14.00\">squared_error = 19.52</text>\n<text text-anchor=\"middle\" x=\"303\" y=\"-245.8\" font-family=\"calibri\" font-size=\"14.00\">samples = 169</text>\n<text text-anchor=\"middle\" x=\"303\" y=\"-230.8\" font-family=\"calibri\" font-size=\"14.00\">value = 63.96</text>\n</g>\n<!-- 1&#45;&gt;2 -->\n<g id=\"edge2\" class=\"edge\">\n<title>1&#45;&gt;2</title>\n<path fill=\"none\" stroke=\"black\" d=\"M534.98,-348.5C499.08,-335.66 457.81,-320.89 420.12,-307.41\"/>\n<polygon fill=\"black\" stroke=\"black\" points=\"421.22,-304.08 410.62,-304.01 418.86,-310.67 421.22,-304.08\"/>\n</g>\n<!-- 5 -->\n<g id=\"node6\" class=\"node\">\n<title>5</title>\n<path fill=\"#f9e2d2\" stroke=\"black\" d=\"M713,-306C713,-306 547,-306 547,-306 541,-306 535,-300 535,-294 535,-294 535,-235 535,-235 535,-229 541,-223 547,-223 547,-223 713,-223 713,-223 719,-223 725,-229 725,-235 725,-235 725,-294 725,-294 725,-300 719,-306 713,-306\"/>\n<text text-anchor=\"middle\" x=\"630\" y=\"-290.8\" font-family=\"calibri\" font-size=\"14.00\">node #5</text>\n<text text-anchor=\"middle\" x=\"630\" y=\"-275.8\" font-family=\"calibri\" font-size=\"14.00\">HIV/AIDS &lt;= 16.25</text>\n<text text-anchor=\"middle\" x=\"630\" y=\"-260.8\" font-family=\"calibri\" font-size=\"14.00\">squared_error = 30.47</text>\n<text text-anchor=\"middle\" x=\"630\" y=\"-245.8\" font-family=\"calibri\" font-size=\"14.00\">samples = 181</text>\n<text text-anchor=\"middle\" x=\"630\" y=\"-230.8\" font-family=\"calibri\" font-size=\"14.00\">value = 55.08</text>\n</g>\n<!-- 1&#45;&gt;5 -->\n<g id=\"edge5\" class=\"edge\">\n<title>1&#45;&gt;5</title>\n<path fill=\"none\" stroke=\"black\" d=\"M630,-341.91C630,-333.65 630,-324.86 630,-316.3\"/>\n<polygon fill=\"black\" stroke=\"black\" points=\"633.5,-316.02 630,-306.02 626.5,-316.02 633.5,-316.02\"/>\n</g>\n<!-- 3 -->\n<g id=\"node4\" class=\"node\">\n<title>3</title>\n<path fill=\"#f1ba93\" stroke=\"black\" d=\"M178,-179.5C178,-179.5 12,-179.5 12,-179.5 6,-179.5 0,-173.5 0,-167.5 0,-167.5 0,-123.5 0,-123.5 0,-117.5 6,-111.5 12,-111.5 12,-111.5 178,-111.5 178,-111.5 184,-111.5 190,-117.5 190,-123.5 190,-123.5 190,-167.5 190,-167.5 190,-173.5 184,-179.5 178,-179.5\"/>\n<text text-anchor=\"middle\" x=\"95\" y=\"-164.3\" font-family=\"calibri\" font-size=\"14.00\">node #3</text>\n<text text-anchor=\"middle\" x=\"95\" y=\"-149.3\" font-family=\"calibri\" font-size=\"14.00\">squared_error = 11.12</text>\n<text text-anchor=\"middle\" x=\"95\" y=\"-134.3\" font-family=\"calibri\" font-size=\"14.00\">samples = 110</text>\n<text text-anchor=\"middle\" x=\"95\" y=\"-119.3\" font-family=\"calibri\" font-size=\"14.00\">value = 66.03</text>\n</g>\n<!-- 2&#45;&gt;3 -->\n<g id=\"edge3\" class=\"edge\">\n<title>2&#45;&gt;3</title>\n<path fill=\"none\" stroke=\"black\" d=\"M230.84,-222.91C208.77,-210.49 184.58,-196.89 162.81,-184.64\"/>\n<polygon fill=\"black\" stroke=\"black\" points=\"164.4,-181.52 153.96,-179.67 160.96,-187.62 164.4,-181.52\"/>\n</g>\n<!-- 4 -->\n<g id=\"node5\" class=\"node\">\n<title>4</title>\n<path fill=\"#f5d0b5\" stroke=\"black\" d=\"M386,-179.5C386,-179.5 220,-179.5 220,-179.5 214,-179.5 208,-173.5 208,-167.5 208,-167.5 208,-123.5 208,-123.5 208,-117.5 214,-111.5 220,-111.5 220,-111.5 386,-111.5 386,-111.5 392,-111.5 398,-117.5 398,-123.5 398,-123.5 398,-167.5 398,-167.5 398,-173.5 392,-179.5 386,-179.5\"/>\n<text text-anchor=\"middle\" x=\"303\" y=\"-164.3\" font-family=\"calibri\" font-size=\"14.00\">node #4</text>\n<text text-anchor=\"middle\" x=\"303\" y=\"-149.3\" font-family=\"calibri\" font-size=\"14.00\">squared_error = 12.15</text>\n<text text-anchor=\"middle\" x=\"303\" y=\"-134.3\" font-family=\"calibri\" font-size=\"14.00\">samples = 59</text>\n<text text-anchor=\"middle\" x=\"303\" y=\"-119.3\" font-family=\"calibri\" font-size=\"14.00\">value = 60.09</text>\n</g>\n<!-- 2&#45;&gt;4 -->\n<g id=\"edge4\" class=\"edge\">\n<title>2&#45;&gt;4</title>\n<path fill=\"none\" stroke=\"black\" d=\"M303,-222.91C303,-212.2 303,-200.62 303,-189.78\"/>\n<polygon fill=\"black\" stroke=\"black\" points=\"306.5,-189.67 303,-179.67 299.5,-189.67 306.5,-189.67\"/>\n</g>\n<!-- 6 -->\n<g id=\"node7\" class=\"node\">\n<title>6</title>\n<path fill=\"#f8ddc9\" stroke=\"black\" d=\"M619.5,-187C619.5,-187 428.5,-187 428.5,-187 422.5,-187 416.5,-181 416.5,-175 416.5,-175 416.5,-116 416.5,-116 416.5,-110 422.5,-104 428.5,-104 428.5,-104 619.5,-104 619.5,-104 625.5,-104 631.5,-110 631.5,-116 631.5,-116 631.5,-175 631.5,-175 631.5,-181 625.5,-187 619.5,-187\"/>\n<text text-anchor=\"middle\" x=\"524\" y=\"-171.8\" font-family=\"calibri\" font-size=\"14.00\">node #6</text>\n<text text-anchor=\"middle\" x=\"524\" y=\"-156.8\" font-family=\"calibri\" font-size=\"14.00\">Adult Mortality &lt;= 351.0</text>\n<text text-anchor=\"middle\" x=\"524\" y=\"-141.8\" font-family=\"calibri\" font-size=\"14.00\">squared_error = 21.19</text>\n<text text-anchor=\"middle\" x=\"524\" y=\"-126.8\" font-family=\"calibri\" font-size=\"14.00\">samples = 153</text>\n<text text-anchor=\"middle\" x=\"524\" y=\"-111.8\" font-family=\"calibri\" font-size=\"14.00\">value = 56.54</text>\n</g>\n<!-- 5&#45;&gt;6 -->\n<g id=\"edge6\" class=\"edge\">\n<title>5&#45;&gt;6</title>\n<path fill=\"none\" stroke=\"black\" d=\"M593.22,-222.91C584.92,-213.74 576.03,-203.93 567.48,-194.49\"/>\n<polygon fill=\"black\" stroke=\"black\" points=\"570.02,-192.08 560.71,-187.02 564.83,-196.78 570.02,-192.08\"/>\n</g>\n<!-- 9 -->\n<g id=\"node10\" class=\"node\">\n<title>9</title>\n<path fill=\"#ffffff\" stroke=\"black\" d=\"M820,-179.5C820,-179.5 662,-179.5 662,-179.5 656,-179.5 650,-173.5 650,-167.5 650,-167.5 650,-123.5 650,-123.5 650,-117.5 656,-111.5 662,-111.5 662,-111.5 820,-111.5 820,-111.5 826,-111.5 832,-117.5 832,-123.5 832,-123.5 832,-167.5 832,-167.5 832,-173.5 826,-179.5 820,-179.5\"/>\n<text text-anchor=\"middle\" x=\"741\" y=\"-164.3\" font-family=\"calibri\" font-size=\"14.00\">node #9</text>\n<text text-anchor=\"middle\" x=\"741\" y=\"-149.3\" font-family=\"calibri\" font-size=\"14.00\">squared_error = 6.15</text>\n<text text-anchor=\"middle\" x=\"741\" y=\"-134.3\" font-family=\"calibri\" font-size=\"14.00\">samples = 28</text>\n<text text-anchor=\"middle\" x=\"741\" y=\"-119.3\" font-family=\"calibri\" font-size=\"14.00\">value = 47.12</text>\n</g>\n<!-- 5&#45;&gt;9 -->\n<g id=\"edge9\" class=\"edge\">\n<title>5&#45;&gt;9</title>\n<path fill=\"none\" stroke=\"black\" d=\"M668.51,-222.91C679.5,-211.32 691.48,-198.7 702.47,-187.11\"/>\n<polygon fill=\"black\" stroke=\"black\" points=\"705.19,-189.33 709.53,-179.67 700.11,-184.51 705.19,-189.33\"/>\n</g>\n<!-- 7 -->\n<g id=\"node8\" class=\"node\">\n<title>7</title>\n<path fill=\"#f6d5bd\" stroke=\"black\" d=\"M505,-68C505,-68 339,-68 339,-68 333,-68 327,-62 327,-56 327,-56 327,-12 327,-12 327,-6 333,0 339,0 339,0 505,0 505,0 511,0 517,-6 517,-12 517,-12 517,-56 517,-56 517,-62 511,-68 505,-68\"/>\n<text text-anchor=\"middle\" x=\"422\" y=\"-52.8\" font-family=\"calibri\" font-size=\"14.00\">node #7</text>\n<text text-anchor=\"middle\" x=\"422\" y=\"-37.8\" font-family=\"calibri\" font-size=\"14.00\">squared_error = 17.16</text>\n<text text-anchor=\"middle\" x=\"422\" y=\"-22.8\" font-family=\"calibri\" font-size=\"14.00\">samples = 92</text>\n<text text-anchor=\"middle\" x=\"422\" y=\"-7.8\" font-family=\"calibri\" font-size=\"14.00\">value = 58.62</text>\n</g>\n<!-- 6&#45;&gt;7 -->\n<g id=\"edge7\" class=\"edge\">\n<title>6&#45;&gt;7</title>\n<path fill=\"none\" stroke=\"black\" d=\"M486.02,-103.73C477.52,-94.61 468.51,-84.93 460.01,-75.81\"/>\n<polygon fill=\"black\" stroke=\"black\" points=\"462.4,-73.23 453.02,-68.3 457.27,-78 462.4,-73.23\"/>\n</g>\n<!-- 8 -->\n<g id=\"node9\" class=\"node\">\n<title>8</title>\n<path fill=\"#fae8db\" stroke=\"black\" d=\"M705,-68C705,-68 547,-68 547,-68 541,-68 535,-62 535,-56 535,-56 535,-12 535,-12 535,-6 541,0 547,0 547,0 705,0 705,0 711,0 717,-6 717,-12 717,-12 717,-56 717,-56 717,-62 711,-68 705,-68\"/>\n<text text-anchor=\"middle\" x=\"626\" y=\"-52.8\" font-family=\"calibri\" font-size=\"14.00\">node #8</text>\n<text text-anchor=\"middle\" x=\"626\" y=\"-37.8\" font-family=\"calibri\" font-size=\"14.00\">squared_error = 10.9</text>\n<text text-anchor=\"middle\" x=\"626\" y=\"-22.8\" font-family=\"calibri\" font-size=\"14.00\">samples = 61</text>\n<text text-anchor=\"middle\" x=\"626\" y=\"-7.8\" font-family=\"calibri\" font-size=\"14.00\">value = 53.4</text>\n</g>\n<!-- 6&#45;&gt;8 -->\n<g id=\"edge8\" class=\"edge\">\n<title>6&#45;&gt;8</title>\n<path fill=\"none\" stroke=\"black\" d=\"M561.98,-103.73C570.48,-94.61 579.49,-84.93 587.99,-75.81\"/>\n<polygon fill=\"black\" stroke=\"black\" points=\"590.73,-78 594.98,-68.3 585.6,-73.23 590.73,-78\"/>\n</g>\n<!-- 11 -->\n<g id=\"node12\" class=\"node\">\n<title>11</title>\n<path fill=\"#eda674\" stroke=\"black\" d=\"M1247.5,-306C1247.5,-306 1056.5,-306 1056.5,-306 1050.5,-306 1044.5,-300 1044.5,-294 1044.5,-294 1044.5,-235 1044.5,-235 1044.5,-229 1050.5,-223 1056.5,-223 1056.5,-223 1247.5,-223 1247.5,-223 1253.5,-223 1259.5,-229 1259.5,-235 1259.5,-235 1259.5,-294 1259.5,-294 1259.5,-300 1253.5,-306 1247.5,-306\"/>\n<text text-anchor=\"middle\" x=\"1152\" y=\"-290.8\" font-family=\"calibri\" font-size=\"14.00\">node #11</text>\n<text text-anchor=\"middle\" x=\"1152\" y=\"-275.8\" font-family=\"calibri\" font-size=\"14.00\">Adult Mortality &lt;= 216.5</text>\n<text text-anchor=\"middle\" x=\"1152\" y=\"-260.8\" font-family=\"calibri\" font-size=\"14.00\">squared_error = 20.96</text>\n<text text-anchor=\"middle\" x=\"1152\" y=\"-245.8\" font-family=\"calibri\" font-size=\"14.00\">samples = 626</text>\n<text text-anchor=\"middle\" x=\"1152\" y=\"-230.8\" font-family=\"calibri\" font-size=\"14.00\">value = 71.48</text>\n</g>\n<!-- 10&#45;&gt;11 -->\n<g id=\"edge11\" class=\"edge\">\n<title>10&#45;&gt;11</title>\n<path fill=\"none\" stroke=\"black\" d=\"M1152,-341.91C1152,-333.65 1152,-324.86 1152,-316.3\"/>\n<polygon fill=\"black\" stroke=\"black\" points=\"1155.5,-316.02 1152,-306.02 1148.5,-316.02 1155.5,-316.02\"/>\n</g>\n<!-- 16 -->\n<g id=\"node17\" class=\"node\">\n<title>16</title>\n<path fill=\"#e68844\" stroke=\"black\" d=\"M1683,-306C1683,-306 1451,-306 1451,-306 1445,-306 1439,-300 1439,-294 1439,-294 1439,-235 1439,-235 1439,-229 1445,-223 1451,-223 1451,-223 1683,-223 1683,-223 1689,-223 1695,-229 1695,-235 1695,-235 1695,-294 1695,-294 1695,-300 1689,-306 1683,-306\"/>\n<text text-anchor=\"middle\" x=\"1567\" y=\"-290.8\" font-family=\"calibri\" font-size=\"14.00\">node #16</text>\n<text text-anchor=\"middle\" x=\"1567\" y=\"-275.8\" font-family=\"calibri\" font-size=\"14.00\"> thinness &#160;1&#45;19 years &lt;= 1.85</text>\n<text text-anchor=\"middle\" x=\"1567\" y=\"-260.8\" font-family=\"calibri\" font-size=\"14.00\">squared_error = 15.04</text>\n<text text-anchor=\"middle\" x=\"1567\" y=\"-245.8\" font-family=\"calibri\" font-size=\"14.00\">samples = 208</text>\n<text text-anchor=\"middle\" x=\"1567\" y=\"-230.8\" font-family=\"calibri\" font-size=\"14.00\">value = 79.92</text>\n</g>\n<!-- 10&#45;&gt;16 -->\n<g id=\"edge16\" class=\"edge\">\n<title>10&#45;&gt;16</title>\n<path fill=\"none\" stroke=\"black\" d=\"M1295.69,-341.99C1338.91,-329.8 1386.22,-316.47 1429.06,-304.39\"/>\n<polygon fill=\"black\" stroke=\"black\" points=\"1430.02,-307.75 1438.7,-301.67 1428.12,-301.02 1430.02,-307.75\"/>\n</g>\n<!-- 12 -->\n<g id=\"node13\" class=\"node\">\n<title>12</title>\n<path fill=\"#eca16c\" stroke=\"black\" d=\"M1168,-187C1168,-187 862,-187 862,-187 856,-187 850,-181 850,-175 850,-175 850,-116 850,-116 850,-110 856,-104 862,-104 862,-104 1168,-104 1168,-104 1174,-104 1180,-110 1180,-116 1180,-116 1180,-175 1180,-175 1180,-181 1174,-187 1168,-187\"/>\n<text text-anchor=\"middle\" x=\"1015\" y=\"-171.8\" font-family=\"calibri\" font-size=\"14.00\">node #12</text>\n<text text-anchor=\"middle\" x=\"1015\" y=\"-156.8\" font-family=\"calibri\" font-size=\"14.00\">Income composition of resources &lt;= 0.7</text>\n<text text-anchor=\"middle\" x=\"1015\" y=\"-141.8\" font-family=\"calibri\" font-size=\"14.00\">squared_error = 9.26</text>\n<text text-anchor=\"middle\" x=\"1015\" y=\"-126.8\" font-family=\"calibri\" font-size=\"14.00\">samples = 516</text>\n<text text-anchor=\"middle\" x=\"1015\" y=\"-111.8\" font-family=\"calibri\" font-size=\"14.00\">value = 72.89</text>\n</g>\n<!-- 11&#45;&gt;12 -->\n<g id=\"edge12\" class=\"edge\">\n<title>11&#45;&gt;12</title>\n<path fill=\"none\" stroke=\"black\" d=\"M1104.47,-222.91C1093.42,-213.47 1081.56,-203.34 1070.21,-193.65\"/>\n<polygon fill=\"black\" stroke=\"black\" points=\"1072.32,-190.85 1062.45,-187.02 1067.78,-196.18 1072.32,-190.85\"/>\n</g>\n<!-- 15 -->\n<g id=\"node16\" class=\"node\">\n<title>15</title>\n<path fill=\"#f2be9a\" stroke=\"black\" d=\"M1368,-179.5C1368,-179.5 1210,-179.5 1210,-179.5 1204,-179.5 1198,-173.5 1198,-167.5 1198,-167.5 1198,-123.5 1198,-123.5 1198,-117.5 1204,-111.5 1210,-111.5 1210,-111.5 1368,-111.5 1368,-111.5 1374,-111.5 1380,-117.5 1380,-123.5 1380,-123.5 1380,-167.5 1380,-167.5 1380,-173.5 1374,-179.5 1368,-179.5\"/>\n<text text-anchor=\"middle\" x=\"1289\" y=\"-164.3\" font-family=\"calibri\" font-size=\"14.00\">node #15</text>\n<text text-anchor=\"middle\" x=\"1289\" y=\"-149.3\" font-family=\"calibri\" font-size=\"14.00\">squared_error = 22.9</text>\n<text text-anchor=\"middle\" x=\"1289\" y=\"-134.3\" font-family=\"calibri\" font-size=\"14.00\">samples = 110</text>\n<text text-anchor=\"middle\" x=\"1289\" y=\"-119.3\" font-family=\"calibri\" font-size=\"14.00\">value = 64.88</text>\n</g>\n<!-- 11&#45;&gt;15 -->\n<g id=\"edge15\" class=\"edge\">\n<title>11&#45;&gt;15</title>\n<path fill=\"none\" stroke=\"black\" d=\"M1199.53,-222.91C1213.36,-211.1 1228.44,-198.22 1242.22,-186.45\"/>\n<polygon fill=\"black\" stroke=\"black\" points=\"1244.83,-188.82 1250.16,-179.67 1240.29,-183.5 1244.83,-188.82\"/>\n</g>\n<!-- 13 -->\n<g id=\"node14\" class=\"node\">\n<title>13</title>\n<path fill=\"#eda673\" stroke=\"black\" d=\"M1060,-68C1060,-68 902,-68 902,-68 896,-68 890,-62 890,-56 890,-56 890,-12 890,-12 890,-6 896,0 902,0 902,0 1060,0 1060,0 1066,0 1072,-6 1072,-12 1072,-12 1072,-56 1072,-56 1072,-62 1066,-68 1060,-68\"/>\n<text text-anchor=\"middle\" x=\"981\" y=\"-52.8\" font-family=\"calibri\" font-size=\"14.00\">node #13</text>\n<text text-anchor=\"middle\" x=\"981\" y=\"-37.8\" font-family=\"calibri\" font-size=\"14.00\">squared_error = 9.76</text>\n<text text-anchor=\"middle\" x=\"981\" y=\"-22.8\" font-family=\"calibri\" font-size=\"14.00\">samples = 261</text>\n<text text-anchor=\"middle\" x=\"981\" y=\"-7.8\" font-family=\"calibri\" font-size=\"14.00\">value = 71.63</text>\n</g>\n<!-- 12&#45;&gt;13 -->\n<g id=\"edge13\" class=\"edge\">\n<title>12&#45;&gt;13</title>\n<path fill=\"none\" stroke=\"black\" d=\"M1002.34,-103.73C999.73,-95.34 996.98,-86.47 994.35,-78.01\"/>\n<polygon fill=\"black\" stroke=\"black\" points=\"997.65,-76.81 991.34,-68.3 990.96,-78.89 997.65,-76.81\"/>\n</g>\n<!-- 14 -->\n<g id=\"node15\" class=\"node\">\n<title>14</title>\n<path fill=\"#eb9d64\" stroke=\"black\" d=\"M1260,-68C1260,-68 1102,-68 1102,-68 1096,-68 1090,-62 1090,-56 1090,-56 1090,-12 1090,-12 1090,-6 1096,0 1102,0 1102,0 1260,0 1260,0 1266,0 1272,-6 1272,-12 1272,-12 1272,-56 1272,-56 1272,-62 1266,-68 1260,-68\"/>\n<text text-anchor=\"middle\" x=\"1181\" y=\"-52.8\" font-family=\"calibri\" font-size=\"14.00\">node #14</text>\n<text text-anchor=\"middle\" x=\"1181\" y=\"-37.8\" font-family=\"calibri\" font-size=\"14.00\">squared_error = 5.48</text>\n<text text-anchor=\"middle\" x=\"1181\" y=\"-22.8\" font-family=\"calibri\" font-size=\"14.00\">samples = 255</text>\n<text text-anchor=\"middle\" x=\"1181\" y=\"-7.8\" font-family=\"calibri\" font-size=\"14.00\">value = 74.18</text>\n</g>\n<!-- 12&#45;&gt;14 -->\n<g id=\"edge14\" class=\"edge\">\n<title>12&#45;&gt;14</title>\n<path fill=\"none\" stroke=\"black\" d=\"M1076.81,-103.73C1091.68,-93.92 1107.53,-83.46 1122.26,-73.75\"/>\n<polygon fill=\"black\" stroke=\"black\" points=\"1124.36,-76.55 1130.78,-68.13 1120.51,-70.71 1124.36,-76.55\"/>\n</g>\n<!-- 17 -->\n<g id=\"node18\" class=\"node\">\n<title>17</title>\n<path fill=\"#e5833d\" stroke=\"black\" d=\"M1724,-187C1724,-187 1410,-187 1410,-187 1404,-187 1398,-181 1398,-175 1398,-175 1398,-116 1398,-116 1398,-110 1404,-104 1410,-104 1410,-104 1724,-104 1724,-104 1730,-104 1736,-110 1736,-116 1736,-116 1736,-175 1736,-175 1736,-181 1730,-187 1724,-187\"/>\n<text text-anchor=\"middle\" x=\"1567\" y=\"-171.8\" font-family=\"calibri\" font-size=\"14.00\">node #17</text>\n<text text-anchor=\"middle\" x=\"1567\" y=\"-156.8\" font-family=\"calibri\" font-size=\"14.00\">Income composition of resources &lt;= 0.83</text>\n<text text-anchor=\"middle\" x=\"1567\" y=\"-141.8\" font-family=\"calibri\" font-size=\"14.00\">squared_error = 9.3</text>\n<text text-anchor=\"middle\" x=\"1567\" y=\"-126.8\" font-family=\"calibri\" font-size=\"14.00\">samples = 171</text>\n<text text-anchor=\"middle\" x=\"1567\" y=\"-111.8\" font-family=\"calibri\" font-size=\"14.00\">value = 81.13</text>\n</g>\n<!-- 16&#45;&gt;17 -->\n<g id=\"edge17\" class=\"edge\">\n<title>16&#45;&gt;17</title>\n<path fill=\"none\" stroke=\"black\" d=\"M1567,-222.91C1567,-214.65 1567,-205.86 1567,-197.3\"/>\n<polygon fill=\"black\" stroke=\"black\" points=\"1570.5,-197.02 1567,-187.02 1563.5,-197.02 1570.5,-197.02\"/>\n</g>\n<!-- 20 -->\n<g id=\"node21\" class=\"node\">\n<title>20</title>\n<path fill=\"#eb9c64\" stroke=\"black\" d=\"M1924,-179.5C1924,-179.5 1766,-179.5 1766,-179.5 1760,-179.5 1754,-173.5 1754,-167.5 1754,-167.5 1754,-123.5 1754,-123.5 1754,-117.5 1760,-111.5 1766,-111.5 1766,-111.5 1924,-111.5 1924,-111.5 1930,-111.5 1936,-117.5 1936,-123.5 1936,-123.5 1936,-167.5 1936,-167.5 1936,-173.5 1930,-179.5 1924,-179.5\"/>\n<text text-anchor=\"middle\" x=\"1845\" y=\"-164.3\" font-family=\"calibri\" font-size=\"14.00\">node #20</text>\n<text text-anchor=\"middle\" x=\"1845\" y=\"-149.3\" font-family=\"calibri\" font-size=\"14.00\">squared_error = 3.44</text>\n<text text-anchor=\"middle\" x=\"1845\" y=\"-134.3\" font-family=\"calibri\" font-size=\"14.00\">samples = 37</text>\n<text text-anchor=\"middle\" x=\"1845\" y=\"-119.3\" font-family=\"calibri\" font-size=\"14.00\">value = 74.32</text>\n</g>\n<!-- 16&#45;&gt;20 -->\n<g id=\"edge20\" class=\"edge\">\n<title>16&#45;&gt;20</title>\n<path fill=\"none\" stroke=\"black\" d=\"M1663.45,-222.91C1693.73,-210.16 1727,-196.16 1756.69,-183.67\"/>\n<polygon fill=\"black\" stroke=\"black\" points=\"1758.33,-186.77 1766.19,-179.67 1755.62,-180.32 1758.33,-186.77\"/>\n</g>\n<!-- 18 -->\n<g id=\"node19\" class=\"node\">\n<title>18</title>\n<path fill=\"#e78d4c\" stroke=\"black\" d=\"M1479,-68C1479,-68 1321,-68 1321,-68 1315,-68 1309,-62 1309,-56 1309,-56 1309,-12 1309,-12 1309,-6 1315,0 1321,0 1321,0 1479,0 1479,0 1485,0 1491,-6 1491,-12 1491,-12 1491,-56 1491,-56 1491,-62 1485,-68 1479,-68\"/>\n<text text-anchor=\"middle\" x=\"1400\" y=\"-52.8\" font-family=\"calibri\" font-size=\"14.00\">node #18</text>\n<text text-anchor=\"middle\" x=\"1400\" y=\"-37.8\" font-family=\"calibri\" font-size=\"14.00\">squared_error = 3.61</text>\n<text text-anchor=\"middle\" x=\"1400\" y=\"-22.8\" font-family=\"calibri\" font-size=\"14.00\">samples = 34</text>\n<text text-anchor=\"middle\" x=\"1400\" y=\"-7.8\" font-family=\"calibri\" font-size=\"14.00\">value = 78.49</text>\n</g>\n<!-- 17&#45;&gt;18 -->\n<g id=\"edge18\" class=\"edge\">\n<title>17&#45;&gt;18</title>\n<path fill=\"none\" stroke=\"black\" d=\"M1504.82,-103.73C1489.85,-93.92 1473.91,-83.46 1459.1,-73.75\"/>\n<polygon fill=\"black\" stroke=\"black\" points=\"1460.8,-70.68 1450.52,-68.13 1456.96,-76.54 1460.8,-70.68\"/>\n</g>\n<!-- 19 -->\n<g id=\"node20\" class=\"node\">\n<title>19</title>\n<path fill=\"#e58139\" stroke=\"black\" d=\"M1679,-68C1679,-68 1521,-68 1521,-68 1515,-68 1509,-62 1509,-56 1509,-56 1509,-12 1509,-12 1509,-6 1515,0 1521,0 1521,0 1679,0 1679,0 1685,0 1691,-6 1691,-12 1691,-12 1691,-56 1691,-56 1691,-62 1685,-68 1679,-68\"/>\n<text text-anchor=\"middle\" x=\"1600\" y=\"-52.8\" font-family=\"calibri\" font-size=\"14.00\">node #19</text>\n<text text-anchor=\"middle\" x=\"1600\" y=\"-37.8\" font-family=\"calibri\" font-size=\"14.00\">squared_error = 8.54</text>\n<text text-anchor=\"middle\" x=\"1600\" y=\"-22.8\" font-family=\"calibri\" font-size=\"14.00\">samples = 137</text>\n<text text-anchor=\"middle\" x=\"1600\" y=\"-7.8\" font-family=\"calibri\" font-size=\"14.00\">value = 81.79</text>\n</g>\n<!-- 17&#45;&gt;19 -->\n<g id=\"edge19\" class=\"edge\">\n<title>17&#45;&gt;19</title>\n<path fill=\"none\" stroke=\"black\" d=\"M1579.29,-103.73C1581.82,-95.34 1584.49,-86.47 1587.04,-78.01\"/>\n<polygon fill=\"black\" stroke=\"black\" points=\"1590.43,-78.88 1589.96,-68.3 1583.73,-76.86 1590.43,-78.88\"/>\n</g>\n</g>\n</svg>\n",
            "text/plain": [
              "<graphviz.sources.Source at 0x7b5a18030d30>"
            ]
          },
          "metadata": {},
          "execution_count": 41
        }
      ]
    },
    {
      "cell_type": "code",
      "source": [
        "y_pred = dtr.predict(X_test)\n",
        "\n",
        "mse = metrics.mean_squared_error(y_pred, y_test)\n",
        "print(f\"MSE with decision tree model: {mse}\")\n",
        "\n",
        "mape = metrics.mean_absolute_percentage_error(y_test, y_pred)\n",
        "print(f\"MAPE with decision tree model: {mape}\")"
      ],
      "metadata": {
        "colab": {
          "base_uri": "https://localhost:8080/"
        },
        "id": "qrW7qffhZnr9",
        "outputId": "7399e992-2f99-490b-9f19-3b1224a43a27"
      },
      "execution_count": null,
      "outputs": [
        {
          "output_type": "stream",
          "name": "stdout",
          "text": [
            "MSE with decision tree model: 9.386691205184329\n",
            "MAPE with decision tree model: 0.03425118268107095\n"
          ]
        }
      ]
    }
  ]
}