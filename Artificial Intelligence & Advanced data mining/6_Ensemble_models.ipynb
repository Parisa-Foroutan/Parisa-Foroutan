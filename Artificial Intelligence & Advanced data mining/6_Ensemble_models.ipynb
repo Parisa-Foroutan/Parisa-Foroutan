{
  "nbformat": 4,
  "nbformat_minor": 0,
  "metadata": {
    "colab": {
      "provenance": [],
      "authorship_tag": "ABX9TyOoTyuL6xxyZN6Ny+sX8baU"
    },
    "kernelspec": {
      "name": "python3",
      "display_name": "Python 3"
    },
    "language_info": {
      "name": "python"
    }
  },
  "cells": [
    {
      "cell_type": "markdown",
      "source": [
        "**Ensemble models:**\n",
        "\n",
        "\n",
        "In this session various ensemble learning models will be presented. You can find the datasets here: [nasa.csv ](https://drive.google.com/file/d/1JPUOwwIuFbyIWPNyMCWj78S-CIuqb75d/view?usp=sharing) , and [life expectancy](https://drive.google.com/file/d/1JbIYKkp6N4C16ixcEe7zDQ536ksYr7Wr/view?usp=drive_link)."
      ],
      "metadata": {
        "id": "4c9VfK0SZxur"
      }
    },
    {
      "cell_type": "markdown",
      "source": [
        "Import Libraries:"
      ],
      "metadata": {
        "id": "3N0b4yenR_W4"
      }
    },
    {
      "cell_type": "code",
      "source": [
        "import numpy as np\n",
        "import pandas as pd\n",
        "import matplotlib.pyplot as plt\n",
        "import sklearn as sk\n",
        "\n",
        "from sklearn import linear_model, metrics, naive_bayes, neighbors, svm, tree"
      ],
      "metadata": {
        "id": "UHj3oiJg3cI0"
      },
      "execution_count": null,
      "outputs": []
    },
    {
      "cell_type": "markdown",
      "source": [
        "###Read the Data and Creat Individual Models:"
      ],
      "metadata": {
        "id": "zvFoqxSfx49R"
      }
    },
    {
      "cell_type": "code",
      "source": [
        "from google.colab import drive\n",
        "\n",
        "drive.mount('/content/drive')"
      ],
      "metadata": {
        "colab": {
          "base_uri": "https://localhost:8080/"
        },
        "id": "JG04qa33dJNr",
        "outputId": "d3a20612-1d7f-4367-f513-d7a8825efdb9"
      },
      "execution_count": null,
      "outputs": [
        {
          "output_type": "stream",
          "name": "stdout",
          "text": [
            "Mounted at /content/drive\n"
          ]
        }
      ]
    },
    {
      "cell_type": "code",
      "source": [
        "# Nasa Dataset\n",
        "classification_data = pd.read_csv(\"/content/drive/MyDrive/Datasets/nasa.csv\")\n",
        "classification_data.head(3)"
      ],
      "metadata": {
        "id": "7En9EWmsx49S",
        "colab": {
          "base_uri": "https://localhost:8080/",
          "height": 207
        },
        "outputId": "2f0f2a7a-067e-4a2e-ec75-7107ad2bc838"
      },
      "execution_count": null,
      "outputs": [
        {
          "output_type": "execute_result",
          "data": {
            "text/plain": [
              "      Name  Eccentricity  Inclination  Hazardous  Neo Reference ID  \\\n",
              "0  3723955      0.351674    28.412996          0           3723955   \n",
              "1  2446862      0.348248     4.237961          1           2446862   \n",
              "2  3671135      0.563441    17.927751          0           3671135   \n",
              "\n",
              "   Absolute Magnitude  Est Dia in Feet(min)  Est Dia in Feet(max)  \\\n",
              "0                21.3            479.225620           1071.581063   \n",
              "1                20.3            759.521423           1698.341531   \n",
              "2                19.6           1048.431420           2344.363926   \n",
              "\n",
              "   Close Approach Date  Epoch Date Close Approach  ...  \\\n",
              "0                12784               7.890000e+11  ...   \n",
              "1                12791               7.900000e+11  ...   \n",
              "2                12798               7.900000e+11  ...   \n",
              "\n",
              "   Jupiter Tisserand Invariant  Semi Major Axis  Asc Node Longitude  \\\n",
              "0                        5.457         1.107776          136.717242   \n",
              "1                        4.557         1.458824          259.475979   \n",
              "2                        4.724         1.323532          178.971951   \n",
              "\n",
              "   Orbital Period  Perihelion Distance  Perihelion Arg  Aphelion Dist  \\\n",
              "0      425.869294             0.718200      313.091975       1.497352   \n",
              "1      643.580228             0.950791      248.415038       1.966857   \n",
              "2      556.160556             0.577800      198.145969       2.069265   \n",
              "\n",
              "   Perihelion Time  Mean Anomaly  Mean Motion  \n",
              "0      2457794.969    173.741112     0.845330  \n",
              "1      2458120.468    292.893654     0.559371  \n",
              "2      2458009.403    354.237368     0.647295  \n",
              "\n",
              "[3 rows x 27 columns]"
            ],
            "text/html": [
              "\n",
              "  <div id=\"df-986073a7-fbac-48cc-8df1-9418a134cfb4\" class=\"colab-df-container\">\n",
              "    <div>\n",
              "<style scoped>\n",
              "    .dataframe tbody tr th:only-of-type {\n",
              "        vertical-align: middle;\n",
              "    }\n",
              "\n",
              "    .dataframe tbody tr th {\n",
              "        vertical-align: top;\n",
              "    }\n",
              "\n",
              "    .dataframe thead th {\n",
              "        text-align: right;\n",
              "    }\n",
              "</style>\n",
              "<table border=\"1\" class=\"dataframe\">\n",
              "  <thead>\n",
              "    <tr style=\"text-align: right;\">\n",
              "      <th></th>\n",
              "      <th>Name</th>\n",
              "      <th>Eccentricity</th>\n",
              "      <th>Inclination</th>\n",
              "      <th>Hazardous</th>\n",
              "      <th>Neo Reference ID</th>\n",
              "      <th>Absolute Magnitude</th>\n",
              "      <th>Est Dia in Feet(min)</th>\n",
              "      <th>Est Dia in Feet(max)</th>\n",
              "      <th>Close Approach Date</th>\n",
              "      <th>Epoch Date Close Approach</th>\n",
              "      <th>...</th>\n",
              "      <th>Jupiter Tisserand Invariant</th>\n",
              "      <th>Semi Major Axis</th>\n",
              "      <th>Asc Node Longitude</th>\n",
              "      <th>Orbital Period</th>\n",
              "      <th>Perihelion Distance</th>\n",
              "      <th>Perihelion Arg</th>\n",
              "      <th>Aphelion Dist</th>\n",
              "      <th>Perihelion Time</th>\n",
              "      <th>Mean Anomaly</th>\n",
              "      <th>Mean Motion</th>\n",
              "    </tr>\n",
              "  </thead>\n",
              "  <tbody>\n",
              "    <tr>\n",
              "      <th>0</th>\n",
              "      <td>3723955</td>\n",
              "      <td>0.351674</td>\n",
              "      <td>28.412996</td>\n",
              "      <td>0</td>\n",
              "      <td>3723955</td>\n",
              "      <td>21.3</td>\n",
              "      <td>479.225620</td>\n",
              "      <td>1071.581063</td>\n",
              "      <td>12784</td>\n",
              "      <td>7.890000e+11</td>\n",
              "      <td>...</td>\n",
              "      <td>5.457</td>\n",
              "      <td>1.107776</td>\n",
              "      <td>136.717242</td>\n",
              "      <td>425.869294</td>\n",
              "      <td>0.718200</td>\n",
              "      <td>313.091975</td>\n",
              "      <td>1.497352</td>\n",
              "      <td>2457794.969</td>\n",
              "      <td>173.741112</td>\n",
              "      <td>0.845330</td>\n",
              "    </tr>\n",
              "    <tr>\n",
              "      <th>1</th>\n",
              "      <td>2446862</td>\n",
              "      <td>0.348248</td>\n",
              "      <td>4.237961</td>\n",
              "      <td>1</td>\n",
              "      <td>2446862</td>\n",
              "      <td>20.3</td>\n",
              "      <td>759.521423</td>\n",
              "      <td>1698.341531</td>\n",
              "      <td>12791</td>\n",
              "      <td>7.900000e+11</td>\n",
              "      <td>...</td>\n",
              "      <td>4.557</td>\n",
              "      <td>1.458824</td>\n",
              "      <td>259.475979</td>\n",
              "      <td>643.580228</td>\n",
              "      <td>0.950791</td>\n",
              "      <td>248.415038</td>\n",
              "      <td>1.966857</td>\n",
              "      <td>2458120.468</td>\n",
              "      <td>292.893654</td>\n",
              "      <td>0.559371</td>\n",
              "    </tr>\n",
              "    <tr>\n",
              "      <th>2</th>\n",
              "      <td>3671135</td>\n",
              "      <td>0.563441</td>\n",
              "      <td>17.927751</td>\n",
              "      <td>0</td>\n",
              "      <td>3671135</td>\n",
              "      <td>19.6</td>\n",
              "      <td>1048.431420</td>\n",
              "      <td>2344.363926</td>\n",
              "      <td>12798</td>\n",
              "      <td>7.900000e+11</td>\n",
              "      <td>...</td>\n",
              "      <td>4.724</td>\n",
              "      <td>1.323532</td>\n",
              "      <td>178.971951</td>\n",
              "      <td>556.160556</td>\n",
              "      <td>0.577800</td>\n",
              "      <td>198.145969</td>\n",
              "      <td>2.069265</td>\n",
              "      <td>2458009.403</td>\n",
              "      <td>354.237368</td>\n",
              "      <td>0.647295</td>\n",
              "    </tr>\n",
              "  </tbody>\n",
              "</table>\n",
              "<p>3 rows × 27 columns</p>\n",
              "</div>\n",
              "    <div class=\"colab-df-buttons\">\n",
              "\n",
              "  <div class=\"colab-df-container\">\n",
              "    <button class=\"colab-df-convert\" onclick=\"convertToInteractive('df-986073a7-fbac-48cc-8df1-9418a134cfb4')\"\n",
              "            title=\"Convert this dataframe to an interactive table.\"\n",
              "            style=\"display:none;\">\n",
              "\n",
              "  <svg xmlns=\"http://www.w3.org/2000/svg\" height=\"24px\" viewBox=\"0 -960 960 960\">\n",
              "    <path d=\"M120-120v-720h720v720H120Zm60-500h600v-160H180v160Zm220 220h160v-160H400v160Zm0 220h160v-160H400v160ZM180-400h160v-160H180v160Zm440 0h160v-160H620v160ZM180-180h160v-160H180v160Zm440 0h160v-160H620v160Z\"/>\n",
              "  </svg>\n",
              "    </button>\n",
              "\n",
              "  <style>\n",
              "    .colab-df-container {\n",
              "      display:flex;\n",
              "      gap: 12px;\n",
              "    }\n",
              "\n",
              "    .colab-df-convert {\n",
              "      background-color: #E8F0FE;\n",
              "      border: none;\n",
              "      border-radius: 50%;\n",
              "      cursor: pointer;\n",
              "      display: none;\n",
              "      fill: #1967D2;\n",
              "      height: 32px;\n",
              "      padding: 0 0 0 0;\n",
              "      width: 32px;\n",
              "    }\n",
              "\n",
              "    .colab-df-convert:hover {\n",
              "      background-color: #E2EBFA;\n",
              "      box-shadow: 0px 1px 2px rgba(60, 64, 67, 0.3), 0px 1px 3px 1px rgba(60, 64, 67, 0.15);\n",
              "      fill: #174EA6;\n",
              "    }\n",
              "\n",
              "    .colab-df-buttons div {\n",
              "      margin-bottom: 4px;\n",
              "    }\n",
              "\n",
              "    [theme=dark] .colab-df-convert {\n",
              "      background-color: #3B4455;\n",
              "      fill: #D2E3FC;\n",
              "    }\n",
              "\n",
              "    [theme=dark] .colab-df-convert:hover {\n",
              "      background-color: #434B5C;\n",
              "      box-shadow: 0px 1px 3px 1px rgba(0, 0, 0, 0.15);\n",
              "      filter: drop-shadow(0px 1px 2px rgba(0, 0, 0, 0.3));\n",
              "      fill: #FFFFFF;\n",
              "    }\n",
              "  </style>\n",
              "\n",
              "    <script>\n",
              "      const buttonEl =\n",
              "        document.querySelector('#df-986073a7-fbac-48cc-8df1-9418a134cfb4 button.colab-df-convert');\n",
              "      buttonEl.style.display =\n",
              "        google.colab.kernel.accessAllowed ? 'block' : 'none';\n",
              "\n",
              "      async function convertToInteractive(key) {\n",
              "        const element = document.querySelector('#df-986073a7-fbac-48cc-8df1-9418a134cfb4');\n",
              "        const dataTable =\n",
              "          await google.colab.kernel.invokeFunction('convertToInteractive',\n",
              "                                                    [key], {});\n",
              "        if (!dataTable) return;\n",
              "\n",
              "        const docLinkHtml = 'Like what you see? Visit the ' +\n",
              "          '<a target=\"_blank\" href=https://colab.research.google.com/notebooks/data_table.ipynb>data table notebook</a>'\n",
              "          + ' to learn more about interactive tables.';\n",
              "        element.innerHTML = '';\n",
              "        dataTable['output_type'] = 'display_data';\n",
              "        await google.colab.output.renderOutput(dataTable, element);\n",
              "        const docLink = document.createElement('div');\n",
              "        docLink.innerHTML = docLinkHtml;\n",
              "        element.appendChild(docLink);\n",
              "      }\n",
              "    </script>\n",
              "  </div>\n",
              "\n",
              "\n",
              "<div id=\"df-bd7972db-6eed-4747-9aa9-823d3813fe21\">\n",
              "  <button class=\"colab-df-quickchart\" onclick=\"quickchart('df-bd7972db-6eed-4747-9aa9-823d3813fe21')\"\n",
              "            title=\"Suggest charts\"\n",
              "            style=\"display:none;\">\n",
              "\n",
              "<svg xmlns=\"http://www.w3.org/2000/svg\" height=\"24px\"viewBox=\"0 0 24 24\"\n",
              "     width=\"24px\">\n",
              "    <g>\n",
              "        <path d=\"M19 3H5c-1.1 0-2 .9-2 2v14c0 1.1.9 2 2 2h14c1.1 0 2-.9 2-2V5c0-1.1-.9-2-2-2zM9 17H7v-7h2v7zm4 0h-2V7h2v10zm4 0h-2v-4h2v4z\"/>\n",
              "    </g>\n",
              "</svg>\n",
              "  </button>\n",
              "\n",
              "<style>\n",
              "  .colab-df-quickchart {\n",
              "      --bg-color: #E8F0FE;\n",
              "      --fill-color: #1967D2;\n",
              "      --hover-bg-color: #E2EBFA;\n",
              "      --hover-fill-color: #174EA6;\n",
              "      --disabled-fill-color: #AAA;\n",
              "      --disabled-bg-color: #DDD;\n",
              "  }\n",
              "\n",
              "  [theme=dark] .colab-df-quickchart {\n",
              "      --bg-color: #3B4455;\n",
              "      --fill-color: #D2E3FC;\n",
              "      --hover-bg-color: #434B5C;\n",
              "      --hover-fill-color: #FFFFFF;\n",
              "      --disabled-bg-color: #3B4455;\n",
              "      --disabled-fill-color: #666;\n",
              "  }\n",
              "\n",
              "  .colab-df-quickchart {\n",
              "    background-color: var(--bg-color);\n",
              "    border: none;\n",
              "    border-radius: 50%;\n",
              "    cursor: pointer;\n",
              "    display: none;\n",
              "    fill: var(--fill-color);\n",
              "    height: 32px;\n",
              "    padding: 0;\n",
              "    width: 32px;\n",
              "  }\n",
              "\n",
              "  .colab-df-quickchart:hover {\n",
              "    background-color: var(--hover-bg-color);\n",
              "    box-shadow: 0 1px 2px rgba(60, 64, 67, 0.3), 0 1px 3px 1px rgba(60, 64, 67, 0.15);\n",
              "    fill: var(--button-hover-fill-color);\n",
              "  }\n",
              "\n",
              "  .colab-df-quickchart-complete:disabled,\n",
              "  .colab-df-quickchart-complete:disabled:hover {\n",
              "    background-color: var(--disabled-bg-color);\n",
              "    fill: var(--disabled-fill-color);\n",
              "    box-shadow: none;\n",
              "  }\n",
              "\n",
              "  .colab-df-spinner {\n",
              "    border: 2px solid var(--fill-color);\n",
              "    border-color: transparent;\n",
              "    border-bottom-color: var(--fill-color);\n",
              "    animation:\n",
              "      spin 1s steps(1) infinite;\n",
              "  }\n",
              "\n",
              "  @keyframes spin {\n",
              "    0% {\n",
              "      border-color: transparent;\n",
              "      border-bottom-color: var(--fill-color);\n",
              "      border-left-color: var(--fill-color);\n",
              "    }\n",
              "    20% {\n",
              "      border-color: transparent;\n",
              "      border-left-color: var(--fill-color);\n",
              "      border-top-color: var(--fill-color);\n",
              "    }\n",
              "    30% {\n",
              "      border-color: transparent;\n",
              "      border-left-color: var(--fill-color);\n",
              "      border-top-color: var(--fill-color);\n",
              "      border-right-color: var(--fill-color);\n",
              "    }\n",
              "    40% {\n",
              "      border-color: transparent;\n",
              "      border-right-color: var(--fill-color);\n",
              "      border-top-color: var(--fill-color);\n",
              "    }\n",
              "    60% {\n",
              "      border-color: transparent;\n",
              "      border-right-color: var(--fill-color);\n",
              "    }\n",
              "    80% {\n",
              "      border-color: transparent;\n",
              "      border-right-color: var(--fill-color);\n",
              "      border-bottom-color: var(--fill-color);\n",
              "    }\n",
              "    90% {\n",
              "      border-color: transparent;\n",
              "      border-bottom-color: var(--fill-color);\n",
              "    }\n",
              "  }\n",
              "</style>\n",
              "\n",
              "  <script>\n",
              "    async function quickchart(key) {\n",
              "      const quickchartButtonEl =\n",
              "        document.querySelector('#' + key + ' button');\n",
              "      quickchartButtonEl.disabled = true;  // To prevent multiple clicks.\n",
              "      quickchartButtonEl.classList.add('colab-df-spinner');\n",
              "      try {\n",
              "        const charts = await google.colab.kernel.invokeFunction(\n",
              "            'suggestCharts', [key], {});\n",
              "      } catch (error) {\n",
              "        console.error('Error during call to suggestCharts:', error);\n",
              "      }\n",
              "      quickchartButtonEl.classList.remove('colab-df-spinner');\n",
              "      quickchartButtonEl.classList.add('colab-df-quickchart-complete');\n",
              "    }\n",
              "    (() => {\n",
              "      let quickchartButtonEl =\n",
              "        document.querySelector('#df-bd7972db-6eed-4747-9aa9-823d3813fe21 button');\n",
              "      quickchartButtonEl.style.display =\n",
              "        google.colab.kernel.accessAllowed ? 'block' : 'none';\n",
              "    })();\n",
              "  </script>\n",
              "</div>\n",
              "\n",
              "    </div>\n",
              "  </div>\n"
            ],
            "application/vnd.google.colaboratory.intrinsic+json": {
              "type": "dataframe",
              "variable_name": "classification_data"
            }
          },
          "metadata": {},
          "execution_count": 3
        }
      ]
    },
    {
      "cell_type": "code",
      "source": [
        "from sklearn.model_selection import train_test_split\n",
        "\n",
        "X_c = classification_data.drop([\"Name\", \"Hazardous\"], axis = 1)\n",
        "y_c = classification_data[\"Hazardous\"]\n",
        "\n",
        "X_train_c, X_test_c, y_train_c, y_test_c = train_test_split(X_c, y_c, test_size = 0.2, random_state = 123)\n",
        "print(f\"Shape of X_train: {X_train_c.shape}\")"
      ],
      "metadata": {
        "id": "NURtEmyfx49U",
        "colab": {
          "base_uri": "https://localhost:8080/"
        },
        "outputId": "64dee754-41bd-4799-b840-5ec750f7337b"
      },
      "execution_count": null,
      "outputs": [
        {
          "output_type": "stream",
          "name": "stdout",
          "text": [
            "Shape of X_train: (369, 25)\n"
          ]
        }
      ]
    },
    {
      "cell_type": "markdown",
      "source": [
        "Read the forecasting data:"
      ],
      "metadata": {
        "id": "dlQWJdDk4zb9"
      }
    },
    {
      "cell_type": "code",
      "source": [
        "Forecasting_data = pd.read_csv(\"/content/drive/MyDrive/Datasets/life_dexpectency.csv\") # life_expectancy dataset\n",
        "Forecasting_data.dropna(inplace=True)\n",
        "Forecasting_data.head(3)"
      ],
      "metadata": {
        "id": "elWRN9vT3EwZ",
        "colab": {
          "base_uri": "https://localhost:8080/",
          "height": 190
        },
        "outputId": "55c3f742-1603-47c8-b219-0df668189000"
      },
      "execution_count": null,
      "outputs": [
        {
          "output_type": "execute_result",
          "data": {
            "text/plain": [
              "       Country  Year      Status  Life expectancy  Adult Mortality  \\\n",
              "0  Afghanistan  2015  Developing             65.0            263.0   \n",
              "1  Afghanistan  2014  Developing             59.9            271.0   \n",
              "2  Afghanistan  2013  Developing             59.9            268.0   \n",
              "\n",
              "   infant deaths  Alcohol  percentage expenditure  Hepatitis B  Measles   ...  \\\n",
              "0             62     0.01               71.279624         65.0      1154  ...   \n",
              "1             64     0.01               73.523582         62.0       492  ...   \n",
              "2             66     0.01               73.219243         64.0       430  ...   \n",
              "\n",
              "   Polio  Total expenditure  Diphtheria   HIV/AIDS         GDP  Population  \\\n",
              "0    6.0               8.16         65.0       0.1  584.259210  33736494.0   \n",
              "1   58.0               8.18         62.0       0.1  612.696514    327582.0   \n",
              "2   62.0               8.13         64.0       0.1  631.744976  31731688.0   \n",
              "\n",
              "    thinness  1-19 years   thinness 5-9 years  \\\n",
              "0                   17.2                 17.3   \n",
              "1                   17.5                 17.5   \n",
              "2                   17.7                 17.7   \n",
              "\n",
              "   Income composition of resources  Schooling  \n",
              "0                            0.479       10.1  \n",
              "1                            0.476       10.0  \n",
              "2                            0.470        9.9  \n",
              "\n",
              "[3 rows x 22 columns]"
            ],
            "text/html": [
              "\n",
              "  <div id=\"df-2d15773e-1455-49ee-9533-e20480aeaed0\" class=\"colab-df-container\">\n",
              "    <div>\n",
              "<style scoped>\n",
              "    .dataframe tbody tr th:only-of-type {\n",
              "        vertical-align: middle;\n",
              "    }\n",
              "\n",
              "    .dataframe tbody tr th {\n",
              "        vertical-align: top;\n",
              "    }\n",
              "\n",
              "    .dataframe thead th {\n",
              "        text-align: right;\n",
              "    }\n",
              "</style>\n",
              "<table border=\"1\" class=\"dataframe\">\n",
              "  <thead>\n",
              "    <tr style=\"text-align: right;\">\n",
              "      <th></th>\n",
              "      <th>Country</th>\n",
              "      <th>Year</th>\n",
              "      <th>Status</th>\n",
              "      <th>Life expectancy</th>\n",
              "      <th>Adult Mortality</th>\n",
              "      <th>infant deaths</th>\n",
              "      <th>Alcohol</th>\n",
              "      <th>percentage expenditure</th>\n",
              "      <th>Hepatitis B</th>\n",
              "      <th>Measles</th>\n",
              "      <th>...</th>\n",
              "      <th>Polio</th>\n",
              "      <th>Total expenditure</th>\n",
              "      <th>Diphtheria</th>\n",
              "      <th>HIV/AIDS</th>\n",
              "      <th>GDP</th>\n",
              "      <th>Population</th>\n",
              "      <th>thinness  1-19 years</th>\n",
              "      <th>thinness 5-9 years</th>\n",
              "      <th>Income composition of resources</th>\n",
              "      <th>Schooling</th>\n",
              "    </tr>\n",
              "  </thead>\n",
              "  <tbody>\n",
              "    <tr>\n",
              "      <th>0</th>\n",
              "      <td>Afghanistan</td>\n",
              "      <td>2015</td>\n",
              "      <td>Developing</td>\n",
              "      <td>65.0</td>\n",
              "      <td>263.0</td>\n",
              "      <td>62</td>\n",
              "      <td>0.01</td>\n",
              "      <td>71.279624</td>\n",
              "      <td>65.0</td>\n",
              "      <td>1154</td>\n",
              "      <td>...</td>\n",
              "      <td>6.0</td>\n",
              "      <td>8.16</td>\n",
              "      <td>65.0</td>\n",
              "      <td>0.1</td>\n",
              "      <td>584.259210</td>\n",
              "      <td>33736494.0</td>\n",
              "      <td>17.2</td>\n",
              "      <td>17.3</td>\n",
              "      <td>0.479</td>\n",
              "      <td>10.1</td>\n",
              "    </tr>\n",
              "    <tr>\n",
              "      <th>1</th>\n",
              "      <td>Afghanistan</td>\n",
              "      <td>2014</td>\n",
              "      <td>Developing</td>\n",
              "      <td>59.9</td>\n",
              "      <td>271.0</td>\n",
              "      <td>64</td>\n",
              "      <td>0.01</td>\n",
              "      <td>73.523582</td>\n",
              "      <td>62.0</td>\n",
              "      <td>492</td>\n",
              "      <td>...</td>\n",
              "      <td>58.0</td>\n",
              "      <td>8.18</td>\n",
              "      <td>62.0</td>\n",
              "      <td>0.1</td>\n",
              "      <td>612.696514</td>\n",
              "      <td>327582.0</td>\n",
              "      <td>17.5</td>\n",
              "      <td>17.5</td>\n",
              "      <td>0.476</td>\n",
              "      <td>10.0</td>\n",
              "    </tr>\n",
              "    <tr>\n",
              "      <th>2</th>\n",
              "      <td>Afghanistan</td>\n",
              "      <td>2013</td>\n",
              "      <td>Developing</td>\n",
              "      <td>59.9</td>\n",
              "      <td>268.0</td>\n",
              "      <td>66</td>\n",
              "      <td>0.01</td>\n",
              "      <td>73.219243</td>\n",
              "      <td>64.0</td>\n",
              "      <td>430</td>\n",
              "      <td>...</td>\n",
              "      <td>62.0</td>\n",
              "      <td>8.13</td>\n",
              "      <td>64.0</td>\n",
              "      <td>0.1</td>\n",
              "      <td>631.744976</td>\n",
              "      <td>31731688.0</td>\n",
              "      <td>17.7</td>\n",
              "      <td>17.7</td>\n",
              "      <td>0.470</td>\n",
              "      <td>9.9</td>\n",
              "    </tr>\n",
              "  </tbody>\n",
              "</table>\n",
              "<p>3 rows × 22 columns</p>\n",
              "</div>\n",
              "    <div class=\"colab-df-buttons\">\n",
              "\n",
              "  <div class=\"colab-df-container\">\n",
              "    <button class=\"colab-df-convert\" onclick=\"convertToInteractive('df-2d15773e-1455-49ee-9533-e20480aeaed0')\"\n",
              "            title=\"Convert this dataframe to an interactive table.\"\n",
              "            style=\"display:none;\">\n",
              "\n",
              "  <svg xmlns=\"http://www.w3.org/2000/svg\" height=\"24px\" viewBox=\"0 -960 960 960\">\n",
              "    <path d=\"M120-120v-720h720v720H120Zm60-500h600v-160H180v160Zm220 220h160v-160H400v160Zm0 220h160v-160H400v160ZM180-400h160v-160H180v160Zm440 0h160v-160H620v160ZM180-180h160v-160H180v160Zm440 0h160v-160H620v160Z\"/>\n",
              "  </svg>\n",
              "    </button>\n",
              "\n",
              "  <style>\n",
              "    .colab-df-container {\n",
              "      display:flex;\n",
              "      gap: 12px;\n",
              "    }\n",
              "\n",
              "    .colab-df-convert {\n",
              "      background-color: #E8F0FE;\n",
              "      border: none;\n",
              "      border-radius: 50%;\n",
              "      cursor: pointer;\n",
              "      display: none;\n",
              "      fill: #1967D2;\n",
              "      height: 32px;\n",
              "      padding: 0 0 0 0;\n",
              "      width: 32px;\n",
              "    }\n",
              "\n",
              "    .colab-df-convert:hover {\n",
              "      background-color: #E2EBFA;\n",
              "      box-shadow: 0px 1px 2px rgba(60, 64, 67, 0.3), 0px 1px 3px 1px rgba(60, 64, 67, 0.15);\n",
              "      fill: #174EA6;\n",
              "    }\n",
              "\n",
              "    .colab-df-buttons div {\n",
              "      margin-bottom: 4px;\n",
              "    }\n",
              "\n",
              "    [theme=dark] .colab-df-convert {\n",
              "      background-color: #3B4455;\n",
              "      fill: #D2E3FC;\n",
              "    }\n",
              "\n",
              "    [theme=dark] .colab-df-convert:hover {\n",
              "      background-color: #434B5C;\n",
              "      box-shadow: 0px 1px 3px 1px rgba(0, 0, 0, 0.15);\n",
              "      filter: drop-shadow(0px 1px 2px rgba(0, 0, 0, 0.3));\n",
              "      fill: #FFFFFF;\n",
              "    }\n",
              "  </style>\n",
              "\n",
              "    <script>\n",
              "      const buttonEl =\n",
              "        document.querySelector('#df-2d15773e-1455-49ee-9533-e20480aeaed0 button.colab-df-convert');\n",
              "      buttonEl.style.display =\n",
              "        google.colab.kernel.accessAllowed ? 'block' : 'none';\n",
              "\n",
              "      async function convertToInteractive(key) {\n",
              "        const element = document.querySelector('#df-2d15773e-1455-49ee-9533-e20480aeaed0');\n",
              "        const dataTable =\n",
              "          await google.colab.kernel.invokeFunction('convertToInteractive',\n",
              "                                                    [key], {});\n",
              "        if (!dataTable) return;\n",
              "\n",
              "        const docLinkHtml = 'Like what you see? Visit the ' +\n",
              "          '<a target=\"_blank\" href=https://colab.research.google.com/notebooks/data_table.ipynb>data table notebook</a>'\n",
              "          + ' to learn more about interactive tables.';\n",
              "        element.innerHTML = '';\n",
              "        dataTable['output_type'] = 'display_data';\n",
              "        await google.colab.output.renderOutput(dataTable, element);\n",
              "        const docLink = document.createElement('div');\n",
              "        docLink.innerHTML = docLinkHtml;\n",
              "        element.appendChild(docLink);\n",
              "      }\n",
              "    </script>\n",
              "  </div>\n",
              "\n",
              "\n",
              "<div id=\"df-344f2a2d-a303-45f0-96f7-61cc18076ad5\">\n",
              "  <button class=\"colab-df-quickchart\" onclick=\"quickchart('df-344f2a2d-a303-45f0-96f7-61cc18076ad5')\"\n",
              "            title=\"Suggest charts\"\n",
              "            style=\"display:none;\">\n",
              "\n",
              "<svg xmlns=\"http://www.w3.org/2000/svg\" height=\"24px\"viewBox=\"0 0 24 24\"\n",
              "     width=\"24px\">\n",
              "    <g>\n",
              "        <path d=\"M19 3H5c-1.1 0-2 .9-2 2v14c0 1.1.9 2 2 2h14c1.1 0 2-.9 2-2V5c0-1.1-.9-2-2-2zM9 17H7v-7h2v7zm4 0h-2V7h2v10zm4 0h-2v-4h2v4z\"/>\n",
              "    </g>\n",
              "</svg>\n",
              "  </button>\n",
              "\n",
              "<style>\n",
              "  .colab-df-quickchart {\n",
              "      --bg-color: #E8F0FE;\n",
              "      --fill-color: #1967D2;\n",
              "      --hover-bg-color: #E2EBFA;\n",
              "      --hover-fill-color: #174EA6;\n",
              "      --disabled-fill-color: #AAA;\n",
              "      --disabled-bg-color: #DDD;\n",
              "  }\n",
              "\n",
              "  [theme=dark] .colab-df-quickchart {\n",
              "      --bg-color: #3B4455;\n",
              "      --fill-color: #D2E3FC;\n",
              "      --hover-bg-color: #434B5C;\n",
              "      --hover-fill-color: #FFFFFF;\n",
              "      --disabled-bg-color: #3B4455;\n",
              "      --disabled-fill-color: #666;\n",
              "  }\n",
              "\n",
              "  .colab-df-quickchart {\n",
              "    background-color: var(--bg-color);\n",
              "    border: none;\n",
              "    border-radius: 50%;\n",
              "    cursor: pointer;\n",
              "    display: none;\n",
              "    fill: var(--fill-color);\n",
              "    height: 32px;\n",
              "    padding: 0;\n",
              "    width: 32px;\n",
              "  }\n",
              "\n",
              "  .colab-df-quickchart:hover {\n",
              "    background-color: var(--hover-bg-color);\n",
              "    box-shadow: 0 1px 2px rgba(60, 64, 67, 0.3), 0 1px 3px 1px rgba(60, 64, 67, 0.15);\n",
              "    fill: var(--button-hover-fill-color);\n",
              "  }\n",
              "\n",
              "  .colab-df-quickchart-complete:disabled,\n",
              "  .colab-df-quickchart-complete:disabled:hover {\n",
              "    background-color: var(--disabled-bg-color);\n",
              "    fill: var(--disabled-fill-color);\n",
              "    box-shadow: none;\n",
              "  }\n",
              "\n",
              "  .colab-df-spinner {\n",
              "    border: 2px solid var(--fill-color);\n",
              "    border-color: transparent;\n",
              "    border-bottom-color: var(--fill-color);\n",
              "    animation:\n",
              "      spin 1s steps(1) infinite;\n",
              "  }\n",
              "\n",
              "  @keyframes spin {\n",
              "    0% {\n",
              "      border-color: transparent;\n",
              "      border-bottom-color: var(--fill-color);\n",
              "      border-left-color: var(--fill-color);\n",
              "    }\n",
              "    20% {\n",
              "      border-color: transparent;\n",
              "      border-left-color: var(--fill-color);\n",
              "      border-top-color: var(--fill-color);\n",
              "    }\n",
              "    30% {\n",
              "      border-color: transparent;\n",
              "      border-left-color: var(--fill-color);\n",
              "      border-top-color: var(--fill-color);\n",
              "      border-right-color: var(--fill-color);\n",
              "    }\n",
              "    40% {\n",
              "      border-color: transparent;\n",
              "      border-right-color: var(--fill-color);\n",
              "      border-top-color: var(--fill-color);\n",
              "    }\n",
              "    60% {\n",
              "      border-color: transparent;\n",
              "      border-right-color: var(--fill-color);\n",
              "    }\n",
              "    80% {\n",
              "      border-color: transparent;\n",
              "      border-right-color: var(--fill-color);\n",
              "      border-bottom-color: var(--fill-color);\n",
              "    }\n",
              "    90% {\n",
              "      border-color: transparent;\n",
              "      border-bottom-color: var(--fill-color);\n",
              "    }\n",
              "  }\n",
              "</style>\n",
              "\n",
              "  <script>\n",
              "    async function quickchart(key) {\n",
              "      const quickchartButtonEl =\n",
              "        document.querySelector('#' + key + ' button');\n",
              "      quickchartButtonEl.disabled = true;  // To prevent multiple clicks.\n",
              "      quickchartButtonEl.classList.add('colab-df-spinner');\n",
              "      try {\n",
              "        const charts = await google.colab.kernel.invokeFunction(\n",
              "            'suggestCharts', [key], {});\n",
              "      } catch (error) {\n",
              "        console.error('Error during call to suggestCharts:', error);\n",
              "      }\n",
              "      quickchartButtonEl.classList.remove('colab-df-spinner');\n",
              "      quickchartButtonEl.classList.add('colab-df-quickchart-complete');\n",
              "    }\n",
              "    (() => {\n",
              "      let quickchartButtonEl =\n",
              "        document.querySelector('#df-344f2a2d-a303-45f0-96f7-61cc18076ad5 button');\n",
              "      quickchartButtonEl.style.display =\n",
              "        google.colab.kernel.accessAllowed ? 'block' : 'none';\n",
              "    })();\n",
              "  </script>\n",
              "</div>\n",
              "\n",
              "    </div>\n",
              "  </div>\n"
            ],
            "application/vnd.google.colaboratory.intrinsic+json": {
              "type": "dataframe",
              "variable_name": "Forecasting_data"
            }
          },
          "metadata": {},
          "execution_count": 6
        }
      ]
    },
    {
      "cell_type": "markdown",
      "source": [
        "Split the data into train and test subsets (Note: Time series data cannot be randomly subsampled):"
      ],
      "metadata": {
        "id": "a11jfjnUkHfz"
      }
    },
    {
      "cell_type": "code",
      "source": [
        "## using life expectency dataset\n",
        "\n",
        "X = Forecasting_data.iloc[:, 4:]\n",
        "y = Forecasting_data.iloc[:, 3]\n",
        "X_train, X_test, y_train, y_test = train_test_split(X, y, test_size = 0.25, random_state = 123)"
      ],
      "metadata": {
        "id": "WmAdZuOqiVQ9"
      },
      "execution_count": null,
      "outputs": []
    },
    {
      "cell_type": "markdown",
      "source": [
        "## Ensemble Learning"
      ],
      "metadata": {
        "id": "3C7jPHjlG-0U"
      }
    },
    {
      "cell_type": "markdown",
      "source": [
        "You can find sklearn documentations for ensemble models [here](https://scikit-learn.org/stable/modules/classes.html#module-sklearn.ensemble)."
      ],
      "metadata": {
        "id": "fn7U14SYpjpz"
      }
    },
    {
      "cell_type": "code",
      "source": [
        "from sklearn.ensemble import VotingClassifier, StackingRegressor, StackingClassifier, \\\n",
        "                             BaggingRegressor, BaggingClassifier"
      ],
      "metadata": {
        "id": "sYEhS6BWSBjT"
      },
      "execution_count": null,
      "outputs": []
    },
    {
      "cell_type": "markdown",
      "source": [
        "### Max Voting"
      ],
      "metadata": {
        "id": "qScfe6t1HGwT"
      }
    },
    {
      "cell_type": "code",
      "source": [
        "# from pandas.core.common import random_state\n",
        "clf1 = tree.DecisionTreeClassifier(random_state=12)\n",
        "clf2 = neighbors.KNeighborsClassifier(n_neighbors= 5)\n",
        "clf3= linear_model.LogisticRegression(random_state=12)\n",
        "clf4= svm.SVC(kernel ='rbf')\n",
        "\n",
        "clf1.fit(X_train_c,y_train_c)\n",
        "clf2.fit(X_train_c,y_train_c)\n",
        "clf3.fit(X_train_c,y_train_c)\n",
        "clf4.fit(X_train_c,y_train_c)\n",
        "\n",
        "pred1=clf1.predict(X_test_c)\n",
        "pred2=clf2.predict(X_test_c)\n",
        "pred3=clf3.predict(X_test_c)\n",
        "pred4=clf4.predict(X_test_c)\n",
        "\n",
        "from statistics import mode\n",
        "final_pred = []\n",
        "for i in range(0,len(X_test_c)):\n",
        "    final_pred.append(mode([pred1[i], pred2[i], pred3[i]]))\n",
        "\n",
        "print(np.array(final_pred))\n",
        "\n",
        "# Alternatively, you can use “VotingClassifier” module in sklearn:\n",
        "clf = VotingClassifier(estimators=[('dt', clf1), ('knn', clf2), ('lr', clf3)], voting='hard')\n",
        "clf.fit(X_train_c,y_train_c)\n",
        "clf.score(X_test_c,y_test_c)"
      ],
      "metadata": {
        "id": "uu5WYDJxHBH0",
        "colab": {
          "base_uri": "https://localhost:8080/"
        },
        "outputId": "27fe58ca-e916-4a00-b28e-403a2ca4e7d6"
      },
      "execution_count": null,
      "outputs": [
        {
          "output_type": "stream",
          "name": "stdout",
          "text": [
            "[0 0 0 0 0 0 0 0 0 1 1 0 1 0 1 0 0 0 0 1 0 0 0 0 1 0 0 0 0 0 0 0 0 0 0 1 0\n",
            " 1 1 0 0 1 0 1 0 1 1 0 1 0 0 0 0 0 0 1 0 0 0 0 1 0 1 0 0 0 0 1 1 0 0 0 0 0\n",
            " 1 0 1 0 1 0 0 0 0 1 1 0 0 1 0 0 0 1 0]\n"
          ]
        },
        {
          "output_type": "execute_result",
          "data": {
            "text/plain": [
              "0.7311827956989247"
            ]
          },
          "metadata": {},
          "execution_count": 22
        }
      ]
    },
    {
      "cell_type": "code",
      "source": [
        "y_pred_c = clf.predict(X_test_c)\n",
        "y_pred_c"
      ],
      "metadata": {
        "colab": {
          "base_uri": "https://localhost:8080/"
        },
        "id": "nkblGwixiFQp",
        "outputId": "3e83e53f-c8e1-4519-d4f8-d6360573a89d"
      },
      "execution_count": null,
      "outputs": [
        {
          "output_type": "execute_result",
          "data": {
            "text/plain": [
              "array([0, 0, 0, 0, 0, 0, 0, 0, 0, 1, 1, 0, 1, 0, 1, 0, 0, 0, 0, 1, 0, 0,\n",
              "       0, 0, 1, 0, 0, 0, 0, 0, 0, 0, 0, 0, 0, 1, 0, 1, 1, 0, 0, 1, 0, 1,\n",
              "       0, 1, 1, 0, 1, 0, 0, 0, 0, 0, 0, 1, 0, 0, 0, 0, 1, 0, 1, 0, 0, 0,\n",
              "       0, 1, 1, 0, 0, 0, 0, 0, 1, 0, 1, 0, 1, 0, 0, 0, 0, 1, 1, 0, 0, 1,\n",
              "       0, 0, 0, 1, 0])"
            ]
          },
          "metadata": {},
          "execution_count": 21
        }
      ]
    },
    {
      "cell_type": "markdown",
      "source": [
        "### Averaging\n",
        "We generally use the average of individual prediction models to make a final prediction for regression tasks. For classification tasks, averaging is used to predict ensemble probability predictions."
      ],
      "metadata": {
        "id": "usahViDHH4zl"
      }
    },
    {
      "cell_type": "code",
      "source": [
        "model1 = svm.SVR(kernel ='rbf')\n",
        "model2 = neighbors.KNeighborsRegressor(n_neighbors=5)\n",
        "model3 = linear_model.LinearRegression()\n",
        "\n",
        "model1.fit(X_train,y_train)\n",
        "model2.fit(X_train,y_train)\n",
        "model3.fit(X_train,y_train)\n",
        "\n",
        "pred1=model1.predict(X_test)\n",
        "pred2=model2.predict(X_test)\n",
        "pred3=model3.predict(X_test)\n",
        "\n",
        "finalpred=(pred1+pred2+pred3)/3\n",
        "print(finalpred[:5])\n",
        "\n",
        "# Weighted Average\n",
        "weights = [0.3, 0.4, 0.3]\n",
        "finalpred_weighted=(pred1*weights[0]+pred2*weights[1]+pred3*weights[2])\n",
        "print(finalpred_weighted[:5])"
      ],
      "metadata": {
        "id": "EI_i1pnOH69l",
        "colab": {
          "base_uri": "https://localhost:8080/"
        },
        "outputId": "cb2f4d97-5f38-4659-f913-176ef62864a7"
      },
      "execution_count": null,
      "outputs": [
        {
          "output_type": "stream",
          "name": "stdout",
          "text": [
            "[72.04105721 68.80687088 69.16811221 65.30730528 71.7140467 ]\n",
            "[72.14095149 69.26018379 69.63730099 65.53057475 71.24264203]\n"
          ]
        }
      ]
    },
    {
      "cell_type": "markdown",
      "source": [
        "### Stacking\n",
        "Stacking involves combining the predictions from multiple machine learning models on the same dataset. Each model fits the data via k-fold cross-validation, where the out-of-fold predictions are used as the basis for the training dataset for the meta-model.\n"
      ],
      "metadata": {
        "id": "Mh6d7xReSCOz"
      }
    },
    {
      "cell_type": "code",
      "source": [
        "# define a stacking ensemble of models\n",
        "def get_stacking():\n",
        "\t# define the base estimators\n",
        "\tbase_models = []\n",
        "\tbase_models.append(('lr', linear_model.LogisticRegression()))\n",
        "\tbase_models.append(('knn', neighbors.KNeighborsClassifier()))\n",
        "\tbase_models.append(('tree', tree.DecisionTreeClassifier()))\n",
        "\tbase_models.append(('svm', svm.SVC()))\n",
        "\tbase_models.append(('bayes', naive_bayes.GaussianNB()))\n",
        "\t# define final learner model\n",
        "\tfinal_estimator = linear_model.LogisticRegression()\n",
        "\t# define the stacking ensemble\n",
        "\tmodel = StackingClassifier(estimators=base_models, final_estimator=final_estimator, cv=5)\n",
        "\treturn model\n",
        "\n",
        "# define a dict of models to evaluate\n",
        "def get_models():\n",
        "    models = dict()\n",
        "    models['lr'] = linear_model.LogisticRegression()\n",
        "    models['knn'] = neighbors.KNeighborsClassifier()\n",
        "    models['tree'] = tree.DecisionTreeClassifier()\n",
        "    models['svm'] = svm.SVC()\n",
        "    models['bayes'] = naive_bayes.GaussianNB()\n",
        "    models['stacking'] = get_stacking()\n",
        "    return models\n",
        "\n",
        "\n",
        "models = get_models()\n",
        "\n",
        "# evaluate the models and store results\n",
        "results, names = [], []\n",
        "\n",
        "for key, model in models.items():\n",
        "\tmodel.fit(X_train_c, y_train_c)\n",
        "\tscores = model.score(X_test_c,y_test_c)\n",
        "\tresults.append(scores)\n",
        "\tnames.append(key)\n",
        "\n",
        "# plot model performance for comparison\n",
        "plt.figure(figsize=(8,7))\n",
        "plt.bar(x=names, height = results)\n",
        "plt.show()"
      ],
      "metadata": {
        "colab": {
          "base_uri": "https://localhost:8080/",
          "height": 599
        },
        "id": "Ms2z8aPUpsn_",
        "outputId": "6469f0a1-2c6e-48ae-f05a-132f7c56254d"
      },
      "execution_count": null,
      "outputs": [
        {
          "output_type": "display_data",
          "data": {
            "text/plain": [
              "<Figure size 800x700 with 1 Axes>"
            ],
            "image/png": "[encoded data removed]"
          },
          "metadata": {}
        }
      ]
    },
    {
      "cell_type": "code",
      "source": [
        "results"
      ],
      "metadata": {
        "colab": {
          "base_uri": "https://localhost:8080/"
        },
        "id": "_iJvxlMXmsPu",
        "outputId": "749ca780-5693-4082-a82f-a623f28cbfc7"
      },
      "execution_count": null,
      "outputs": [
        {
          "output_type": "execute_result",
          "data": {
            "text/plain": [
              "[0.45161290322580644,\n",
              " 0.6451612903225806,\n",
              " 1.0,\n",
              " 0.5913978494623656,\n",
              " 0.6129032258064516,\n",
              " 1.0]"
            ]
          },
          "metadata": {},
          "execution_count": 37
        }
      ]
    },
    {
      "cell_type": "code",
      "source": [
        "names"
      ],
      "metadata": {
        "colab": {
          "base_uri": "https://localhost:8080/"
        },
        "id": "urOm0qgtmugM",
        "outputId": "ef00e69d-7768-4409-c34a-ca56ac6c07ce"
      },
      "execution_count": null,
      "outputs": [
        {
          "output_type": "execute_result",
          "data": {
            "text/plain": [
              "['lr', 'knn', 'tree', 'svm', 'bayes', 'stacking']"
            ]
          },
          "metadata": {},
          "execution_count": 38
        }
      ]
    },
    {
      "cell_type": "markdown",
      "source": [
        "### Bagging\n"
      ],
      "metadata": {
        "id": "W-bT1ghODJgJ"
      }
    },
    {
      "cell_type": "markdown",
      "source": [
        "\n",
        "1.   Multiple subsets are created from the original dataset, selecting observations with replacement (Bagging method).\n",
        "2.   A base model (weak model) is created on each of these subsets.\n",
        "3. The models run in parallel and are independent of each other.\n",
        "4. The final predictions are determined by combining the predictions from all the models\n"
      ],
      "metadata": {
        "id": "f-0yM9gdD8hY"
      }
    },
    {
      "cell_type": "code",
      "source": [
        "model = BaggingRegressor(tree.DecisionTreeRegressor(random_state=1), random_state=1)\n",
        "model.fit(X_train, y_train)\n",
        "print(\"R2 is: {}\".format(model.score(X_test,y_test))) # this returns R2\n",
        "mse = metrics.mean_squared_error(y_test, model.predict(X_test))\n",
        "print(\"MSE is: {}\".format(mse))"
      ],
      "metadata": {
        "colab": {
          "base_uri": "https://localhost:8080/"
        },
        "id": "d33HtfsHEP2s",
        "outputId": "00e13adc-49c8-49c0-fa59-6d758cf1717a"
      },
      "execution_count": null,
      "outputs": [
        {
          "output_type": "stream",
          "name": "stdout",
          "text": [
            "R2 is: 0.9481369580381593\n",
            "MSE is: 4.392671898734175\n"
          ]
        }
      ]
    },
    {
      "cell_type": "markdown",
      "source": [
        "Random Forest is an example of Bagging algorithms."
      ],
      "metadata": {
        "id": "9m65FZmvGj2m"
      }
    },
    {
      "cell_type": "code",
      "source": [
        "from sklearn.ensemble import RandomForestRegressor\n",
        "\n",
        "model = RandomForestRegressor(n_estimators=100, criterion=\"squared_error\", max_depth=3,min_samples_leaf=0.1,\n",
        "                              bootstrap=True, oob_score=True, max_samples=0.8, random_state=1)\n",
        "model.fit(X_train, y_train)\n",
        "print(\"R2 is: {}\".format(model.score(X_test,y_test))) # this returns R2\n",
        "mse = metrics.mean_squared_error(y_test, model.predict(X_test))\n",
        "print(\"MSE is: {}\".format(mse))"
      ],
      "metadata": {
        "colab": {
          "base_uri": "https://localhost:8080/"
        },
        "id": "0VQUlQNhMNnr",
        "outputId": "a8719421-ae8f-47c5-a9bf-54fd0269d069"
      },
      "execution_count": null,
      "outputs": [
        {
          "output_type": "stream",
          "name": "stdout",
          "text": [
            "R2 is: 0.764438862381576\n",
            "MSE is: 19.95144809306864\n"
          ]
        }
      ]
    },
    {
      "cell_type": "code",
      "source": [
        "print(\"Feature importance scores: {}\".format(model.feature_importances_))\n",
        "model.apply(X_test[0:1]) # returns X_leaves ndarray of shape (n_samples, n_estimators)"
      ],
      "metadata": {
        "colab": {
          "base_uri": "https://localhost:8080/"
        },
        "id": "470Jifh5Sicx",
        "outputId": "2bf838ab-ab1c-4c77-a20b-62ab94d47abb"
      },
      "execution_count": null,
      "outputs": [
        {
          "output_type": "stream",
          "name": "stdout",
          "text": [
            "Feature importance scores: [0.08002955 0.         0.         0.         0.         0.\n",
            " 0.         0.         0.         0.         0.         0.09140333\n",
            " 0.         0.         0.00138213 0.         0.82718498 0.        ]\n"
          ]
        },
        {
          "output_type": "execute_result",
          "data": {
            "text/plain": [
              "array([[5, 5, 5, 5, 5, 5, 5, 5, 5, 5, 5, 5, 5, 5, 5, 6, 5, 4, 5, 5, 5, 5,\n",
              "        5, 5, 5, 5, 5, 5, 5, 4, 5, 5, 5, 5, 5, 4, 5, 4, 5, 4, 4, 5, 5, 5,\n",
              "        5, 5, 5, 5, 5, 5, 5, 5, 5, 5, 5, 5, 5, 5, 5, 5, 5, 4, 5, 5, 5, 4,\n",
              "        5, 5, 5, 5, 5, 5, 5, 5, 5, 5, 7, 4, 5, 5, 5, 5, 5, 7, 5, 5, 5, 5,\n",
              "        5, 4, 5, 5, 4, 4, 5, 5, 5, 5, 5, 6]])"
            ]
          },
          "metadata": {},
          "execution_count": 41
        }
      ]
    },
    {
      "cell_type": "code",
      "source": [
        "model.oob_score_"
      ],
      "metadata": {
        "colab": {
          "base_uri": "https://localhost:8080/"
        },
        "id": "kgq_SC1btpEe",
        "outputId": "185cbf17-8461-4552-bc72-f06d1417410a"
      },
      "execution_count": null,
      "outputs": [
        {
          "output_type": "execute_result",
          "data": {
            "text/plain": [
              "0.735579259285247"
            ]
          },
          "metadata": {},
          "execution_count": 42
        }
      ]
    },
    {
      "cell_type": "markdown",
      "source": [
        "### Boosting"
      ],
      "metadata": {
        "id": "LSQsfesHEeD8"
      }
    },
    {
      "cell_type": "markdown",
      "source": [
        "Boosting is a sequential process, where each subsequent model attempts to correct the errors of the previous model. The succeeding models are dependent on the previous model. Thus, the boosting algorithm combines a number of weak learners to form a strong learner.\n",
        "\n",
        "AdaBoost and GradientBoost are examples of boosting algorithms. Regression trees used as a base learner for the GradientBoosting algorithm."
      ],
      "metadata": {
        "id": "g2jM7utTEgLk"
      }
    },
    {
      "cell_type": "code",
      "source": [
        "from sklearn.ensemble import AdaBoostRegressor, AdaBoostClassifier\n",
        "\n",
        "base_estimator = tree.DecisionTreeRegressor(random_state=1) # neighbors.KNeighborsRegressor(8)\n",
        "model = AdaBoostRegressor(estimator= base_estimator,\n",
        "                          n_estimators=50, learning_rate=1, loss=\"linear\", random_state=1)\n",
        "model.fit(X_train, y_train)\n",
        "print(\"R2 is: {}\".format(model.score(X_test,y_test))) # this returns R2\n",
        "mse = metrics.mean_squared_error(y_test, model.predict(X_test))\n",
        "print(\"MSE is: {}\".format(mse))"
      ],
      "metadata": {
        "colab": {
          "base_uri": "https://localhost:8080/"
        },
        "id": "mpYU_xjBEhcn",
        "outputId": "e9fefcce-78d4-49e9-8045-b9cc9bae5d91"
      },
      "execution_count": null,
      "outputs": [
        {
          "output_type": "stream",
          "name": "stdout",
          "text": [
            "R2 is: 0.9600622043554854\n",
            "MSE is: 3.3826329113924043\n"
          ]
        }
      ]
    },
    {
      "cell_type": "code",
      "source": [
        "from sklearn.ensemble import GradientBoostingRegressor, GradientBoostingClassifier\n",
        "\n",
        "model = GradientBoostingRegressor(loss=\"squared_error\", learning_rate=0.5, n_estimators=100, min_samples_leaf=0.1,\n",
        "                                  max_depth=3, min_impurity_decrease=0, random_state=1)\n",
        "model.fit(X_train, y_train)\n",
        "print(\"R2 is: {}\".format(model.score(X_test,y_test))) # this returns R2\n",
        "mse = metrics.mean_squared_error(y_test, model.predict(X_test))\n",
        "print(\"MSE is: {}\".format(mse))"
      ],
      "metadata": {
        "colab": {
          "base_uri": "https://localhost:8080/"
        },
        "id": "9LB8aGozIzmo",
        "outputId": "02af19f4-d0b3-45af-f08a-bb662209ad15"
      },
      "execution_count": null,
      "outputs": [
        {
          "output_type": "stream",
          "name": "stdout",
          "text": [
            "R2 is: 0.9376928076378708\n",
            "MSE is: 5.277265710320788\n"
          ]
        }
      ]
    },
    {
      "cell_type": "markdown",
      "source": [
        "For more boosting algorithms look at [xgboost](https://xgboost.readthedocs.io/en/stable/index.html#xgboost-documentation) and [lightgbm](https://lightgbm.readthedocs.io/en/latest/Python-Intro.html#python-package-introduction)  libraries."
      ],
      "metadata": {
        "id": "tCnIJNCVNkcT"
      }
    }
  ]
}