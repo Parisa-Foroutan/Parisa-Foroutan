{
  "nbformat": 4,
  "nbformat_minor": 0,
  "metadata": {
    "colab": {
      "provenance": [],
      "authorship_tag": "ABX9TyNyj8ICB3iZHx5/gepRJsvg"
    },
    "kernelspec": {
      "name": "python3",
      "display_name": "Python 3"
    },
    "language_info": {
      "name": "python"
    }
  },
  "cells": [
    {
      "cell_type": "markdown",
      "source": [
        "**Supervised, unsupervised, metrics, visualization:**\n",
        "\n",
        "Find it on GitHub: https://github.com/Parisa-Foroutan/Tutorials/blob/main/ADMI821_Session3.ipynb\n",
        "\n",
        "In this session supervised and unsupervised models will be created and their prediction performance on a test set will be evaluated. We will also create some visualizations using the datasets. You can find the datasets here: [nasa.csv ](https://drive.google.com/file/d/1JPUOwwIuFbyIWPNyMCWj78S-CIuqb75d/view?usp=sharing) , [daily demand order](https://docs.google.com/spreadsheets/d/1dTLJDzJu_pG_IEStgT5RRI1VSeGgjEKH/edit?usp=sharing&ouid=117858513827551292983&rtpof=true&sd=true), and [mall customers.csv](https://drive.google.com/file/d/1bffMMtakhbnZb4QRMCv_3Od7_kIX1Ajd/view?usp=drive_link)."
      ],
      "metadata": {
        "id": "4c9VfK0SZxur"
      }
    },
    {
      "cell_type": "markdown",
      "source": [
        "Import Libraries:"
      ],
      "metadata": {
        "id": "3N0b4yenR_W4"
      }
    },
    {
      "cell_type": "code",
      "source": [
        "import numpy as np\n",
        "import pandas as pd\n",
        "import matplotlib.pyplot as plt\n",
        "\n",
        "from sklearn import linear_model, metrics"
      ],
      "metadata": {
        "id": "UHj3oiJg3cI0"
      },
      "execution_count": null,
      "outputs": []
    },
    {
      "cell_type": "markdown",
      "source": [
        "# Supervised: Multiple Linear Regression"
      ],
      "metadata": {
        "id": "4u-_2a62xvDA"
      }
    },
    {
      "cell_type": "markdown",
      "source": [
        "## Regression model"
      ],
      "metadata": {
        "id": "Uh-cMqj3wnRu"
      }
    },
    {
      "cell_type": "markdown",
      "source": [
        "Read the Timeseries Data:"
      ],
      "metadata": {
        "id": "dlQWJdDk4zb9"
      }
    },
    {
      "cell_type": "code",
      "source": [
        "Forecasting_data = pd.read_excel(\"/content/Daily Demand Order (Forecasting) dated.xlsx\", sheet_name=0)\n",
        "print(Forecasting_data.columns)\n",
        "Forecasting_data.head(3)"
      ],
      "metadata": {
        "id": "elWRN9vT3EwZ"
      },
      "execution_count": null,
      "outputs": []
    },
    {
      "cell_type": "code",
      "source": [
        "# Check for any missing values\n",
        "Forecasting_data.isna().sum()"
      ],
      "metadata": {
        "colab": {
          "base_uri": "https://localhost:8080/"
        },
        "id": "Goyv6SLJkU5R",
        "outputId": "1c69b86e-72a6-41e1-e918-b7d88ec87369"
      },
      "execution_count": null,
      "outputs": [
        {
          "output_type": "execute_result",
          "data": {
            "text/plain": [
              "Date                                                                  0\n",
              "Week of the month (first week, second, third, fourth or fifth week    0\n",
              "Day of the week (Monday to Friday)                                    0\n",
              "Non-urgent order                                                      0\n",
              "Urgent order                                                          0\n",
              "Order type A                                                          0\n",
              "Order type B                                                          0\n",
              "Order type C                                                          0\n",
              "Fiscal sector orders                                                  0\n",
              "Orders from the traffic controller sector                             0\n",
              "Banking orders (1)                                                    0\n",
              "Banking orders (2)                                                    0\n",
              "Banking orders (3)                                                    0\n",
              "Target (Total orders)                                                 0\n",
              "dtype: int64"
            ]
          },
          "metadata": {},
          "execution_count": 3
        }
      ]
    },
    {
      "cell_type": "markdown",
      "source": [
        "Timeseries Visualization:\n",
        "\n",
        "[matplotlib.pyplot documentation](https://matplotlib.org/stable/api/_as_gen/matplotlib.pyplot.plot.html)"
      ],
      "metadata": {
        "id": "TSNZhk6lvqtI"
      }
    },
    {
      "cell_type": "code",
      "source": [
        "plt.figure(figsize=(10,6))\n",
        "x = Forecasting_data[\"Date\"]\n",
        "y1 = Forecasting_data[\"Urgent order\"]\n",
        "y2 = Forecasting_data[\"Target (Total orders)\"]\n",
        "\n",
        "# scatterplot & Lineplot\n",
        "plt.plot(x, y1, \"o\", label='Urgent orders')\n",
        "plt.plot(x, y2, label='Total orders', color='blue', marker='*', linestyle='--', linewidth=2, markersize=6)\n",
        "plt.legend()"
      ],
      "metadata": {
        "id": "ihPgCNS6vtvr",
        "colab": {
          "base_uri": "https://localhost:8080/",
          "height": 539
        },
        "outputId": "a0de818e-4f78-449e-9fd5-57ff870e0b19"
      },
      "execution_count": null,
      "outputs": [
        {
          "output_type": "execute_result",
          "data": {
            "text/plain": [
              "<matplotlib.legend.Legend at 0x7a2ca1b90370>"
            ]
          },
          "metadata": {},
          "execution_count": 22
        },
        {
          "output_type": "display_data",
          "data": {
            "text/plain": [
              "<Figure size 1000x600 with 1 Axes>"
            ],
            "image/png": "[encoded data removed]"
          },
          "metadata": {}
        }
      ]
    },
    {
      "cell_type": "code",
      "source": [
        "plt.hist2d(y1, y2, bins = (10,10))"
      ],
      "metadata": {
        "colab": {
          "base_uri": "https://localhost:8080/",
          "height": 690
        },
        "id": "tzghitxx1SoS",
        "outputId": "4ae41a4a-9566-43ec-e8e1-6f544a5b8ec8"
      },
      "execution_count": null,
      "outputs": [
        {
          "output_type": "execute_result",
          "data": {
            "text/plain": [
              "(array([[1., 2., 3., 1., 0., 0., 0., 0., 0., 0.],\n",
              "        [0., 3., 9., 2., 0., 0., 0., 0., 0., 0.],\n",
              "        [0., 1., 7., 4., 4., 1., 0., 0., 0., 0.],\n",
              "        [0., 0., 1., 5., 1., 1., 0., 1., 0., 0.],\n",
              "        [0., 0., 1., 0., 2., 1., 0., 0., 1., 0.],\n",
              "        [0., 0., 0., 2., 0., 2., 0., 0., 0., 0.],\n",
              "        [0., 0., 0., 1., 1., 0., 0., 0., 0., 0.],\n",
              "        [0., 0., 0., 0., 0., 0., 0., 0., 0., 1.],\n",
              "        [0., 0., 0., 0., 0., 0., 0., 0., 0., 0.],\n",
              "        [0., 0., 0., 0., 0., 0., 0., 0., 1., 0.]]),\n",
              " array([ 77.371 ,  91.9609, 106.5508, 121.1407, 135.7306, 150.3205,\n",
              "        164.9104, 179.5003, 194.0902, 208.6801, 223.27  ]),\n",
              " array([129.412 , 178.1161, 226.8202, 275.5243, 324.2284, 372.9325,\n",
              "        421.6366, 470.3407, 519.0448, 567.7489, 616.453 ]),\n",
              " <matplotlib.collections.QuadMesh at 0x7a2c9e35f370>)"
            ]
          },
          "metadata": {},
          "execution_count": 28
        },
        {
          "output_type": "display_data",
          "data": {
            "text/plain": [
              "<Figure size 640x480 with 1 Axes>"
            ],
            "image/png": "[encoded data removed]"
          },
          "metadata": {}
        }
      ]
    },
    {
      "cell_type": "markdown",
      "source": [
        "Data Partitioning:\n",
        "\n",
        "Split the data into train and test subsets (Note: Time series data cannot be randomly subsampled):"
      ],
      "metadata": {
        "id": "a11jfjnUkHfz"
      }
    },
    {
      "cell_type": "code",
      "source": [
        "rate = 0.75\n",
        "index = int(rate * len(Forecasting_data))\n",
        "\n",
        "X_train = Forecasting_data.iloc[:index, 1:-1].values\n",
        "y_train = Forecasting_data.iloc[:index, -1].values\n",
        "\n",
        "X_test = Forecasting_data.iloc[index:, 1:-1].values\n",
        "y_test = Forecasting_data.loc[index:, \"Target (Total orders)\"].values\n",
        "print(f\"X_train shape: {X_train.shape}, y_train shape: {y_train.shape}\")\n",
        "print(f\"X_test shape: {X_test.shape}, y_test shape: {y_test.shape}\")"
      ],
      "metadata": {
        "id": "WmAdZuOqiVQ9",
        "colab": {
          "base_uri": "https://localhost:8080/"
        },
        "outputId": "003d6a1a-47dd-4c85-809e-20552a1c477e"
      },
      "execution_count": null,
      "outputs": [
        {
          "output_type": "stream",
          "name": "stdout",
          "text": [
            "X_train shape: (45, 12), y_train shape: (45,)\n",
            "X_test shape: (15, 12), y_test shape: (15,)\n"
          ]
        }
      ]
    },
    {
      "cell_type": "markdown",
      "source": [
        "Train linear regression model:"
      ],
      "metadata": {
        "id": "wK3123z_CFai"
      }
    },
    {
      "cell_type": "code",
      "source": [
        "# create linear regression object\n",
        "linear_reg = linear_model.LinearRegression(fit_intercept=True)\n",
        "# fit the linear regression model to your training data\n",
        "linear_reg.fit(X_train, y_train)\n",
        "print(f\"intercept:{linear_reg.intercept_}\\n\")\n",
        "print(f\"Estiamted coefficients:{linear_reg.coef_}\")"
      ],
      "metadata": {
        "id": "cbybQM3fCHxk",
        "colab": {
          "base_uri": "https://localhost:8080/"
        },
        "outputId": "6c810284-7ae6-4a64-c0fb-69895d356827"
      },
      "execution_count": null,
      "outputs": [
        {
          "output_type": "stream",
          "name": "stdout",
          "text": [
            "intercept:-1.000444171950221e-11\n",
            "\n",
            "Estiamted coefficients:[ 7.16358194e-14 -1.63076150e-13  5.53251788e-15  1.14242149e-14\n",
            "  1.00000000e+00  1.00000000e+00  1.00000000e+00 -3.41281708e-15\n",
            "  2.02891496e-16  9.97465999e-18 -5.74627151e-18  9.31600717e-17]\n"
          ]
        }
      ]
    },
    {
      "cell_type": "markdown",
      "source": [
        "Linear Regression Equation:   $ŷ = β_{0} + \\beta_{1} X_{1} + ...+ \\beta_{k} X_{k}$\n",
        "\n",
        "Test the prediction performance:"
      ],
      "metadata": {
        "id": "tvZ0BynRnGtq"
      }
    },
    {
      "cell_type": "code",
      "source": [
        "y_pred = linear_reg.predict(X_test)\n",
        "print(y_pred)\n",
        "\n",
        "MSE = np.mean(np.square(y_pred - y_test))\n",
        "print(f\"\\ncalculated MSE: {MSE}\")\n",
        "RMSE = np.sqrt(np.mean((y_pred - y_test)**2))\n",
        "print(f\"calculated RMSE: {RMSE}\\n\")\n",
        "\n",
        "# using sklearn metrics\n",
        "MSE_sk = metrics.mean_squared_error(y_test, y_pred)\n",
        "print(f\"MSE: {MSE_sk}\")\n",
        "MAE_sk = metrics.mean_absolute_error(y_test, y_pred)\n",
        "print(f\"MAE: {MAE_sk}\")\n",
        "MAPE_sk = metrics.mean_absolute_percentage_error(y_test, y_pred)\n",
        "print(f\"MAPE: {MAPE_sk}\")"
      ],
      "metadata": {
        "colab": {
          "base_uri": "https://localhost:8080/"
        },
        "id": "f0n1oJGErjsy",
        "outputId": "a1fca985-70f4-42e9-fa1a-e304442f6112"
      },
      "execution_count": null,
      "outputs": [
        {
          "output_type": "stream",
          "name": "stdout",
          "text": [
            "[357.394 259.246 244.235 402.607 255.061 342.606 268.64  188.601 202.022\n",
            " 213.509 316.849 286.412 303.447 304.95  331.9  ]\n",
            "\n",
            "calculated MSE: 1.2251751176970312e-23\n",
            "calculated RMSE: 3.5002501591986695e-12\n",
            "\n",
            "MSE: 1.2251751176970312e-23\n",
            "MAE: 3.0619654959688584e-12\n",
            "MAPE: 1.089390734572127e-14\n"
          ]
        }
      ]
    },
    {
      "cell_type": "markdown",
      "source": [
        "Plot the predicted and actual values on the test set:"
      ],
      "metadata": {
        "id": "Ta98yqIXxk3Q"
      }
    },
    {
      "cell_type": "code",
      "source": [
        "plt.figure(figsize=(8,5))\n",
        "\n",
        "plt.plot(y_test, label= 'Test')\n",
        "plt.plot(y_pred, label= 'Prediction')\n",
        "plt.title('Linnear Regression Model Predictions', fontdict={'fontsize':20})\n",
        "plt.xlabel('Time')\n",
        "plt.ylabel('Total Order')\n",
        "plt.legend()\n",
        "plt.show()"
      ],
      "metadata": {
        "colab": {
          "base_uri": "https://localhost:8080/",
          "height": 495
        },
        "id": "r0uh0isKuu7A",
        "outputId": "6b8eb7c1-bd03-492c-cce7-0f6361f669d7"
      },
      "execution_count": null,
      "outputs": [
        {
          "output_type": "display_data",
          "data": {
            "text/plain": [
              "<Figure size 800x500 with 1 Axes>"
            ],
            "image/png": "[encoded data removed]"
          },
          "metadata": {}
        }
      ]
    },
    {
      "cell_type": "markdown",
      "source": [
        "## Classification model:"
      ],
      "metadata": {
        "id": "dDgISHnjx49Q"
      }
    },
    {
      "cell_type": "markdown",
      "source": [
        "###Read the Data:"
      ],
      "metadata": {
        "id": "zvFoqxSfx49R"
      }
    },
    {
      "cell_type": "code",
      "source": [
        "# Nasa Dataset\n",
        "classification_data = pd.read_csv(\"/content/nasa.csv\")\n",
        "\n",
        "print(classification_data.columns)\n",
        "classification_data.head(3)"
      ],
      "metadata": {
        "colab": {
          "base_uri": "https://localhost:8080/",
          "height": 401
        },
        "outputId": "21845027-0633-4866-a4df-fb65f09ae840",
        "id": "7En9EWmsx49S"
      },
      "execution_count": null,
      "outputs": [
        {
          "output_type": "stream",
          "name": "stdout",
          "text": [
            "Index(['Name', 'Eccentricity', 'Inclination', 'Hazardous', 'Neo Reference ID',\n",
            "       'Absolute Magnitude', 'Est Dia in Feet(min)', 'Est Dia in Feet(max)',\n",
            "       'Close Approach Date', 'Epoch Date Close Approach',\n",
            "       'Relative Velocity km per sec', 'Relative Velocity km per hr',\n",
            "       'Miles per hour', 'Miss Dist.(Astronomical)', 'Miss Dist.(lunar)',\n",
            "       'Orbit Uncertainity', 'Minimum Orbit Intersection',\n",
            "       'Jupiter Tisserand Invariant', 'Semi Major Axis', 'Asc Node Longitude',\n",
            "       'Orbital Period', 'Perihelion Distance', 'Perihelion Arg',\n",
            "       'Aphelion Dist', 'Perihelion Time', 'Mean Anomaly', 'Mean Motion'],\n",
            "      dtype='object')\n"
          ]
        },
        {
          "output_type": "execute_result",
          "data": {
            "text/plain": [
              "      Name  Eccentricity  Inclination  Hazardous  Neo Reference ID  \\\n",
              "0  3723955      0.351674    28.412996          0           3723955   \n",
              "1  2446862      0.348248     4.237961          1           2446862   \n",
              "2  3671135      0.563441    17.927751          0           3671135   \n",
              "\n",
              "   Absolute Magnitude  Est Dia in Feet(min)  Est Dia in Feet(max)  \\\n",
              "0                21.3            479.225620           1071.581063   \n",
              "1                20.3            759.521423           1698.341531   \n",
              "2                19.6           1048.431420           2344.363926   \n",
              "\n",
              "   Close Approach Date  Epoch Date Close Approach  ...  \\\n",
              "0                12784               7.890000e+11  ...   \n",
              "1                12791               7.900000e+11  ...   \n",
              "2                12798               7.900000e+11  ...   \n",
              "\n",
              "   Jupiter Tisserand Invariant  Semi Major Axis  Asc Node Longitude  \\\n",
              "0                        5.457         1.107776          136.717242   \n",
              "1                        4.557         1.458824          259.475979   \n",
              "2                        4.724         1.323532          178.971951   \n",
              "\n",
              "   Orbital Period  Perihelion Distance  Perihelion Arg  Aphelion Dist  \\\n",
              "0      425.869294             0.718200      313.091975       1.497352   \n",
              "1      643.580228             0.950791      248.415038       1.966857   \n",
              "2      556.160556             0.577800      198.145969       2.069265   \n",
              "\n",
              "   Perihelion Time  Mean Anomaly  Mean Motion  \n",
              "0      2457794.969    173.741112     0.845330  \n",
              "1      2458120.468    292.893654     0.559371  \n",
              "2      2458009.403    354.237368     0.647295  \n",
              "\n",
              "[3 rows x 27 columns]"
            ],
            "text/html": [
              "\n",
              "  <div id=\"df-ff70108f-e52e-4a59-89e2-a27d81fe6e55\" class=\"colab-df-container\">\n",
              "    <div>\n",
              "<style scoped>\n",
              "    .dataframe tbody tr th:only-of-type {\n",
              "        vertical-align: middle;\n",
              "    }\n",
              "\n",
              "    .dataframe tbody tr th {\n",
              "        vertical-align: top;\n",
              "    }\n",
              "\n",
              "    .dataframe thead th {\n",
              "        text-align: right;\n",
              "    }\n",
              "</style>\n",
              "<table border=\"1\" class=\"dataframe\">\n",
              "  <thead>\n",
              "    <tr style=\"text-align: right;\">\n",
              "      <th></th>\n",
              "      <th>Name</th>\n",
              "      <th>Eccentricity</th>\n",
              "      <th>Inclination</th>\n",
              "      <th>Hazardous</th>\n",
              "      <th>Neo Reference ID</th>\n",
              "      <th>Absolute Magnitude</th>\n",
              "      <th>Est Dia in Feet(min)</th>\n",
              "      <th>Est Dia in Feet(max)</th>\n",
              "      <th>Close Approach Date</th>\n",
              "      <th>Epoch Date Close Approach</th>\n",
              "      <th>...</th>\n",
              "      <th>Jupiter Tisserand Invariant</th>\n",
              "      <th>Semi Major Axis</th>\n",
              "      <th>Asc Node Longitude</th>\n",
              "      <th>Orbital Period</th>\n",
              "      <th>Perihelion Distance</th>\n",
              "      <th>Perihelion Arg</th>\n",
              "      <th>Aphelion Dist</th>\n",
              "      <th>Perihelion Time</th>\n",
              "      <th>Mean Anomaly</th>\n",
              "      <th>Mean Motion</th>\n",
              "    </tr>\n",
              "  </thead>\n",
              "  <tbody>\n",
              "    <tr>\n",
              "      <th>0</th>\n",
              "      <td>3723955</td>\n",
              "      <td>0.351674</td>\n",
              "      <td>28.412996</td>\n",
              "      <td>0</td>\n",
              "      <td>3723955</td>\n",
              "      <td>21.3</td>\n",
              "      <td>479.225620</td>\n",
              "      <td>1071.581063</td>\n",
              "      <td>12784</td>\n",
              "      <td>7.890000e+11</td>\n",
              "      <td>...</td>\n",
              "      <td>5.457</td>\n",
              "      <td>1.107776</td>\n",
              "      <td>136.717242</td>\n",
              "      <td>425.869294</td>\n",
              "      <td>0.718200</td>\n",
              "      <td>313.091975</td>\n",
              "      <td>1.497352</td>\n",
              "      <td>2457794.969</td>\n",
              "      <td>173.741112</td>\n",
              "      <td>0.845330</td>\n",
              "    </tr>\n",
              "    <tr>\n",
              "      <th>1</th>\n",
              "      <td>2446862</td>\n",
              "      <td>0.348248</td>\n",
              "      <td>4.237961</td>\n",
              "      <td>1</td>\n",
              "      <td>2446862</td>\n",
              "      <td>20.3</td>\n",
              "      <td>759.521423</td>\n",
              "      <td>1698.341531</td>\n",
              "      <td>12791</td>\n",
              "      <td>7.900000e+11</td>\n",
              "      <td>...</td>\n",
              "      <td>4.557</td>\n",
              "      <td>1.458824</td>\n",
              "      <td>259.475979</td>\n",
              "      <td>643.580228</td>\n",
              "      <td>0.950791</td>\n",
              "      <td>248.415038</td>\n",
              "      <td>1.966857</td>\n",
              "      <td>2458120.468</td>\n",
              "      <td>292.893654</td>\n",
              "      <td>0.559371</td>\n",
              "    </tr>\n",
              "    <tr>\n",
              "      <th>2</th>\n",
              "      <td>3671135</td>\n",
              "      <td>0.563441</td>\n",
              "      <td>17.927751</td>\n",
              "      <td>0</td>\n",
              "      <td>3671135</td>\n",
              "      <td>19.6</td>\n",
              "      <td>1048.431420</td>\n",
              "      <td>2344.363926</td>\n",
              "      <td>12798</td>\n",
              "      <td>7.900000e+11</td>\n",
              "      <td>...</td>\n",
              "      <td>4.724</td>\n",
              "      <td>1.323532</td>\n",
              "      <td>178.971951</td>\n",
              "      <td>556.160556</td>\n",
              "      <td>0.577800</td>\n",
              "      <td>198.145969</td>\n",
              "      <td>2.069265</td>\n",
              "      <td>2458009.403</td>\n",
              "      <td>354.237368</td>\n",
              "      <td>0.647295</td>\n",
              "    </tr>\n",
              "  </tbody>\n",
              "</table>\n",
              "<p>3 rows × 27 columns</p>\n",
              "</div>\n",
              "    <div class=\"colab-df-buttons\">\n",
              "\n",
              "  <div class=\"colab-df-container\">\n",
              "    <button class=\"colab-df-convert\" onclick=\"convertToInteractive('df-ff70108f-e52e-4a59-89e2-a27d81fe6e55')\"\n",
              "            title=\"Convert this dataframe to an interactive table.\"\n",
              "            style=\"display:none;\">\n",
              "\n",
              "  <svg xmlns=\"http://www.w3.org/2000/svg\" height=\"24px\" viewBox=\"0 -960 960 960\">\n",
              "    <path d=\"M120-120v-720h720v720H120Zm60-500h600v-160H180v160Zm220 220h160v-160H400v160Zm0 220h160v-160H400v160ZM180-400h160v-160H180v160Zm440 0h160v-160H620v160ZM180-180h160v-160H180v160Zm440 0h160v-160H620v160Z\"/>\n",
              "  </svg>\n",
              "    </button>\n",
              "\n",
              "  <style>\n",
              "    .colab-df-container {\n",
              "      display:flex;\n",
              "      gap: 12px;\n",
              "    }\n",
              "\n",
              "    .colab-df-convert {\n",
              "      background-color: #E8F0FE;\n",
              "      border: none;\n",
              "      border-radius: 50%;\n",
              "      cursor: pointer;\n",
              "      display: none;\n",
              "      fill: #1967D2;\n",
              "      height: 32px;\n",
              "      padding: 0 0 0 0;\n",
              "      width: 32px;\n",
              "    }\n",
              "\n",
              "    .colab-df-convert:hover {\n",
              "      background-color: #E2EBFA;\n",
              "      box-shadow: 0px 1px 2px rgba(60, 64, 67, 0.3), 0px 1px 3px 1px rgba(60, 64, 67, 0.15);\n",
              "      fill: #174EA6;\n",
              "    }\n",
              "\n",
              "    .colab-df-buttons div {\n",
              "      margin-bottom: 4px;\n",
              "    }\n",
              "\n",
              "    [theme=dark] .colab-df-convert {\n",
              "      background-color: #3B4455;\n",
              "      fill: #D2E3FC;\n",
              "    }\n",
              "\n",
              "    [theme=dark] .colab-df-convert:hover {\n",
              "      background-color: #434B5C;\n",
              "      box-shadow: 0px 1px 3px 1px rgba(0, 0, 0, 0.15);\n",
              "      filter: drop-shadow(0px 1px 2px rgba(0, 0, 0, 0.3));\n",
              "      fill: #FFFFFF;\n",
              "    }\n",
              "  </style>\n",
              "\n",
              "    <script>\n",
              "      const buttonEl =\n",
              "        document.querySelector('#df-ff70108f-e52e-4a59-89e2-a27d81fe6e55 button.colab-df-convert');\n",
              "      buttonEl.style.display =\n",
              "        google.colab.kernel.accessAllowed ? 'block' : 'none';\n",
              "\n",
              "      async function convertToInteractive(key) {\n",
              "        const element = document.querySelector('#df-ff70108f-e52e-4a59-89e2-a27d81fe6e55');\n",
              "        const dataTable =\n",
              "          await google.colab.kernel.invokeFunction('convertToInteractive',\n",
              "                                                    [key], {});\n",
              "        if (!dataTable) return;\n",
              "\n",
              "        const docLinkHtml = 'Like what you see? Visit the ' +\n",
              "          '<a target=\"_blank\" href=https://colab.research.google.com/notebooks/data_table.ipynb>data table notebook</a>'\n",
              "          + ' to learn more about interactive tables.';\n",
              "        element.innerHTML = '';\n",
              "        dataTable['output_type'] = 'display_data';\n",
              "        await google.colab.output.renderOutput(dataTable, element);\n",
              "        const docLink = document.createElement('div');\n",
              "        docLink.innerHTML = docLinkHtml;\n",
              "        element.appendChild(docLink);\n",
              "      }\n",
              "    </script>\n",
              "  </div>\n",
              "\n",
              "\n",
              "<div id=\"df-5006c70f-2a4b-4835-8828-5e217146b1a5\">\n",
              "  <button class=\"colab-df-quickchart\" onclick=\"quickchart('df-5006c70f-2a4b-4835-8828-5e217146b1a5')\"\n",
              "            title=\"Suggest charts\"\n",
              "            style=\"display:none;\">\n",
              "\n",
              "<svg xmlns=\"http://www.w3.org/2000/svg\" height=\"24px\"viewBox=\"0 0 24 24\"\n",
              "     width=\"24px\">\n",
              "    <g>\n",
              "        <path d=\"M19 3H5c-1.1 0-2 .9-2 2v14c0 1.1.9 2 2 2h14c1.1 0 2-.9 2-2V5c0-1.1-.9-2-2-2zM9 17H7v-7h2v7zm4 0h-2V7h2v10zm4 0h-2v-4h2v4z\"/>\n",
              "    </g>\n",
              "</svg>\n",
              "  </button>\n",
              "\n",
              "<style>\n",
              "  .colab-df-quickchart {\n",
              "      --bg-color: #E8F0FE;\n",
              "      --fill-color: #1967D2;\n",
              "      --hover-bg-color: #E2EBFA;\n",
              "      --hover-fill-color: #174EA6;\n",
              "      --disabled-fill-color: #AAA;\n",
              "      --disabled-bg-color: #DDD;\n",
              "  }\n",
              "\n",
              "  [theme=dark] .colab-df-quickchart {\n",
              "      --bg-color: #3B4455;\n",
              "      --fill-color: #D2E3FC;\n",
              "      --hover-bg-color: #434B5C;\n",
              "      --hover-fill-color: #FFFFFF;\n",
              "      --disabled-bg-color: #3B4455;\n",
              "      --disabled-fill-color: #666;\n",
              "  }\n",
              "\n",
              "  .colab-df-quickchart {\n",
              "    background-color: var(--bg-color);\n",
              "    border: none;\n",
              "    border-radius: 50%;\n",
              "    cursor: pointer;\n",
              "    display: none;\n",
              "    fill: var(--fill-color);\n",
              "    height: 32px;\n",
              "    padding: 0;\n",
              "    width: 32px;\n",
              "  }\n",
              "\n",
              "  .colab-df-quickchart:hover {\n",
              "    background-color: var(--hover-bg-color);\n",
              "    box-shadow: 0 1px 2px rgba(60, 64, 67, 0.3), 0 1px 3px 1px rgba(60, 64, 67, 0.15);\n",
              "    fill: var(--button-hover-fill-color);\n",
              "  }\n",
              "\n",
              "  .colab-df-quickchart-complete:disabled,\n",
              "  .colab-df-quickchart-complete:disabled:hover {\n",
              "    background-color: var(--disabled-bg-color);\n",
              "    fill: var(--disabled-fill-color);\n",
              "    box-shadow: none;\n",
              "  }\n",
              "\n",
              "  .colab-df-spinner {\n",
              "    border: 2px solid var(--fill-color);\n",
              "    border-color: transparent;\n",
              "    border-bottom-color: var(--fill-color);\n",
              "    animation:\n",
              "      spin 1s steps(1) infinite;\n",
              "  }\n",
              "\n",
              "  @keyframes spin {\n",
              "    0% {\n",
              "      border-color: transparent;\n",
              "      border-bottom-color: var(--fill-color);\n",
              "      border-left-color: var(--fill-color);\n",
              "    }\n",
              "    20% {\n",
              "      border-color: transparent;\n",
              "      border-left-color: var(--fill-color);\n",
              "      border-top-color: var(--fill-color);\n",
              "    }\n",
              "    30% {\n",
              "      border-color: transparent;\n",
              "      border-left-color: var(--fill-color);\n",
              "      border-top-color: var(--fill-color);\n",
              "      border-right-color: var(--fill-color);\n",
              "    }\n",
              "    40% {\n",
              "      border-color: transparent;\n",
              "      border-right-color: var(--fill-color);\n",
              "      border-top-color: var(--fill-color);\n",
              "    }\n",
              "    60% {\n",
              "      border-color: transparent;\n",
              "      border-right-color: var(--fill-color);\n",
              "    }\n",
              "    80% {\n",
              "      border-color: transparent;\n",
              "      border-right-color: var(--fill-color);\n",
              "      border-bottom-color: var(--fill-color);\n",
              "    }\n",
              "    90% {\n",
              "      border-color: transparent;\n",
              "      border-bottom-color: var(--fill-color);\n",
              "    }\n",
              "  }\n",
              "</style>\n",
              "\n",
              "  <script>\n",
              "    async function quickchart(key) {\n",
              "      const quickchartButtonEl =\n",
              "        document.querySelector('#' + key + ' button');\n",
              "      quickchartButtonEl.disabled = true;  // To prevent multiple clicks.\n",
              "      quickchartButtonEl.classList.add('colab-df-spinner');\n",
              "      try {\n",
              "        const charts = await google.colab.kernel.invokeFunction(\n",
              "            'suggestCharts', [key], {});\n",
              "      } catch (error) {\n",
              "        console.error('Error during call to suggestCharts:', error);\n",
              "      }\n",
              "      quickchartButtonEl.classList.remove('colab-df-spinner');\n",
              "      quickchartButtonEl.classList.add('colab-df-quickchart-complete');\n",
              "    }\n",
              "    (() => {\n",
              "      let quickchartButtonEl =\n",
              "        document.querySelector('#df-5006c70f-2a4b-4835-8828-5e217146b1a5 button');\n",
              "      quickchartButtonEl.style.display =\n",
              "        google.colab.kernel.accessAllowed ? 'block' : 'none';\n",
              "    })();\n",
              "  </script>\n",
              "</div>\n",
              "\n",
              "    </div>\n",
              "  </div>\n"
            ]
          },
          "metadata": {},
          "execution_count": 128
        }
      ]
    },
    {
      "cell_type": "code",
      "source": [
        "# Check for any missing values\n",
        "classification_data.info()"
      ],
      "metadata": {
        "id": "TpKwsAbYx49T",
        "colab": {
          "base_uri": "https://localhost:8080/"
        },
        "outputId": "e7f8bd1c-16bf-4695-86a4-87b34ac16273"
      },
      "execution_count": null,
      "outputs": [
        {
          "output_type": "stream",
          "name": "stdout",
          "text": [
            "<class 'pandas.core.frame.DataFrame'>\n",
            "RangeIndex: 462 entries, 0 to 461\n",
            "Data columns (total 27 columns):\n",
            " #   Column                        Non-Null Count  Dtype  \n",
            "---  ------                        --------------  -----  \n",
            " 0   Name                          462 non-null    int64  \n",
            " 1   Eccentricity                  462 non-null    float64\n",
            " 2   Inclination                   462 non-null    float64\n",
            " 3   Hazardous                     462 non-null    int64  \n",
            " 4   Neo Reference ID              462 non-null    int64  \n",
            " 5   Absolute Magnitude            462 non-null    float64\n",
            " 6   Est Dia in Feet(min)          462 non-null    float64\n",
            " 7   Est Dia in Feet(max)          462 non-null    float64\n",
            " 8   Close Approach Date           462 non-null    int64  \n",
            " 9   Epoch Date Close Approach     462 non-null    float64\n",
            " 10  Relative Velocity km per sec  462 non-null    float64\n",
            " 11  Relative Velocity km per hr   462 non-null    float64\n",
            " 12  Miles per hour                462 non-null    float64\n",
            " 13  Miss Dist.(Astronomical)      462 non-null    float64\n",
            " 14  Miss Dist.(lunar)             462 non-null    float64\n",
            " 15  Orbit Uncertainity            462 non-null    int64  \n",
            " 16  Minimum Orbit Intersection    462 non-null    float64\n",
            " 17  Jupiter Tisserand Invariant   462 non-null    float64\n",
            " 18  Semi Major Axis               462 non-null    float64\n",
            " 19  Asc Node Longitude            462 non-null    float64\n",
            " 20  Orbital Period                462 non-null    float64\n",
            " 21  Perihelion Distance           462 non-null    float64\n",
            " 22  Perihelion Arg                462 non-null    float64\n",
            " 23  Aphelion Dist                 462 non-null    float64\n",
            " 24  Perihelion Time               462 non-null    float64\n",
            " 25  Mean Anomaly                  462 non-null    float64\n",
            " 26  Mean Motion                   462 non-null    float64\n",
            "dtypes: float64(22), int64(5)\n",
            "memory usage: 97.6 KB\n"
          ]
        }
      ]
    },
    {
      "cell_type": "code",
      "source": [
        "# check the frequency of each class\n",
        "height = classification_data[\"Hazardous\"].value_counts()\n",
        "plt.bar(x = [\"not hazardous\", \"hazardous\"], height= height)"
      ],
      "metadata": {
        "colab": {
          "base_uri": "https://localhost:8080/",
          "height": 447
        },
        "id": "3nKxfl7w8TW_",
        "outputId": "609f69ab-ed40-4dd6-f159-6af32306d5b3"
      },
      "execution_count": null,
      "outputs": [
        {
          "output_type": "execute_result",
          "data": {
            "text/plain": [
              "<BarContainer object of 2 artists>"
            ]
          },
          "metadata": {},
          "execution_count": 67
        },
        {
          "output_type": "display_data",
          "data": {
            "text/plain": [
              "<Figure size 640x480 with 1 Axes>"
            ],
            "image/png": "[encoded data removed]"
          },
          "metadata": {}
        }
      ]
    },
    {
      "cell_type": "markdown",
      "source": [
        "###Randomly split the data into train and test subsets"
      ],
      "metadata": {
        "id": "M6xEmdZUx49U"
      }
    },
    {
      "cell_type": "code",
      "source": [
        "classification_data.columns"
      ],
      "metadata": {
        "colab": {
          "base_uri": "https://localhost:8080/"
        },
        "id": "0dKA-ZD5BAL7",
        "outputId": "f7517167-dfc2-4567-c4d8-3827a9d2b10e"
      },
      "execution_count": null,
      "outputs": [
        {
          "output_type": "execute_result",
          "data": {
            "text/plain": [
              "Index(['Name', 'Eccentricity', 'Inclination', 'Hazardous', 'Neo Reference ID',\n",
              "       'Absolute Magnitude', 'Est Dia in Feet(min)', 'Est Dia in Feet(max)',\n",
              "       'Close Approach Date', 'Epoch Date Close Approach',\n",
              "       'Relative Velocity km per sec', 'Relative Velocity km per hr',\n",
              "       'Miles per hour', 'Miss Dist.(Astronomical)', 'Miss Dist.(lunar)',\n",
              "       'Orbit Uncertainity', 'Minimum Orbit Intersection',\n",
              "       'Jupiter Tisserand Invariant', 'Semi Major Axis', 'Asc Node Longitude',\n",
              "       'Orbital Period', 'Perihelion Distance', 'Perihelion Arg',\n",
              "       'Aphelion Dist', 'Perihelion Time', 'Mean Anomaly', 'Mean Motion'],\n",
              "      dtype='object')"
            ]
          },
          "metadata": {},
          "execution_count": 88
        }
      ]
    },
    {
      "cell_type": "code",
      "source": [
        "from sklearn.model_selection import train_test_split\n",
        "\n",
        "X = classification_data.drop(['Hazardous', 'Name', 'Neo Reference ID', 'Close Approach Date', 'Epoch Date Close Approach'], axis=1)\n",
        "y = classification_data['Hazardous']\n",
        "\n",
        "print(f\"Shape of dataset: {classification_data.shape}\")\n",
        "print(f\"Shape of X: {X.shape}\")\n",
        "print(f\"Shape of y: {y.shape}\")\n",
        "\n",
        "X_train, X_test, y_train, y_test = train_test_split(X, y, test_size= 0.2)\n",
        "\n",
        "print(f\"Shape of partitions:\\n X_train: {X_train.shape}, \\n X_test: {X_test.shape}\")"
      ],
      "metadata": {
        "id": "NURtEmyfx49U",
        "colab": {
          "base_uri": "https://localhost:8080/"
        },
        "outputId": "c2631ed8-b054-4688-fcac-f7c16aa4b527"
      },
      "execution_count": null,
      "outputs": [
        {
          "output_type": "stream",
          "name": "stdout",
          "text": [
            "Shape of dataset: (462, 27)\n",
            "Shape of X: (462, 22)\n",
            "Shape of y: (462,)\n",
            "Shape of partitions:\n",
            " X_train: (369, 22), \n",
            " X_test: (93, 22)\n"
          ]
        }
      ]
    },
    {
      "cell_type": "markdown",
      "source": [
        "if you would like to randomly split your data into train, validation, and test set, use the following code snippet:"
      ],
      "metadata": {
        "id": "-HhLk5Ib_8UU"
      }
    },
    {
      "cell_type": "code",
      "source": [
        "train_ratio = 0.75\n",
        "validation_ratio = 0.15\n",
        "test_ratio = 0.10\n",
        "\n",
        "# train is now 75% of the entire data set\n",
        "X_train, X_test, y_train, y_test = train_test_split(X, y, test_size=1 - train_ratio)\n",
        "\n",
        "# test is now 10% of the initial data set\n",
        "# validation is now 15% of the initial data set\n",
        "X_val, X_test, y_val, y_test = train_test_split(X_test, y_test, test_size=test_ratio/(test_ratio + validation_ratio))\n",
        "\n",
        "print(f\"Shape of partitions:\\n X_train: {X_train.shape}, \\n X_val: {X_val.shape},\\n X_test: {X_test.shape}\")"
      ],
      "metadata": {
        "id": "fLz3Lfjz_7kT"
      },
      "execution_count": null,
      "outputs": []
    },
    {
      "cell_type": "markdown",
      "source": [
        "###Train logistic regression classifier:\n",
        "\n",
        "Logit Equation:   $log odds = β_{0} + \\beta_{1} X_{1} + ...+ \\beta_{k} X_{k}$\n",
        "\n",
        "Logistic Regression Equation:\n",
        "## $ p = \\frac{1}{1+ e^{-(β_{0} + \\beta_{1} X_{1} + ...+ \\beta_{k} X_{k})}}$"
      ],
      "metadata": {
        "id": "iENXZnB4x49V"
      }
    },
    {
      "cell_type": "code",
      "source": [
        "# create linear regression object\n",
        "logistic_reg = linear_model.LogisticRegression()\n",
        "# fit the linear regression model to your training data\n",
        "logistic_reg.fit(X_train, y_train)\n",
        "print(f\"intercept:{logistic_reg.intercept_}\\n\")\n",
        "print(f\"Estiamted coefficients:{logistic_reg.coef_}\")"
      ],
      "metadata": {
        "colab": {
          "base_uri": "https://localhost:8080/"
        },
        "outputId": "91f408bb-3dec-4d0c-9c51-d1361c39a337",
        "id": "1Anqqlz7x49W"
      },
      "execution_count": null,
      "outputs": [
        {
          "output_type": "stream",
          "name": "stdout",
          "text": [
            "intercept:[3.03952198e-12]\n",
            "\n",
            "Estiamted coefficients:[[ 1.99235067e-08 -4.61667655e-07 -6.00247461e-07  1.00593629e-04\n",
            "   2.24934191e-04  1.98093437e-09  7.13136304e-06  4.43115180e-06\n",
            "   3.42251179e-09  1.33135709e-06 -6.67921929e-07 -1.79713239e-08\n",
            "  -1.88517702e-08  9.30342490e-09  1.38529461e-06  6.74085337e-06\n",
            "  -2.19254866e-08 -2.67814730e-06  4.05323364e-08 -4.74087210e-07\n",
            "  -1.89109848e-06 -2.85154549e-09]]\n"
          ]
        }
      ]
    },
    {
      "cell_type": "markdown",
      "source": [
        "## Performance Metrics:\n",
        "\n",
        "See sklearn documentations [here](https://scikit-learn.org/stable/modules/model_evaluation.html).\n",
        "\n",
        "![](https://drive.google.com/uc?export=view&id=1MAzhijNiex7OpXI8ZEwNjJ6005jmnGwT) ![](https://drive.google.com/uc?export=view&id=1xtpS0KAt9j5gqRL4ZB1k3n5dHxJG7fVq)"
      ],
      "metadata": {
        "id": "pzGF5Hzgx49W"
      }
    },
    {
      "cell_type": "code",
      "source": [
        "y_pred = logistic_reg.predict(X_test)\n",
        "print(y_pred)\n",
        "probalilities = logistic_reg.predict_proba(X_test)\n",
        "print(f\"Estiamted Probabilities:{probalilities}\")"
      ],
      "metadata": {
        "id": "hs9F4DpUx49X",
        "colab": {
          "base_uri": "https://localhost:8080/"
        },
        "outputId": "5b2e7c2c-61f4-44ae-b0ef-08ba7b6371f9"
      },
      "execution_count": null,
      "outputs": [
        {
          "output_type": "stream",
          "name": "stdout",
          "text": [
            "[0 1 0 1 1 0 0 1 1 0 0 0 0 0 1 1 1 0 1 0 0 1 0 1 1 0 1 0 0 0 0 0 1 0 1 1 1\n",
            " 0 1 0 0 1 0 0 1 0 0 0 1 1 0 1 1 0 0 0 0 0 1 0 0 1 1 1 0 1 0 0 1 1 0 1 0 1\n",
            " 1 0 0 0 1 0 0 0 0 1 0 1 0 1 0 0 0 1 1]\n",
            "Estiamted Probabilities:[[0.63109889 0.36890111]\n",
            " [0.22582099 0.77417901]\n",
            " [0.71938985 0.28061015]\n",
            " [0.3310163  0.6689837 ]\n",
            " [0.26825438 0.73174562]\n",
            " [0.59913076 0.40086924]\n",
            " [0.5686175  0.4313825 ]\n",
            " [0.39395494 0.60604506]\n",
            " [0.47962114 0.52037886]\n",
            " [0.54390265 0.45609735]\n",
            " [0.63583597 0.36416403]\n",
            " [0.69133547 0.30866453]\n",
            " [0.58391793 0.41608207]\n",
            " [0.66197751 0.33802249]\n",
            " [0.07719238 0.92280762]\n",
            " [0.27365827 0.72634173]\n",
            " [0.37191309 0.62808691]\n",
            " [0.63805581 0.36194419]\n",
            " [0.48041855 0.51958145]\n",
            " [0.52329521 0.47670479]\n",
            " [0.58246161 0.41753839]\n",
            " [0.29158355 0.70841645]\n",
            " [0.65716595 0.34283405]\n",
            " [0.41838738 0.58161262]\n",
            " [0.49087328 0.50912672]\n",
            " [0.62743635 0.37256365]\n",
            " [0.40557733 0.59442267]\n",
            " [0.67589095 0.32410905]\n",
            " [0.52019809 0.47980191]\n",
            " [0.54602422 0.45397578]\n",
            " [0.6552532  0.3447468 ]\n",
            " [0.55080012 0.44919988]\n",
            " [0.45763766 0.54236234]\n",
            " [0.60386843 0.39613157]\n",
            " [0.36538082 0.63461918]\n",
            " [0.42002508 0.57997492]\n",
            " [0.31686737 0.68313263]\n",
            " [0.62424113 0.37575887]\n",
            " [0.38058602 0.61941398]\n",
            " [0.53899922 0.46100078]\n",
            " [0.63884203 0.36115797]\n",
            " [0.48683068 0.51316932]\n",
            " [0.58091826 0.41908174]\n",
            " [0.53903537 0.46096463]\n",
            " [0.32668744 0.67331256]\n",
            " [0.60667083 0.39332917]\n",
            " [0.6980283  0.3019717 ]\n",
            " [0.66796559 0.33203441]\n",
            " [0.42172831 0.57827169]\n",
            " [0.42992104 0.57007896]\n",
            " [0.71127635 0.28872365]\n",
            " [0.4736963  0.5263037 ]\n",
            " [0.30799732 0.69200268]\n",
            " [0.50142291 0.49857709]\n",
            " [0.59320206 0.40679794]\n",
            " [0.58836532 0.41163468]\n",
            " [0.64040956 0.35959044]\n",
            " [0.60329492 0.39670508]\n",
            " [0.44022449 0.55977551]\n",
            " [0.61664345 0.38335655]\n",
            " [0.53616335 0.46383665]\n",
            " [0.45074449 0.54925551]\n",
            " [0.32764376 0.67235624]\n",
            " [0.28534256 0.71465744]\n",
            " [0.64625618 0.35374382]\n",
            " [0.28813022 0.71186978]\n",
            " [0.72094993 0.27905007]\n",
            " [0.70192376 0.29807624]\n",
            " [0.39210077 0.60789923]\n",
            " [0.32668744 0.67331256]\n",
            " [0.61476946 0.38523054]\n",
            " [0.47390859 0.52609141]\n",
            " [0.56903814 0.43096186]\n",
            " [0.37483232 0.62516768]\n",
            " [0.43141571 0.56858429]\n",
            " [0.53941485 0.46058515]\n",
            " [0.71632303 0.28367697]\n",
            " [0.63994045 0.36005955]\n",
            " [0.48723264 0.51276736]\n",
            " [0.59914194 0.40085806]\n",
            " [0.5962381  0.4037619 ]\n",
            " [0.60661748 0.39338252]\n",
            " [0.63170944 0.36829056]\n",
            " [0.29343803 0.70656197]\n",
            " [0.58745298 0.41254702]\n",
            " [0.04787594 0.95212406]\n",
            " [0.50734513 0.49265487]\n",
            " [0.36745173 0.63254827]\n",
            " [0.61102452 0.38897548]\n",
            " [0.59723443 0.40276557]\n",
            " [0.52552419 0.47447581]\n",
            " [0.37737874 0.62262126]\n",
            " [0.39565916 0.60434084]]\n"
          ]
        }
      ]
    },
    {
      "cell_type": "markdown",
      "source": [
        "The `roc_auc_score` function requires the true binary value and the target scores, which can either be probability estimates of the positive class, confidence values, or binary decisions."
      ],
      "metadata": {
        "id": "zZb5b5GpFfvj"
      }
    },
    {
      "cell_type": "code",
      "source": [
        "# using sklearn metrics\n",
        "acc = metrics.accuracy_score(y_test, y_pred)\n",
        "print(f\"Accuracy: {acc}\\n\")\n",
        "\n",
        "auc = metrics.roc_auc_score(y_test, probalilities[:, 1]) # probability of the class with the greater label\n",
        "print(f\"Area Under ROC curve (AUC): {auc}\\n\")\n",
        "\n",
        "confusion_mat = metrics.confusion_matrix(y_test, y_pred)\n",
        "confusion_mat"
      ],
      "metadata": {
        "colab": {
          "base_uri": "https://localhost:8080/"
        },
        "id": "Rad9y-Ga_IC4",
        "outputId": "9aae15c0-1c39-4f1e-eb16-151b946b5145"
      },
      "execution_count": null,
      "outputs": [
        {
          "output_type": "stream",
          "name": "stdout",
          "text": [
            "Accuracy: 0.5483870967741935\n",
            "\n",
            "Area Under ROC curve (AUC): 0.6172607879924954\n",
            "\n"
          ]
        },
        {
          "output_type": "execute_result",
          "data": {
            "text/plain": [
              "array([[26, 15],\n",
              "       [27, 25]])"
            ]
          },
          "metadata": {},
          "execution_count": 92
        }
      ]
    },
    {
      "cell_type": "markdown",
      "source": [
        "Find TP, TN, FP, and FN to calculate Sensitivity, Specificity, and Precision:"
      ],
      "metadata": {
        "id": "HcftDXqS_xYk"
      }
    },
    {
      "cell_type": "code",
      "source": [
        "tn, fp, fn, tp = confusion_mat.ravel()\n",
        "tn"
      ],
      "metadata": {
        "colab": {
          "base_uri": "https://localhost:8080/"
        },
        "id": "4Is9tuSi_nY4",
        "outputId": "c524da6c-3366-4525-e77b-2458a149b8b5"
      },
      "execution_count": null,
      "outputs": [
        {
          "output_type": "execute_result",
          "data": {
            "text/plain": [
              "26"
            ]
          },
          "metadata": {},
          "execution_count": 93
        }
      ]
    },
    {
      "cell_type": "markdown",
      "source": [
        "Plot the ROC curve:"
      ],
      "metadata": {
        "id": "X5nBKMg4x49Y"
      }
    },
    {
      "cell_type": "code",
      "source": [
        "metrics.RocCurveDisplay.from_estimator(logistic_reg, X_test, y_test)"
      ],
      "metadata": {
        "colab": {
          "base_uri": "https://localhost:8080/",
          "height": 466
        },
        "outputId": "31c00888-004a-41e0-e800-469b63e1ce39",
        "id": "ZAMOqUCpx49Y"
      },
      "execution_count": null,
      "outputs": [
        {
          "output_type": "execute_result",
          "data": {
            "text/plain": [
              "<sklearn.metrics._plot.roc_curve.RocCurveDisplay at 0x7a2c9b4e6980>"
            ]
          },
          "metadata": {},
          "execution_count": 101
        },
        {
          "output_type": "display_data",
          "data": {
            "text/plain": [
              "<Figure size 640x480 with 1 Axes>"
            ],
            "image/png": "[encoded data removed]"
          },
          "metadata": {}
        }
      ]
    },
    {
      "cell_type": "markdown",
      "source": [
        "# Unsupervised Learning:\n",
        "\n",
        "Find sklearn clustering methods [here](https://scikit-learn.org/stable/modules/clustering.html)."
      ],
      "metadata": {
        "id": "yIQdtIlIxGC0"
      }
    },
    {
      "cell_type": "markdown",
      "source": [
        "## K- Means Clustering"
      ],
      "metadata": {
        "id": "_5mqS-TgxJk9"
      }
    },
    {
      "cell_type": "code",
      "source": [
        "cluster_data = pd.read_csv('Mall_Customers.csv')\n",
        "cluster_data.head()"
      ],
      "metadata": {
        "id": "-jQmeBPaxQly",
        "colab": {
          "base_uri": "https://localhost:8080/",
          "height": 206
        },
        "outputId": "08c70e9a-5376-438d-aed4-3b63d1d9e7f0"
      },
      "execution_count": null,
      "outputs": [
        {
          "output_type": "execute_result",
          "data": {
            "text/plain": [
              "   CustomerID  Gender  Age  Annual Income (k$)  Spending Score\n",
              "0           1    Male   19                  15              39\n",
              "1           2    Male   21                  15              81\n",
              "2           3  Female   20                  16               6\n",
              "3           4  Female   23                  16              77\n",
              "4           5  Female   31                  17              40"
            ],
            "text/html": [
              "\n",
              "  <div id=\"df-062cb1f7-1e3c-4a2e-add7-12af442b8132\" class=\"colab-df-container\">\n",
              "    <div>\n",
              "<style scoped>\n",
              "    .dataframe tbody tr th:only-of-type {\n",
              "        vertical-align: middle;\n",
              "    }\n",
              "\n",
              "    .dataframe tbody tr th {\n",
              "        vertical-align: top;\n",
              "    }\n",
              "\n",
              "    .dataframe thead th {\n",
              "        text-align: right;\n",
              "    }\n",
              "</style>\n",
              "<table border=\"1\" class=\"dataframe\">\n",
              "  <thead>\n",
              "    <tr style=\"text-align: right;\">\n",
              "      <th></th>\n",
              "      <th>CustomerID</th>\n",
              "      <th>Gender</th>\n",
              "      <th>Age</th>\n",
              "      <th>Annual Income (k$)</th>\n",
              "      <th>Spending Score</th>\n",
              "    </tr>\n",
              "  </thead>\n",
              "  <tbody>\n",
              "    <tr>\n",
              "      <th>0</th>\n",
              "      <td>1</td>\n",
              "      <td>Male</td>\n",
              "      <td>19</td>\n",
              "      <td>15</td>\n",
              "      <td>39</td>\n",
              "    </tr>\n",
              "    <tr>\n",
              "      <th>1</th>\n",
              "      <td>2</td>\n",
              "      <td>Male</td>\n",
              "      <td>21</td>\n",
              "      <td>15</td>\n",
              "      <td>81</td>\n",
              "    </tr>\n",
              "    <tr>\n",
              "      <th>2</th>\n",
              "      <td>3</td>\n",
              "      <td>Female</td>\n",
              "      <td>20</td>\n",
              "      <td>16</td>\n",
              "      <td>6</td>\n",
              "    </tr>\n",
              "    <tr>\n",
              "      <th>3</th>\n",
              "      <td>4</td>\n",
              "      <td>Female</td>\n",
              "      <td>23</td>\n",
              "      <td>16</td>\n",
              "      <td>77</td>\n",
              "    </tr>\n",
              "    <tr>\n",
              "      <th>4</th>\n",
              "      <td>5</td>\n",
              "      <td>Female</td>\n",
              "      <td>31</td>\n",
              "      <td>17</td>\n",
              "      <td>40</td>\n",
              "    </tr>\n",
              "  </tbody>\n",
              "</table>\n",
              "</div>\n",
              "    <div class=\"colab-df-buttons\">\n",
              "\n",
              "  <div class=\"colab-df-container\">\n",
              "    <button class=\"colab-df-convert\" onclick=\"convertToInteractive('df-062cb1f7-1e3c-4a2e-add7-12af442b8132')\"\n",
              "            title=\"Convert this dataframe to an interactive table.\"\n",
              "            style=\"display:none;\">\n",
              "\n",
              "  <svg xmlns=\"http://www.w3.org/2000/svg\" height=\"24px\" viewBox=\"0 -960 960 960\">\n",
              "    <path d=\"M120-120v-720h720v720H120Zm60-500h600v-160H180v160Zm220 220h160v-160H400v160Zm0 220h160v-160H400v160ZM180-400h160v-160H180v160Zm440 0h160v-160H620v160ZM180-180h160v-160H180v160Zm440 0h160v-160H620v160Z\"/>\n",
              "  </svg>\n",
              "    </button>\n",
              "\n",
              "  <style>\n",
              "    .colab-df-container {\n",
              "      display:flex;\n",
              "      gap: 12px;\n",
              "    }\n",
              "\n",
              "    .colab-df-convert {\n",
              "      background-color: #E8F0FE;\n",
              "      border: none;\n",
              "      border-radius: 50%;\n",
              "      cursor: pointer;\n",
              "      display: none;\n",
              "      fill: #1967D2;\n",
              "      height: 32px;\n",
              "      padding: 0 0 0 0;\n",
              "      width: 32px;\n",
              "    }\n",
              "\n",
              "    .colab-df-convert:hover {\n",
              "      background-color: #E2EBFA;\n",
              "      box-shadow: 0px 1px 2px rgba(60, 64, 67, 0.3), 0px 1px 3px 1px rgba(60, 64, 67, 0.15);\n",
              "      fill: #174EA6;\n",
              "    }\n",
              "\n",
              "    .colab-df-buttons div {\n",
              "      margin-bottom: 4px;\n",
              "    }\n",
              "\n",
              "    [theme=dark] .colab-df-convert {\n",
              "      background-color: #3B4455;\n",
              "      fill: #D2E3FC;\n",
              "    }\n",
              "\n",
              "    [theme=dark] .colab-df-convert:hover {\n",
              "      background-color: #434B5C;\n",
              "      box-shadow: 0px 1px 3px 1px rgba(0, 0, 0, 0.15);\n",
              "      filter: drop-shadow(0px 1px 2px rgba(0, 0, 0, 0.3));\n",
              "      fill: #FFFFFF;\n",
              "    }\n",
              "  </style>\n",
              "\n",
              "    <script>\n",
              "      const buttonEl =\n",
              "        document.querySelector('#df-062cb1f7-1e3c-4a2e-add7-12af442b8132 button.colab-df-convert');\n",
              "      buttonEl.style.display =\n",
              "        google.colab.kernel.accessAllowed ? 'block' : 'none';\n",
              "\n",
              "      async function convertToInteractive(key) {\n",
              "        const element = document.querySelector('#df-062cb1f7-1e3c-4a2e-add7-12af442b8132');\n",
              "        const dataTable =\n",
              "          await google.colab.kernel.invokeFunction('convertToInteractive',\n",
              "                                                    [key], {});\n",
              "        if (!dataTable) return;\n",
              "\n",
              "        const docLinkHtml = 'Like what you see? Visit the ' +\n",
              "          '<a target=\"_blank\" href=https://colab.research.google.com/notebooks/data_table.ipynb>data table notebook</a>'\n",
              "          + ' to learn more about interactive tables.';\n",
              "        element.innerHTML = '';\n",
              "        dataTable['output_type'] = 'display_data';\n",
              "        await google.colab.output.renderOutput(dataTable, element);\n",
              "        const docLink = document.createElement('div');\n",
              "        docLink.innerHTML = docLinkHtml;\n",
              "        element.appendChild(docLink);\n",
              "      }\n",
              "    </script>\n",
              "  </div>\n",
              "\n",
              "\n",
              "<div id=\"df-223d13ae-4e9f-4890-ad11-9d098a6a5d73\">\n",
              "  <button class=\"colab-df-quickchart\" onclick=\"quickchart('df-223d13ae-4e9f-4890-ad11-9d098a6a5d73')\"\n",
              "            title=\"Suggest charts\"\n",
              "            style=\"display:none;\">\n",
              "\n",
              "<svg xmlns=\"http://www.w3.org/2000/svg\" height=\"24px\"viewBox=\"0 0 24 24\"\n",
              "     width=\"24px\">\n",
              "    <g>\n",
              "        <path d=\"M19 3H5c-1.1 0-2 .9-2 2v14c0 1.1.9 2 2 2h14c1.1 0 2-.9 2-2V5c0-1.1-.9-2-2-2zM9 17H7v-7h2v7zm4 0h-2V7h2v10zm4 0h-2v-4h2v4z\"/>\n",
              "    </g>\n",
              "</svg>\n",
              "  </button>\n",
              "\n",
              "<style>\n",
              "  .colab-df-quickchart {\n",
              "      --bg-color: #E8F0FE;\n",
              "      --fill-color: #1967D2;\n",
              "      --hover-bg-color: #E2EBFA;\n",
              "      --hover-fill-color: #174EA6;\n",
              "      --disabled-fill-color: #AAA;\n",
              "      --disabled-bg-color: #DDD;\n",
              "  }\n",
              "\n",
              "  [theme=dark] .colab-df-quickchart {\n",
              "      --bg-color: #3B4455;\n",
              "      --fill-color: #D2E3FC;\n",
              "      --hover-bg-color: #434B5C;\n",
              "      --hover-fill-color: #FFFFFF;\n",
              "      --disabled-bg-color: #3B4455;\n",
              "      --disabled-fill-color: #666;\n",
              "  }\n",
              "\n",
              "  .colab-df-quickchart {\n",
              "    background-color: var(--bg-color);\n",
              "    border: none;\n",
              "    border-radius: 50%;\n",
              "    cursor: pointer;\n",
              "    display: none;\n",
              "    fill: var(--fill-color);\n",
              "    height: 32px;\n",
              "    padding: 0;\n",
              "    width: 32px;\n",
              "  }\n",
              "\n",
              "  .colab-df-quickchart:hover {\n",
              "    background-color: var(--hover-bg-color);\n",
              "    box-shadow: 0 1px 2px rgba(60, 64, 67, 0.3), 0 1px 3px 1px rgba(60, 64, 67, 0.15);\n",
              "    fill: var(--button-hover-fill-color);\n",
              "  }\n",
              "\n",
              "  .colab-df-quickchart-complete:disabled,\n",
              "  .colab-df-quickchart-complete:disabled:hover {\n",
              "    background-color: var(--disabled-bg-color);\n",
              "    fill: var(--disabled-fill-color);\n",
              "    box-shadow: none;\n",
              "  }\n",
              "\n",
              "  .colab-df-spinner {\n",
              "    border: 2px solid var(--fill-color);\n",
              "    border-color: transparent;\n",
              "    border-bottom-color: var(--fill-color);\n",
              "    animation:\n",
              "      spin 1s steps(1) infinite;\n",
              "  }\n",
              "\n",
              "  @keyframes spin {\n",
              "    0% {\n",
              "      border-color: transparent;\n",
              "      border-bottom-color: var(--fill-color);\n",
              "      border-left-color: var(--fill-color);\n",
              "    }\n",
              "    20% {\n",
              "      border-color: transparent;\n",
              "      border-left-color: var(--fill-color);\n",
              "      border-top-color: var(--fill-color);\n",
              "    }\n",
              "    30% {\n",
              "      border-color: transparent;\n",
              "      border-left-color: var(--fill-color);\n",
              "      border-top-color: var(--fill-color);\n",
              "      border-right-color: var(--fill-color);\n",
              "    }\n",
              "    40% {\n",
              "      border-color: transparent;\n",
              "      border-right-color: var(--fill-color);\n",
              "      border-top-color: var(--fill-color);\n",
              "    }\n",
              "    60% {\n",
              "      border-color: transparent;\n",
              "      border-right-color: var(--fill-color);\n",
              "    }\n",
              "    80% {\n",
              "      border-color: transparent;\n",
              "      border-right-color: var(--fill-color);\n",
              "      border-bottom-color: var(--fill-color);\n",
              "    }\n",
              "    90% {\n",
              "      border-color: transparent;\n",
              "      border-bottom-color: var(--fill-color);\n",
              "    }\n",
              "  }\n",
              "</style>\n",
              "\n",
              "  <script>\n",
              "    async function quickchart(key) {\n",
              "      const quickchartButtonEl =\n",
              "        document.querySelector('#' + key + ' button');\n",
              "      quickchartButtonEl.disabled = true;  // To prevent multiple clicks.\n",
              "      quickchartButtonEl.classList.add('colab-df-spinner');\n",
              "      try {\n",
              "        const charts = await google.colab.kernel.invokeFunction(\n",
              "            'suggestCharts', [key], {});\n",
              "      } catch (error) {\n",
              "        console.error('Error during call to suggestCharts:', error);\n",
              "      }\n",
              "      quickchartButtonEl.classList.remove('colab-df-spinner');\n",
              "      quickchartButtonEl.classList.add('colab-df-quickchart-complete');\n",
              "    }\n",
              "    (() => {\n",
              "      let quickchartButtonEl =\n",
              "        document.querySelector('#df-223d13ae-4e9f-4890-ad11-9d098a6a5d73 button');\n",
              "      quickchartButtonEl.style.display =\n",
              "        google.colab.kernel.accessAllowed ? 'block' : 'none';\n",
              "    })();\n",
              "  </script>\n",
              "</div>\n",
              "\n",
              "    </div>\n",
              "  </div>\n"
            ]
          },
          "metadata": {},
          "execution_count": 106
        }
      ]
    },
    {
      "cell_type": "code",
      "source": [
        "cluster_data.columns"
      ],
      "metadata": {
        "colab": {
          "base_uri": "https://localhost:8080/"
        },
        "id": "-tlpvwfmIiba",
        "outputId": "a938f5b0-87b9-4864-cf46-132e2b36106c"
      },
      "execution_count": null,
      "outputs": [
        {
          "output_type": "execute_result",
          "data": {
            "text/plain": [
              "Index(['CustomerID', 'Gender', 'Age', 'Annual Income (k$)', 'Spending Score'], dtype='object')"
            ]
          },
          "metadata": {},
          "execution_count": 107
        }
      ]
    },
    {
      "cell_type": "code",
      "source": [
        "import seaborn as sns\n",
        "sns.scatterplot(data = cluster_data, x = 'Annual Income (k$)', y = 'Spending Score')"
      ],
      "metadata": {
        "colab": {
          "base_uri": "https://localhost:8080/",
          "height": 466
        },
        "id": "wi6d3SMiH__q",
        "outputId": "f5461292-3a0a-49c7-d50c-daa8e72943a3"
      },
      "execution_count": null,
      "outputs": [
        {
          "output_type": "execute_result",
          "data": {
            "text/plain": [
              "<Axes: xlabel='Annual Income (k$)', ylabel='Spending Score'>"
            ]
          },
          "metadata": {},
          "execution_count": 110
        },
        {
          "output_type": "display_data",
          "data": {
            "text/plain": [
              "<Figure size 640x480 with 1 Axes>"
            ],
            "image/png": "[encoded data removed]"
          },
          "metadata": {}
        }
      ]
    },
    {
      "cell_type": "code",
      "source": [
        "from sklearn import preprocessing\n",
        "from sklearn.cluster import KMeans\n",
        "\n",
        "X = cluster_data.drop([\"CustomerID\", \"Gender\"], axis = 1)\n",
        "X_norm = preprocessing.normalize(X)\n",
        "\n",
        "kmeans = KMeans(n_clusters = 3, random_state = 0, n_init='auto')\n",
        "kmeans.fit(X_norm)"
      ],
      "metadata": {
        "colab": {
          "base_uri": "https://localhost:8080/",
          "height": 74
        },
        "id": "n8fut7e5JU7c",
        "outputId": "60bd8808-0346-4c5d-977f-66c63702e49e"
      },
      "execution_count": null,
      "outputs": [
        {
          "output_type": "execute_result",
          "data": {
            "text/plain": [
              "KMeans(n_clusters=3, n_init='auto', random_state=0)"
            ],
            "text/html": [
              "<style>#sk-container-id-3 {color: black;background-color: white;}#sk-container-id-3 pre{padding: 0;}#sk-container-id-3 div.sk-toggleable {background-color: white;}#sk-container-id-3 label.sk-toggleable__label {cursor: pointer;display: block;width: 100%;margin-bottom: 0;padding: 0.3em;box-sizing: border-box;text-align: center;}#sk-container-id-3 label.sk-toggleable__label-arrow:before {content: \"▸\";float: left;margin-right: 0.25em;color: #696969;}#sk-container-id-3 label.sk-toggleable__label-arrow:hover:before {color: black;}#sk-container-id-3 div.sk-estimator:hover label.sk-toggleable__label-arrow:before {color: black;}#sk-container-id-3 div.sk-toggleable__content {max-height: 0;max-width: 0;overflow: hidden;text-align: left;background-color: #f0f8ff;}#sk-container-id-3 div.sk-toggleable__content pre {margin: 0.2em;color: black;border-radius: 0.25em;background-color: #f0f8ff;}#sk-container-id-3 input.sk-toggleable__control:checked~div.sk-toggleable__content {max-height: 200px;max-width: 100%;overflow: auto;}#sk-container-id-3 input.sk-toggleable__control:checked~label.sk-toggleable__label-arrow:before {content: \"▾\";}#sk-container-id-3 div.sk-estimator input.sk-toggleable__control:checked~label.sk-toggleable__label {background-color: #d4ebff;}#sk-container-id-3 div.sk-label input.sk-toggleable__control:checked~label.sk-toggleable__label {background-color: #d4ebff;}#sk-container-id-3 input.sk-hidden--visually {border: 0;clip: rect(1px 1px 1px 1px);clip: rect(1px, 1px, 1px, 1px);height: 1px;margin: -1px;overflow: hidden;padding: 0;position: absolute;width: 1px;}#sk-container-id-3 div.sk-estimator {font-family: monospace;background-color: #f0f8ff;border: 1px dotted black;border-radius: 0.25em;box-sizing: border-box;margin-bottom: 0.5em;}#sk-container-id-3 div.sk-estimator:hover {background-color: #d4ebff;}#sk-container-id-3 div.sk-parallel-item::after {content: \"\";width: 100%;border-bottom: 1px solid gray;flex-grow: 1;}#sk-container-id-3 div.sk-label:hover label.sk-toggleable__label {background-color: #d4ebff;}#sk-container-id-3 div.sk-serial::before {content: \"\";position: absolute;border-left: 1px solid gray;box-sizing: border-box;top: 0;bottom: 0;left: 50%;z-index: 0;}#sk-container-id-3 div.sk-serial {display: flex;flex-direction: column;align-items: center;background-color: white;padding-right: 0.2em;padding-left: 0.2em;position: relative;}#sk-container-id-3 div.sk-item {position: relative;z-index: 1;}#sk-container-id-3 div.sk-parallel {display: flex;align-items: stretch;justify-content: center;background-color: white;position: relative;}#sk-container-id-3 div.sk-item::before, #sk-container-id-3 div.sk-parallel-item::before {content: \"\";position: absolute;border-left: 1px solid gray;box-sizing: border-box;top: 0;bottom: 0;left: 50%;z-index: -1;}#sk-container-id-3 div.sk-parallel-item {display: flex;flex-direction: column;z-index: 1;position: relative;background-color: white;}#sk-container-id-3 div.sk-parallel-item:first-child::after {align-self: flex-end;width: 50%;}#sk-container-id-3 div.sk-parallel-item:last-child::after {align-self: flex-start;width: 50%;}#sk-container-id-3 div.sk-parallel-item:only-child::after {width: 0;}#sk-container-id-3 div.sk-dashed-wrapped {border: 1px dashed gray;margin: 0 0.4em 0.5em 0.4em;box-sizing: border-box;padding-bottom: 0.4em;background-color: white;}#sk-container-id-3 div.sk-label label {font-family: monospace;font-weight: bold;display: inline-block;line-height: 1.2em;}#sk-container-id-3 div.sk-label-container {text-align: center;}#sk-container-id-3 div.sk-container {/* jupyter's `normalize.less` sets `[hidden] { display: none; }` but bootstrap.min.css set `[hidden] { display: none !important; }` so we also need the `!important` here to be able to override the default hidden behavior on the sphinx rendered scikit-learn.org. See: https://github.com/scikit-learn/scikit-learn/issues/21755 */display: inline-block !important;position: relative;}#sk-container-id-3 div.sk-text-repr-fallback {display: none;}</style><div id=\"sk-container-id-3\" class=\"sk-top-container\"><div class=\"sk-text-repr-fallback\"><pre>KMeans(n_clusters=3, n_init=&#x27;auto&#x27;, random_state=0)</pre><b>In a Jupyter environment, please rerun this cell to show the HTML representation or trust the notebook. <br />On GitHub, the HTML representation is unable to render, please try loading this page with nbviewer.org.</b></div><div class=\"sk-container\" hidden><div class=\"sk-item\"><div class=\"sk-estimator sk-toggleable\"><input class=\"sk-toggleable__control sk-hidden--visually\" id=\"sk-estimator-id-3\" type=\"checkbox\" checked><label for=\"sk-estimator-id-3\" class=\"sk-toggleable__label sk-toggleable__label-arrow\">KMeans</label><div class=\"sk-toggleable__content\"><pre>KMeans(n_clusters=3, n_init=&#x27;auto&#x27;, random_state=0)</pre></div></div></div></div></div>"
            ]
          },
          "metadata": {},
          "execution_count": 124
        }
      ]
    },
    {
      "cell_type": "code",
      "source": [
        "sns.scatterplot(data = cluster_data, x = 'Annual Income (k$)', y = 'Spending Score', hue = kmeans.labels_)"
      ],
      "metadata": {
        "colab": {
          "base_uri": "https://localhost:8080/",
          "height": 466
        },
        "id": "1SragyW6KttX",
        "outputId": "b757b032-7081-447c-9e8e-3dcd02997c30"
      },
      "execution_count": null,
      "outputs": [
        {
          "output_type": "execute_result",
          "data": {
            "text/plain": [
              "<Axes: xlabel='Annual Income (k$)', ylabel='Spending Score'>"
            ]
          },
          "metadata": {},
          "execution_count": 123
        },
        {
          "output_type": "display_data",
          "data": {
            "text/plain": [
              "<Figure size 640x480 with 1 Axes>"
            ],
            "image/png": "[encoded data removed]"
          },
          "metadata": {}
        }
      ]
    },
    {
      "cell_type": "code",
      "source": [
        "sns.boxplot(x = kmeans.labels_, y = cluster_data['Spending Score'])"
      ],
      "metadata": {
        "colab": {
          "base_uri": "https://localhost:8080/",
          "height": 447
        },
        "id": "M3qmATNgK9DY",
        "outputId": "284e356f-512c-4530-84f6-e43c1f5694d0"
      },
      "execution_count": null,
      "outputs": [
        {
          "output_type": "execute_result",
          "data": {
            "text/plain": [
              "<Axes: ylabel='Spending Score'>"
            ]
          },
          "metadata": {},
          "execution_count": 115
        },
        {
          "output_type": "display_data",
          "data": {
            "text/plain": [
              "<Figure size 640x480 with 1 Axes>"
            ],
            "image/png": "[encoded data removed]"
          },
          "metadata": {}
        }
      ]
    },
    {
      "cell_type": "code",
      "source": [
        "values = []\n",
        "for k in range(1,11):\n",
        "  kmeans = KMeans(n_clusters = k, random_state = 0, n_init='auto')\n",
        "  kmeans.fit(X_norm)\n",
        "  values.append(kmeans.inertia_) # inertia_: Sum of squared distances of samples to their closest cluster center, weighted by the sample weights if provided.\n",
        "\n",
        "plt.figure(figsize = (6,4))\n",
        "plt.plot(range(1,11), values)"
      ],
      "metadata": {
        "colab": {
          "base_uri": "https://localhost:8080/",
          "height": 385
        },
        "id": "-ZIDGdtHL58S",
        "outputId": "f41b5b49-328b-4db9-decd-5c8a42a50141"
      },
      "execution_count": null,
      "outputs": [
        {
          "output_type": "execute_result",
          "data": {
            "text/plain": [
              "[<matplotlib.lines.Line2D at 0x7a2c9b5c9570>]"
            ]
          },
          "metadata": {},
          "execution_count": 127
        },
        {
          "output_type": "display_data",
          "data": {
            "text/plain": [
              "<Figure size 600x400 with 1 Axes>"
            ],
            "image/png": "[encoded data removed]"
          },
          "metadata": {}
        }
      ]
    }
  ]
}