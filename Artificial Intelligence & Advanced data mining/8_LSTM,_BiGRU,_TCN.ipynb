{
  "nbformat": 4,
  "nbformat_minor": 0,
  "metadata": {
    "colab": {
      "provenance": [],
      "gpuType": "T4"
    },
    "kernelspec": {
      "name": "python3",
      "display_name": "Python 3"
    },
    "accelerator": "GPU"
  },
  "cells": [
    {
      "cell_type": "markdown",
      "source": [
        "# Deep learning (Part 2)\n",
        "\n",
        "Link to Datasets: [AMZN_train](https://drive.google.com/file/d/1cVpK7WrUA2-tWQe73BPFE5C4CZ3gT3iO/view?usp=sharing), [AMZN_test](https://drive.google.com/file/d/1oK4pXOQeU-8SIRAvuB7j-1TdiF9DvvTr/view?usp=sharing)"
      ],
      "metadata": {
        "id": "NPDbFpRXona9"
      }
    },
    {
      "cell_type": "code",
      "metadata": {
        "id": "LS2JO0dXGqaS"
      },
      "source": [
        "import numpy as np\n",
        "import pandas as pd\n",
        "import matplotlib.pyplot as plt\n",
        "\n",
        "from sklearn.preprocessing import MinMaxScaler\n",
        "\n",
        "import tensorflow as tf\n",
        "import keras\n",
        "from tensorflow.keras import layers\n",
        "from keras.models import Sequential\n",
        "from keras.layers import Dense, LSTM, GRU, Dropout, Input\n",
        "\n",
        "keras.utils.set_random_seed(123)"
      ],
      "execution_count": 2,
      "outputs": []
    },
    {
      "cell_type": "markdown",
      "source": [
        "## Recurrent Neural Networks"
      ],
      "metadata": {
        "id": "KWCG50gJZsbI"
      }
    },
    {
      "cell_type": "markdown",
      "metadata": {
        "id": "nQ47JAxrgmaL"
      },
      "source": [
        "##### Data Preprocessing\n",
        "inputs of Keras can only be numpy arrays"
      ]
    },
    {
      "cell_type": "code",
      "metadata": {
        "id": "9PMOK7C9TiYZ",
        "outputId": "63fb4e0d-dbb9-4bf3-f058-ac270f74a884",
        "colab": {
          "base_uri": "https://localhost:8080/"
        }
      },
      "source": [
        "dataset_train = pd.read_csv('/content/AMZN_train.csv')\n",
        "# use column 'close' and convert it to np array\n",
        "training_set = dataset_train.iloc[:, 4:5].values\n",
        "len(training_set)"
      ],
      "execution_count": 5,
      "outputs": [
        {
          "output_type": "execute_result",
          "data": {
            "text/plain": [
              "525"
            ]
          },
          "metadata": {},
          "execution_count": 5
        }
      ]
    },
    {
      "cell_type": "code",
      "source": [
        "training_set.shape"
      ],
      "metadata": {
        "colab": {
          "base_uri": "https://localhost:8080/"
        },
        "id": "y8IwgrTPpw_i",
        "outputId": "e294659c-b0be-4c46-de59-6fd4e213ddfb"
      },
      "execution_count": 7,
      "outputs": [
        {
          "output_type": "execute_result",
          "data": {
            "text/plain": [
              "(525, 1)"
            ]
          },
          "metadata": {},
          "execution_count": 7
        }
      ]
    },
    {
      "cell_type": "markdown",
      "metadata": {
        "id": "HT8_2UJegtG5"
      },
      "source": [
        "Feature Scaling"
      ]
    },
    {
      "cell_type": "code",
      "metadata": {
        "id": "OTrF2kR7gx9x"
      },
      "source": [
        "# normalize your data for RNN\n",
        "sc = MinMaxScaler(feature_range = (0,1))\n",
        "training_set_scaled = sc.fit_transform(training_set)"
      ],
      "execution_count": 8,
      "outputs": []
    },
    {
      "cell_type": "markdown",
      "metadata": {
        "id": "JyYgYocqhNUg"
      },
      "source": [
        "Creating a data structure with 30 timesteps and 1 output"
      ]
    },
    {
      "cell_type": "code",
      "metadata": {
        "id": "iofU21B0i6ST",
        "colab": {
          "base_uri": "https://localhost:8080/"
        },
        "outputId": "c4326afb-d3ad-434b-804c-da14cdb0b9f3"
      },
      "source": [
        "# lag = 30, n_obs = 525\n",
        "X_train = []\n",
        "y_train = []\n",
        "for i in range(30, 525):\n",
        "  X_train.append(training_set_scaled[i-30:i, 0]) # upperbound not included\n",
        "  y_train.append(training_set_scaled[i, 0])\n",
        "X_train , y_train = np.array(X_train), np.array(y_train) # convert list to np array\n",
        "X_train.shape"
      ],
      "execution_count": 9,
      "outputs": [
        {
          "output_type": "execute_result",
          "data": {
            "text/plain": [
              "(495, 30)"
            ]
          },
          "metadata": {},
          "execution_count": 9
        }
      ]
    },
    {
      "cell_type": "markdown",
      "metadata": {
        "id": "D8yaN7Zvi95l"
      },
      "source": [
        "Reshaping: anytime you want to add dimensions to np array, you can use reshape"
      ]
    },
    {
      "cell_type": "code",
      "metadata": {
        "id": "FOXqJHmNjBkz"
      },
      "source": [
        "# specify or add indicators(here 1, close price)\n",
        "# keras documentation-> Recurrent Layers -> Input shape: (batch_size,timesteps,input_dim)\n",
        "batch_size = X_train.shape[0]\n",
        "timesteps = X_train.shape[1]\n",
        "\n",
        "X_train = np.reshape(X_train, (batch_size, timesteps, 1))\n",
        "\n"
      ],
      "execution_count": 10,
      "outputs": []
    },
    {
      "cell_type": "markdown",
      "metadata": {
        "id": "ZRRSOJeVjEWV"
      },
      "source": [
        "## Building and Training an LSTM"
      ]
    },
    {
      "cell_type": "markdown",
      "metadata": {
        "id": "FEIE-1s9jNzC"
      },
      "source": [
        "LSTM architecture (you can create a similar architecture with GRU units instead of LSTM).\n",
        "\n",
        "Recurrent layers [documentations](https://keras.io/api/layers/recurrent_layers/)"
      ]
    },
    {
      "cell_type": "code",
      "metadata": {
        "id": "1338dJ0UjRKH"
      },
      "source": [
        "model = Sequential()\n",
        "\n",
        "# Adding the first LSTM layer and some Dropout regularisation\n",
        "model.add(LSTM(units = 50, return_sequences = True, input_shape = (X_train.shape[1], 1)))\n",
        "# return_sequences = True, because we want to add another LSTM layer after this\n",
        "model.add(Dropout(rate=0.2)) # 20% of the neurans will be droped out during each training iteration\n",
        "\n",
        "# Adding a second LSTM layer and some Dropout regularisation\n",
        "model.add(LSTM(units = 50, return_sequences = True))\n",
        "model.add(Dropout(0.2))\n",
        "\n",
        "# Adding the last LSTM layer and some Dropout regularisation\n",
        "model.add(LSTM(units = 50))\n",
        "model.add(Dropout(0.2))\n",
        "\n",
        "# Adding the output layer\n",
        "model.add(Dense(units = 1))"
      ],
      "execution_count": 11,
      "outputs": []
    },
    {
      "cell_type": "code",
      "source": [
        "model.summary()"
      ],
      "metadata": {
        "colab": {
          "base_uri": "https://localhost:8080/"
        },
        "id": "ahKJ1HCttXCV",
        "outputId": "0c4075f8-de32-4523-cb51-cbbd929e64b4"
      },
      "execution_count": 12,
      "outputs": [
        {
          "output_type": "stream",
          "name": "stdout",
          "text": [
            "Model: \"sequential\"\n",
            "_________________________________________________________________\n",
            " Layer (type)                Output Shape              Param #   \n",
            "=================================================================\n",
            " lstm (LSTM)                 (None, 30, 50)            10400     \n",
            "                                                                 \n",
            " dropout (Dropout)           (None, 30, 50)            0         \n",
            "                                                                 \n",
            " lstm_1 (LSTM)               (None, 30, 50)            20200     \n",
            "                                                                 \n",
            " dropout_1 (Dropout)         (None, 30, 50)            0         \n",
            "                                                                 \n",
            " lstm_2 (LSTM)               (None, 50)                20200     \n",
            "                                                                 \n",
            " dropout_2 (Dropout)         (None, 50)                0         \n",
            "                                                                 \n",
            " dense (Dense)               (None, 1)                 51        \n",
            "                                                                 \n",
            "=================================================================\n",
            "Total params: 50851 (198.64 KB)\n",
            "Trainable params: 50851 (198.64 KB)\n",
            "Non-trainable params: 0 (0.00 Byte)\n",
            "_________________________________________________________________\n"
          ]
        }
      ]
    },
    {
      "cell_type": "markdown",
      "metadata": {
        "id": "-mPhwKGkkebi"
      },
      "source": [
        "Fitting the LSTM to the Training set"
      ]
    },
    {
      "cell_type": "code",
      "metadata": {
        "id": "I06Nkrz5kkb-",
        "outputId": "dc173203-bbc8-45f2-eb8c-7cd086ec9aa8",
        "colab": {
          "base_uri": "https://localhost:8080/"
        }
      },
      "source": [
        "# Compiling the RNN\n",
        "model.compile(optimizer = 'adam', loss = 'mean_squared_error')\n",
        "# Fitting\n",
        "model.fit(X_train, y_train, epochs=50, batch_size=32)"
      ],
      "execution_count": 13,
      "outputs": [
        {
          "output_type": "stream",
          "name": "stdout",
          "text": [
            "Epoch 1/50\n",
            "16/16 [==============================] - 8s 11ms/step - loss: 0.1312\n",
            "Epoch 2/50\n",
            "16/16 [==============================] - 0s 9ms/step - loss: 0.0237\n",
            "Epoch 3/50\n",
            "16/16 [==============================] - 0s 9ms/step - loss: 0.0168\n",
            "Epoch 4/50\n",
            "16/16 [==============================] - 0s 8ms/step - loss: 0.0137\n",
            "Epoch 5/50\n",
            "16/16 [==============================] - 0s 8ms/step - loss: 0.0134\n",
            "Epoch 6/50\n",
            "16/16 [==============================] - 0s 8ms/step - loss: 0.0105\n",
            "Epoch 7/50\n",
            "16/16 [==============================] - 0s 9ms/step - loss: 0.0110\n",
            "Epoch 8/50\n",
            "16/16 [==============================] - 0s 8ms/step - loss: 0.0101\n",
            "Epoch 9/50\n",
            "16/16 [==============================] - 0s 8ms/step - loss: 0.0110\n",
            "Epoch 10/50\n",
            "16/16 [==============================] - 0s 8ms/step - loss: 0.0097\n",
            "Epoch 11/50\n",
            "16/16 [==============================] - 0s 8ms/step - loss: 0.0096\n",
            "Epoch 12/50\n",
            "16/16 [==============================] - 0s 8ms/step - loss: 0.0094\n",
            "Epoch 13/50\n",
            "16/16 [==============================] - 0s 8ms/step - loss: 0.0093\n",
            "Epoch 14/50\n",
            "16/16 [==============================] - 0s 9ms/step - loss: 0.0093\n",
            "Epoch 15/50\n",
            "16/16 [==============================] - 0s 8ms/step - loss: 0.0090\n",
            "Epoch 16/50\n",
            "16/16 [==============================] - 0s 8ms/step - loss: 0.0089\n",
            "Epoch 17/50\n",
            "16/16 [==============================] - 0s 8ms/step - loss: 0.0100\n",
            "Epoch 18/50\n",
            "16/16 [==============================] - 0s 8ms/step - loss: 0.0076\n",
            "Epoch 19/50\n",
            "16/16 [==============================] - 0s 8ms/step - loss: 0.0085\n",
            "Epoch 20/50\n",
            "16/16 [==============================] - 0s 8ms/step - loss: 0.0087\n",
            "Epoch 21/50\n",
            "16/16 [==============================] - 0s 8ms/step - loss: 0.0074\n",
            "Epoch 22/50\n",
            "16/16 [==============================] - 0s 9ms/step - loss: 0.0077\n",
            "Epoch 23/50\n",
            "16/16 [==============================] - 0s 9ms/step - loss: 0.0073\n",
            "Epoch 24/50\n",
            "16/16 [==============================] - 0s 8ms/step - loss: 0.0082\n",
            "Epoch 25/50\n",
            "16/16 [==============================] - 0s 8ms/step - loss: 0.0089\n",
            "Epoch 26/50\n",
            "16/16 [==============================] - 0s 8ms/step - loss: 0.0082\n",
            "Epoch 27/50\n",
            "16/16 [==============================] - 0s 8ms/step - loss: 0.0067\n",
            "Epoch 28/50\n",
            "16/16 [==============================] - 0s 8ms/step - loss: 0.0083\n",
            "Epoch 29/50\n",
            "16/16 [==============================] - 0s 9ms/step - loss: 0.0081\n",
            "Epoch 30/50\n",
            "16/16 [==============================] - 0s 9ms/step - loss: 0.0072\n",
            "Epoch 31/50\n",
            "16/16 [==============================] - 0s 9ms/step - loss: 0.0068\n",
            "Epoch 32/50\n",
            "16/16 [==============================] - 0s 9ms/step - loss: 0.0069\n",
            "Epoch 33/50\n",
            "16/16 [==============================] - 0s 8ms/step - loss: 0.0069\n",
            "Epoch 34/50\n",
            "16/16 [==============================] - 0s 8ms/step - loss: 0.0069\n",
            "Epoch 35/50\n",
            "16/16 [==============================] - 0s 8ms/step - loss: 0.0062\n",
            "Epoch 36/50\n",
            "16/16 [==============================] - 0s 10ms/step - loss: 0.0089\n",
            "Epoch 37/50\n",
            "16/16 [==============================] - 0s 12ms/step - loss: 0.0065\n",
            "Epoch 38/50\n",
            "16/16 [==============================] - 0s 11ms/step - loss: 0.0065\n",
            "Epoch 39/50\n",
            "16/16 [==============================] - 0s 11ms/step - loss: 0.0072\n",
            "Epoch 40/50\n",
            "16/16 [==============================] - 0s 11ms/step - loss: 0.0063\n",
            "Epoch 41/50\n",
            "16/16 [==============================] - 0s 11ms/step - loss: 0.0072\n",
            "Epoch 42/50\n",
            "16/16 [==============================] - 0s 12ms/step - loss: 0.0068\n",
            "Epoch 43/50\n",
            "16/16 [==============================] - 0s 11ms/step - loss: 0.0065\n",
            "Epoch 44/50\n",
            "16/16 [==============================] - 0s 11ms/step - loss: 0.0058\n",
            "Epoch 45/50\n",
            "16/16 [==============================] - 0s 12ms/step - loss: 0.0057\n",
            "Epoch 46/50\n",
            "16/16 [==============================] - 0s 13ms/step - loss: 0.0068\n",
            "Epoch 47/50\n",
            "16/16 [==============================] - 0s 9ms/step - loss: 0.0064\n",
            "Epoch 48/50\n",
            "16/16 [==============================] - 0s 9ms/step - loss: 0.0059\n",
            "Epoch 49/50\n",
            "16/16 [==============================] - 0s 8ms/step - loss: 0.0060\n",
            "Epoch 50/50\n",
            "16/16 [==============================] - 0s 9ms/step - loss: 0.0058\n"
          ]
        },
        {
          "output_type": "execute_result",
          "data": {
            "text/plain": [
              "<keras.src.callbacks.History at 0x785f2cd2d030>"
            ]
          },
          "metadata": {},
          "execution_count": 13
        }
      ]
    },
    {
      "cell_type": "markdown",
      "metadata": {
        "id": "4hRau_lIkrE8"
      },
      "source": [
        "##### Making the predictions and visualising the results"
      ]
    },
    {
      "cell_type": "markdown",
      "metadata": {
        "id": "GrvrLblxkz42"
      },
      "source": [
        "Getting the predicted stock price of Feb 2022:\n",
        "we need to concatenate test set with training set (before normalization) to use 30 observation before Feb 2022."
      ]
    },
    {
      "cell_type": "code",
      "metadata": {
        "id": "emikTvUpk3Ck"
      },
      "source": [
        "# transform and create sequences for Test data\n",
        "dataset_test = pd.read_csv('/content/AMZN_test.csv')\n",
        "real_stock_price = dataset_test.iloc[:,4:5].values\n",
        "\n",
        "data_set_total = pd.concat([dataset_train['Close'], dataset_test['Close']], axis = 0)\n",
        "inputs = data_set_total[len(data_set_total)- len(dataset_test) - 30:].values\n",
        "# reshape inputs to get a numpy array with rows and one column\n",
        "inputs = inputs.reshape(-1,1)\n",
        "# scale inputs (like what we did with training set)\n",
        "inputs = sc.transform(inputs)\n",
        "X_test = []\n",
        "# test set contains 14 observations\n",
        "for i in range (30,inputs.shape[0]):\n",
        "  X_test.append(inputs[i-30:i,0])\n",
        "X_test = np.array(X_test)\n",
        "X_test = np.reshape(X_test, (X_test.shape[0], timesteps, 1))\n"
      ],
      "execution_count": 17,
      "outputs": []
    },
    {
      "cell_type": "code",
      "source": [
        "pred_stock_price = model.predict(X_test)\n",
        "# rescale to original format\n",
        "pred_stock_price = sc.inverse_transform(pred_stock_price)\n",
        "RMSE = np.sqrt(np.mean((pred_stock_price-real_stock_price)**2))\n",
        "RMSE"
      ],
      "metadata": {
        "id": "cUZalvWChwRF",
        "colab": {
          "base_uri": "https://localhost:8080/"
        },
        "outputId": "c511064f-0df3-451b-c231-086a5a85f252"
      },
      "execution_count": 23,
      "outputs": [
        {
          "output_type": "stream",
          "name": "stdout",
          "text": [
            "1/1 [==============================] - 0s 20ms/step\n"
          ]
        },
        {
          "output_type": "execute_result",
          "data": {
            "text/plain": [
              "143.9703425769727"
            ]
          },
          "metadata": {},
          "execution_count": 23
        }
      ]
    },
    {
      "cell_type": "code",
      "metadata": {
        "id": "8OUI8U49k9tH",
        "colab": {
          "base_uri": "https://localhost:8080/",
          "height": 472
        },
        "outputId": "fac7d1ca-95d9-4d0a-feaa-dbc92760dc20"
      },
      "source": [
        "plt.plot(real_stock_price, color = 'red', label = 'Real Amazon Stock Price')\n",
        "plt.plot(pred_stock_price, color = 'blue', label = 'Predicted Amazon Stock Price')\n",
        "plt.title('Amazon Stock Price Prediction-LSTM')\n",
        "plt.xlabel('Time')\n",
        "plt.ylabel('Price')\n",
        "plt.legend()\n",
        "plt.show()"
      ],
      "execution_count": 24,
      "outputs": [
        {
          "output_type": "display_data",
          "data": {
            "text/plain": [
              "<Figure size 640x480 with 1 Axes>"
            ],
            "image/png": "[encoded data removed]"
          },
          "metadata": {}
        }
      ]
    },
    {
      "cell_type": "markdown",
      "source": [
        "## BiGRU"
      ],
      "metadata": {
        "id": "-JTtykcwUyqa"
      }
    },
    {
      "cell_type": "code",
      "source": [
        "from keras.layers import Bidirectional\n",
        "\n",
        "model_bigru = Sequential([\n",
        "    Input(shape=((timesteps, 1))),\n",
        "    Bidirectional(GRU(10, return_sequences=True)),\n",
        "    Bidirectional(GRU(10)),\n",
        "    Dense(1, activation=\"relu\"),\n",
        "])\n",
        "model_bigru.summary()"
      ],
      "metadata": {
        "id": "Myi4i3n9VI7r",
        "colab": {
          "base_uri": "https://localhost:8080/"
        },
        "outputId": "ac85f3e8-a89a-48da-90ac-9a9b47acc52a"
      },
      "execution_count": 25,
      "outputs": [
        {
          "output_type": "stream",
          "name": "stdout",
          "text": [
            "Model: \"sequential_1\"\n",
            "_________________________________________________________________\n",
            " Layer (type)                Output Shape              Param #   \n",
            "=================================================================\n",
            " bidirectional (Bidirection  (None, 30, 20)            780       \n",
            " al)                                                             \n",
            "                                                                 \n",
            " bidirectional_1 (Bidirecti  (None, 20)                1920      \n",
            " onal)                                                           \n",
            "                                                                 \n",
            " dense_1 (Dense)             (None, 1)                 21        \n",
            "                                                                 \n",
            "=================================================================\n",
            "Total params: 2721 (10.63 KB)\n",
            "Trainable params: 2721 (10.63 KB)\n",
            "Non-trainable params: 0 (0.00 Byte)\n",
            "_________________________________________________________________\n"
          ]
        }
      ]
    },
    {
      "cell_type": "code",
      "source": [
        "model_bigru.compile(loss='mean_squared_error', optimizer='rmsprop')\n",
        "# Fitting\n",
        "model_bigru.fit(X_train, y_train, epochs=50, batch_size=32)"
      ],
      "metadata": {
        "colab": {
          "base_uri": "https://localhost:8080/"
        },
        "id": "xYSyJlsEhiHI",
        "outputId": "cf2918c5-34a3-4cc6-c479-aba94a4df5c9"
      },
      "execution_count": 26,
      "outputs": [
        {
          "output_type": "stream",
          "name": "stdout",
          "text": [
            "Epoch 1/50\n",
            "16/16 [==============================] - 6s 10ms/step - loss: 0.1466\n",
            "Epoch 2/50\n",
            "16/16 [==============================] - 0s 9ms/step - loss: 0.0107\n",
            "Epoch 3/50\n",
            "16/16 [==============================] - 0s 9ms/step - loss: 0.0074\n",
            "Epoch 4/50\n",
            "16/16 [==============================] - 0s 9ms/step - loss: 0.0045\n",
            "Epoch 5/50\n",
            "16/16 [==============================] - 0s 9ms/step - loss: 0.0030\n",
            "Epoch 6/50\n",
            "16/16 [==============================] - 0s 9ms/step - loss: 0.0027\n",
            "Epoch 7/50\n",
            "16/16 [==============================] - 0s 9ms/step - loss: 0.0028\n",
            "Epoch 8/50\n",
            "16/16 [==============================] - 0s 9ms/step - loss: 0.0025\n",
            "Epoch 9/50\n",
            "16/16 [==============================] - 0s 9ms/step - loss: 0.0026\n",
            "Epoch 10/50\n",
            "16/16 [==============================] - 0s 9ms/step - loss: 0.0023\n",
            "Epoch 11/50\n",
            "16/16 [==============================] - 0s 9ms/step - loss: 0.0024\n",
            "Epoch 12/50\n",
            "16/16 [==============================] - 0s 9ms/step - loss: 0.0020\n",
            "Epoch 13/50\n",
            "16/16 [==============================] - 0s 9ms/step - loss: 0.0025\n",
            "Epoch 14/50\n",
            "16/16 [==============================] - 0s 9ms/step - loss: 0.0020\n",
            "Epoch 15/50\n",
            "16/16 [==============================] - 0s 9ms/step - loss: 0.0022\n",
            "Epoch 16/50\n",
            "16/16 [==============================] - 0s 9ms/step - loss: 0.0023\n",
            "Epoch 17/50\n",
            "16/16 [==============================] - 0s 10ms/step - loss: 0.0019\n",
            "Epoch 18/50\n",
            "16/16 [==============================] - 0s 9ms/step - loss: 0.0020\n",
            "Epoch 19/50\n",
            "16/16 [==============================] - 0s 9ms/step - loss: 0.0018\n",
            "Epoch 20/50\n",
            "16/16 [==============================] - 0s 9ms/step - loss: 0.0020\n",
            "Epoch 21/50\n",
            "16/16 [==============================] - 0s 9ms/step - loss: 0.0018\n",
            "Epoch 22/50\n",
            "16/16 [==============================] - 0s 9ms/step - loss: 0.0019\n",
            "Epoch 23/50\n",
            "16/16 [==============================] - 0s 9ms/step - loss: 0.0018\n",
            "Epoch 24/50\n",
            "16/16 [==============================] - 0s 9ms/step - loss: 0.0020\n",
            "Epoch 25/50\n",
            "16/16 [==============================] - 0s 9ms/step - loss: 0.0017\n",
            "Epoch 26/50\n",
            "16/16 [==============================] - 0s 9ms/step - loss: 0.0019\n",
            "Epoch 27/50\n",
            "16/16 [==============================] - 0s 9ms/step - loss: 0.0015\n",
            "Epoch 28/50\n",
            "16/16 [==============================] - 0s 9ms/step - loss: 0.0021\n",
            "Epoch 29/50\n",
            "16/16 [==============================] - 0s 9ms/step - loss: 0.0018\n",
            "Epoch 30/50\n",
            "16/16 [==============================] - 0s 12ms/step - loss: 0.0016\n",
            "Epoch 31/50\n",
            "16/16 [==============================] - 0s 12ms/step - loss: 0.0017\n",
            "Epoch 32/50\n",
            "16/16 [==============================] - 0s 12ms/step - loss: 0.0017\n",
            "Epoch 33/50\n",
            "16/16 [==============================] - 0s 12ms/step - loss: 0.0018\n",
            "Epoch 34/50\n",
            "16/16 [==============================] - 0s 12ms/step - loss: 0.0017\n",
            "Epoch 35/50\n",
            "16/16 [==============================] - 0s 12ms/step - loss: 0.0016\n",
            "Epoch 36/50\n",
            "16/16 [==============================] - 0s 13ms/step - loss: 0.0015\n",
            "Epoch 37/50\n",
            "16/16 [==============================] - 0s 13ms/step - loss: 0.0017\n",
            "Epoch 38/50\n",
            "16/16 [==============================] - 0s 13ms/step - loss: 0.0017\n",
            "Epoch 39/50\n",
            "16/16 [==============================] - 0s 13ms/step - loss: 0.0017\n",
            "Epoch 40/50\n",
            "16/16 [==============================] - 0s 9ms/step - loss: 0.0016\n",
            "Epoch 41/50\n",
            "16/16 [==============================] - 0s 9ms/step - loss: 0.0016\n",
            "Epoch 42/50\n",
            "16/16 [==============================] - 0s 10ms/step - loss: 0.0016\n",
            "Epoch 43/50\n",
            "16/16 [==============================] - 0s 9ms/step - loss: 0.0016\n",
            "Epoch 44/50\n",
            "16/16 [==============================] - 0s 9ms/step - loss: 0.0016\n",
            "Epoch 45/50\n",
            "16/16 [==============================] - 0s 9ms/step - loss: 0.0014\n",
            "Epoch 46/50\n",
            "16/16 [==============================] - 0s 9ms/step - loss: 0.0014\n",
            "Epoch 47/50\n",
            "16/16 [==============================] - 0s 9ms/step - loss: 0.0015\n",
            "Epoch 48/50\n",
            "16/16 [==============================] - 0s 9ms/step - loss: 0.0014\n",
            "Epoch 49/50\n",
            "16/16 [==============================] - 0s 9ms/step - loss: 0.0015\n",
            "Epoch 50/50\n",
            "16/16 [==============================] - 0s 9ms/step - loss: 0.0014\n"
          ]
        },
        {
          "output_type": "execute_result",
          "data": {
            "text/plain": [
              "<keras.src.callbacks.History at 0x785ebb4acd60>"
            ]
          },
          "metadata": {},
          "execution_count": 26
        }
      ]
    },
    {
      "cell_type": "code",
      "source": [
        "pred_stock_price = model_bigru.predict(X_test)\n",
        "# rescale to original format\n",
        "pred_stock_price = sc.inverse_transform(pred_stock_price)\n",
        "RMSE = np.sqrt(np.mean((pred_stock_price-real_stock_price)**2))\n",
        "RMSE"
      ],
      "metadata": {
        "colab": {
          "base_uri": "https://localhost:8080/"
        },
        "id": "Po5P9DU7iYrv",
        "outputId": "9b244bc9-bc9c-4b9d-8aa0-29a1ed4b4e56"
      },
      "execution_count": 27,
      "outputs": [
        {
          "output_type": "stream",
          "name": "stdout",
          "text": [
            "1/1 [==============================] - 1s 1s/step\n"
          ]
        },
        {
          "output_type": "execute_result",
          "data": {
            "text/plain": [
              "117.74103250812821"
            ]
          },
          "metadata": {},
          "execution_count": 27
        }
      ]
    },
    {
      "cell_type": "code",
      "source": [
        "plt.plot(real_stock_price, color = 'red', label = 'Real Amazon Stock Price')\n",
        "plt.plot(pred_stock_price, color = 'blue', label = 'Predicted Amazon Stock Price')\n",
        "plt.title('Amazon Stock Price Prediction-BiGRU')\n",
        "plt.xlabel('Time')\n",
        "plt.ylabel('Price')\n",
        "plt.legend()\n",
        "plt.show()"
      ],
      "metadata": {
        "colab": {
          "base_uri": "https://localhost:8080/",
          "height": 472
        },
        "id": "Z0qQ0BBCinUE",
        "outputId": "01935541-0019-4b84-c175-1e08f76ccb61"
      },
      "execution_count": 28,
      "outputs": [
        {
          "output_type": "display_data",
          "data": {
            "text/plain": [
              "<Figure size 640x480 with 1 Axes>"
            ],
            "image/png": "[encoded data removed]"
          },
          "metadata": {}
        }
      ]
    },
    {
      "cell_type": "markdown",
      "source": [
        "## Temporal Convolutional Networks (TCN)\n",
        "\n",
        "TCN [Github](https://github.com/philipperemy/keras-tcn)"
      ],
      "metadata": {
        "id": "S20FCiPrVJoB"
      }
    },
    {
      "cell_type": "code",
      "source": [
        "!pip install -q keras-tcn --no-dependencies\n",
        "from tcn import TCN, tcn_full_summary"
      ],
      "metadata": {
        "id": "h8e_I8euVQR4"
      },
      "execution_count": 29,
      "outputs": []
    },
    {
      "cell_type": "code",
      "source": [
        "model_tcn = Sequential([Input(shape=(timesteps, 1)),\n",
        "        TCN(nb_filters=64, kernel_size=3, return_sequences=True, dilations=[1, 2, 4, 8, 16]),\n",
        "        Dense(1) # Output layer\n",
        "    ])\n",
        "model_tcn.summary()"
      ],
      "metadata": {
        "id": "o3B57ERnX1Or",
        "colab": {
          "base_uri": "https://localhost:8080/"
        },
        "outputId": "0a919ec5-75e2-4bc2-8a76-531c89571a95"
      },
      "execution_count": 30,
      "outputs": [
        {
          "output_type": "stream",
          "name": "stdout",
          "text": [
            "Model: \"sequential_2\"\n",
            "_________________________________________________________________\n",
            " Layer (type)                Output Shape              Param #   \n",
            "=================================================================\n",
            " tcn (TCN)                   (None, 30, 64)            111552    \n",
            "                                                                 \n",
            " dense_2 (Dense)             (None, 30, 1)             65        \n",
            "                                                                 \n",
            "=================================================================\n",
            "Total params: 111617 (436.00 KB)\n",
            "Trainable params: 111617 (436.00 KB)\n",
            "Non-trainable params: 0 (0.00 Byte)\n",
            "_________________________________________________________________\n"
          ]
        }
      ]
    },
    {
      "cell_type": "code",
      "source": [
        "model_tcn.compile(loss='mean_squared_error', optimizer='rmsprop')\n",
        "# Fitting\n",
        "model_tcn.fit(X_train, y_train, epochs=50, batch_size=32)"
      ],
      "metadata": {
        "colab": {
          "base_uri": "https://localhost:8080/"
        },
        "id": "_dJbzaqYkLSS",
        "outputId": "c6df946f-95a7-417a-ae42-900b11418323"
      },
      "execution_count": 31,
      "outputs": [
        {
          "output_type": "stream",
          "name": "stdout",
          "text": [
            "Epoch 1/50\n",
            "16/16 [==============================] - 5s 32ms/step - loss: 15.7229\n",
            "Epoch 2/50\n",
            "16/16 [==============================] - 0s 7ms/step - loss: 0.7335\n",
            "Epoch 3/50\n",
            "16/16 [==============================] - 0s 8ms/step - loss: 0.8223\n",
            "Epoch 4/50\n",
            "16/16 [==============================] - 0s 8ms/step - loss: 0.7511\n",
            "Epoch 5/50\n",
            "16/16 [==============================] - 0s 7ms/step - loss: 0.4302\n",
            "Epoch 6/50\n",
            "16/16 [==============================] - 0s 8ms/step - loss: 0.4150\n",
            "Epoch 7/50\n",
            "16/16 [==============================] - 0s 11ms/step - loss: 0.2010\n",
            "Epoch 8/50\n",
            "16/16 [==============================] - 0s 10ms/step - loss: 0.1480\n",
            "Epoch 9/50\n",
            "16/16 [==============================] - 0s 10ms/step - loss: 0.1837\n",
            "Epoch 10/50\n",
            "16/16 [==============================] - 0s 10ms/step - loss: 0.1199\n",
            "Epoch 11/50\n",
            "16/16 [==============================] - 0s 11ms/step - loss: 0.1373\n",
            "Epoch 12/50\n",
            "16/16 [==============================] - 0s 10ms/step - loss: 0.1006\n",
            "Epoch 13/50\n",
            "16/16 [==============================] - 0s 11ms/step - loss: 0.1056\n",
            "Epoch 14/50\n",
            "16/16 [==============================] - 0s 11ms/step - loss: 0.1120\n",
            "Epoch 15/50\n",
            "16/16 [==============================] - 0s 11ms/step - loss: 0.0836\n",
            "Epoch 16/50\n",
            "16/16 [==============================] - 0s 12ms/step - loss: 0.0900\n",
            "Epoch 17/50\n",
            "16/16 [==============================] - 0s 7ms/step - loss: 0.0793\n",
            "Epoch 18/50\n",
            "16/16 [==============================] - 0s 8ms/step - loss: 0.0645\n",
            "Epoch 19/50\n",
            "16/16 [==============================] - 0s 7ms/step - loss: 0.0860\n",
            "Epoch 20/50\n",
            "16/16 [==============================] - 0s 7ms/step - loss: 0.0631\n",
            "Epoch 21/50\n",
            "16/16 [==============================] - 0s 7ms/step - loss: 0.0795\n",
            "Epoch 22/50\n",
            "16/16 [==============================] - 0s 8ms/step - loss: 0.0698\n",
            "Epoch 23/50\n",
            "16/16 [==============================] - 0s 9ms/step - loss: 0.0666\n",
            "Epoch 24/50\n",
            "16/16 [==============================] - 0s 7ms/step - loss: 0.0588\n",
            "Epoch 25/50\n",
            "16/16 [==============================] - 0s 8ms/step - loss: 0.0658\n",
            "Epoch 26/50\n",
            "16/16 [==============================] - 0s 7ms/step - loss: 0.0635\n",
            "Epoch 27/50\n",
            "16/16 [==============================] - 0s 8ms/step - loss: 0.0573\n",
            "Epoch 28/50\n",
            "16/16 [==============================] - 0s 7ms/step - loss: 0.0683\n",
            "Epoch 29/50\n",
            "16/16 [==============================] - 0s 7ms/step - loss: 0.0563\n",
            "Epoch 30/50\n",
            "16/16 [==============================] - 0s 7ms/step - loss: 0.0651\n",
            "Epoch 31/50\n",
            "16/16 [==============================] - 0s 7ms/step - loss: 0.0609\n",
            "Epoch 32/50\n",
            "16/16 [==============================] - 0s 7ms/step - loss: 0.0572\n",
            "Epoch 33/50\n",
            "16/16 [==============================] - 0s 8ms/step - loss: 0.0530\n",
            "Epoch 34/50\n",
            "16/16 [==============================] - 0s 7ms/step - loss: 0.0661\n",
            "Epoch 35/50\n",
            "16/16 [==============================] - 0s 8ms/step - loss: 0.0536\n",
            "Epoch 36/50\n",
            "16/16 [==============================] - 0s 7ms/step - loss: 0.0593\n",
            "Epoch 37/50\n",
            "16/16 [==============================] - 0s 8ms/step - loss: 0.0623\n",
            "Epoch 38/50\n",
            "16/16 [==============================] - 0s 7ms/step - loss: 0.0532\n",
            "Epoch 39/50\n",
            "16/16 [==============================] - 0s 7ms/step - loss: 0.0541\n",
            "Epoch 40/50\n",
            "16/16 [==============================] - 0s 7ms/step - loss: 0.0598\n",
            "Epoch 41/50\n",
            "16/16 [==============================] - 0s 8ms/step - loss: 0.0565\n",
            "Epoch 42/50\n",
            "16/16 [==============================] - 0s 8ms/step - loss: 0.0516\n",
            "Epoch 43/50\n",
            "16/16 [==============================] - 0s 8ms/step - loss: 0.0558\n",
            "Epoch 44/50\n",
            "16/16 [==============================] - 0s 7ms/step - loss: 0.0553\n",
            "Epoch 45/50\n",
            "16/16 [==============================] - 0s 7ms/step - loss: 0.0539\n",
            "Epoch 46/50\n",
            "16/16 [==============================] - 0s 7ms/step - loss: 0.0507\n",
            "Epoch 47/50\n",
            "16/16 [==============================] - 0s 7ms/step - loss: 0.0581\n",
            "Epoch 48/50\n",
            "16/16 [==============================] - 0s 8ms/step - loss: 0.0552\n",
            "Epoch 49/50\n",
            "16/16 [==============================] - 0s 8ms/step - loss: 0.0514\n",
            "Epoch 50/50\n",
            "16/16 [==============================] - 0s 8ms/step - loss: 0.0548\n"
          ]
        },
        {
          "output_type": "execute_result",
          "data": {
            "text/plain": [
              "<keras.src.callbacks.History at 0x785f36b67400>"
            ]
          },
          "metadata": {},
          "execution_count": 31
        }
      ]
    },
    {
      "cell_type": "code",
      "source": [
        "pred_stock_price = model_tcn.predict(X_test)[:,-1,:] # get the last sequence\n",
        "# rescale to original format\n",
        "pred_stock_price = sc.inverse_transform(pred_stock_price)\n",
        "RMSE = np.sqrt(np.mean((pred_stock_price-real_stock_price)**2))\n",
        "RMSE"
      ],
      "metadata": {
        "colab": {
          "base_uri": "https://localhost:8080/"
        },
        "id": "ytRKygnDkiDc",
        "outputId": "5f6f0f7a-a1b2-4422-d002-b8941db78085"
      },
      "execution_count": 32,
      "outputs": [
        {
          "output_type": "stream",
          "name": "stdout",
          "text": [
            "1/1 [==============================] - 1s 560ms/step\n"
          ]
        },
        {
          "output_type": "execute_result",
          "data": {
            "text/plain": [
              "140.71397156076588"
            ]
          },
          "metadata": {},
          "execution_count": 32
        }
      ]
    },
    {
      "cell_type": "code",
      "source": [
        "plt.plot(real_stock_price, color = 'red', label = 'Real Amazon Stock Price')\n",
        "plt.plot(pred_stock_price, color = 'blue', label = 'Predicted Amazon Stock Price')\n",
        "plt.title('Amazon Stock Price Prediction- TCN')\n",
        "plt.xlabel('Time')\n",
        "plt.ylabel('Price')\n",
        "plt.legend()\n",
        "plt.show()"
      ],
      "metadata": {
        "colab": {
          "base_uri": "https://localhost:8080/",
          "height": 472
        },
        "id": "zqIje2WDkpOu",
        "outputId": "28cd4ce0-5c69-4f29-c441-fe13019366fb"
      },
      "execution_count": 33,
      "outputs": [
        {
          "output_type": "display_data",
          "data": {
            "text/plain": [
              "<Figure size 640x480 with 1 Axes>"
            ],
            "image/png": "[encoded data removed]"
          },
          "metadata": {}
        }
      ]
    },
    {
      "cell_type": "code",
      "source": [],
      "metadata": {
        "id": "gtI8naO4krit"
      },
      "execution_count": null,
      "outputs": []
    }
  ]
}