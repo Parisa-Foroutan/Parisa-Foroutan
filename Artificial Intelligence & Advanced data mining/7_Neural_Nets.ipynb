{
  "nbformat": 4,
  "nbformat_minor": 0,
  "metadata": {
    "colab": {
      "provenance": []
    },
    "kernelspec": {
      "name": "python3",
      "display_name": "Python 3"
    }
  },
  "cells": [
    {
      "cell_type": "markdown",
      "source": [
        "#Neural Nets\n"
      ],
      "metadata": {
        "id": "NPDbFpRXona9"
      }
    },
    {
      "cell_type": "code",
      "metadata": {
        "id": "LS2JO0dXGqaS"
      },
      "source": [
        "import numpy as np\n",
        "import pandas as pd\n",
        "import matplotlib.pyplot as plt\n",
        "\n",
        "from sklearn.model_selection import train_test_split\n",
        "from sklearn import metrics"
      ],
      "execution_count": null,
      "outputs": []
    },
    {
      "cell_type": "code",
      "source": [
        "import tensorflow as tf\n",
        "from keras import datasets, layers, models\n",
        "tf.random.set_seed(123)"
      ],
      "metadata": {
        "id": "JeIo9-KNw01z"
      },
      "execution_count": null,
      "outputs": []
    },
    {
      "cell_type": "markdown",
      "metadata": {
        "id": "ytGf_U3sTD2w"
      },
      "source": [
        "## Standard Feed Forward Neural Network:\n"
      ]
    },
    {
      "cell_type": "code",
      "metadata": {
        "id": "RVFphk4ELBkA",
        "colab": {
          "base_uri": "https://localhost:8080/"
        },
        "outputId": "844761b8-1b4f-419d-e9f5-13d1aa378fa4"
      },
      "source": [
        "from sklearn.datasets import load_wine\n",
        "wine = load_wine()\n",
        "print(wine['DESCR'])"
      ],
      "execution_count": null,
      "outputs": [
        {
          "output_type": "stream",
          "name": "stdout",
          "text": [
            ".. _wine_dataset:\n",
            "\n",
            "Wine recognition dataset\n",
            "------------------------\n",
            "\n",
            "**Data Set Characteristics:**\n",
            "\n",
            "    :Number of Instances: 178\n",
            "    :Number of Attributes: 13 numeric, predictive attributes and the class\n",
            "    :Attribute Information:\n",
            " \t\t- Alcohol\n",
            " \t\t- Malic acid\n",
            " \t\t- Ash\n",
            "\t\t- Alcalinity of ash  \n",
            " \t\t- Magnesium\n",
            "\t\t- Total phenols\n",
            " \t\t- Flavanoids\n",
            " \t\t- Nonflavanoid phenols\n",
            " \t\t- Proanthocyanins\n",
            "\t\t- Color intensity\n",
            " \t\t- Hue\n",
            " \t\t- OD280/OD315 of diluted wines\n",
            " \t\t- Proline\n",
            "\n",
            "    - class:\n",
            "            - class_0\n",
            "            - class_1\n",
            "            - class_2\n",
            "\t\t\n",
            "    :Summary Statistics:\n",
            "    \n",
            "    ============================= ==== ===== ======= =====\n",
            "                                   Min   Max   Mean     SD\n",
            "    ============================= ==== ===== ======= =====\n",
            "    Alcohol:                      11.0  14.8    13.0   0.8\n",
            "    Malic Acid:                   0.74  5.80    2.34  1.12\n",
            "    Ash:                          1.36  3.23    2.36  0.27\n",
            "    Alcalinity of Ash:            10.6  30.0    19.5   3.3\n",
            "    Magnesium:                    70.0 162.0    99.7  14.3\n",
            "    Total Phenols:                0.98  3.88    2.29  0.63\n",
            "    Flavanoids:                   0.34  5.08    2.03  1.00\n",
            "    Nonflavanoid Phenols:         0.13  0.66    0.36  0.12\n",
            "    Proanthocyanins:              0.41  3.58    1.59  0.57\n",
            "    Colour Intensity:              1.3  13.0     5.1   2.3\n",
            "    Hue:                          0.48  1.71    0.96  0.23\n",
            "    OD280/OD315 of diluted wines: 1.27  4.00    2.61  0.71\n",
            "    Proline:                       278  1680     746   315\n",
            "    ============================= ==== ===== ======= =====\n",
            "\n",
            "    :Missing Attribute Values: None\n",
            "    :Class Distribution: class_0 (59), class_1 (71), class_2 (48)\n",
            "    :Creator: R.A. Fisher\n",
            "    :Donor: Michael Marshall (MARSHALL%PLU@io.arc.nasa.gov)\n",
            "    :Date: July, 1988\n",
            "\n",
            "This is a copy of UCI ML Wine recognition datasets.\n",
            "https://archive.ics.uci.edu/ml/machine-learning-databases/wine/wine.data\n",
            "\n",
            "The data is the results of a chemical analysis of wines grown in the same\n",
            "region in Italy by three different cultivators. There are thirteen different\n",
            "measurements taken for different constituents found in the three types of\n",
            "wine.\n",
            "\n",
            "Original Owners: \n",
            "\n",
            "Forina, M. et al, PARVUS - \n",
            "An Extendible Package for Data Exploration, Classification and Correlation. \n",
            "Institute of Pharmaceutical and Food Analysis and Technologies,\n",
            "Via Brigata Salerno, 16147 Genoa, Italy.\n",
            "\n",
            "Citation:\n",
            "\n",
            "Lichman, M. (2013). UCI Machine Learning Repository\n",
            "[https://archive.ics.uci.edu/ml]. Irvine, CA: University of California,\n",
            "School of Information and Computer Science. \n",
            "\n",
            ".. topic:: References\n",
            "\n",
            "  (1) S. Aeberhard, D. Coomans and O. de Vel, \n",
            "  Comparison of Classifiers in High Dimensional Settings, \n",
            "  Tech. Rep. no. 92-02, (1992), Dept. of Computer Science and Dept. of  \n",
            "  Mathematics and Statistics, James Cook University of North Queensland. \n",
            "  (Also submitted to Technometrics). \n",
            "\n",
            "  The data was used with many others for comparing various \n",
            "  classifiers. The classes are separable, though only RDA \n",
            "  has achieved 100% correct classification. \n",
            "  (RDA : 100%, QDA 99.4%, LDA 98.9%, 1NN 96.1% (z-transformed data)) \n",
            "  (All results using the leave-one-out technique) \n",
            "\n",
            "  (2) S. Aeberhard, D. Coomans and O. de Vel, \n",
            "  \"THE CLASSIFICATION PERFORMANCE OF RDA\" \n",
            "  Tech. Rep. no. 92-01, (1992), Dept. of Computer Science and Dept. of \n",
            "  Mathematics and Statistics, James Cook University of North Queensland. \n",
            "  (Also submitted to Journal of Chemometrics).\n",
            "\n"
          ]
        }
      ]
    },
    {
      "cell_type": "code",
      "source": [
        "from sklearn.preprocessing import  OneHotEncoder, MinMaxScaler\n",
        "\n",
        "# Split the dataset\n",
        "X = wine.data\n",
        "y = wine.target\n",
        "X_train, X_test, y_train, y_test = train_test_split(X, y, test_size=0.2, random_state=123)\n",
        "\n",
        "# scale training data\n",
        "scaler = MinMaxScaler()\n",
        "X_train = scaler.fit_transform(X_train)\n",
        "X_test = scaler.transform(X_test)\n",
        "\n",
        "# Convert labels to OneHotEncoder\n",
        "onehotencoder = OneHotEncoder(categories='auto')\n",
        "y_train_encoded = onehotencoder.fit_transform(y_train.reshape(-1,1)).toarray()\n",
        "y_test_encoded = onehotencoder.transform(y_test.reshape(-1,1)).toarray()"
      ],
      "metadata": {
        "id": "_EJhavlsCQ6T"
      },
      "execution_count": null,
      "outputs": []
    },
    {
      "cell_type": "code",
      "source": [
        "y_train[:5]"
      ],
      "metadata": {
        "colab": {
          "base_uri": "https://localhost:8080/"
        },
        "id": "HHIP_fDLNZAR",
        "outputId": "f0d815f3-1ac8-4e9d-e120-cd6a5e1753c8"
      },
      "execution_count": null,
      "outputs": [
        {
          "output_type": "execute_result",
          "data": {
            "text/plain": [
              "array([2, 0, 1, 1, 2])"
            ]
          },
          "metadata": {},
          "execution_count": 10
        }
      ]
    },
    {
      "cell_type": "code",
      "source": [
        "y_train_encoded[:5]"
      ],
      "metadata": {
        "colab": {
          "base_uri": "https://localhost:8080/"
        },
        "id": "4-WKdMWEIAE7",
        "outputId": "384c701c-9aa3-46fe-becd-3aa2ecce6a13"
      },
      "execution_count": null,
      "outputs": [
        {
          "output_type": "execute_result",
          "data": {
            "text/plain": [
              "array([[0., 0., 1.],\n",
              "       [1., 0., 0.],\n",
              "       [0., 1., 0.],\n",
              "       [0., 1., 0.],\n",
              "       [0., 0., 1.]])"
            ]
          },
          "metadata": {},
          "execution_count": 11
        }
      ]
    },
    {
      "cell_type": "markdown",
      "source": [
        "create MLP architecture:"
      ],
      "metadata": {
        "id": "Vp7HqwtD9Csd"
      }
    },
    {
      "cell_type": "code",
      "metadata": {
        "id": "GHE9LzsRTIyZ"
      },
      "source": [
        "mlp = models.Sequential()\n",
        "mlp.add(layers.Dense(units=10, activation='relu')) # 'tanh'\n",
        "# second hidden layer\n",
        "mlp.add(layers.Dense(units=8, activation='relu'))\n",
        "mlp.add(layers.Dense(units=3, activation='softmax'))"
      ],
      "execution_count": null,
      "outputs": []
    },
    {
      "cell_type": "markdown",
      "metadata": {
        "id": "IZCVjIje0md5"
      },
      "source": [
        "#### Training the FFMLP on the Training set"
      ]
    },
    {
      "cell_type": "code",
      "metadata": {
        "id": "UIp6o0AQ0gEL",
        "colab": {
          "base_uri": "https://localhost:8080/"
        },
        "outputId": "e15e8e72-79ee-4f6c-eb1e-962cd46ad2d7"
      },
      "source": [
        "mlp.compile(optimizer= 'adam', loss= 'categorical_crossentropy' , metrics=['accuracy'])\n",
        "mlp.fit(X_train, y_train_encoded, batch_size=32, epochs=50,  verbose=1)\n"
      ],
      "execution_count": null,
      "outputs": [
        {
          "output_type": "stream",
          "name": "stdout",
          "text": [
            "Epoch 1/50\n",
            "5/5 [==============================] - 1s 4ms/step - loss: 1.1203 - accuracy: 0.3592\n",
            "Epoch 2/50\n",
            "5/5 [==============================] - 0s 3ms/step - loss: 1.1025 - accuracy: 0.3592\n",
            "Epoch 3/50\n",
            "5/5 [==============================] - 0s 3ms/step - loss: 1.0888 - accuracy: 0.3592\n",
            "Epoch 4/50\n",
            "5/5 [==============================] - 0s 4ms/step - loss: 1.0776 - accuracy: 0.3803\n",
            "Epoch 5/50\n",
            "5/5 [==============================] - 0s 3ms/step - loss: 1.0685 - accuracy: 0.4225\n",
            "Epoch 6/50\n",
            "5/5 [==============================] - 0s 3ms/step - loss: 1.0601 - accuracy: 0.4507\n",
            "Epoch 7/50\n",
            "5/5 [==============================] - 0s 3ms/step - loss: 1.0522 - accuracy: 0.4859\n",
            "Epoch 8/50\n",
            "5/5 [==============================] - 0s 3ms/step - loss: 1.0444 - accuracy: 0.5211\n",
            "Epoch 9/50\n",
            "5/5 [==============================] - 0s 3ms/step - loss: 1.0361 - accuracy: 0.5423\n",
            "Epoch 10/50\n",
            "5/5 [==============================] - 0s 3ms/step - loss: 1.0280 - accuracy: 0.5775\n",
            "Epoch 11/50\n",
            "5/5 [==============================] - 0s 3ms/step - loss: 1.0194 - accuracy: 0.5775\n",
            "Epoch 12/50\n",
            "5/5 [==============================] - 0s 3ms/step - loss: 1.0106 - accuracy: 0.5845\n",
            "Epoch 13/50\n",
            "5/5 [==============================] - 0s 3ms/step - loss: 1.0017 - accuracy: 0.6056\n",
            "Epoch 14/50\n",
            "5/5 [==============================] - 0s 3ms/step - loss: 0.9929 - accuracy: 0.6127\n",
            "Epoch 15/50\n",
            "5/5 [==============================] - 0s 3ms/step - loss: 0.9828 - accuracy: 0.6127\n",
            "Epoch 16/50\n",
            "5/5 [==============================] - 0s 3ms/step - loss: 0.9729 - accuracy: 0.6268\n",
            "Epoch 17/50\n",
            "5/5 [==============================] - 0s 3ms/step - loss: 0.9634 - accuracy: 0.6197\n",
            "Epoch 18/50\n",
            "5/5 [==============================] - 0s 3ms/step - loss: 0.9533 - accuracy: 0.6268\n",
            "Epoch 19/50\n",
            "5/5 [==============================] - 0s 3ms/step - loss: 0.9431 - accuracy: 0.6197\n",
            "Epoch 20/50\n",
            "5/5 [==============================] - 0s 3ms/step - loss: 0.9324 - accuracy: 0.6127\n",
            "Epoch 21/50\n",
            "5/5 [==============================] - 0s 3ms/step - loss: 0.9221 - accuracy: 0.6127\n",
            "Epoch 22/50\n",
            "5/5 [==============================] - 0s 3ms/step - loss: 0.9111 - accuracy: 0.6127\n",
            "Epoch 23/50\n",
            "5/5 [==============================] - 0s 3ms/step - loss: 0.9005 - accuracy: 0.6197\n",
            "Epoch 24/50\n",
            "5/5 [==============================] - 0s 3ms/step - loss: 0.8879 - accuracy: 0.6268\n",
            "Epoch 25/50\n",
            "5/5 [==============================] - 0s 3ms/step - loss: 0.8758 - accuracy: 0.6549\n",
            "Epoch 26/50\n",
            "5/5 [==============================] - 0s 3ms/step - loss: 0.8629 - accuracy: 0.6620\n",
            "Epoch 27/50\n",
            "5/5 [==============================] - 0s 3ms/step - loss: 0.8487 - accuracy: 0.6761\n",
            "Epoch 28/50\n",
            "5/5 [==============================] - 0s 3ms/step - loss: 0.8345 - accuracy: 0.6761\n",
            "Epoch 29/50\n",
            "5/5 [==============================] - 0s 4ms/step - loss: 0.8194 - accuracy: 0.6831\n",
            "Epoch 30/50\n",
            "5/5 [==============================] - 0s 3ms/step - loss: 0.8044 - accuracy: 0.6901\n",
            "Epoch 31/50\n",
            "5/5 [==============================] - 0s 4ms/step - loss: 0.7894 - accuracy: 0.6972\n",
            "Epoch 32/50\n",
            "5/5 [==============================] - 0s 3ms/step - loss: 0.7746 - accuracy: 0.6972\n",
            "Epoch 33/50\n",
            "5/5 [==============================] - 0s 3ms/step - loss: 0.7610 - accuracy: 0.6972\n",
            "Epoch 34/50\n",
            "5/5 [==============================] - 0s 3ms/step - loss: 0.7466 - accuracy: 0.6972\n",
            "Epoch 35/50\n",
            "5/5 [==============================] - 0s 3ms/step - loss: 0.7322 - accuracy: 0.6972\n",
            "Epoch 36/50\n",
            "5/5 [==============================] - 0s 3ms/step - loss: 0.7169 - accuracy: 0.6972\n",
            "Epoch 37/50\n",
            "5/5 [==============================] - 0s 3ms/step - loss: 0.7008 - accuracy: 0.6972\n",
            "Epoch 38/50\n",
            "5/5 [==============================] - 0s 3ms/step - loss: 0.6840 - accuracy: 0.7042\n",
            "Epoch 39/50\n",
            "5/5 [==============================] - 0s 3ms/step - loss: 0.6664 - accuracy: 0.7042\n",
            "Epoch 40/50\n",
            "5/5 [==============================] - 0s 3ms/step - loss: 0.6496 - accuracy: 0.7254\n",
            "Epoch 41/50\n",
            "5/5 [==============================] - 0s 3ms/step - loss: 0.6338 - accuracy: 0.7465\n",
            "Epoch 42/50\n",
            "5/5 [==============================] - 0s 3ms/step - loss: 0.6196 - accuracy: 0.7817\n",
            "Epoch 43/50\n",
            "5/5 [==============================] - 0s 3ms/step - loss: 0.6059 - accuracy: 0.8239\n",
            "Epoch 44/50\n",
            "5/5 [==============================] - 0s 3ms/step - loss: 0.5922 - accuracy: 0.8380\n",
            "Epoch 45/50\n",
            "5/5 [==============================] - 0s 3ms/step - loss: 0.5798 - accuracy: 0.8521\n",
            "Epoch 46/50\n",
            "5/5 [==============================] - 0s 3ms/step - loss: 0.5675 - accuracy: 0.8592\n",
            "Epoch 47/50\n",
            "5/5 [==============================] - 0s 3ms/step - loss: 0.5550 - accuracy: 0.8662\n",
            "Epoch 48/50\n",
            "5/5 [==============================] - 0s 3ms/step - loss: 0.5433 - accuracy: 0.8662\n",
            "Epoch 49/50\n",
            "5/5 [==============================] - 0s 3ms/step - loss: 0.5315 - accuracy: 0.8662\n",
            "Epoch 50/50\n",
            "5/5 [==============================] - 0s 3ms/step - loss: 0.5195 - accuracy: 0.8732\n",
            "2/2 [==============================] - 0s 7ms/step - loss: 0.5580 - accuracy: 0.7778\n"
          ]
        }
      ]
    },
    {
      "cell_type": "markdown",
      "metadata": {
        "id": "SjFW9Cjt05RU"
      },
      "source": [
        "#### Making the predictions and evaluating the model"
      ]
    },
    {
      "cell_type": "code",
      "source": [
        "score, acc = mlp.evaluate(X_test, y_test_encoded, batch_size=32)"
      ],
      "metadata": {
        "colab": {
          "base_uri": "https://localhost:8080/"
        },
        "id": "RUzUWZhkQNw8",
        "outputId": "4dcae490-97c3-42a4-aec3-5ab09a4e6256"
      },
      "execution_count": null,
      "outputs": [
        {
          "output_type": "stream",
          "name": "stdout",
          "text": [
            "2/2 [==============================] - 0s 12ms/step - loss: 0.5580 - accuracy: 0.7778\n"
          ]
        }
      ]
    },
    {
      "cell_type": "code",
      "metadata": {
        "id": "yFKwyb9j3ujc",
        "colab": {
          "base_uri": "https://localhost:8080/"
        },
        "outputId": "8d16bc5d-7a39-4b43-ee4c-39b30438708e"
      },
      "source": [
        "y_pred_nn = mlp.predict(X_test)\n",
        "print(y_pred_nn[-5:,])\n",
        "predicted_class = np.argmax(y_pred_nn, axis=1)\n",
        "predicted_class[-5:,]"
      ],
      "execution_count": null,
      "outputs": [
        {
          "output_type": "stream",
          "name": "stdout",
          "text": [
            "2/2 [==============================] - 0s 5ms/step\n",
            "[[0.69009346 0.21626069 0.09364584]\n",
            " [0.0545746  0.49036184 0.45506364]\n",
            " [0.10535929 0.5997928  0.29484797]\n",
            " [0.08107867 0.42128858 0.49763274]\n",
            " [0.14021944 0.5673996  0.2923809 ]]\n"
          ]
        },
        {
          "output_type": "execute_result",
          "data": {
            "text/plain": [
              "array([0, 1, 1, 2, 1])"
            ]
          },
          "metadata": {},
          "execution_count": 17
        }
      ]
    },
    {
      "cell_type": "code",
      "source": [
        "acc = metrics.accuracy_score(predicted_class, y_test)\n",
        "acc"
      ],
      "metadata": {
        "colab": {
          "base_uri": "https://localhost:8080/"
        },
        "id": "OnRKeS41Gtgz",
        "outputId": "0c155101-f0d3-49f9-9a5f-95e9863d2701"
      },
      "execution_count": null,
      "outputs": [
        {
          "output_type": "execute_result",
          "data": {
            "text/plain": [
              "0.7777777777777778"
            ]
          },
          "metadata": {},
          "execution_count": 18
        }
      ]
    },
    {
      "cell_type": "markdown",
      "source": [
        "## Radial Basis Function Neural Network"
      ],
      "metadata": {
        "id": "c44IhzZIKN7V"
      }
    },
    {
      "cell_type": "markdown",
      "source": [
        "RBF models the data using smooth transitioning circular shapes instead of sharp cut-off circles. Additionally, RBF gives information about the confidence rate of prediction which the K-means Clustering algorithm can’t.\n",
        "\n",
        "![](https://drive.google.com/uc?export=view&id=1iOOQthoNifkPxg2Sg8z5YCAt98RoSamJ)\n",
        " ![](https://drive.google.com/uc?export=view&id=1KJre0KOkin4Hu_WVdoP8bg8FLUqMpe63)\n",
        "\n",
        " [source](https://towardsdatascience.com/most-effective-way-to-implement-radial-basis-function-neural-network-for-classification-problem-33c467803319)\n"
      ],
      "metadata": {
        "id": "8RxbwO-63how"
      }
    },
    {
      "cell_type": "markdown",
      "source": [
        "RBF code adapted from [here](https://www.madrasresearch.org/post/radial-basis-functions-neural-networks)."
      ],
      "metadata": {
        "id": "HDBxW-JETt9s"
      }
    },
    {
      "cell_type": "code",
      "source": [
        "from sklearn.cluster import KMeans\n",
        "import math"
      ],
      "metadata": {
        "id": "AzRfzPGYJkGP"
      },
      "execution_count": null,
      "outputs": []
    },
    {
      "cell_type": "markdown",
      "source": [
        "determine centers of the radial base neurons using KMeans:"
      ],
      "metadata": {
        "id": "d1P_QwbENwXk"
      }
    },
    {
      "cell_type": "code",
      "source": [
        "k_center=10\n",
        "kmeans = KMeans(n_clusters=k_center, init=\"k-means++\", max_iter=100, random_state=123)\n",
        "kmeans.fit(X_train)\n",
        "center = kmeans.cluster_centers_\n",
        "center.shape # (k_center, X_train_c.shape[1])"
      ],
      "metadata": {
        "colab": {
          "base_uri": "https://localhost:8080/"
        },
        "id": "ZvrlFV28LQia",
        "outputId": "cf7f5946-360c-4b4c-99b0-88ad64835ebd"
      },
      "execution_count": null,
      "outputs": [
        {
          "output_type": "stream",
          "name": "stderr",
          "text": [
            "/usr/local/lib/python3.10/dist-packages/sklearn/cluster/_kmeans.py:870: FutureWarning: The default value of `n_init` will change from 10 to 'auto' in 1.4. Set the value of `n_init` explicitly to suppress the warning\n",
            "  warnings.warn(\n"
          ]
        },
        {
          "output_type": "execute_result",
          "data": {
            "text/plain": [
              "(10, 13)"
            ]
          },
          "metadata": {},
          "execution_count": 22
        }
      ]
    },
    {
      "cell_type": "code",
      "source": [
        "# @title code showing how to get cluster standard deviations (optional)\n",
        "labels = kmeans.labels_\n",
        "# Create a dictionary to store standard deviations\n",
        "cluster_stds = {}\n",
        "\n",
        "# Iterate over unique cluster labels\n",
        "for label in np.unique(labels):\n",
        "  # Select data points belonging to the current cluster\n",
        "  cluster_data = X_train[labels == label]\n",
        "  # Calculate standard deviation for each feature dimension\n",
        "  cluster_stds[label] = np.std(cluster_data, axis=0)"
      ],
      "metadata": {
        "cellView": "form",
        "id": "yLvEhg6F3Tto"
      },
      "execution_count": null,
      "outputs": []
    },
    {
      "cell_type": "markdown",
      "source": [
        "determine σ:"
      ],
      "metadata": {
        "id": "8Hvnf0xgNlCi"
      }
    },
    {
      "cell_type": "code",
      "source": [
        "max=0\n",
        "for i in range(k_center):\n",
        "  for j in range(k_center):\n",
        "    d=np.linalg.norm(center[i] - center[j]) # distance norm betwen two hidden neurons\n",
        "    if(d>max):\n",
        "      max = d\n",
        "d = max\n",
        "sigma = d/math.sqrt(2*k_center)"
      ],
      "metadata": {
        "id": "cWFJf8lzNUUx"
      },
      "execution_count": null,
      "outputs": []
    },
    {
      "cell_type": "markdown",
      "source": [
        "determine the output of radial basis hidden neurons:"
      ],
      "metadata": {
        "id": "0YGMAH62UiX5"
      }
    },
    {
      "cell_type": "code",
      "source": [
        "h = np.empty((X_train.shape[0] , k_center), dtype=float)\n",
        "\n",
        "for i in range(X_train.shape[0]):\n",
        "  for j in range(k_center):\n",
        "    dist = np.linalg.norm(X_train[i] - center[j])\n",
        "    h[i][j] = math.exp(-math.pow(dist,2)/2*math.pow(sigma,2))"
      ],
      "metadata": {
        "id": "F_32mEkiUtdU"
      },
      "execution_count": null,
      "outputs": []
    },
    {
      "cell_type": "markdown",
      "source": [
        "weight matrix W drawn from Least Square Method to train the network:"
      ],
      "metadata": {
        "id": "vqkG9rjdX7tj"
      }
    },
    {
      "cell_type": "code",
      "source": [
        "w = np.dot(np.linalg.pinv(h), y_train_encoded)"
      ],
      "metadata": {
        "id": "Ost1CyFEYCSB"
      },
      "execution_count": null,
      "outputs": []
    },
    {
      "cell_type": "markdown",
      "source": [
        "Matrix phi for test data:"
      ],
      "metadata": {
        "id": "STqWB1pLZiu2"
      }
    },
    {
      "cell_type": "code",
      "source": [
        "h_test = np.empty((X_test.shape[0] , k_center), dtype=float)\n",
        "\n",
        "for i in range(X_test.shape[0]):\n",
        "  for j in range(k_center):\n",
        "    dist = np.linalg.norm(X_test[i] - center[j])\n",
        "    h_test[i][j] = math.exp(- math.pow(dist,2)/2*math.pow(sigma,2))"
      ],
      "metadata": {
        "id": "0gsqmN1XZhWx"
      },
      "execution_count": null,
      "outputs": []
    },
    {
      "cell_type": "markdown",
      "source": [
        "Prediction Performance:"
      ],
      "metadata": {
        "id": "oCZOYhefaGpK"
      }
    },
    {
      "cell_type": "code",
      "source": [
        "predictions = np.dot(h_test, w)\n",
        "y_pred = predictions.argmax(axis=1)\n",
        "\n",
        "acc = metrics.accuracy_score(y_pred, y_test)\n",
        "acc"
      ],
      "metadata": {
        "colab": {
          "base_uri": "https://localhost:8080/"
        },
        "id": "D0leQeHPaKoM",
        "outputId": "a0111711-3a99-4c60-cdb7-f873c2b16d99"
      },
      "execution_count": null,
      "outputs": [
        {
          "output_type": "execute_result",
          "data": {
            "text/plain": [
              "0.9722222222222222"
            ]
          },
          "metadata": {},
          "execution_count": 32
        }
      ]
    },
    {
      "cell_type": "markdown",
      "source": [
        "## Extreme Machine Neural Networks\n",
        "\n",
        "Extreme Learning Machines (ELM) are a type of single-hidden-layer feedforward neural network known for their fast training speed and good generalization performance.\n",
        "\n",
        "\n",
        "*   ELM uses randomly generated weights for the connections between the input layer and the hidden layer. These weights remain fixed during the training process.\n",
        "*   The connections between the hidden layer and the output layer are determined using a linear regression technique. This avoids the iterative optimization (backpropagation).\n",
        "\n",
        " ![](https://drive.google.com/uc?export=view&id=1eL_GxSMzaQqati-jG8wxci2o3T2mhgAo)\n",
        "\n"
      ],
      "metadata": {
        "id": "oTaATMSvL4rH"
      }
    },
    {
      "cell_type": "markdown",
      "source": [
        "initialize our input weights and biases randomly, drawn from a Gaussian distribution."
      ],
      "metadata": {
        "id": "GeJin7CZqU64"
      }
    },
    {
      "cell_type": "code",
      "source": [
        "np.random.seed(123)\n",
        "\n",
        "input_size = X_train.shape[1]\n",
        "hidden_size = 10\n",
        "input_weights = np.random.normal(size=[input_size,hidden_size])\n",
        "biases = np.random.normal(size=[hidden_size])"
      ],
      "metadata": {
        "id": "jHPT6YEmqEn6"
      },
      "execution_count": null,
      "outputs": []
    },
    {
      "cell_type": "markdown",
      "source": [
        "Compute hidden states, find output weights using the [least square method](https://numpy.org/doc/stable/reference/generated/numpy.linalg.pinv.html):"
      ],
      "metadata": {
        "id": "GWTqOyFZZjrX"
      }
    },
    {
      "cell_type": "code",
      "source": [
        "def hidden_nodes(X): # hh_j = activation(W_ij*X_i + b_j)\n",
        "    G = np.dot(X, input_weights)\n",
        "    G = G + biases\n",
        "    H = tf.keras.activations.relu(G)\n",
        "    return H\n",
        "H =hidden_nodes(X_train)\n",
        "output_weights = np.dot(np.linalg.pinv(H), y_train_encoded) # pinv: Compute the (Moore-Penrose) pseudo-inverse of a matrix.\n",
        "output_weights"
      ],
      "metadata": {
        "id": "g_EgaeBpZkdL",
        "colab": {
          "base_uri": "https://localhost:8080/"
        },
        "outputId": "d178b34f-ac05-4c15-ea41-9f5857042fc3"
      },
      "execution_count": null,
      "outputs": [
        {
          "output_type": "execute_result",
          "data": {
            "text/plain": [
              "array([[ 0.00000000e+00,  0.00000000e+00,  0.00000000e+00],\n",
              "       [ 7.02752758e-17, -9.02816775e-17, -3.31905010e-17],\n",
              "       [ 1.40662212e-01, -2.45062935e-01, -5.37764401e-02],\n",
              "       [-2.08267994e-01,  4.46220510e-01,  1.72842284e-02],\n",
              "       [ 2.66311777e-01, -1.69744218e-01, -3.01234496e-01],\n",
              "       [ 8.88887790e-02, -1.17513579e-01,  2.03637726e-01],\n",
              "       [ 4.91955465e-02, -5.20676176e-01,  3.74616991e-01],\n",
              "       [-2.48891147e-01,  2.70500446e-01,  1.80169598e-01],\n",
              "       [ 6.13586384e-02,  7.47847674e-02, -1.20936251e-02],\n",
              "       [ 0.00000000e+00,  0.00000000e+00,  0.00000000e+00]])"
            ]
          },
          "metadata": {},
          "execution_count": 37
        }
      ]
    },
    {
      "cell_type": "markdown",
      "source": [
        "Predict on a test set:"
      ],
      "metadata": {
        "id": "KMOH7jNMwNC7"
      }
    },
    {
      "cell_type": "code",
      "source": [
        "def predict(X):\n",
        "    out = hidden_nodes(X)\n",
        "    out = np.dot(out, output_weights)\n",
        "    return out\n",
        "\n",
        "prediction = predict(X_test)\n",
        "y_pred = prediction.argmax(axis=1)\n",
        "\n",
        "acc = metrics.accuracy_score(y_test, y_pred)\n",
        "acc"
      ],
      "metadata": {
        "colab": {
          "base_uri": "https://localhost:8080/"
        },
        "id": "Dq6WMm_AwLdl",
        "outputId": "acc455b7-fa0d-49ec-d715-fda3d8dbbf94"
      },
      "execution_count": null,
      "outputs": [
        {
          "output_type": "execute_result",
          "data": {
            "text/plain": [
              "0.6388888888888888"
            ]
          },
          "metadata": {},
          "execution_count": 36
        }
      ]
    },
    {
      "cell_type": "markdown",
      "source": [
        "## Generalized Regression Neural Networks\n",
        "\n",
        "Please refer to this GitHub repository: https://github.com/federhub/pyGRNN"
      ],
      "metadata": {
        "id": "BaPF0qABL-2K"
      }
    }
  ]
}