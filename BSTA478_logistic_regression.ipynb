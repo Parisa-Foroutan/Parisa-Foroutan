{
  "nbformat": 4,
  "nbformat_minor": 0,
  "metadata": {
    "colab": {
      "name": "BSTA478- logistic regression.ipynb",
      "provenance": [],
      "collapsed_sections": [],
      "authorship_tag": "ABX9TyNTqb499+T+FXIPK0R4bSOg",
      "include_colab_link": true
    },
    "kernelspec": {
      "name": "python3",
      "display_name": "Python 3"
    },
    "language_info": {
      "name": "python"
    }
  },
  "cells": [
    {
      "cell_type": "markdown",
      "metadata": {
        "id": "view-in-github",
        "colab_type": "text"
      },
      "source": [
        "<a href=\"https://colab.research.google.com/github/Parisa-Foroutan/Tutorials/blob/main/BSTA478_logistic_regression.ipynb\" target=\"_parent\"><img src=\"https://colab.research.google.com/assets/colab-badge.svg\" alt=\"Open In Colab\"/></a>"
      ]
    },
    {
      "cell_type": "markdown",
      "source": [
        "**Session 3:** \n",
        "\n",
        "Find it on GitHub: https://github.com/Parisa-Foroutan/Tutorials/blob/main/BSTA478_logistic_regression.ipynb\n",
        "\n",
        "In this session supervised Logistic Regression model will be used to predict the survival of Titanic Ship passengers. You can find the datasets here: [Titanic-Dataset.csv ](https://drive.google.com/file/d/1IYxdRcBd5VoRrTzb8OfBkTdyrM5Wwrc_/view?usp=sharing).\n",
        "\n",
        "Pclass: Passenger Class (1 = 1st; 2 = 2nd; 3 = 3rd)\n",
        "\n",
        "\n",
        "survival: Survival (0 = No; 1 = Yes)\n",
        "\n",
        "sibsp: Number of Siblings/Spouses Aboard\n",
        "\n",
        "parch: Number of Parents/Children Aboard\n",
        "\n",
        "ticket: Ticket Number\n",
        "\n",
        "fare: Passenger Fare (British pound)\n",
        "\n",
        "embarked Port of Embarkation (C = Cherbourg; Q = Queenstown; S = Southampton)"
      ],
      "metadata": {
        "id": "4c9VfK0SZxur"
      }
    },
    {
      "cell_type": "markdown",
      "source": [
        "Import Libraries:"
      ],
      "metadata": {
        "id": "3N0b4yenR_W4"
      }
    },
    {
      "cell_type": "code",
      "source": [
        "import numpy as np\n",
        "import pandas as pd\n",
        "import matplotlib.pyplot as plt\n",
        "\n",
        "from sklearn import linear_model, metrics"
      ],
      "metadata": {
        "id": "UHj3oiJg3cI0"
      },
      "execution_count": 1,
      "outputs": []
    },
    {
      "cell_type": "markdown",
      "source": [
        "## Logistic Regression for Classification"
      ],
      "metadata": {
        "id": "dDgISHnjx49Q"
      }
    },
    {
      "cell_type": "markdown",
      "source": [
        "###Read the Data:"
      ],
      "metadata": {
        "id": "zvFoqxSfx49R"
      }
    },
    {
      "cell_type": "code",
      "source": [
        "data = pd.read_csv(\"/content/Titanic-Dataset.csv\")\n",
        "\n",
        "print(data.columns)\n",
        "data.head(3)"
      ],
      "metadata": {
        "colab": {
          "base_uri": "https://localhost:8080/",
          "height": 239
        },
        "outputId": "d5054905-dafc-4011-ce64-215cc67612d2",
        "id": "7En9EWmsx49S"
      },
      "execution_count": 2,
      "outputs": [
        {
          "output_type": "stream",
          "name": "stdout",
          "text": [
            "Index(['PassengerId', 'Survived', 'Pclass', 'Name', 'Sex', 'Age', 'SibSp',\n",
            "       'Parch', 'Ticket', 'Fare', 'Cabin', 'Embarked'],\n",
            "      dtype='object')\n"
          ]
        },
        {
          "output_type": "execute_result",
          "data": {
            "text/plain": [
              "   PassengerId  Survived  Pclass  \\\n",
              "0            1         0       3   \n",
              "1            2         1       1   \n",
              "2            3         1       3   \n",
              "\n",
              "                                                Name     Sex   Age  SibSp  \\\n",
              "0                            Braund, Mr. Owen Harris    male  22.0      1   \n",
              "1  Cumings, Mrs. John Bradley (Florence Briggs Th...  female  38.0      1   \n",
              "2                             Heikkinen, Miss. Laina  female  26.0      0   \n",
              "\n",
              "   Parch            Ticket     Fare Cabin Embarked  \n",
              "0      0         A/5 21171   7.2500   NaN        S  \n",
              "1      0          PC 17599  71.2833   C85        C  \n",
              "2      0  STON/O2. 3101282   7.9250   NaN        S  "
            ],
            "text/html": [
              "\n",
              "  <div id=\"df-fad396d3-7bca-45e4-90c7-38a832b5da30\">\n",
              "    <div class=\"colab-df-container\">\n",
              "      <div>\n",
              "<style scoped>\n",
              "    .dataframe tbody tr th:only-of-type {\n",
              "        vertical-align: middle;\n",
              "    }\n",
              "\n",
              "    .dataframe tbody tr th {\n",
              "        vertical-align: top;\n",
              "    }\n",
              "\n",
              "    .dataframe thead th {\n",
              "        text-align: right;\n",
              "    }\n",
              "</style>\n",
              "<table border=\"1\" class=\"dataframe\">\n",
              "  <thead>\n",
              "    <tr style=\"text-align: right;\">\n",
              "      <th></th>\n",
              "      <th>PassengerId</th>\n",
              "      <th>Survived</th>\n",
              "      <th>Pclass</th>\n",
              "      <th>Name</th>\n",
              "      <th>Sex</th>\n",
              "      <th>Age</th>\n",
              "      <th>SibSp</th>\n",
              "      <th>Parch</th>\n",
              "      <th>Ticket</th>\n",
              "      <th>Fare</th>\n",
              "      <th>Cabin</th>\n",
              "      <th>Embarked</th>\n",
              "    </tr>\n",
              "  </thead>\n",
              "  <tbody>\n",
              "    <tr>\n",
              "      <th>0</th>\n",
              "      <td>1</td>\n",
              "      <td>0</td>\n",
              "      <td>3</td>\n",
              "      <td>Braund, Mr. Owen Harris</td>\n",
              "      <td>male</td>\n",
              "      <td>22.0</td>\n",
              "      <td>1</td>\n",
              "      <td>0</td>\n",
              "      <td>A/5 21171</td>\n",
              "      <td>7.2500</td>\n",
              "      <td>NaN</td>\n",
              "      <td>S</td>\n",
              "    </tr>\n",
              "    <tr>\n",
              "      <th>1</th>\n",
              "      <td>2</td>\n",
              "      <td>1</td>\n",
              "      <td>1</td>\n",
              "      <td>Cumings, Mrs. John Bradley (Florence Briggs Th...</td>\n",
              "      <td>female</td>\n",
              "      <td>38.0</td>\n",
              "      <td>1</td>\n",
              "      <td>0</td>\n",
              "      <td>PC 17599</td>\n",
              "      <td>71.2833</td>\n",
              "      <td>C85</td>\n",
              "      <td>C</td>\n",
              "    </tr>\n",
              "    <tr>\n",
              "      <th>2</th>\n",
              "      <td>3</td>\n",
              "      <td>1</td>\n",
              "      <td>3</td>\n",
              "      <td>Heikkinen, Miss. Laina</td>\n",
              "      <td>female</td>\n",
              "      <td>26.0</td>\n",
              "      <td>0</td>\n",
              "      <td>0</td>\n",
              "      <td>STON/O2. 3101282</td>\n",
              "      <td>7.9250</td>\n",
              "      <td>NaN</td>\n",
              "      <td>S</td>\n",
              "    </tr>\n",
              "  </tbody>\n",
              "</table>\n",
              "</div>\n",
              "      <button class=\"colab-df-convert\" onclick=\"convertToInteractive('df-fad396d3-7bca-45e4-90c7-38a832b5da30')\"\n",
              "              title=\"Convert this dataframe to an interactive table.\"\n",
              "              style=\"display:none;\">\n",
              "        \n",
              "  <svg xmlns=\"http://www.w3.org/2000/svg\" height=\"24px\"viewBox=\"0 0 24 24\"\n",
              "       width=\"24px\">\n",
              "    <path d=\"M0 0h24v24H0V0z\" fill=\"none\"/>\n",
              "    <path d=\"M18.56 5.44l.94 2.06.94-2.06 2.06-.94-2.06-.94-.94-2.06-.94 2.06-2.06.94zm-11 1L8.5 8.5l.94-2.06 2.06-.94-2.06-.94L8.5 2.5l-.94 2.06-2.06.94zm10 10l.94 2.06.94-2.06 2.06-.94-2.06-.94-.94-2.06-.94 2.06-2.06.94z\"/><path d=\"M17.41 7.96l-1.37-1.37c-.4-.4-.92-.59-1.43-.59-.52 0-1.04.2-1.43.59L10.3 9.45l-7.72 7.72c-.78.78-.78 2.05 0 2.83L4 21.41c.39.39.9.59 1.41.59.51 0 1.02-.2 1.41-.59l7.78-7.78 2.81-2.81c.8-.78.8-2.07 0-2.86zM5.41 20L4 18.59l7.72-7.72 1.47 1.35L5.41 20z\"/>\n",
              "  </svg>\n",
              "      </button>\n",
              "      \n",
              "  <style>\n",
              "    .colab-df-container {\n",
              "      display:flex;\n",
              "      flex-wrap:wrap;\n",
              "      gap: 12px;\n",
              "    }\n",
              "\n",
              "    .colab-df-convert {\n",
              "      background-color: #E8F0FE;\n",
              "      border: none;\n",
              "      border-radius: 50%;\n",
              "      cursor: pointer;\n",
              "      display: none;\n",
              "      fill: #1967D2;\n",
              "      height: 32px;\n",
              "      padding: 0 0 0 0;\n",
              "      width: 32px;\n",
              "    }\n",
              "\n",
              "    .colab-df-convert:hover {\n",
              "      background-color: #E2EBFA;\n",
              "      box-shadow: 0px 1px 2px rgba(60, 64, 67, 0.3), 0px 1px 3px 1px rgba(60, 64, 67, 0.15);\n",
              "      fill: #174EA6;\n",
              "    }\n",
              "\n",
              "    [theme=dark] .colab-df-convert {\n",
              "      background-color: #3B4455;\n",
              "      fill: #D2E3FC;\n",
              "    }\n",
              "\n",
              "    [theme=dark] .colab-df-convert:hover {\n",
              "      background-color: #434B5C;\n",
              "      box-shadow: 0px 1px 3px 1px rgba(0, 0, 0, 0.15);\n",
              "      filter: drop-shadow(0px 1px 2px rgba(0, 0, 0, 0.3));\n",
              "      fill: #FFFFFF;\n",
              "    }\n",
              "  </style>\n",
              "\n",
              "      <script>\n",
              "        const buttonEl =\n",
              "          document.querySelector('#df-fad396d3-7bca-45e4-90c7-38a832b5da30 button.colab-df-convert');\n",
              "        buttonEl.style.display =\n",
              "          google.colab.kernel.accessAllowed ? 'block' : 'none';\n",
              "\n",
              "        async function convertToInteractive(key) {\n",
              "          const element = document.querySelector('#df-fad396d3-7bca-45e4-90c7-38a832b5da30');\n",
              "          const dataTable =\n",
              "            await google.colab.kernel.invokeFunction('convertToInteractive',\n",
              "                                                     [key], {});\n",
              "          if (!dataTable) return;\n",
              "\n",
              "          const docLinkHtml = 'Like what you see? Visit the ' +\n",
              "            '<a target=\"_blank\" href=https://colab.research.google.com/notebooks/data_table.ipynb>data table notebook</a>'\n",
              "            + ' to learn more about interactive tables.';\n",
              "          element.innerHTML = '';\n",
              "          dataTable['output_type'] = 'display_data';\n",
              "          await google.colab.output.renderOutput(dataTable, element);\n",
              "          const docLink = document.createElement('div');\n",
              "          docLink.innerHTML = docLinkHtml;\n",
              "          element.appendChild(docLink);\n",
              "        }\n",
              "      </script>\n",
              "    </div>\n",
              "  </div>\n",
              "  "
            ]
          },
          "metadata": {},
          "execution_count": 2
        }
      ]
    },
    {
      "cell_type": "code",
      "source": [
        "# sample size\n",
        "len(data)"
      ],
      "metadata": {
        "colab": {
          "base_uri": "https://localhost:8080/"
        },
        "id": "y4NsWI4jTzyT",
        "outputId": "fdbd8c03-d889-4481-e263-c444be8a16a8"
      },
      "execution_count": 4,
      "outputs": [
        {
          "output_type": "execute_result",
          "data": {
            "text/plain": [
              "891"
            ]
          },
          "metadata": {},
          "execution_count": 4
        }
      ]
    },
    {
      "cell_type": "code",
      "source": [
        "# drop unnecessary columns\n",
        "data.drop(labels = ['PassengerId', 'Name', 'Ticket', 'Cabin'], axis= 1, inplace= True)\n",
        "data.head()"
      ],
      "metadata": {
        "colab": {
          "base_uri": "https://localhost:8080/",
          "height": 206
        },
        "id": "vj0s6R_X3yqj",
        "outputId": "11fe97d4-6e8a-4a37-9fea-892135ce142e"
      },
      "execution_count": 6,
      "outputs": [
        {
          "output_type": "execute_result",
          "data": {
            "text/plain": [
              "   Survived  Pclass     Sex   Age  SibSp  Parch     Fare Embarked\n",
              "0         0       3    male  22.0      1      0   7.2500        S\n",
              "1         1       1  female  38.0      1      0  71.2833        C\n",
              "2         1       3  female  26.0      0      0   7.9250        S\n",
              "3         1       1  female  35.0      1      0  53.1000        S\n",
              "4         0       3    male  35.0      0      0   8.0500        S"
            ],
            "text/html": [
              "\n",
              "  <div id=\"df-12193438-3bb9-438e-8ab3-17ee1f642cac\">\n",
              "    <div class=\"colab-df-container\">\n",
              "      <div>\n",
              "<style scoped>\n",
              "    .dataframe tbody tr th:only-of-type {\n",
              "        vertical-align: middle;\n",
              "    }\n",
              "\n",
              "    .dataframe tbody tr th {\n",
              "        vertical-align: top;\n",
              "    }\n",
              "\n",
              "    .dataframe thead th {\n",
              "        text-align: right;\n",
              "    }\n",
              "</style>\n",
              "<table border=\"1\" class=\"dataframe\">\n",
              "  <thead>\n",
              "    <tr style=\"text-align: right;\">\n",
              "      <th></th>\n",
              "      <th>Survived</th>\n",
              "      <th>Pclass</th>\n",
              "      <th>Sex</th>\n",
              "      <th>Age</th>\n",
              "      <th>SibSp</th>\n",
              "      <th>Parch</th>\n",
              "      <th>Fare</th>\n",
              "      <th>Embarked</th>\n",
              "    </tr>\n",
              "  </thead>\n",
              "  <tbody>\n",
              "    <tr>\n",
              "      <th>0</th>\n",
              "      <td>0</td>\n",
              "      <td>3</td>\n",
              "      <td>male</td>\n",
              "      <td>22.0</td>\n",
              "      <td>1</td>\n",
              "      <td>0</td>\n",
              "      <td>7.2500</td>\n",
              "      <td>S</td>\n",
              "    </tr>\n",
              "    <tr>\n",
              "      <th>1</th>\n",
              "      <td>1</td>\n",
              "      <td>1</td>\n",
              "      <td>female</td>\n",
              "      <td>38.0</td>\n",
              "      <td>1</td>\n",
              "      <td>0</td>\n",
              "      <td>71.2833</td>\n",
              "      <td>C</td>\n",
              "    </tr>\n",
              "    <tr>\n",
              "      <th>2</th>\n",
              "      <td>1</td>\n",
              "      <td>3</td>\n",
              "      <td>female</td>\n",
              "      <td>26.0</td>\n",
              "      <td>0</td>\n",
              "      <td>0</td>\n",
              "      <td>7.9250</td>\n",
              "      <td>S</td>\n",
              "    </tr>\n",
              "    <tr>\n",
              "      <th>3</th>\n",
              "      <td>1</td>\n",
              "      <td>1</td>\n",
              "      <td>female</td>\n",
              "      <td>35.0</td>\n",
              "      <td>1</td>\n",
              "      <td>0</td>\n",
              "      <td>53.1000</td>\n",
              "      <td>S</td>\n",
              "    </tr>\n",
              "    <tr>\n",
              "      <th>4</th>\n",
              "      <td>0</td>\n",
              "      <td>3</td>\n",
              "      <td>male</td>\n",
              "      <td>35.0</td>\n",
              "      <td>0</td>\n",
              "      <td>0</td>\n",
              "      <td>8.0500</td>\n",
              "      <td>S</td>\n",
              "    </tr>\n",
              "  </tbody>\n",
              "</table>\n",
              "</div>\n",
              "      <button class=\"colab-df-convert\" onclick=\"convertToInteractive('df-12193438-3bb9-438e-8ab3-17ee1f642cac')\"\n",
              "              title=\"Convert this dataframe to an interactive table.\"\n",
              "              style=\"display:none;\">\n",
              "        \n",
              "  <svg xmlns=\"http://www.w3.org/2000/svg\" height=\"24px\"viewBox=\"0 0 24 24\"\n",
              "       width=\"24px\">\n",
              "    <path d=\"M0 0h24v24H0V0z\" fill=\"none\"/>\n",
              "    <path d=\"M18.56 5.44l.94 2.06.94-2.06 2.06-.94-2.06-.94-.94-2.06-.94 2.06-2.06.94zm-11 1L8.5 8.5l.94-2.06 2.06-.94-2.06-.94L8.5 2.5l-.94 2.06-2.06.94zm10 10l.94 2.06.94-2.06 2.06-.94-2.06-.94-.94-2.06-.94 2.06-2.06.94z\"/><path d=\"M17.41 7.96l-1.37-1.37c-.4-.4-.92-.59-1.43-.59-.52 0-1.04.2-1.43.59L10.3 9.45l-7.72 7.72c-.78.78-.78 2.05 0 2.83L4 21.41c.39.39.9.59 1.41.59.51 0 1.02-.2 1.41-.59l7.78-7.78 2.81-2.81c.8-.78.8-2.07 0-2.86zM5.41 20L4 18.59l7.72-7.72 1.47 1.35L5.41 20z\"/>\n",
              "  </svg>\n",
              "      </button>\n",
              "      \n",
              "  <style>\n",
              "    .colab-df-container {\n",
              "      display:flex;\n",
              "      flex-wrap:wrap;\n",
              "      gap: 12px;\n",
              "    }\n",
              "\n",
              "    .colab-df-convert {\n",
              "      background-color: #E8F0FE;\n",
              "      border: none;\n",
              "      border-radius: 50%;\n",
              "      cursor: pointer;\n",
              "      display: none;\n",
              "      fill: #1967D2;\n",
              "      height: 32px;\n",
              "      padding: 0 0 0 0;\n",
              "      width: 32px;\n",
              "    }\n",
              "\n",
              "    .colab-df-convert:hover {\n",
              "      background-color: #E2EBFA;\n",
              "      box-shadow: 0px 1px 2px rgba(60, 64, 67, 0.3), 0px 1px 3px 1px rgba(60, 64, 67, 0.15);\n",
              "      fill: #174EA6;\n",
              "    }\n",
              "\n",
              "    [theme=dark] .colab-df-convert {\n",
              "      background-color: #3B4455;\n",
              "      fill: #D2E3FC;\n",
              "    }\n",
              "\n",
              "    [theme=dark] .colab-df-convert:hover {\n",
              "      background-color: #434B5C;\n",
              "      box-shadow: 0px 1px 3px 1px rgba(0, 0, 0, 0.15);\n",
              "      filter: drop-shadow(0px 1px 2px rgba(0, 0, 0, 0.3));\n",
              "      fill: #FFFFFF;\n",
              "    }\n",
              "  </style>\n",
              "\n",
              "      <script>\n",
              "        const buttonEl =\n",
              "          document.querySelector('#df-12193438-3bb9-438e-8ab3-17ee1f642cac button.colab-df-convert');\n",
              "        buttonEl.style.display =\n",
              "          google.colab.kernel.accessAllowed ? 'block' : 'none';\n",
              "\n",
              "        async function convertToInteractive(key) {\n",
              "          const element = document.querySelector('#df-12193438-3bb9-438e-8ab3-17ee1f642cac');\n",
              "          const dataTable =\n",
              "            await google.colab.kernel.invokeFunction('convertToInteractive',\n",
              "                                                     [key], {});\n",
              "          if (!dataTable) return;\n",
              "\n",
              "          const docLinkHtml = 'Like what you see? Visit the ' +\n",
              "            '<a target=\"_blank\" href=https://colab.research.google.com/notebooks/data_table.ipynb>data table notebook</a>'\n",
              "            + ' to learn more about interactive tables.';\n",
              "          element.innerHTML = '';\n",
              "          dataTable['output_type'] = 'display_data';\n",
              "          await google.colab.output.renderOutput(dataTable, element);\n",
              "          const docLink = document.createElement('div');\n",
              "          docLink.innerHTML = docLinkHtml;\n",
              "          element.appendChild(docLink);\n",
              "        }\n",
              "      </script>\n",
              "    </div>\n",
              "  </div>\n",
              "  "
            ]
          },
          "metadata": {},
          "execution_count": 6
        }
      ]
    },
    {
      "cell_type": "code",
      "source": [
        "# Check for any missing values\n",
        "data.info()"
      ],
      "metadata": {
        "id": "TpKwsAbYx49T",
        "colab": {
          "base_uri": "https://localhost:8080/"
        },
        "outputId": "32ab2bda-e3a5-40e5-87ca-614c835dd8f5"
      },
      "execution_count": 7,
      "outputs": [
        {
          "output_type": "stream",
          "name": "stdout",
          "text": [
            "<class 'pandas.core.frame.DataFrame'>\n",
            "RangeIndex: 891 entries, 0 to 890\n",
            "Data columns (total 8 columns):\n",
            " #   Column    Non-Null Count  Dtype  \n",
            "---  ------    --------------  -----  \n",
            " 0   Survived  891 non-null    int64  \n",
            " 1   Pclass    891 non-null    int64  \n",
            " 2   Sex       891 non-null    object \n",
            " 3   Age       714 non-null    float64\n",
            " 4   SibSp     891 non-null    int64  \n",
            " 5   Parch     891 non-null    int64  \n",
            " 6   Fare      891 non-null    float64\n",
            " 7   Embarked  889 non-null    object \n",
            "dtypes: float64(2), int64(4), object(2)\n",
            "memory usage: 55.8+ KB\n"
          ]
        }
      ]
    },
    {
      "cell_type": "code",
      "source": [
        "# impute missing data in Age with mean, or median\n",
        "mean = data.Age.mean()\n",
        "median = data.Age.median()\n",
        "data.Age.fillna(mean, inplace=True)\n",
        "# data['Age']\n",
        "\n",
        "# impute missing values in Embark with the value with highest frequency\n",
        "print('The most common boarding port of embarkation is %s.' %data['Embarked'].value_counts().idxmax())\n",
        "data[\"Embarked\"].fillna(data['Embarked'].value_counts().idxmax(), inplace=True)"
      ],
      "metadata": {
        "colab": {
          "base_uri": "https://localhost:8080/"
        },
        "id": "Om5oi-476ytA",
        "outputId": "4adb75c2-ab77-403c-ac50-e1383fc4b323"
      },
      "execution_count": 8,
      "outputs": [
        {
          "output_type": "stream",
          "name": "stdout",
          "text": [
            "The most common boarding port of embarkation is S.\n"
          ]
        }
      ]
    },
    {
      "cell_type": "code",
      "source": [
        "# check to make sure that there is no missing value\n",
        "data.info()"
      ],
      "metadata": {
        "colab": {
          "base_uri": "https://localhost:8080/"
        },
        "id": "CoYTFKBq8AiT",
        "outputId": "303a9a8f-7fa2-4c2e-8b44-562f3e97eca1"
      },
      "execution_count": 9,
      "outputs": [
        {
          "output_type": "stream",
          "name": "stdout",
          "text": [
            "<class 'pandas.core.frame.DataFrame'>\n",
            "RangeIndex: 891 entries, 0 to 890\n",
            "Data columns (total 8 columns):\n",
            " #   Column    Non-Null Count  Dtype  \n",
            "---  ------    --------------  -----  \n",
            " 0   Survived  891 non-null    int64  \n",
            " 1   Pclass    891 non-null    int64  \n",
            " 2   Sex       891 non-null    object \n",
            " 3   Age       891 non-null    float64\n",
            " 4   SibSp     891 non-null    int64  \n",
            " 5   Parch     891 non-null    int64  \n",
            " 6   Fare      891 non-null    float64\n",
            " 7   Embarked  891 non-null    object \n",
            "dtypes: float64(2), int64(4), object(2)\n",
            "memory usage: 55.8+ KB\n"
          ]
        }
      ]
    },
    {
      "cell_type": "code",
      "source": [
        "dummies = ['Sex','Embarked']\n",
        "dummy_data = pd.get_dummies(data[dummies], drop_first=True)\n",
        "Pclass = pd.get_dummies(data[\"Pclass\"],drop_first=True)\n",
        "data = pd.concat([data, dummy_data, Pclass], axis = 1)\n",
        "data.drop(dummies, axis=1, inplace=True)\n",
        "data.drop(['Pclass'], axis=1, inplace=True)\n",
        "data.head()"
      ],
      "metadata": {
        "id": "oA3qSrqx9iXz",
        "colab": {
          "base_uri": "https://localhost:8080/",
          "height": 206
        },
        "outputId": "e358d854-e135-46c1-c429-b5b9560f33d8"
      },
      "execution_count": 10,
      "outputs": [
        {
          "output_type": "execute_result",
          "data": {
            "text/plain": [
              "   Survived   Age  SibSp  Parch     Fare  Sex_male  Embarked_Q  Embarked_S  2  \\\n",
              "0         0  22.0      1      0   7.2500         1           0           1  0   \n",
              "1         1  38.0      1      0  71.2833         0           0           0  0   \n",
              "2         1  26.0      0      0   7.9250         0           0           1  0   \n",
              "3         1  35.0      1      0  53.1000         0           0           1  0   \n",
              "4         0  35.0      0      0   8.0500         1           0           1  0   \n",
              "\n",
              "   3  \n",
              "0  1  \n",
              "1  0  \n",
              "2  1  \n",
              "3  0  \n",
              "4  1  "
            ],
            "text/html": [
              "\n",
              "  <div id=\"df-b92a12f9-923a-4bf1-bfc5-8bb63e40410b\">\n",
              "    <div class=\"colab-df-container\">\n",
              "      <div>\n",
              "<style scoped>\n",
              "    .dataframe tbody tr th:only-of-type {\n",
              "        vertical-align: middle;\n",
              "    }\n",
              "\n",
              "    .dataframe tbody tr th {\n",
              "        vertical-align: top;\n",
              "    }\n",
              "\n",
              "    .dataframe thead th {\n",
              "        text-align: right;\n",
              "    }\n",
              "</style>\n",
              "<table border=\"1\" class=\"dataframe\">\n",
              "  <thead>\n",
              "    <tr style=\"text-align: right;\">\n",
              "      <th></th>\n",
              "      <th>Survived</th>\n",
              "      <th>Age</th>\n",
              "      <th>SibSp</th>\n",
              "      <th>Parch</th>\n",
              "      <th>Fare</th>\n",
              "      <th>Sex_male</th>\n",
              "      <th>Embarked_Q</th>\n",
              "      <th>Embarked_S</th>\n",
              "      <th>2</th>\n",
              "      <th>3</th>\n",
              "    </tr>\n",
              "  </thead>\n",
              "  <tbody>\n",
              "    <tr>\n",
              "      <th>0</th>\n",
              "      <td>0</td>\n",
              "      <td>22.0</td>\n",
              "      <td>1</td>\n",
              "      <td>0</td>\n",
              "      <td>7.2500</td>\n",
              "      <td>1</td>\n",
              "      <td>0</td>\n",
              "      <td>1</td>\n",
              "      <td>0</td>\n",
              "      <td>1</td>\n",
              "    </tr>\n",
              "    <tr>\n",
              "      <th>1</th>\n",
              "      <td>1</td>\n",
              "      <td>38.0</td>\n",
              "      <td>1</td>\n",
              "      <td>0</td>\n",
              "      <td>71.2833</td>\n",
              "      <td>0</td>\n",
              "      <td>0</td>\n",
              "      <td>0</td>\n",
              "      <td>0</td>\n",
              "      <td>0</td>\n",
              "    </tr>\n",
              "    <tr>\n",
              "      <th>2</th>\n",
              "      <td>1</td>\n",
              "      <td>26.0</td>\n",
              "      <td>0</td>\n",
              "      <td>0</td>\n",
              "      <td>7.9250</td>\n",
              "      <td>0</td>\n",
              "      <td>0</td>\n",
              "      <td>1</td>\n",
              "      <td>0</td>\n",
              "      <td>1</td>\n",
              "    </tr>\n",
              "    <tr>\n",
              "      <th>3</th>\n",
              "      <td>1</td>\n",
              "      <td>35.0</td>\n",
              "      <td>1</td>\n",
              "      <td>0</td>\n",
              "      <td>53.1000</td>\n",
              "      <td>0</td>\n",
              "      <td>0</td>\n",
              "      <td>1</td>\n",
              "      <td>0</td>\n",
              "      <td>0</td>\n",
              "    </tr>\n",
              "    <tr>\n",
              "      <th>4</th>\n",
              "      <td>0</td>\n",
              "      <td>35.0</td>\n",
              "      <td>0</td>\n",
              "      <td>0</td>\n",
              "      <td>8.0500</td>\n",
              "      <td>1</td>\n",
              "      <td>0</td>\n",
              "      <td>1</td>\n",
              "      <td>0</td>\n",
              "      <td>1</td>\n",
              "    </tr>\n",
              "  </tbody>\n",
              "</table>\n",
              "</div>\n",
              "      <button class=\"colab-df-convert\" onclick=\"convertToInteractive('df-b92a12f9-923a-4bf1-bfc5-8bb63e40410b')\"\n",
              "              title=\"Convert this dataframe to an interactive table.\"\n",
              "              style=\"display:none;\">\n",
              "        \n",
              "  <svg xmlns=\"http://www.w3.org/2000/svg\" height=\"24px\"viewBox=\"0 0 24 24\"\n",
              "       width=\"24px\">\n",
              "    <path d=\"M0 0h24v24H0V0z\" fill=\"none\"/>\n",
              "    <path d=\"M18.56 5.44l.94 2.06.94-2.06 2.06-.94-2.06-.94-.94-2.06-.94 2.06-2.06.94zm-11 1L8.5 8.5l.94-2.06 2.06-.94-2.06-.94L8.5 2.5l-.94 2.06-2.06.94zm10 10l.94 2.06.94-2.06 2.06-.94-2.06-.94-.94-2.06-.94 2.06-2.06.94z\"/><path d=\"M17.41 7.96l-1.37-1.37c-.4-.4-.92-.59-1.43-.59-.52 0-1.04.2-1.43.59L10.3 9.45l-7.72 7.72c-.78.78-.78 2.05 0 2.83L4 21.41c.39.39.9.59 1.41.59.51 0 1.02-.2 1.41-.59l7.78-7.78 2.81-2.81c.8-.78.8-2.07 0-2.86zM5.41 20L4 18.59l7.72-7.72 1.47 1.35L5.41 20z\"/>\n",
              "  </svg>\n",
              "      </button>\n",
              "      \n",
              "  <style>\n",
              "    .colab-df-container {\n",
              "      display:flex;\n",
              "      flex-wrap:wrap;\n",
              "      gap: 12px;\n",
              "    }\n",
              "\n",
              "    .colab-df-convert {\n",
              "      background-color: #E8F0FE;\n",
              "      border: none;\n",
              "      border-radius: 50%;\n",
              "      cursor: pointer;\n",
              "      display: none;\n",
              "      fill: #1967D2;\n",
              "      height: 32px;\n",
              "      padding: 0 0 0 0;\n",
              "      width: 32px;\n",
              "    }\n",
              "\n",
              "    .colab-df-convert:hover {\n",
              "      background-color: #E2EBFA;\n",
              "      box-shadow: 0px 1px 2px rgba(60, 64, 67, 0.3), 0px 1px 3px 1px rgba(60, 64, 67, 0.15);\n",
              "      fill: #174EA6;\n",
              "    }\n",
              "\n",
              "    [theme=dark] .colab-df-convert {\n",
              "      background-color: #3B4455;\n",
              "      fill: #D2E3FC;\n",
              "    }\n",
              "\n",
              "    [theme=dark] .colab-df-convert:hover {\n",
              "      background-color: #434B5C;\n",
              "      box-shadow: 0px 1px 3px 1px rgba(0, 0, 0, 0.15);\n",
              "      filter: drop-shadow(0px 1px 2px rgba(0, 0, 0, 0.3));\n",
              "      fill: #FFFFFF;\n",
              "    }\n",
              "  </style>\n",
              "\n",
              "      <script>\n",
              "        const buttonEl =\n",
              "          document.querySelector('#df-b92a12f9-923a-4bf1-bfc5-8bb63e40410b button.colab-df-convert');\n",
              "        buttonEl.style.display =\n",
              "          google.colab.kernel.accessAllowed ? 'block' : 'none';\n",
              "\n",
              "        async function convertToInteractive(key) {\n",
              "          const element = document.querySelector('#df-b92a12f9-923a-4bf1-bfc5-8bb63e40410b');\n",
              "          const dataTable =\n",
              "            await google.colab.kernel.invokeFunction('convertToInteractive',\n",
              "                                                     [key], {});\n",
              "          if (!dataTable) return;\n",
              "\n",
              "          const docLinkHtml = 'Like what you see? Visit the ' +\n",
              "            '<a target=\"_blank\" href=https://colab.research.google.com/notebooks/data_table.ipynb>data table notebook</a>'\n",
              "            + ' to learn more about interactive tables.';\n",
              "          element.innerHTML = '';\n",
              "          dataTable['output_type'] = 'display_data';\n",
              "          await google.colab.output.renderOutput(dataTable, element);\n",
              "          const docLink = document.createElement('div');\n",
              "          docLink.innerHTML = docLinkHtml;\n",
              "          element.appendChild(docLink);\n",
              "        }\n",
              "      </script>\n",
              "    </div>\n",
              "  </div>\n",
              "  "
            ]
          },
          "metadata": {},
          "execution_count": 10
        }
      ]
    },
    {
      "cell_type": "code",
      "source": [
        "# check the frequency of each class\n",
        "plt.hist(data[\"Survived\"], bins=3)"
      ],
      "metadata": {
        "colab": {
          "base_uri": "https://localhost:8080/",
          "height": 317
        },
        "id": "3nKxfl7w8TW_",
        "outputId": "0001dcd4-692c-404c-c5e9-2a31daaef32c"
      },
      "execution_count": 11,
      "outputs": [
        {
          "output_type": "execute_result",
          "data": {
            "text/plain": [
              "(array([549.,   0., 342.]),\n",
              " array([0.        , 0.33333333, 0.66666667, 1.        ]),\n",
              " <a list of 3 Patch objects>)"
            ]
          },
          "metadata": {},
          "execution_count": 11
        },
        {
          "output_type": "display_data",
          "data": {
            "text/plain": [
              "<Figure size 432x288 with 1 Axes>"
            ],
            "image/png": "[encoded data removed]"
          },
          "metadata": {
            "needs_background": "light"
          }
        }
      ]
    },
    {
      "cell_type": "markdown",
      "source": [
        "###Randomly split the data into train and test subsets"
      ],
      "metadata": {
        "id": "M6xEmdZUx49U"
      }
    },
    {
      "cell_type": "code",
      "source": [
        "from sklearn.model_selection import train_test_split\n",
        "\n",
        "X = data.iloc[:, 1:] # predictors\n",
        "y = data[\"Survived\"] # target\n",
        "\n",
        "print(f\"Shape of dataset: {data.shape}\")\n",
        "print(f\"Shape of X: {X.shape}\")\n",
        "print(f\"Shape of y: {y.shape}\")\n",
        "\n",
        "X_train, X_test, y_train, y_test = train_test_split(X, y, test_size = 0.25, random_state = 123)\n",
        "print(f\"Shape of X_train: {X_train.shape}\") "
      ],
      "metadata": {
        "id": "NURtEmyfx49U",
        "colab": {
          "base_uri": "https://localhost:8080/"
        },
        "outputId": "1e11ee7a-a8d5-49cf-d79f-67100f762471"
      },
      "execution_count": 12,
      "outputs": [
        {
          "output_type": "stream",
          "name": "stdout",
          "text": [
            "Shape of dataset: (891, 10)\n",
            "Shape of X: (891, 9)\n",
            "Shape of y: (891,)\n",
            "Shape of X_train: (668, 9)\n"
          ]
        }
      ]
    },
    {
      "cell_type": "markdown",
      "source": [
        "###Train logistic regression classifier:\n",
        "\n",
        "Logit Equation:   $log odds = β_{0} + \\beta_{1} X_{1} + ...+ \\beta_{k} X_{k}$\n",
        "\n",
        "Logistic Regression Equation: \n",
        "## $ p = \\frac{1}{1+ e^{-(β_{0} + \\beta_{1} X_{1} + ...+ \\beta_{k} X_{k})}}$"
      ],
      "metadata": {
        "id": "iENXZnB4x49V"
      }
    },
    {
      "cell_type": "code",
      "source": [
        "# create linear regression object\n",
        "logistic_reg = linear_model.LogisticRegression()\n",
        "# fit the linear regression model to your training data\n",
        "logistic_reg.fit(X_train, y_train)\n",
        "print(f\"intercept:{logistic_reg.intercept_}\\n\")\n",
        "print(f\"Estiamted coefficients:{logistic_reg.coef_}\")"
      ],
      "metadata": {
        "colab": {
          "base_uri": "https://localhost:8080/"
        },
        "outputId": "aa162424-66f7-4fe2-c1b9-ef7542fa356e",
        "id": "1Anqqlz7x49W"
      },
      "execution_count": 13,
      "outputs": [
        {
          "output_type": "stream",
          "name": "stdout",
          "text": [
            "intercept:[3.65439288]\n",
            "\n",
            "Estiamted coefficients:[[-0.03861835 -0.34835268 -0.0320934   0.00327954 -2.53548487  0.18527678\n",
            "  -0.21036403 -0.94215821 -1.89593868]]\n"
          ]
        },
        {
          "output_type": "stream",
          "name": "stderr",
          "text": [
            "/usr/local/lib/python3.7/dist-packages/sklearn/utils/validation.py:1692: FutureWarning: Feature names only support names that are all strings. Got feature names with dtypes: ['int', 'str']. An error will be raised in 1.2.\n",
            "  FutureWarning,\n",
            "/usr/local/lib/python3.7/dist-packages/sklearn/linear_model/_logistic.py:818: ConvergenceWarning: lbfgs failed to converge (status=1):\n",
            "STOP: TOTAL NO. of ITERATIONS REACHED LIMIT.\n",
            "\n",
            "Increase the number of iterations (max_iter) or scale the data as shown in:\n",
            "    https://scikit-learn.org/stable/modules/preprocessing.html\n",
            "Please also refer to the documentation for alternative solver options:\n",
            "    https://scikit-learn.org/stable/modules/linear_model.html#logistic-regression\n",
            "  extra_warning_msg=_LOGISTIC_SOLVER_CONVERGENCE_MSG,\n"
          ]
        }
      ]
    },
    {
      "cell_type": "markdown",
      "source": [
        "###Test the prediction performance:\n",
        "\n",
        "![](https://drive.google.com/uc?export=view&id=1MAzhijNiex7OpXI8ZEwNjJ6005jmnGwT) ![](https://drive.google.com/uc?export=view&id=1xtpS0KAt9j5gqRL4ZB1k3n5dHxJG7fVq)"
      ],
      "metadata": {
        "id": "pzGF5Hzgx49W"
      }
    },
    {
      "cell_type": "code",
      "source": [
        "y_pred = logistic_reg.predict(X_test)\n",
        "print(y_pred)\n",
        "probalilities = logistic_reg.predict_proba(X_test)\n",
        "print(f\"Estiamted Probabilities:{probalilities}\")"
      ],
      "metadata": {
        "id": "hs9F4DpUx49X",
        "colab": {
          "base_uri": "https://localhost:8080/"
        },
        "outputId": "d51a4454-ed00-46c0-caaa-61d7e663513b"
      },
      "execution_count": 14,
      "outputs": [
        {
          "output_type": "stream",
          "name": "stdout",
          "text": [
            "[1 0 1 0 0 0 1 1 1 1 1 1 1 0 1 1 1 0 0 0 1 1 0 0 0 0 0 1 0 0 1 1 0 0 0 0 0\n",
            " 0 1 0 1 0 1 0 0 0 1 0 0 1 1 0 0 0 0 0 0 0 0 0 1 1 1 1 0 0 0 0 0 1 1 0 0 0\n",
            " 0 0 0 0 1 1 1 0 0 0 0 0 1 0 0 0 1 0 0 0 0 0 1 1 0 1 0 0 0 1 0 0 0 0 0 1 0\n",
            " 0 1 0 0 0 0 0 0 1 0 0 0 0 0 0 0 0 1 0 1 0 0 1 1 0 1 1 0 1 0 0 0 0 1 0 0 0\n",
            " 0 1 0 0 1 0 1 0 1 1 1 1 1 0 0 1 0 1 1 0 1 0 0 0 0 0 0 0 1 0 0 1 0 0 0 1 0\n",
            " 1 0 1 0 1 0 0 1 0 1 1 0 0 1 0 1 1 0 0 0 0 0 1 1 0 0 1 1 0 0 0 0 0 0 0 0 0\n",
            " 0]\n",
            "Estiamted Probabilities:[[0.23766249 0.76233751]\n",
            " [0.86992016 0.13007984]\n",
            " [0.48716162 0.51283838]\n",
            " [0.79204732 0.20795268]\n",
            " [0.89289656 0.10710344]\n",
            " [0.84874481 0.15125519]\n",
            " [0.26721681 0.73278319]\n",
            " [0.23510742 0.76489258]\n",
            " [0.25376467 0.74623533]\n",
            " [0.40880666 0.59119334]\n",
            " [0.36531543 0.63468457]\n",
            " [0.37926454 0.62073546]\n",
            " [0.20390481 0.79609519]\n",
            " [0.87069794 0.12930206]\n",
            " [0.13971738 0.86028262]\n",
            " [0.25657441 0.74342559]\n",
            " [0.13066983 0.86933017]\n",
            " [0.51859391 0.48140609]\n",
            " [0.63990748 0.36009252]\n",
            " [0.80737278 0.19262722]\n",
            " [0.4836246  0.5163754 ]\n",
            " [0.09842708 0.90157292]\n",
            " [0.81714091 0.18285909]\n",
            " [0.88856981 0.11143019]\n",
            " [0.91372414 0.08627586]\n",
            " [0.90403029 0.09596971]\n",
            " [0.85949522 0.14050478]\n",
            " [0.04712546 0.95287454]\n",
            " [0.84491317 0.15508683]\n",
            " [0.84725971 0.15274029]\n",
            " [0.38862214 0.61137786]\n",
            " [0.33079476 0.66920524]\n",
            " [0.78650808 0.21349192]\n",
            " [0.85890097 0.14109903]\n",
            " [0.73638937 0.26361063]\n",
            " [0.75771969 0.24228031]\n",
            " [0.92984278 0.07015722]\n",
            " [0.94938248 0.05061752]\n",
            " [0.16552724 0.83447276]\n",
            " [0.58033778 0.41966222]\n",
            " [0.05293129 0.94706871]\n",
            " [0.92754456 0.07245544]\n",
            " [0.42297468 0.57702532]\n",
            " [0.70128471 0.29871529]\n",
            " [0.828504   0.171496  ]\n",
            " [0.72240824 0.27759176]\n",
            " [0.14518369 0.85481631]\n",
            " [0.70914668 0.29085332]\n",
            " [0.85025989 0.14974011]\n",
            " [0.21216145 0.78783855]\n",
            " [0.34632518 0.65367482]\n",
            " [0.50966128 0.49033872]\n",
            " [0.8526193  0.1473807 ]\n",
            " [0.9099182  0.0900818 ]\n",
            " [0.71459782 0.28540218]\n",
            " [0.86992172 0.13007828]\n",
            " [0.94787786 0.05212214]\n",
            " [0.83982927 0.16017073]\n",
            " [0.584512   0.415488  ]\n",
            " [0.96008201 0.03991799]\n",
            " [0.11968525 0.88031475]\n",
            " [0.03366387 0.96633613]\n",
            " [0.38586028 0.61413972]\n",
            " [0.05360042 0.94639958]\n",
            " [0.86888252 0.13111748]\n",
            " [0.93299541 0.06700459]\n",
            " [0.863499   0.136501  ]\n",
            " [0.87234988 0.12765012]\n",
            " [0.53412715 0.46587285]\n",
            " [0.14294    0.85706   ]\n",
            " [0.15904145 0.84095855]\n",
            " [0.94744515 0.05255485]\n",
            " [0.53494312 0.46505688]\n",
            " [0.77208375 0.22791625]\n",
            " [0.85481565 0.14518435]\n",
            " [0.88521948 0.11478052]\n",
            " [0.96162371 0.03837629]\n",
            " [0.8550292  0.1449708 ]\n",
            " [0.08101827 0.91898173]\n",
            " [0.06663106 0.93336894]\n",
            " [0.43820232 0.56179768]\n",
            " [0.88444533 0.11555467]\n",
            " [0.93641141 0.06358859]\n",
            " [0.86992016 0.13007984]\n",
            " [0.86856619 0.13143381]\n",
            " [0.78035962 0.21964038]\n",
            " [0.15351756 0.84648244]\n",
            " [0.88319365 0.11680635]\n",
            " [0.53045307 0.46954693]\n",
            " [0.87321982 0.12678018]\n",
            " [0.29209389 0.70790611]\n",
            " [0.71600254 0.28399746]\n",
            " [0.88826016 0.11173984]\n",
            " [0.92113803 0.07886197]\n",
            " [0.56086219 0.43913781]\n",
            " [0.84501877 0.15498123]\n",
            " [0.04741353 0.95258647]\n",
            " [0.07329104 0.92670896]\n",
            " [0.90321061 0.09678939]\n",
            " [0.28195615 0.71804385]\n",
            " [0.91063073 0.08936927]\n",
            " [0.69288745 0.30711255]\n",
            " [0.6774789  0.3225211 ]\n",
            " [0.2309644  0.7690356 ]\n",
            " [0.84725971 0.15274029]\n",
            " [0.61454116 0.38545884]\n",
            " [0.87713819 0.12286181]\n",
            " [0.86458964 0.13541036]\n",
            " [0.9099182  0.0900818 ]\n",
            " [0.23971472 0.76028528]\n",
            " [0.50868605 0.49131395]\n",
            " [0.61064965 0.38935035]\n",
            " [0.06160894 0.93839106]\n",
            " [0.89986781 0.10013219]\n",
            " [0.87717795 0.12282205]\n",
            " [0.88036658 0.11963342]\n",
            " [0.78942867 0.21057133]\n",
            " [0.91545131 0.08454869]\n",
            " [0.83984947 0.16015053]\n",
            " [0.49985347 0.50014653]\n",
            " [0.84491317 0.15508683]\n",
            " [0.93223779 0.06776221]\n",
            " [0.65185786 0.34814214]\n",
            " [0.84695886 0.15304114]\n",
            " [0.72929361 0.27070639]\n",
            " [0.76046626 0.23953374]\n",
            " [0.62236568 0.37763432]\n",
            " [0.52481321 0.47518679]\n",
            " [0.30530203 0.69469797]\n",
            " [0.84992379 0.15007621]\n",
            " [0.10781688 0.89218312]\n",
            " [0.88903546 0.11096454]\n",
            " [0.87300182 0.12699818]\n",
            " [0.40923409 0.59076591]\n",
            " [0.15770767 0.84229233]\n",
            " [0.83983844 0.16016156]\n",
            " [0.07563864 0.92436136]\n",
            " [0.4779407  0.5220593 ]\n",
            " [0.89167108 0.10832892]\n",
            " [0.2788092  0.7211908 ]\n",
            " [0.95591418 0.04408582]\n",
            " [0.50421319 0.49578681]\n",
            " [0.85696163 0.14303837]\n",
            " [0.59498744 0.40501256]\n",
            " [0.28910763 0.71089237]\n",
            " [0.88468384 0.11531616]\n",
            " [0.94783469 0.05216531]\n",
            " [0.88471943 0.11528057]\n",
            " [0.88097346 0.11902654]\n",
            " [0.04950899 0.95049101]\n",
            " [0.71809712 0.28190288]\n",
            " [0.95539745 0.04460255]\n",
            " [0.33495499 0.66504501]\n",
            " [0.82917475 0.17082525]\n",
            " [0.07838538 0.92161462]\n",
            " [0.86992016 0.13007984]\n",
            " [0.21564359 0.78435641]\n",
            " [0.19846583 0.80153417]\n",
            " [0.28444183 0.71555817]\n",
            " [0.16290564 0.83709436]\n",
            " [0.26898649 0.73101351]\n",
            " [0.63621028 0.36378972]\n",
            " [0.50327001 0.49672999]\n",
            " [0.07155502 0.92844498]\n",
            " [0.55931606 0.44068394]\n",
            " [0.06049989 0.93950011]\n",
            " [0.48818309 0.51181691]\n",
            " [0.84992379 0.15007621]\n",
            " [0.30529334 0.69470666]\n",
            " [0.92173094 0.07826906]\n",
            " [0.86409447 0.13590553]\n",
            " [0.53086147 0.46913853]\n",
            " [0.64393239 0.35606761]\n",
            " [0.73861774 0.26138226]\n",
            " [0.84726854 0.15273146]\n",
            " [0.93695698 0.06304302]\n",
            " [0.45132928 0.54867072]\n",
            " [0.86992172 0.13007828]\n",
            " [0.73762786 0.26237214]\n",
            " [0.0393713  0.9606287 ]\n",
            " [0.85364824 0.14635176]\n",
            " [0.9248726  0.0751274 ]\n",
            " [0.79856949 0.20143051]\n",
            " [0.3997808  0.6002192 ]\n",
            " [0.88070614 0.11929386]\n",
            " [0.08946371 0.91053629]\n",
            " [0.64955247 0.35044753]\n",
            " [0.0696476  0.9303524 ]\n",
            " [0.85454751 0.14545249]\n",
            " [0.2056744  0.7943256 ]\n",
            " [0.6754474  0.3245526 ]\n",
            " [0.89192425 0.10807575]\n",
            " [0.22194769 0.77805231]\n",
            " [0.82236975 0.17763025]\n",
            " [0.31189221 0.68810779]\n",
            " [0.42093592 0.57906408]\n",
            " [0.90684507 0.09315493]\n",
            " [0.52936302 0.47063698]\n",
            " [0.10957621 0.89042379]\n",
            " [0.89175817 0.10824183]\n",
            " [0.05101585 0.94898415]\n",
            " [0.30529334 0.69470666]\n",
            " [0.70877166 0.29122834]\n",
            " [0.80198097 0.19801903]\n",
            " [0.65389166 0.34610834]\n",
            " [0.84491317 0.15508683]\n",
            " [0.84725971 0.15274029]\n",
            " [0.16944207 0.83055793]\n",
            " [0.38014184 0.61985816]\n",
            " [0.92962585 0.07037415]\n",
            " [0.8885709  0.1114291 ]\n",
            " [0.18167542 0.81832458]\n",
            " [0.39551219 0.60448781]\n",
            " [0.91018665 0.08981335]\n",
            " [0.89462262 0.10537738]\n",
            " [0.86992016 0.13007984]\n",
            " [0.78650808 0.21349192]\n",
            " [0.88161741 0.11838259]\n",
            " [0.90503011 0.09496989]\n",
            " [0.84797351 0.15202649]\n",
            " [0.89171992 0.10828008]\n",
            " [0.78899855 0.21100145]\n",
            " [0.87122938 0.12877062]]\n"
          ]
        },
        {
          "output_type": "stream",
          "name": "stderr",
          "text": [
            "/usr/local/lib/python3.7/dist-packages/sklearn/utils/validation.py:1692: FutureWarning: Feature names only support names that are all strings. Got feature names with dtypes: ['int', 'str']. An error will be raised in 1.2.\n",
            "  FutureWarning,\n",
            "/usr/local/lib/python3.7/dist-packages/sklearn/utils/validation.py:1692: FutureWarning: Feature names only support names that are all strings. Got feature names with dtypes: ['int', 'str']. An error will be raised in 1.2.\n",
            "  FutureWarning,\n"
          ]
        }
      ]
    },
    {
      "cell_type": "markdown",
      "source": [
        "The `roc_auc_score` function requires the true binary value and the target scores, which can either be probability estimates of the positive class, confidence values, or binary decisions."
      ],
      "metadata": {
        "id": "zZb5b5GpFfvj"
      }
    },
    {
      "cell_type": "code",
      "source": [
        "# using sklearn metrics\n",
        "acc = metrics.accuracy_score(y_test, y_pred)\n",
        "print(f\"Test Accuracy: {acc}\\n\") \n",
        "\n",
        "auc = metrics.roc_auc_score(y_test, probalilities[:, 1])\n",
        "print(f\"Test Area Under ROC curve (AUC): {auc}\\n\") \n",
        "\n",
        "confusion_mat = metrics.confusion_matrix(y_test, y_pred)\n",
        "confusion_mat"
      ],
      "metadata": {
        "colab": {
          "base_uri": "https://localhost:8080/"
        },
        "id": "Rad9y-Ga_IC4",
        "outputId": "c3c3d9aa-0d26-48c6-c5c9-1edf49fe67d3"
      },
      "execution_count": 16,
      "outputs": [
        {
          "output_type": "stream",
          "name": "stdout",
          "text": [
            "Test Accuracy: 0.7982062780269058\n",
            "\n",
            "Test Area Under ROC curve (AUC): 0.8576139088729017\n",
            "\n"
          ]
        },
        {
          "output_type": "execute_result",
          "data": {
            "text/plain": [
              "array([[120,  19],\n",
              "       [ 26,  58]])"
            ]
          },
          "metadata": {},
          "execution_count": 16
        }
      ]
    },
    {
      "cell_type": "markdown",
      "source": [
        "Find TP, TN, FP, and FN to calculate Sensitivity, Specificity, and Precision:"
      ],
      "metadata": {
        "id": "HcftDXqS_xYk"
      }
    },
    {
      "cell_type": "code",
      "source": [
        "tn, fp, fn, tp = confusion_mat.ravel()\n",
        "fp"
      ],
      "metadata": {
        "colab": {
          "base_uri": "https://localhost:8080/"
        },
        "id": "4Is9tuSi_nY4",
        "outputId": "b644823b-72a1-4db6-b4b2-4bde8457e9c7"
      },
      "execution_count": 18,
      "outputs": [
        {
          "output_type": "execute_result",
          "data": {
            "text/plain": [
              "19"
            ]
          },
          "metadata": {},
          "execution_count": 18
        }
      ]
    },
    {
      "cell_type": "markdown",
      "source": [
        "Plot the ROC curve:"
      ],
      "metadata": {
        "id": "X5nBKMg4x49Y"
      }
    },
    {
      "cell_type": "code",
      "source": [
        "metrics.plot_roc_curve(logistic_reg, X_test, y_test)"
      ],
      "metadata": {
        "colab": {
          "base_uri": "https://localhost:8080/",
          "height": 386
        },
        "outputId": "fa2e8eb8-40ae-4a53-a715-0dffaec4bd2e",
        "id": "ZAMOqUCpx49Y"
      },
      "execution_count": 19,
      "outputs": [
        {
          "output_type": "stream",
          "name": "stderr",
          "text": [
            "/usr/local/lib/python3.7/dist-packages/sklearn/utils/deprecation.py:87: FutureWarning: Function plot_roc_curve is deprecated; Function :func:`plot_roc_curve` is deprecated in 1.0 and will be removed in 1.2. Use one of the class methods: :meth:`sklearn.metric.RocCurveDisplay.from_predictions` or :meth:`sklearn.metric.RocCurveDisplay.from_estimator`.\n",
            "  warnings.warn(msg, category=FutureWarning)\n",
            "/usr/local/lib/python3.7/dist-packages/sklearn/utils/validation.py:1692: FutureWarning: Feature names only support names that are all strings. Got feature names with dtypes: ['int', 'str']. An error will be raised in 1.2.\n",
            "  FutureWarning,\n"
          ]
        },
        {
          "output_type": "execute_result",
          "data": {
            "text/plain": [
              "<sklearn.metrics._plot.roc_curve.RocCurveDisplay at 0x7ff1898f1110>"
            ]
          },
          "metadata": {},
          "execution_count": 19
        },
        {
          "output_type": "display_data",
          "data": {
            "text/plain": [
              "<Figure size 432x288 with 1 Axes>"
            ],
            "image/png": "[encoded data removed]"
          },
          "metadata": {
            "needs_background": "light"
          }
        }
      ]
    },
    {
      "cell_type": "markdown",
      "source": [
        "Cumulative Gain Plot:"
      ],
      "metadata": {
        "id": "u2LsvK_uDf2w"
      }
    },
    {
      "cell_type": "code",
      "source": [
        "!pip install kds\n",
        "import kds\n",
        "\n",
        "kds.metrics.plot_cumulative_gain(y_test, probalilities[:,1])\n",
        "plt.show()"
      ],
      "metadata": {
        "colab": {
          "base_uri": "https://localhost:8080/",
          "height": 559
        },
        "id": "01B_3D_BDec4",
        "outputId": "2b6b23df-3fa6-4982-efd2-2381074bf7c0"
      },
      "execution_count": 20,
      "outputs": [
        {
          "output_type": "stream",
          "name": "stdout",
          "text": [
            "Collecting kds\n",
            "  Downloading kds-0.1.3-py3-none-any.whl (7.4 kB)\n",
            "Requirement already satisfied: matplotlib>=1.4.0 in /usr/local/lib/python3.7/dist-packages (from kds) (3.2.2)\n",
            "Requirement already satisfied: pandas>=0.20.0 in /usr/local/lib/python3.7/dist-packages (from kds) (1.3.5)\n",
            "Requirement already satisfied: numpy>=1.12.0 in /usr/local/lib/python3.7/dist-packages (from kds) (1.21.5)\n",
            "Requirement already satisfied: cycler>=0.10 in /usr/local/lib/python3.7/dist-packages (from matplotlib>=1.4.0->kds) (0.11.0)\n",
            "Requirement already satisfied: pyparsing!=2.0.4,!=2.1.2,!=2.1.6,>=2.0.1 in /usr/local/lib/python3.7/dist-packages (from matplotlib>=1.4.0->kds) (3.0.7)\n",
            "Requirement already satisfied: kiwisolver>=1.0.1 in /usr/local/lib/python3.7/dist-packages (from matplotlib>=1.4.0->kds) (1.4.0)\n",
            "Requirement already satisfied: python-dateutil>=2.1 in /usr/local/lib/python3.7/dist-packages (from matplotlib>=1.4.0->kds) (2.8.2)\n",
            "Requirement already satisfied: typing-extensions in /usr/local/lib/python3.7/dist-packages (from kiwisolver>=1.0.1->matplotlib>=1.4.0->kds) (3.10.0.2)\n",
            "Requirement already satisfied: pytz>=2017.3 in /usr/local/lib/python3.7/dist-packages (from pandas>=0.20.0->kds) (2018.9)\n",
            "Requirement already satisfied: six>=1.5 in /usr/local/lib/python3.7/dist-packages (from python-dateutil>=2.1->matplotlib>=1.4.0->kds) (1.15.0)\n",
            "Installing collected packages: kds\n",
            "Successfully installed kds-0.1.3\n"
          ]
        },
        {
          "output_type": "display_data",
          "data": {
            "text/plain": [
              "<Figure size 432x288 with 1 Axes>"
            ],
            "image/png": "[encoded data removed]"
          },
          "metadata": {
            "needs_background": "light"
          }
        }
      ]
    }
  ]
}