{
  "nbformat": 4,
  "nbformat_minor": 0,
  "metadata": {
    "colab": {
      "provenance": [],
      "collapsed_sections": [
        "zvFoqxSfx49R",
        "qScfe6t1HGwT",
        "usahViDHH4zl",
        "Mh6d7xReSCOz"
      ],
      "authorship_tag": "ABX9TyNTAj4F6CkwVdCE8brrMGUi",
      "include_colab_link": true
    },
    "kernelspec": {
      "name": "python3",
      "display_name": "Python 3"
    },
    "language_info": {
      "name": "python"
    }
  },
  "cells": [
    {
      "cell_type": "markdown",
      "metadata": {
        "id": "view-in-github",
        "colab_type": "text"
      },
      "source": [
        "<a href=\"https://colab.research.google.com/github/Parisa-Foroutan/Tutorials/blob/main/ADMI821-%20Winter%202022/ADMI821_Session5.ipynb\" target=\"_parent\"><img src=\"https://colab.research.google.com/assets/colab-badge.svg\" alt=\"Open In Colab\"/></a>"
      ]
    },
    {
      "cell_type": "markdown",
      "source": [
        "**Session 5:**\n",
        "\n",
        "Find it on GitHub: https://github.com/Parisa-Foroutan/Tutorials/blob/main/ADMI821_Session5.ipynb\n",
        "\n",
        "This document is Adapted from [Aishwarya Singh](https://www.analyticsvidhya.com/blog/2018/06/comprehensive-guide-for-ensemble-models/).\n",
        "\n",
        "In this session various ensemble learning models will be presented. You can find the datasets here: [nasa.csv ](https://drive.google.com/file/d/1JPUOwwIuFbyIWPNyMCWj78S-CIuqb75d/view?usp=sharing) , and [life expectancy](https://drive.google.com/file/d/1F8bGNt7ZE7fINFkvTBITCfu1TqB_t5Re/view?usp=sharing)."
      ],
      "metadata": {
        "id": "4c9VfK0SZxur"
      }
    },
    {
      "cell_type": "markdown",
      "source": [
        "Import Libraries:"
      ],
      "metadata": {
        "id": "3N0b4yenR_W4"
      }
    },
    {
      "cell_type": "code",
      "source": [
        "import numpy as np\n",
        "import pandas as pd\n",
        "import matplotlib.pyplot as plt\n",
        "import sklearn as sk\n",
        "\n",
        "from sklearn import linear_model, feature_selection, metrics, naive_bayes, neighbors, svm, tree"
      ],
      "metadata": {
        "id": "UHj3oiJg3cI0"
      },
      "execution_count": null,
      "outputs": []
    },
    {
      "cell_type": "markdown",
      "source": [
        "###Read the Data:"
      ],
      "metadata": {
        "id": "zvFoqxSfx49R"
      }
    },
    {
      "cell_type": "code",
      "source": [
        "from google.colab import drive\n",
        "\n",
        "drive.mount('/content/drive')"
      ],
      "metadata": {
        "colab": {
          "base_uri": "https://localhost:8080/"
        },
        "id": "JG04qa33dJNr",
        "outputId": "209fce62-81fa-4b8e-a633-fd5aadf6811a"
      },
      "execution_count": null,
      "outputs": [
        {
          "output_type": "stream",
          "name": "stdout",
          "text": [
            "Mounted at /content/drive\n"
          ]
        }
      ]
    },
    {
      "cell_type": "code",
      "source": [
        "# Nasa Dataset\n",
        "classification_data = pd.read_csv(\"/content/drive/MyDrive/Datasets/nasa.csv\")\n",
        "classification_data.head(3)"
      ],
      "metadata": {
        "id": "7En9EWmsx49S",
        "colab": {
          "base_uri": "https://localhost:8080/",
          "height": 259
        },
        "outputId": "0dc1111f-16c1-44ca-b992-0e422815bdae"
      },
      "execution_count": null,
      "outputs": [
        {
          "output_type": "execute_result",
          "data": {
            "text/html": [
              "\n",
              "  <div id=\"df-225f676a-ce5b-4d09-bc81-959dbbfc288a\">\n",
              "    <div class=\"colab-df-container\">\n",
              "      <div>\n",
              "<style scoped>\n",
              "    .dataframe tbody tr th:only-of-type {\n",
              "        vertical-align: middle;\n",
              "    }\n",
              "\n",
              "    .dataframe tbody tr th {\n",
              "        vertical-align: top;\n",
              "    }\n",
              "\n",
              "    .dataframe thead th {\n",
              "        text-align: right;\n",
              "    }\n",
              "</style>\n",
              "<table border=\"1\" class=\"dataframe\">\n",
              "  <thead>\n",
              "    <tr style=\"text-align: right;\">\n",
              "      <th></th>\n",
              "      <th>Name</th>\n",
              "      <th>Eccentricity</th>\n",
              "      <th>Inclination</th>\n",
              "      <th>Hazardous</th>\n",
              "      <th>Neo Reference ID</th>\n",
              "      <th>Absolute Magnitude</th>\n",
              "      <th>Est Dia in Feet(min)</th>\n",
              "      <th>Est Dia in Feet(max)</th>\n",
              "      <th>Close Approach Date</th>\n",
              "      <th>Epoch Date Close Approach</th>\n",
              "      <th>Relative Velocity km per sec</th>\n",
              "      <th>Relative Velocity km per hr</th>\n",
              "      <th>Miles per hour</th>\n",
              "      <th>Miss Dist.(Astronomical)</th>\n",
              "      <th>Miss Dist.(lunar)</th>\n",
              "      <th>Orbit Uncertainity</th>\n",
              "      <th>Minimum Orbit Intersection</th>\n",
              "      <th>Jupiter Tisserand Invariant</th>\n",
              "      <th>Semi Major Axis</th>\n",
              "      <th>Asc Node Longitude</th>\n",
              "      <th>Orbital Period</th>\n",
              "      <th>Perihelion Distance</th>\n",
              "      <th>Perihelion Arg</th>\n",
              "      <th>Aphelion Dist</th>\n",
              "      <th>Perihelion Time</th>\n",
              "      <th>Mean Anomaly</th>\n",
              "      <th>Mean Motion</th>\n",
              "    </tr>\n",
              "  </thead>\n",
              "  <tbody>\n",
              "    <tr>\n",
              "      <th>0</th>\n",
              "      <td>3723955</td>\n",
              "      <td>0.351674</td>\n",
              "      <td>28.412996</td>\n",
              "      <td>0</td>\n",
              "      <td>3723955</td>\n",
              "      <td>21.3</td>\n",
              "      <td>479.225620</td>\n",
              "      <td>1071.581063</td>\n",
              "      <td>12784</td>\n",
              "      <td>7.890000e+11</td>\n",
              "      <td>18.113985</td>\n",
              "      <td>65210.34609</td>\n",
              "      <td>40519.17311</td>\n",
              "      <td>0.383014</td>\n",
              "      <td>148.992630</td>\n",
              "      <td>3</td>\n",
              "      <td>0.186935</td>\n",
              "      <td>5.457</td>\n",
              "      <td>1.107776</td>\n",
              "      <td>136.717242</td>\n",
              "      <td>425.869294</td>\n",
              "      <td>0.718200</td>\n",
              "      <td>313.091975</td>\n",
              "      <td>1.497352</td>\n",
              "      <td>2457794.969</td>\n",
              "      <td>173.741112</td>\n",
              "      <td>0.845330</td>\n",
              "    </tr>\n",
              "    <tr>\n",
              "      <th>1</th>\n",
              "      <td>2446862</td>\n",
              "      <td>0.348248</td>\n",
              "      <td>4.237961</td>\n",
              "      <td>1</td>\n",
              "      <td>2446862</td>\n",
              "      <td>20.3</td>\n",
              "      <td>759.521423</td>\n",
              "      <td>1698.341531</td>\n",
              "      <td>12791</td>\n",
              "      <td>7.900000e+11</td>\n",
              "      <td>7.590711</td>\n",
              "      <td>27326.56018</td>\n",
              "      <td>16979.66180</td>\n",
              "      <td>0.050956</td>\n",
              "      <td>19.821890</td>\n",
              "      <td>0</td>\n",
              "      <td>0.043058</td>\n",
              "      <td>4.557</td>\n",
              "      <td>1.458824</td>\n",
              "      <td>259.475979</td>\n",
              "      <td>643.580228</td>\n",
              "      <td>0.950791</td>\n",
              "      <td>248.415038</td>\n",
              "      <td>1.966857</td>\n",
              "      <td>2458120.468</td>\n",
              "      <td>292.893654</td>\n",
              "      <td>0.559371</td>\n",
              "    </tr>\n",
              "    <tr>\n",
              "      <th>2</th>\n",
              "      <td>3671135</td>\n",
              "      <td>0.563441</td>\n",
              "      <td>17.927751</td>\n",
              "      <td>0</td>\n",
              "      <td>3671135</td>\n",
              "      <td>19.6</td>\n",
              "      <td>1048.431420</td>\n",
              "      <td>2344.363926</td>\n",
              "      <td>12798</td>\n",
              "      <td>7.900000e+11</td>\n",
              "      <td>10.808844</td>\n",
              "      <td>38911.83825</td>\n",
              "      <td>24178.30305</td>\n",
              "      <td>0.392785</td>\n",
              "      <td>152.793274</td>\n",
              "      <td>1</td>\n",
              "      <td>0.272213</td>\n",
              "      <td>4.724</td>\n",
              "      <td>1.323532</td>\n",
              "      <td>178.971951</td>\n",
              "      <td>556.160556</td>\n",
              "      <td>0.577800</td>\n",
              "      <td>198.145969</td>\n",
              "      <td>2.069265</td>\n",
              "      <td>2458009.403</td>\n",
              "      <td>354.237368</td>\n",
              "      <td>0.647295</td>\n",
              "    </tr>\n",
              "  </tbody>\n",
              "</table>\n",
              "</div>\n",
              "      <button class=\"colab-df-convert\" onclick=\"convertToInteractive('df-225f676a-ce5b-4d09-bc81-959dbbfc288a')\"\n",
              "              title=\"Convert this dataframe to an interactive table.\"\n",
              "              style=\"display:none;\">\n",
              "        \n",
              "  <svg xmlns=\"http://www.w3.org/2000/svg\" height=\"24px\"viewBox=\"0 0 24 24\"\n",
              "       width=\"24px\">\n",
              "    <path d=\"M0 0h24v24H0V0z\" fill=\"none\"/>\n",
              "    <path d=\"M18.56 5.44l.94 2.06.94-2.06 2.06-.94-2.06-.94-.94-2.06-.94 2.06-2.06.94zm-11 1L8.5 8.5l.94-2.06 2.06-.94-2.06-.94L8.5 2.5l-.94 2.06-2.06.94zm10 10l.94 2.06.94-2.06 2.06-.94-2.06-.94-.94-2.06-.94 2.06-2.06.94z\"/><path d=\"M17.41 7.96l-1.37-1.37c-.4-.4-.92-.59-1.43-.59-.52 0-1.04.2-1.43.59L10.3 9.45l-7.72 7.72c-.78.78-.78 2.05 0 2.83L4 21.41c.39.39.9.59 1.41.59.51 0 1.02-.2 1.41-.59l7.78-7.78 2.81-2.81c.8-.78.8-2.07 0-2.86zM5.41 20L4 18.59l7.72-7.72 1.47 1.35L5.41 20z\"/>\n",
              "  </svg>\n",
              "      </button>\n",
              "      \n",
              "  <style>\n",
              "    .colab-df-container {\n",
              "      display:flex;\n",
              "      flex-wrap:wrap;\n",
              "      gap: 12px;\n",
              "    }\n",
              "\n",
              "    .colab-df-convert {\n",
              "      background-color: #E8F0FE;\n",
              "      border: none;\n",
              "      border-radius: 50%;\n",
              "      cursor: pointer;\n",
              "      display: none;\n",
              "      fill: #1967D2;\n",
              "      height: 32px;\n",
              "      padding: 0 0 0 0;\n",
              "      width: 32px;\n",
              "    }\n",
              "\n",
              "    .colab-df-convert:hover {\n",
              "      background-color: #E2EBFA;\n",
              "      box-shadow: 0px 1px 2px rgba(60, 64, 67, 0.3), 0px 1px 3px 1px rgba(60, 64, 67, 0.15);\n",
              "      fill: #174EA6;\n",
              "    }\n",
              "\n",
              "    [theme=dark] .colab-df-convert {\n",
              "      background-color: #3B4455;\n",
              "      fill: #D2E3FC;\n",
              "    }\n",
              "\n",
              "    [theme=dark] .colab-df-convert:hover {\n",
              "      background-color: #434B5C;\n",
              "      box-shadow: 0px 1px 3px 1px rgba(0, 0, 0, 0.15);\n",
              "      filter: drop-shadow(0px 1px 2px rgba(0, 0, 0, 0.3));\n",
              "      fill: #FFFFFF;\n",
              "    }\n",
              "  </style>\n",
              "\n",
              "      <script>\n",
              "        const buttonEl =\n",
              "          document.querySelector('#df-225f676a-ce5b-4d09-bc81-959dbbfc288a button.colab-df-convert');\n",
              "        buttonEl.style.display =\n",
              "          google.colab.kernel.accessAllowed ? 'block' : 'none';\n",
              "\n",
              "        async function convertToInteractive(key) {\n",
              "          const element = document.querySelector('#df-225f676a-ce5b-4d09-bc81-959dbbfc288a');\n",
              "          const dataTable =\n",
              "            await google.colab.kernel.invokeFunction('convertToInteractive',\n",
              "                                                     [key], {});\n",
              "          if (!dataTable) return;\n",
              "\n",
              "          const docLinkHtml = 'Like what you see? Visit the ' +\n",
              "            '<a target=\"_blank\" href=https://colab.research.google.com/notebooks/data_table.ipynb>data table notebook</a>'\n",
              "            + ' to learn more about interactive tables.';\n",
              "          element.innerHTML = '';\n",
              "          dataTable['output_type'] = 'display_data';\n",
              "          await google.colab.output.renderOutput(dataTable, element);\n",
              "          const docLink = document.createElement('div');\n",
              "          docLink.innerHTML = docLinkHtml;\n",
              "          element.appendChild(docLink);\n",
              "        }\n",
              "      </script>\n",
              "    </div>\n",
              "  </div>\n",
              "  "
            ],
            "text/plain": [
              "      Name  Eccentricity  ...  Mean Anomaly  Mean Motion\n",
              "0  3723955      0.351674  ...    173.741112     0.845330\n",
              "1  2446862      0.348248  ...    292.893654     0.559371\n",
              "2  3671135      0.563441  ...    354.237368     0.647295\n",
              "\n",
              "[3 rows x 27 columns]"
            ]
          },
          "metadata": {},
          "execution_count": 3
        }
      ]
    },
    {
      "cell_type": "code",
      "source": [
        "from sklearn.model_selection import train_test_split\n",
        "\n",
        "X_c = classification_data.iloc[:, 1:-1]\n",
        "y_c = classification_data[\"Hazardous\"]\n",
        "\n",
        "X_train_c, X_test_c, y_train_c, y_test_c = train_test_split(X_c, y_c, test_size = 0.2, random_state = 123)\n",
        "print(f\"Shape of X_train: {X_train_c.shape}\")"
      ],
      "metadata": {
        "id": "NURtEmyfx49U",
        "colab": {
          "base_uri": "https://localhost:8080/"
        },
        "outputId": "4d7f3dd3-5e56-4fa1-d85e-7ca068a4208a"
      },
      "execution_count": null,
      "outputs": [
        {
          "output_type": "stream",
          "name": "stdout",
          "text": [
            "Shape of X_train: (369, 25)\n"
          ]
        }
      ]
    },
    {
      "cell_type": "markdown",
      "source": [
        "Read the forecasting data:"
      ],
      "metadata": {
        "id": "dlQWJdDk4zb9"
      }
    },
    {
      "cell_type": "code",
      "source": [
        "Forecasting_data = pd.read_csv(\"/content/drive/MyDrive/Datasets/life_dexpectency.csv\") # life_expectancy dataset\n",
        "\n",
        "Forecasting_data.head(3)"
      ],
      "metadata": {
        "id": "elWRN9vT3EwZ",
        "colab": {
          "base_uri": "https://localhost:8080/",
          "height": 259
        },
        "outputId": "d9d6cfb4-4e70-46d0-93e9-2ee09bff9def"
      },
      "execution_count": null,
      "outputs": [
        {
          "output_type": "execute_result",
          "data": {
            "text/html": [
              "\n",
              "  <div id=\"df-8047543f-844b-4673-9bf9-3b293ad2a69a\">\n",
              "    <div class=\"colab-df-container\">\n",
              "      <div>\n",
              "<style scoped>\n",
              "    .dataframe tbody tr th:only-of-type {\n",
              "        vertical-align: middle;\n",
              "    }\n",
              "\n",
              "    .dataframe tbody tr th {\n",
              "        vertical-align: top;\n",
              "    }\n",
              "\n",
              "    .dataframe thead th {\n",
              "        text-align: right;\n",
              "    }\n",
              "</style>\n",
              "<table border=\"1\" class=\"dataframe\">\n",
              "  <thead>\n",
              "    <tr style=\"text-align: right;\">\n",
              "      <th></th>\n",
              "      <th>Country</th>\n",
              "      <th>Year</th>\n",
              "      <th>Status</th>\n",
              "      <th>Life expectancy</th>\n",
              "      <th>Adult Mortality</th>\n",
              "      <th>infant deaths</th>\n",
              "      <th>Alcohol</th>\n",
              "      <th>percentage expenditure</th>\n",
              "      <th>Hepatitis B</th>\n",
              "      <th>Measles</th>\n",
              "      <th>BMI</th>\n",
              "      <th>under-five deaths</th>\n",
              "      <th>Polio</th>\n",
              "      <th>Total expenditure</th>\n",
              "      <th>Diphtheria</th>\n",
              "      <th>HIV/AIDS</th>\n",
              "      <th>GDP</th>\n",
              "      <th>Population</th>\n",
              "      <th>thinness  1-19 years</th>\n",
              "      <th>thinness 5-9 years</th>\n",
              "      <th>Income composition of resources</th>\n",
              "      <th>Schooling</th>\n",
              "    </tr>\n",
              "  </thead>\n",
              "  <tbody>\n",
              "    <tr>\n",
              "      <th>0</th>\n",
              "      <td>Afghanistan</td>\n",
              "      <td>2015</td>\n",
              "      <td>Developing</td>\n",
              "      <td>65.0</td>\n",
              "      <td>263.0</td>\n",
              "      <td>62</td>\n",
              "      <td>0.01</td>\n",
              "      <td>71.279624</td>\n",
              "      <td>65.0</td>\n",
              "      <td>1154</td>\n",
              "      <td>19.1</td>\n",
              "      <td>83</td>\n",
              "      <td>6.0</td>\n",
              "      <td>8.16</td>\n",
              "      <td>65.0</td>\n",
              "      <td>0.1</td>\n",
              "      <td>584.259210</td>\n",
              "      <td>33736494.0</td>\n",
              "      <td>17.2</td>\n",
              "      <td>17.3</td>\n",
              "      <td>0.479</td>\n",
              "      <td>10.1</td>\n",
              "    </tr>\n",
              "    <tr>\n",
              "      <th>1</th>\n",
              "      <td>Afghanistan</td>\n",
              "      <td>2014</td>\n",
              "      <td>Developing</td>\n",
              "      <td>59.9</td>\n",
              "      <td>271.0</td>\n",
              "      <td>64</td>\n",
              "      <td>0.01</td>\n",
              "      <td>73.523582</td>\n",
              "      <td>62.0</td>\n",
              "      <td>492</td>\n",
              "      <td>18.6</td>\n",
              "      <td>86</td>\n",
              "      <td>58.0</td>\n",
              "      <td>8.18</td>\n",
              "      <td>62.0</td>\n",
              "      <td>0.1</td>\n",
              "      <td>612.696514</td>\n",
              "      <td>327582.0</td>\n",
              "      <td>17.5</td>\n",
              "      <td>17.5</td>\n",
              "      <td>0.476</td>\n",
              "      <td>10.0</td>\n",
              "    </tr>\n",
              "    <tr>\n",
              "      <th>2</th>\n",
              "      <td>Afghanistan</td>\n",
              "      <td>2013</td>\n",
              "      <td>Developing</td>\n",
              "      <td>59.9</td>\n",
              "      <td>268.0</td>\n",
              "      <td>66</td>\n",
              "      <td>0.01</td>\n",
              "      <td>73.219243</td>\n",
              "      <td>64.0</td>\n",
              "      <td>430</td>\n",
              "      <td>18.1</td>\n",
              "      <td>89</td>\n",
              "      <td>62.0</td>\n",
              "      <td>8.13</td>\n",
              "      <td>64.0</td>\n",
              "      <td>0.1</td>\n",
              "      <td>631.744976</td>\n",
              "      <td>31731688.0</td>\n",
              "      <td>17.7</td>\n",
              "      <td>17.7</td>\n",
              "      <td>0.470</td>\n",
              "      <td>9.9</td>\n",
              "    </tr>\n",
              "  </tbody>\n",
              "</table>\n",
              "</div>\n",
              "      <button class=\"colab-df-convert\" onclick=\"convertToInteractive('df-8047543f-844b-4673-9bf9-3b293ad2a69a')\"\n",
              "              title=\"Convert this dataframe to an interactive table.\"\n",
              "              style=\"display:none;\">\n",
              "        \n",
              "  <svg xmlns=\"http://www.w3.org/2000/svg\" height=\"24px\"viewBox=\"0 0 24 24\"\n",
              "       width=\"24px\">\n",
              "    <path d=\"M0 0h24v24H0V0z\" fill=\"none\"/>\n",
              "    <path d=\"M18.56 5.44l.94 2.06.94-2.06 2.06-.94-2.06-.94-.94-2.06-.94 2.06-2.06.94zm-11 1L8.5 8.5l.94-2.06 2.06-.94-2.06-.94L8.5 2.5l-.94 2.06-2.06.94zm10 10l.94 2.06.94-2.06 2.06-.94-2.06-.94-.94-2.06-.94 2.06-2.06.94z\"/><path d=\"M17.41 7.96l-1.37-1.37c-.4-.4-.92-.59-1.43-.59-.52 0-1.04.2-1.43.59L10.3 9.45l-7.72 7.72c-.78.78-.78 2.05 0 2.83L4 21.41c.39.39.9.59 1.41.59.51 0 1.02-.2 1.41-.59l7.78-7.78 2.81-2.81c.8-.78.8-2.07 0-2.86zM5.41 20L4 18.59l7.72-7.72 1.47 1.35L5.41 20z\"/>\n",
              "  </svg>\n",
              "      </button>\n",
              "      \n",
              "  <style>\n",
              "    .colab-df-container {\n",
              "      display:flex;\n",
              "      flex-wrap:wrap;\n",
              "      gap: 12px;\n",
              "    }\n",
              "\n",
              "    .colab-df-convert {\n",
              "      background-color: #E8F0FE;\n",
              "      border: none;\n",
              "      border-radius: 50%;\n",
              "      cursor: pointer;\n",
              "      display: none;\n",
              "      fill: #1967D2;\n",
              "      height: 32px;\n",
              "      padding: 0 0 0 0;\n",
              "      width: 32px;\n",
              "    }\n",
              "\n",
              "    .colab-df-convert:hover {\n",
              "      background-color: #E2EBFA;\n",
              "      box-shadow: 0px 1px 2px rgba(60, 64, 67, 0.3), 0px 1px 3px 1px rgba(60, 64, 67, 0.15);\n",
              "      fill: #174EA6;\n",
              "    }\n",
              "\n",
              "    [theme=dark] .colab-df-convert {\n",
              "      background-color: #3B4455;\n",
              "      fill: #D2E3FC;\n",
              "    }\n",
              "\n",
              "    [theme=dark] .colab-df-convert:hover {\n",
              "      background-color: #434B5C;\n",
              "      box-shadow: 0px 1px 3px 1px rgba(0, 0, 0, 0.15);\n",
              "      filter: drop-shadow(0px 1px 2px rgba(0, 0, 0, 0.3));\n",
              "      fill: #FFFFFF;\n",
              "    }\n",
              "  </style>\n",
              "\n",
              "      <script>\n",
              "        const buttonEl =\n",
              "          document.querySelector('#df-8047543f-844b-4673-9bf9-3b293ad2a69a button.colab-df-convert');\n",
              "        buttonEl.style.display =\n",
              "          google.colab.kernel.accessAllowed ? 'block' : 'none';\n",
              "\n",
              "        async function convertToInteractive(key) {\n",
              "          const element = document.querySelector('#df-8047543f-844b-4673-9bf9-3b293ad2a69a');\n",
              "          const dataTable =\n",
              "            await google.colab.kernel.invokeFunction('convertToInteractive',\n",
              "                                                     [key], {});\n",
              "          if (!dataTable) return;\n",
              "\n",
              "          const docLinkHtml = 'Like what you see? Visit the ' +\n",
              "            '<a target=\"_blank\" href=https://colab.research.google.com/notebooks/data_table.ipynb>data table notebook</a>'\n",
              "            + ' to learn more about interactive tables.';\n",
              "          element.innerHTML = '';\n",
              "          dataTable['output_type'] = 'display_data';\n",
              "          await google.colab.output.renderOutput(dataTable, element);\n",
              "          const docLink = document.createElement('div');\n",
              "          docLink.innerHTML = docLinkHtml;\n",
              "          element.appendChild(docLink);\n",
              "        }\n",
              "      </script>\n",
              "    </div>\n",
              "  </div>\n",
              "  "
            ],
            "text/plain": [
              "       Country  Year  ... Income composition of resources  Schooling\n",
              "0  Afghanistan  2015  ...                           0.479       10.1\n",
              "1  Afghanistan  2014  ...                           0.476       10.0\n",
              "2  Afghanistan  2013  ...                           0.470        9.9\n",
              "\n",
              "[3 rows x 22 columns]"
            ]
          },
          "metadata": {},
          "execution_count": 5
        }
      ]
    },
    {
      "cell_type": "code",
      "source": [
        "Forecasting_data.dropna(inplace=True)"
      ],
      "metadata": {
        "id": "Kat9ke8ukpvl"
      },
      "execution_count": null,
      "outputs": []
    },
    {
      "cell_type": "markdown",
      "source": [
        "Split the data into train and test subsets (Note: Time series data cannot be randomly subsampled):"
      ],
      "metadata": {
        "id": "a11jfjnUkHfz"
      }
    },
    {
      "cell_type": "code",
      "source": [
        "## using life expectency dataset\n",
        "\n",
        "X = Forecasting_data.iloc[:, 4:]\n",
        "y = Forecasting_data.iloc[:, 3]\n",
        "X_train, X_test, y_train, y_test = train_test_split(X, y, test_size = 0.25, random_state = 123)"
      ],
      "metadata": {
        "id": "WmAdZuOqiVQ9"
      },
      "execution_count": null,
      "outputs": []
    },
    {
      "cell_type": "markdown",
      "source": [
        "## Ensemble Learning"
      ],
      "metadata": {
        "id": "3C7jPHjlG-0U"
      }
    },
    {
      "cell_type": "markdown",
      "source": [
        "You can find sklearn documentations for ensemble models [here](https://scikit-learn.org/stable/modules/classes.html#module-sklearn.ensemble)."
      ],
      "metadata": {
        "id": "fn7U14SYpjpz"
      }
    },
    {
      "cell_type": "code",
      "source": [
        "from sklearn.ensemble import VotingClassifier, StackingRegressor, StackingClassifier, \\\n",
        "                             BaggingRegressor, BaggingClassifier"
      ],
      "metadata": {
        "id": "sYEhS6BWSBjT"
      },
      "execution_count": null,
      "outputs": []
    },
    {
      "cell_type": "markdown",
      "source": [
        "### Max Voting"
      ],
      "metadata": {
        "id": "qScfe6t1HGwT"
      }
    },
    {
      "cell_type": "code",
      "source": [
        "# from pandas.core.common import random_state\n",
        "clf1 = tree.DecisionTreeClassifier(random_state=12)\n",
        "clf2 = neighbors.KNeighborsClassifier(n_neighbors= 5)\n",
        "clf3= linear_model.LogisticRegression(random_state=12)\n",
        "clf4= svm.SVC(kernel ='rbf')\n",
        "\n",
        "clf1.fit(X_train_c,y_train_c)\n",
        "clf2.fit(X_train_c,y_train_c)\n",
        "clf3.fit(X_train_c,y_train_c)\n",
        "\n",
        "pred1=clf1.predict(X_test_c)\n",
        "pred2=clf2.predict(X_test_c)\n",
        "pred3=clf3.predict(X_test_c)\n",
        "\n",
        "from statistics import mode\n",
        "final_pred = np.array([])\n",
        "for i in range(0,len(X_test_c)):\n",
        "    final_pred = np.append(final_pred, mode([pred1[i], pred2[i], pred3[i]]))\n",
        "\n",
        "# Alternatively, you can use “VotingClassifier” module in sklearn:\n",
        "clf = VotingClassifier(estimators=[('dt', clf1), ('lr', clf3)], voting='hard')\n",
        "clf.fit(X_train_c,y_train_c)\n",
        "clf.score(X_test_c,y_test_c)"
      ],
      "metadata": {
        "id": "uu5WYDJxHBH0",
        "colab": {
          "base_uri": "https://localhost:8080/"
        },
        "outputId": "d12fcf1b-59c9-4760-cdd5-c8b4e52f7ca7"
      },
      "execution_count": null,
      "outputs": [
        {
          "output_type": "execute_result",
          "data": {
            "text/plain": [
              "0.45161290322580644"
            ]
          },
          "metadata": {},
          "execution_count": 9
        }
      ]
    },
    {
      "cell_type": "markdown",
      "source": [
        "### Averaging\n",
        "We generally use the average of individual prediction models to make a final prediction for regression tasks. For classification tasks, averaging is used to predict ensemble probability predictions."
      ],
      "metadata": {
        "id": "usahViDHH4zl"
      }
    },
    {
      "cell_type": "code",
      "source": [
        "model1 = svm.SVR(kernel ='rbf')\n",
        "model2 = neighbors.KNeighborsRegressor(n_neighbors=5)\n",
        "model3 = linear_model.LinearRegression()\n",
        "\n",
        "model1.fit(X_train,y_train)\n",
        "model2.fit(X_train,y_train)\n",
        "model3.fit(X_train,y_train)\n",
        "\n",
        "pred1=model1.predict(X_test)\n",
        "pred2=model2.predict(X_test)\n",
        "pred3=model3.predict(X_test)\n",
        "\n",
        "finalpred=(pred1+pred2+pred3)/3\n",
        "print(finalpred[:5])\n",
        "\n",
        "# Weighted Average\n",
        "weights = [0.3, 0.4, 0.3]\n",
        "finalpred_weighted=(pred1*weights[0]+pred2*weights[1]+pred3*weights[2])\n",
        "print(finalpred_weighted[:5])"
      ],
      "metadata": {
        "id": "EI_i1pnOH69l",
        "colab": {
          "base_uri": "https://localhost:8080/"
        },
        "outputId": "5a6bca52-8cdf-472b-aef0-3bfc1580a0a5"
      },
      "execution_count": null,
      "outputs": [
        {
          "output_type": "stream",
          "name": "stdout",
          "text": [
            "[72.04105721 68.80687088 69.16811221 65.30730528 71.7140467 ]\n",
            "[72.14095149 69.26018379 69.63730099 65.53057475 71.24264203]\n"
          ]
        }
      ]
    },
    {
      "cell_type": "markdown",
      "source": [
        "### Stacking\n",
        "Stacking involves combining the predictions from multiple machine learning models on the same dataset. Each model fits the data via k-fold cross-validation, where the out-of-fold predictions are used as the basis for the training dataset for the meta-model.\n"
      ],
      "metadata": {
        "id": "Mh6d7xReSCOz"
      }
    },
    {
      "cell_type": "code",
      "source": [
        "# define a stacking ensemble of models\n",
        "def get_stacking():\n",
        "\t# define the base estimators\n",
        "\tbase_models = []\n",
        "\tbase_models.append(('lr', linear_model.LogisticRegression()))\n",
        "\tbase_models.append(('knn', neighbors.KNeighborsClassifier()))\n",
        "\tbase_models.append(('tree', tree.DecisionTreeClassifier()))\n",
        "\tbase_models.append(('svm', svm.SVC()))\n",
        "\tbase_models.append(('bayes', naive_bayes.GaussianNB()))\n",
        "\t# define final learner model\n",
        "\tfinal_estimator = linear_model.LogisticRegression()\n",
        "\t# define the stacking ensemble\n",
        "\tmodel = StackingClassifier(estimators=base_models, final_estimator=final_estimator, cv=5)\n",
        "\treturn model\n",
        "\n",
        "# define a dict of models to evaluate\n",
        "def get_models():\n",
        "    models = dict()\n",
        "    models['lr'] = linear_model.LogisticRegression()\n",
        "    models['knn'] = neighbors.KNeighborsClassifier()\n",
        "    models['tree'] = tree.DecisionTreeClassifier()\n",
        "    models['svm'] = svm.SVC()\n",
        "    models['bayes'] = naive_bayes.GaussianNB()\n",
        "    models['stacking'] = get_stacking()\n",
        "    return models\n",
        "\n",
        "# evaluate a model using cross-validation\n",
        "def evaluate_model(model, X, y):\n",
        "\tcv = sk.model_selection.RepeatedStratifiedKFold(n_splits=10, n_repeats=2, random_state=1)\n",
        "\tscores = sk.model_selection.cross_val_score(model, X, y, scoring='accuracy', cv=cv, error_score='raise')\n",
        "\treturn scores\n",
        "\n",
        "models = get_models()\n",
        "\n",
        "# evaluate the models and store results\n",
        "results, names = [], []\n",
        "for key, model in models.items():\n",
        "    # scores = evaluate_model(model, X_train_c, y_train_c)\n",
        "    scores = evaluate_model(model, X_c, y_c)\n",
        "    results.append(scores)\n",
        "    names.append(key)\n",
        "\n",
        "# plot model performance for comparison\n",
        "plt.figure(figsize=(8,7))\n",
        "plt.boxplot(results, labels=names, showmeans=True)\n",
        "plt.show()"
      ],
      "metadata": {
        "colab": {
          "base_uri": "https://localhost:8080/",
          "height": 428
        },
        "id": "Ms2z8aPUpsn_",
        "outputId": "8d294689-7370-4f3e-a372-15a58af60ed2"
      },
      "execution_count": null,
      "outputs": [
        {
          "output_type": "display_data",
          "data": {
            "image/png": "[encoded data removed]",
            "text/plain": [
              "<Figure size 576x504 with 1 Axes>"
            ]
          },
          "metadata": {
            "needs_background": "light"
          }
        }
      ]
    },
    {
      "cell_type": "markdown",
      "source": [
        "### Bagging\n"
      ],
      "metadata": {
        "id": "W-bT1ghODJgJ"
      }
    },
    {
      "cell_type": "markdown",
      "source": [
        "\n",
        "1.   Multiple subsets are created from the original dataset, selecting observations with replacement (Bagging method).\n",
        "2.   A base model (weak model) is created on each of these subsets.\n",
        "3. The models run in parallel and are independent of each other.\n",
        "4. The final predictions are determined by combining the predictions from all the models\n"
      ],
      "metadata": {
        "id": "f-0yM9gdD8hY"
      }
    },
    {
      "cell_type": "code",
      "source": [
        "model = BaggingRegressor(tree.DecisionTreeRegressor(random_state=1), random_state=1)\n",
        "model.fit(X_train, y_train)\n",
        "print(\"R2 is: {}\".format(model.score(X_test,y_test))) # this returns R2\n",
        "mse = metrics.mean_squared_error(y_test, model.predict(X_test))\n",
        "print(\"MSE is: {}\".format(mse))"
      ],
      "metadata": {
        "colab": {
          "base_uri": "https://localhost:8080/"
        },
        "id": "d33HtfsHEP2s",
        "outputId": "79668b87-06da-4d40-8b48-7b3c21da4337"
      },
      "execution_count": null,
      "outputs": [
        {
          "output_type": "stream",
          "name": "stdout",
          "text": [
            "R2 is: 0.9481369580381593\n",
            "MSE is: 4.392671898734175\n"
          ]
        }
      ]
    },
    {
      "cell_type": "markdown",
      "source": [
        "Random Forest is an example of Bagging algorithms."
      ],
      "metadata": {
        "id": "9m65FZmvGj2m"
      }
    },
    {
      "cell_type": "code",
      "source": [
        "from sklearn.ensemble import RandomForestRegressor\n",
        "\n",
        "model = RandomForestRegressor(n_estimators=100, criterion=\"squared_error\", max_depth=3,min_samples_leaf=0.1, max_features=\"auto\",\n",
        "                              bootstrap=True, oob_score=True, max_samples=0.8, random_state=1)\n",
        "model.fit(X_train, y_train)\n",
        "print(\"R2 is: {}\".format(model.score(X_test,y_test))) # this returns R2\n",
        "mse = metrics.mean_squared_error(y_test, model.predict(X_test))\n",
        "print(\"MSE is: {}\".format(mse))"
      ],
      "metadata": {
        "colab": {
          "base_uri": "https://localhost:8080/"
        },
        "id": "0VQUlQNhMNnr",
        "outputId": "402b6e65-9a8d-4938-b935-d3f38d843060"
      },
      "execution_count": null,
      "outputs": [
        {
          "output_type": "stream",
          "name": "stdout",
          "text": [
            "R2 is: 0.764438862381576\n",
            "MSE is: 19.95144809306864\n"
          ]
        }
      ]
    },
    {
      "cell_type": "code",
      "source": [
        "print(\"Feature importance scores: {}\".format(model.feature_importances_))\n",
        "model.apply(X_test[0:1]) # returns X_leaves ndarray of shape (n_samples, n_estimators)"
      ],
      "metadata": {
        "colab": {
          "base_uri": "https://localhost:8080/"
        },
        "id": "470Jifh5Sicx",
        "outputId": "183d6fea-11d7-4c20-ca11-1c9fac9cbce3"
      },
      "execution_count": null,
      "outputs": [
        {
          "output_type": "stream",
          "name": "stdout",
          "text": [
            "Feature importance scores: [0.08002955 0.         0.         0.         0.         0.\n",
            " 0.         0.         0.         0.         0.         0.09140333\n",
            " 0.         0.         0.00138213 0.         0.82718498 0.        ]\n"
          ]
        },
        {
          "output_type": "execute_result",
          "data": {
            "text/plain": [
              "array([[5, 5, 5, 5, 5, 5, 5, 5, 5, 5, 5, 5, 5, 5, 5, 6, 5, 4, 5, 5, 5, 5,\n",
              "        5, 5, 5, 5, 5, 5, 5, 4, 5, 5, 5, 5, 5, 4, 5, 4, 5, 4, 4, 5, 5, 5,\n",
              "        5, 5, 5, 5, 5, 5, 5, 5, 5, 5, 5, 5, 5, 5, 5, 5, 5, 4, 5, 5, 5, 4,\n",
              "        5, 5, 5, 5, 5, 5, 5, 5, 5, 5, 7, 4, 5, 5, 5, 5, 5, 7, 5, 5, 5, 5,\n",
              "        5, 4, 5, 5, 4, 4, 5, 5, 5, 5, 5, 6]])"
            ]
          },
          "metadata": {},
          "execution_count": 15
        }
      ]
    },
    {
      "cell_type": "markdown",
      "source": [
        "### Boosting"
      ],
      "metadata": {
        "id": "LSQsfesHEeD8"
      }
    },
    {
      "cell_type": "markdown",
      "source": [
        "Boosting is a sequential process, where each subsequent model attempts to correct the errors of the previous model. The succeeding models are dependent on the previous model. Thus, the boosting algorithm combines a number of weak learners to form a strong learner.\n",
        "\n",
        "AdaBoost and GradientBoost are examples of boosting algorithms. Regression trees used as a base learner for the GradientBoosting algorithm."
      ],
      "metadata": {
        "id": "g2jM7utTEgLk"
      }
    },
    {
      "cell_type": "code",
      "source": [
        "from sklearn.ensemble import AdaBoostRegressor, AdaBoostClassifier\n",
        "\n",
        "base_estimator = tree.DecisionTreeRegressor(random_state=1) # neighbors.KNeighborsRegressor(8)\n",
        "model = AdaBoostRegressor(base_estimator= base_estimator,\n",
        "                          n_estimators=50, learning_rate=1, loss=\"linear\", random_state=1)\n",
        "model.fit(X_train, y_train)\n",
        "print(\"R2 is: {}\".format(model.score(X_test,y_test))) # this returns R2\n",
        "mse = metrics.mean_squared_error(y_test, model.predict(X_test))\n",
        "print(\"MSE is: {}\".format(mse))"
      ],
      "metadata": {
        "colab": {
          "base_uri": "https://localhost:8080/"
        },
        "id": "mpYU_xjBEhcn",
        "outputId": "1e3c0c2e-a3fa-4842-8bb6-9961cd9abdf6"
      },
      "execution_count": null,
      "outputs": [
        {
          "output_type": "stream",
          "name": "stdout",
          "text": [
            "R2 is: 0.9600622043554854\n",
            "MSE is: 3.3826329113924043\n"
          ]
        }
      ]
    },
    {
      "cell_type": "code",
      "source": [
        "from sklearn.ensemble import GradientBoostingRegressor, GradientBoostingClassifier\n",
        "\n",
        "model = GradientBoostingRegressor(loss=\"squared_error\", learning_rate=0.5, n_estimators=100, min_samples_leaf=0.1,\n",
        "                                  max_depth=3, min_impurity_decrease=0, random_state=1)\n",
        "model.fit(X_train, y_train)\n",
        "print(\"R2 is: {}\".format(model.score(X_test,y_test))) # this returns R2\n",
        "mse = metrics.mean_squared_error(y_test, model.predict(X_test))\n",
        "print(\"MSE is: {}\".format(mse))"
      ],
      "metadata": {
        "colab": {
          "base_uri": "https://localhost:8080/"
        },
        "id": "9LB8aGozIzmo",
        "outputId": "c35dfb4a-2e80-40b9-bc0d-578248246249"
      },
      "execution_count": null,
      "outputs": [
        {
          "output_type": "stream",
          "name": "stdout",
          "text": [
            "R2 is: 0.9376928076378708\n",
            "MSE is: 5.277265710320788\n"
          ]
        }
      ]
    },
    {
      "cell_type": "markdown",
      "source": [
        "For more boosting algorithms look at [xgboost](https://xgboost.readthedocs.io/en/stable/index.html#xgboost-documentation) and [lightgbm](https://lightgbm.readthedocs.io/en/latest/Python-Intro.html#python-package-introduction)  libraries."
      ],
      "metadata": {
        "id": "tCnIJNCVNkcT"
      }
    }
  ]
}