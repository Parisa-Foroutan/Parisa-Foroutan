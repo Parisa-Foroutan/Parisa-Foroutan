{
  "nbformat": 4,
  "nbformat_minor": 0,
  "metadata": {
    "colab": {
      "provenance": [],
      "collapsed_sections": [
        "4u-_2a62xvDA"
      ],
      "authorship_tag": "ABX9TyMBKdhvN1Hs6ZXBVjjXd49M",
      "include_colab_link": true
    },
    "kernelspec": {
      "name": "python3",
      "display_name": "Python 3"
    },
    "language_info": {
      "name": "python"
    }
  },
  "cells": [
    {
      "cell_type": "markdown",
      "metadata": {
        "id": "view-in-github",
        "colab_type": "text"
      },
      "source": [
        "<a href=\"https://colab.research.google.com/github/Parisa-Foroutan/Tutorials/blob/main/ADMI821-%20Winter%202022/ADMI821_Session3.ipynb\" target=\"_parent\"><img src=\"https://colab.research.google.com/assets/colab-badge.svg\" alt=\"Open In Colab\"/></a>"
      ]
    },
    {
      "cell_type": "markdown",
      "source": [
        "**Session 3:**\n",
        "\n",
        "Find it on GitHub: https://github.com/Parisa-Foroutan/Tutorials/blob/main/ADMI821_Session3.ipynb\n",
        "\n",
        "In this session supervised models such as Multiple Linear Regression, Logistic Regression, and Naive Bayes will be created and their prediction performance on a test set will be evaluated. You can find the datasets here: [nasa.csv ](https://drive.google.com/file/d/1JPUOwwIuFbyIWPNyMCWj78S-CIuqb75d/view?usp=sharing) , [daily demand order](https://docs.google.com/spreadsheets/d/1dTLJDzJu_pG_IEStgT5RRI1VSeGgjEKH/edit?usp=sharing&ouid=117858513827551292983&rtpof=true&sd=true), and [divorce descision](https://docs.google.com/spreadsheets/d/1cvpFwTfB3LnHK3MWVcYojF3doWc84dVE/edit?usp=sharing&ouid=117858513827551292983&rtpof=true&sd=true)."
      ],
      "metadata": {
        "id": "4c9VfK0SZxur"
      }
    },
    {
      "cell_type": "markdown",
      "source": [
        "Import Libraries:"
      ],
      "metadata": {
        "id": "3N0b4yenR_W4"
      }
    },
    {
      "cell_type": "code",
      "source": [
        "import numpy as np\n",
        "import pandas as pd\n",
        "import matplotlib.pyplot as plt\n",
        "\n",
        "from sklearn import linear_model, metrics, naive_bayes"
      ],
      "metadata": {
        "id": "UHj3oiJg3cI0"
      },
      "execution_count": null,
      "outputs": []
    },
    {
      "cell_type": "markdown",
      "source": [
        "## Multiple Linear Regression"
      ],
      "metadata": {
        "id": "4u-_2a62xvDA"
      }
    },
    {
      "cell_type": "markdown",
      "source": [
        "Read the Data:"
      ],
      "metadata": {
        "id": "dlQWJdDk4zb9"
      }
    },
    {
      "cell_type": "code",
      "source": [
        "Forecasting_data = pd.read_excel(\"/content/Daily Demand Order (Forecasting) dated.xlsx\", sheet_name=0)\n",
        "print(Forecasting_data.columns)\n",
        "Forecasting_data.head(3)"
      ],
      "metadata": {
        "id": "elWRN9vT3EwZ",
        "colab": {
          "base_uri": "https://localhost:8080/",
          "height": 396
        },
        "outputId": "0e1ed9e1-bf27-4a76-c710-f59e672db1ad"
      },
      "execution_count": null,
      "outputs": [
        {
          "output_type": "stream",
          "name": "stdout",
          "text": [
            "Index(['Date', 'Week of the month', 'Day of the week', 'Non-urgent order',\n",
            "       'Urgent order', 'Order type A', 'Order type B', 'Order type C',\n",
            "       'Fiscal sector orders', 'Orders from the traffic controller sector',\n",
            "       'Banking orders (1)', 'Banking orders (2)', 'Banking orders (3)',\n",
            "       'Target (Total orders)'],\n",
            "      dtype='object')\n"
          ]
        },
        {
          "output_type": "execute_result",
          "data": {
            "text/html": [
              "\n",
              "  <div id=\"df-c83cfe4c-d057-4926-8b63-04392bf21fbe\">\n",
              "    <div class=\"colab-df-container\">\n",
              "      <div>\n",
              "<style scoped>\n",
              "    .dataframe tbody tr th:only-of-type {\n",
              "        vertical-align: middle;\n",
              "    }\n",
              "\n",
              "    .dataframe tbody tr th {\n",
              "        vertical-align: top;\n",
              "    }\n",
              "\n",
              "    .dataframe thead th {\n",
              "        text-align: right;\n",
              "    }\n",
              "</style>\n",
              "<table border=\"1\" class=\"dataframe\">\n",
              "  <thead>\n",
              "    <tr style=\"text-align: right;\">\n",
              "      <th></th>\n",
              "      <th>Date</th>\n",
              "      <th>Week of the month</th>\n",
              "      <th>Day of the week</th>\n",
              "      <th>Non-urgent order</th>\n",
              "      <th>Urgent order</th>\n",
              "      <th>Order type A</th>\n",
              "      <th>Order type B</th>\n",
              "      <th>Order type C</th>\n",
              "      <th>Fiscal sector orders</th>\n",
              "      <th>Orders from the traffic controller sector</th>\n",
              "      <th>Banking orders (1)</th>\n",
              "      <th>Banking orders (2)</th>\n",
              "      <th>Banking orders (3)</th>\n",
              "      <th>Target (Total orders)</th>\n",
              "    </tr>\n",
              "  </thead>\n",
              "  <tbody>\n",
              "    <tr>\n",
              "      <th>0</th>\n",
              "      <td>2015-01-07</td>\n",
              "      <td>1</td>\n",
              "      <td>4</td>\n",
              "      <td>316.307</td>\n",
              "      <td>223.270</td>\n",
              "      <td>61.543</td>\n",
              "      <td>175.586</td>\n",
              "      <td>302.448</td>\n",
              "      <td>0.000</td>\n",
              "      <td>65556</td>\n",
              "      <td>44914</td>\n",
              "      <td>188411</td>\n",
              "      <td>14793</td>\n",
              "      <td>539.577</td>\n",
              "    </tr>\n",
              "    <tr>\n",
              "      <th>1</th>\n",
              "      <td>2015-01-08</td>\n",
              "      <td>1</td>\n",
              "      <td>5</td>\n",
              "      <td>128.633</td>\n",
              "      <td>96.042</td>\n",
              "      <td>38.058</td>\n",
              "      <td>56.037</td>\n",
              "      <td>130.580</td>\n",
              "      <td>0.000</td>\n",
              "      <td>40419</td>\n",
              "      <td>21399</td>\n",
              "      <td>89461</td>\n",
              "      <td>7679</td>\n",
              "      <td>224.675</td>\n",
              "    </tr>\n",
              "    <tr>\n",
              "      <th>2</th>\n",
              "      <td>2015-01-09</td>\n",
              "      <td>1</td>\n",
              "      <td>6</td>\n",
              "      <td>43.651</td>\n",
              "      <td>84.375</td>\n",
              "      <td>21.826</td>\n",
              "      <td>25.125</td>\n",
              "      <td>82.461</td>\n",
              "      <td>1.386</td>\n",
              "      <td>11992</td>\n",
              "      <td>3452</td>\n",
              "      <td>21305</td>\n",
              "      <td>14947</td>\n",
              "      <td>129.412</td>\n",
              "    </tr>\n",
              "  </tbody>\n",
              "</table>\n",
              "</div>\n",
              "      <button class=\"colab-df-convert\" onclick=\"convertToInteractive('df-c83cfe4c-d057-4926-8b63-04392bf21fbe')\"\n",
              "              title=\"Convert this dataframe to an interactive table.\"\n",
              "              style=\"display:none;\">\n",
              "        \n",
              "  <svg xmlns=\"http://www.w3.org/2000/svg\" height=\"24px\"viewBox=\"0 0 24 24\"\n",
              "       width=\"24px\">\n",
              "    <path d=\"M0 0h24v24H0V0z\" fill=\"none\"/>\n",
              "    <path d=\"M18.56 5.44l.94 2.06.94-2.06 2.06-.94-2.06-.94-.94-2.06-.94 2.06-2.06.94zm-11 1L8.5 8.5l.94-2.06 2.06-.94-2.06-.94L8.5 2.5l-.94 2.06-2.06.94zm10 10l.94 2.06.94-2.06 2.06-.94-2.06-.94-.94-2.06-.94 2.06-2.06.94z\"/><path d=\"M17.41 7.96l-1.37-1.37c-.4-.4-.92-.59-1.43-.59-.52 0-1.04.2-1.43.59L10.3 9.45l-7.72 7.72c-.78.78-.78 2.05 0 2.83L4 21.41c.39.39.9.59 1.41.59.51 0 1.02-.2 1.41-.59l7.78-7.78 2.81-2.81c.8-.78.8-2.07 0-2.86zM5.41 20L4 18.59l7.72-7.72 1.47 1.35L5.41 20z\"/>\n",
              "  </svg>\n",
              "      </button>\n",
              "      \n",
              "  <style>\n",
              "    .colab-df-container {\n",
              "      display:flex;\n",
              "      flex-wrap:wrap;\n",
              "      gap: 12px;\n",
              "    }\n",
              "\n",
              "    .colab-df-convert {\n",
              "      background-color: #E8F0FE;\n",
              "      border: none;\n",
              "      border-radius: 50%;\n",
              "      cursor: pointer;\n",
              "      display: none;\n",
              "      fill: #1967D2;\n",
              "      height: 32px;\n",
              "      padding: 0 0 0 0;\n",
              "      width: 32px;\n",
              "    }\n",
              "\n",
              "    .colab-df-convert:hover {\n",
              "      background-color: #E2EBFA;\n",
              "      box-shadow: 0px 1px 2px rgba(60, 64, 67, 0.3), 0px 1px 3px 1px rgba(60, 64, 67, 0.15);\n",
              "      fill: #174EA6;\n",
              "    }\n",
              "\n",
              "    [theme=dark] .colab-df-convert {\n",
              "      background-color: #3B4455;\n",
              "      fill: #D2E3FC;\n",
              "    }\n",
              "\n",
              "    [theme=dark] .colab-df-convert:hover {\n",
              "      background-color: #434B5C;\n",
              "      box-shadow: 0px 1px 3px 1px rgba(0, 0, 0, 0.15);\n",
              "      filter: drop-shadow(0px 1px 2px rgba(0, 0, 0, 0.3));\n",
              "      fill: #FFFFFF;\n",
              "    }\n",
              "  </style>\n",
              "\n",
              "      <script>\n",
              "        const buttonEl =\n",
              "          document.querySelector('#df-c83cfe4c-d057-4926-8b63-04392bf21fbe button.colab-df-convert');\n",
              "        buttonEl.style.display =\n",
              "          google.colab.kernel.accessAllowed ? 'block' : 'none';\n",
              "\n",
              "        async function convertToInteractive(key) {\n",
              "          const element = document.querySelector('#df-c83cfe4c-d057-4926-8b63-04392bf21fbe');\n",
              "          const dataTable =\n",
              "            await google.colab.kernel.invokeFunction('convertToInteractive',\n",
              "                                                     [key], {});\n",
              "          if (!dataTable) return;\n",
              "\n",
              "          const docLinkHtml = 'Like what you see? Visit the ' +\n",
              "            '<a target=\"_blank\" href=https://colab.research.google.com/notebooks/data_table.ipynb>data table notebook</a>'\n",
              "            + ' to learn more about interactive tables.';\n",
              "          element.innerHTML = '';\n",
              "          dataTable['output_type'] = 'display_data';\n",
              "          await google.colab.output.renderOutput(dataTable, element);\n",
              "          const docLink = document.createElement('div');\n",
              "          docLink.innerHTML = docLinkHtml;\n",
              "          element.appendChild(docLink);\n",
              "        }\n",
              "      </script>\n",
              "    </div>\n",
              "  </div>\n",
              "  "
            ],
            "text/plain": [
              "        Date  Week of the month  ...  Banking orders (3)  Target (Total orders)\n",
              "0 2015-01-07                  1  ...               14793                539.577\n",
              "1 2015-01-08                  1  ...                7679                224.675\n",
              "2 2015-01-09                  1  ...               14947                129.412\n",
              "\n",
              "[3 rows x 14 columns]"
            ]
          },
          "metadata": {},
          "execution_count": 3
        }
      ]
    },
    {
      "cell_type": "code",
      "source": [
        "# Check for any missing values\n",
        "Forecasting_data.isna().sum()"
      ],
      "metadata": {
        "colab": {
          "base_uri": "https://localhost:8080/"
        },
        "id": "Goyv6SLJkU5R",
        "outputId": "178718bd-6044-4632-a940-fa129f5730f5"
      },
      "execution_count": null,
      "outputs": [
        {
          "output_type": "execute_result",
          "data": {
            "text/plain": [
              "Date                                         0\n",
              "Week of the month                            0\n",
              "Day of the week                              0\n",
              "Non-urgent order                             0\n",
              "Urgent order                                 0\n",
              "Order type A                                 0\n",
              "Order type B                                 0\n",
              "Order type C                                 0\n",
              "Fiscal sector orders                         0\n",
              "Orders from the traffic controller sector    0\n",
              "Banking orders (1)                           0\n",
              "Banking orders (2)                           0\n",
              "Banking orders (3)                           0\n",
              "Target (Total orders)                        0\n",
              "dtype: int64"
            ]
          },
          "metadata": {},
          "execution_count": 6
        }
      ]
    },
    {
      "cell_type": "markdown",
      "source": [
        "Split the data into train and test subsets (Note: Time series data cannot be randomly subsampled):"
      ],
      "metadata": {
        "id": "a11jfjnUkHfz"
      }
    },
    {
      "cell_type": "code",
      "source": [
        "rate = 0.75\n",
        "index = int(rate * len(Forecasting_data))\n",
        "\n",
        "X_train = Forecasting_data.iloc[:index, 1:-1].values\n",
        "y_train = Forecasting_data.loc[:index-1, \"Target (Total orders)\"].values\n",
        "\n",
        "X_test = Forecasting_data.iloc[index:, 1:-1].values\n",
        "y_test = Forecasting_data.loc[index:, \"Target (Total orders)\"].values\n",
        "X_train.shape"
      ],
      "metadata": {
        "id": "WmAdZuOqiVQ9",
        "colab": {
          "base_uri": "https://localhost:8080/"
        },
        "outputId": "4afeb182-6d83-49e9-d13f-9fe64580f854"
      },
      "execution_count": null,
      "outputs": [
        {
          "output_type": "execute_result",
          "data": {
            "text/plain": [
              "(45, 12)"
            ]
          },
          "metadata": {},
          "execution_count": 8
        }
      ]
    },
    {
      "cell_type": "code",
      "source": [
        "X_test.shape"
      ],
      "metadata": {
        "colab": {
          "base_uri": "https://localhost:8080/"
        },
        "id": "7EQ0TEc7Qfq4",
        "outputId": "d159d350-bd94-45bd-981c-91a515923123"
      },
      "execution_count": null,
      "outputs": [
        {
          "output_type": "execute_result",
          "data": {
            "text/plain": [
              "(15, 12)"
            ]
          },
          "metadata": {},
          "execution_count": 11
        }
      ]
    },
    {
      "cell_type": "markdown",
      "source": [
        "Train linear regression model:"
      ],
      "metadata": {
        "id": "wK3123z_CFai"
      }
    },
    {
      "cell_type": "code",
      "source": [
        "# create linear regression object\n",
        "linear_reg = linear_model.LinearRegression(fit_intercept=True)\n",
        "# fit the linear regression model to your training data\n",
        "linear_reg.fit(X_train, y_train)\n",
        "print(f\"intercept:{linear_reg.intercept_}\\n\")\n",
        "print(f\"Estiamted coefficients:{linear_reg.coef_}\")"
      ],
      "metadata": {
        "id": "cbybQM3fCHxk",
        "colab": {
          "base_uri": "https://localhost:8080/"
        },
        "outputId": "94233dc9-dfce-4d81-d5a9-eab8990f92a9"
      },
      "execution_count": null,
      "outputs": [
        {
          "output_type": "stream",
          "name": "stdout",
          "text": [
            "intercept:-1.7621459846850485e-12\n",
            "\n",
            "Estiamted coefficients:[-9.93206053e-14 -9.29070189e-14  4.17648998e-14  3.52914070e-14\n",
            "  1.00000000e+00  1.00000000e+00  1.00000000e+00  2.08788698e-15\n",
            " -4.57058978e-18 -3.14418630e-17 -6.23416249e-17 -4.93583039e-17]\n"
          ]
        }
      ]
    },
    {
      "cell_type": "markdown",
      "source": [
        "Linear Regression Equation:   $ŷ = β_{0} + \\beta_{1} X_{1} + ...+ \\beta_{k} X_{k}$\n",
        "\n",
        "Test the prediction performance:"
      ],
      "metadata": {
        "id": "tvZ0BynRnGtq"
      }
    },
    {
      "cell_type": "code",
      "source": [
        "y_pred = linear_reg.predict(X_test)\n",
        "print(y_pred)\n",
        "\n",
        "MSE = np.mean(np.square(y_pred - y_test))\n",
        "print(f\"\\ncalculated MSE: {MSE}\")\n",
        "RMSE = np.sqrt(np.mean((y_pred - y_test)**2))\n",
        "print(f\"calculated RMSE: {RMSE}\\n\")\n",
        "\n",
        "# using sklearn metrics\n",
        "MSE_sk = metrics.mean_squared_error(y_test, y_pred)\n",
        "print(f\"MSE: {MSE_sk}\")\n",
        "MAE_sk = metrics.mean_absolute_error(y_test, y_pred)\n",
        "print(f\"MAE: {MAE_sk}\")\n",
        "MAPE_sk = metrics.mean_absolute_percentage_error(y_test, y_pred)\n",
        "print(f\"MAPE: {MAPE_sk}\")"
      ],
      "metadata": {
        "colab": {
          "base_uri": "https://localhost:8080/"
        },
        "id": "f0n1oJGErjsy",
        "outputId": "ad38433c-3da4-44f7-caef-64548f9d1468"
      },
      "execution_count": null,
      "outputs": [
        {
          "output_type": "stream",
          "name": "stdout",
          "text": [
            "[357.394 259.246 244.235 402.607 255.061 342.606 268.64  188.601 202.022\n",
            " 213.509 316.849 286.412 303.447 304.95  331.9  ]\n",
            "\n",
            "calculated MSE: 1.0827664971348422e-24\n",
            "calculated RMSE: 1.0405606648027987e-12\n",
            "\n",
            "MSE: 1.0827664971348422e-24\n",
            "MAE: 8.678095279416691e-13\n",
            "MAPE: 3.044450578385997e-15\n"
          ]
        }
      ]
    },
    {
      "cell_type": "markdown",
      "source": [
        "Plot the predicted and actual values on the test set:"
      ],
      "metadata": {
        "id": "Ta98yqIXxk3Q"
      }
    },
    {
      "cell_type": "code",
      "source": [
        "plt.figure(figsize=(8,5))\n",
        "\n",
        "plt.plot(y_test, label= 'Test')\n",
        "plt.plot(y_pred, label= 'Prediction')\n",
        "plt.title('Linnear Regression Model Predictions', fontdict={'fontsize':20})\n",
        "plt.xlabel('Time')\n",
        "plt.ylabel('Total Order')\n",
        "plt.legend()\n",
        "plt.show()"
      ],
      "metadata": {
        "colab": {
          "base_uri": "https://localhost:8080/",
          "height": 355
        },
        "id": "r0uh0isKuu7A",
        "outputId": "559f9a83-586d-4b80-a432-723bc12690ab"
      },
      "execution_count": null,
      "outputs": [
        {
          "output_type": "display_data",
          "data": {
            "image/png": "[encoded data removed]",
            "text/plain": [
              "<Figure size 576x360 with 1 Axes>"
            ]
          },
          "metadata": {
            "needs_background": "light"
          }
        }
      ]
    },
    {
      "cell_type": "code",
      "source": [],
      "metadata": {
        "id": "Dyfi1NA7x4aJ"
      },
      "execution_count": null,
      "outputs": []
    },
    {
      "cell_type": "markdown",
      "source": [
        "## Logistic Regression for Classification"
      ],
      "metadata": {
        "id": "dDgISHnjx49Q"
      }
    },
    {
      "cell_type": "markdown",
      "source": [
        "###Read the Data:"
      ],
      "metadata": {
        "id": "zvFoqxSfx49R"
      }
    },
    {
      "cell_type": "code",
      "source": [
        "# Divorce Dataset\n",
        "# classification_data = pd.read_excel(\"/content/Divorce Decision (classification).xlsx\", sheet_name=0)\n",
        "\n",
        "# # Nasa Dataset\n",
        "classification_data = pd.read_csv(\"/content/nasa.csv\")\n",
        "\n",
        "print(classification_data.columns)\n",
        "classification_data.head(3)"
      ],
      "metadata": {
        "colab": {
          "base_uri": "https://localhost:8080/",
          "height": 451
        },
        "outputId": "054a7c40-1196-4e4f-bb0b-90e8c2316d0d",
        "id": "7En9EWmsx49S"
      },
      "execution_count": null,
      "outputs": [
        {
          "output_type": "stream",
          "name": "stdout",
          "text": [
            "Index(['Name', 'Eccentricity', 'Inclination', 'Neo Reference ID',\n",
            "       'Absolute Magnitude', 'Est Dia in Feet(min)', 'Est Dia in Feet(max)',\n",
            "       'Close Approach Date', 'Epoch Date Close Approach',\n",
            "       'Relative Velocity km per sec', 'Relative Velocity km per hr',\n",
            "       'Miles per hour', 'Miss Dist.(Astronomical)', 'Miss Dist.(lunar)',\n",
            "       'Orbit Uncertainity', 'Minimum Orbit Intersection',\n",
            "       'Jupiter Tisserand Invariant', 'Semi Major Axis', 'Asc Node Longitude',\n",
            "       'Orbital Period', 'Perihelion Distance', 'Perihelion Arg',\n",
            "       'Aphelion Dist', 'Perihelion Time', 'Mean Anomaly', 'Mean Motion',\n",
            "       'Hazardous'],\n",
            "      dtype='object')\n"
          ]
        },
        {
          "output_type": "execute_result",
          "data": {
            "text/html": [
              "\n",
              "  <div id=\"df-9ce4a966-0b64-44a9-a148-a67d9f005ee3\">\n",
              "    <div class=\"colab-df-container\">\n",
              "      <div>\n",
              "<style scoped>\n",
              "    .dataframe tbody tr th:only-of-type {\n",
              "        vertical-align: middle;\n",
              "    }\n",
              "\n",
              "    .dataframe tbody tr th {\n",
              "        vertical-align: top;\n",
              "    }\n",
              "\n",
              "    .dataframe thead th {\n",
              "        text-align: right;\n",
              "    }\n",
              "</style>\n",
              "<table border=\"1\" class=\"dataframe\">\n",
              "  <thead>\n",
              "    <tr style=\"text-align: right;\">\n",
              "      <th></th>\n",
              "      <th>Name</th>\n",
              "      <th>Eccentricity</th>\n",
              "      <th>Inclination</th>\n",
              "      <th>Neo Reference ID</th>\n",
              "      <th>Absolute Magnitude</th>\n",
              "      <th>Est Dia in Feet(min)</th>\n",
              "      <th>Est Dia in Feet(max)</th>\n",
              "      <th>Close Approach Date</th>\n",
              "      <th>Epoch Date Close Approach</th>\n",
              "      <th>Relative Velocity km per sec</th>\n",
              "      <th>Relative Velocity km per hr</th>\n",
              "      <th>Miles per hour</th>\n",
              "      <th>Miss Dist.(Astronomical)</th>\n",
              "      <th>Miss Dist.(lunar)</th>\n",
              "      <th>Orbit Uncertainity</th>\n",
              "      <th>Minimum Orbit Intersection</th>\n",
              "      <th>Jupiter Tisserand Invariant</th>\n",
              "      <th>Semi Major Axis</th>\n",
              "      <th>Asc Node Longitude</th>\n",
              "      <th>Orbital Period</th>\n",
              "      <th>Perihelion Distance</th>\n",
              "      <th>Perihelion Arg</th>\n",
              "      <th>Aphelion Dist</th>\n",
              "      <th>Perihelion Time</th>\n",
              "      <th>Mean Anomaly</th>\n",
              "      <th>Mean Motion</th>\n",
              "      <th>Hazardous</th>\n",
              "    </tr>\n",
              "  </thead>\n",
              "  <tbody>\n",
              "    <tr>\n",
              "      <th>0</th>\n",
              "      <td>3723955</td>\n",
              "      <td>0.351674</td>\n",
              "      <td>28.412996</td>\n",
              "      <td>3723955</td>\n",
              "      <td>21.3</td>\n",
              "      <td>479.225620</td>\n",
              "      <td>1071.581063</td>\n",
              "      <td>12784</td>\n",
              "      <td>7.890000e+11</td>\n",
              "      <td>18.113985</td>\n",
              "      <td>65210.34609</td>\n",
              "      <td>40519.17311</td>\n",
              "      <td>0.383014</td>\n",
              "      <td>148.992630</td>\n",
              "      <td>3</td>\n",
              "      <td>0.186935</td>\n",
              "      <td>5.457</td>\n",
              "      <td>1.107776</td>\n",
              "      <td>136.717242</td>\n",
              "      <td>425.869294</td>\n",
              "      <td>0.718200</td>\n",
              "      <td>313.091975</td>\n",
              "      <td>1.497352</td>\n",
              "      <td>2457794.969</td>\n",
              "      <td>173.741112</td>\n",
              "      <td>0.845330</td>\n",
              "      <td>0</td>\n",
              "    </tr>\n",
              "    <tr>\n",
              "      <th>1</th>\n",
              "      <td>2446862</td>\n",
              "      <td>0.348248</td>\n",
              "      <td>4.237961</td>\n",
              "      <td>2446862</td>\n",
              "      <td>20.3</td>\n",
              "      <td>759.521423</td>\n",
              "      <td>1698.341531</td>\n",
              "      <td>12791</td>\n",
              "      <td>7.900000e+11</td>\n",
              "      <td>7.590711</td>\n",
              "      <td>27326.56018</td>\n",
              "      <td>16979.66180</td>\n",
              "      <td>0.050956</td>\n",
              "      <td>19.821890</td>\n",
              "      <td>0</td>\n",
              "      <td>0.043058</td>\n",
              "      <td>4.557</td>\n",
              "      <td>1.458824</td>\n",
              "      <td>259.475979</td>\n",
              "      <td>643.580228</td>\n",
              "      <td>0.950791</td>\n",
              "      <td>248.415038</td>\n",
              "      <td>1.966857</td>\n",
              "      <td>2458120.468</td>\n",
              "      <td>292.893654</td>\n",
              "      <td>0.559371</td>\n",
              "      <td>1</td>\n",
              "    </tr>\n",
              "    <tr>\n",
              "      <th>2</th>\n",
              "      <td>3671135</td>\n",
              "      <td>0.563441</td>\n",
              "      <td>17.927751</td>\n",
              "      <td>3671135</td>\n",
              "      <td>19.6</td>\n",
              "      <td>1048.431420</td>\n",
              "      <td>2344.363926</td>\n",
              "      <td>12798</td>\n",
              "      <td>7.900000e+11</td>\n",
              "      <td>10.808844</td>\n",
              "      <td>38911.83825</td>\n",
              "      <td>24178.30305</td>\n",
              "      <td>0.392785</td>\n",
              "      <td>152.793274</td>\n",
              "      <td>1</td>\n",
              "      <td>0.272213</td>\n",
              "      <td>4.724</td>\n",
              "      <td>1.323532</td>\n",
              "      <td>178.971951</td>\n",
              "      <td>556.160556</td>\n",
              "      <td>0.577800</td>\n",
              "      <td>198.145969</td>\n",
              "      <td>2.069265</td>\n",
              "      <td>2458009.403</td>\n",
              "      <td>354.237368</td>\n",
              "      <td>0.647295</td>\n",
              "      <td>0</td>\n",
              "    </tr>\n",
              "  </tbody>\n",
              "</table>\n",
              "</div>\n",
              "      <button class=\"colab-df-convert\" onclick=\"convertToInteractive('df-9ce4a966-0b64-44a9-a148-a67d9f005ee3')\"\n",
              "              title=\"Convert this dataframe to an interactive table.\"\n",
              "              style=\"display:none;\">\n",
              "        \n",
              "  <svg xmlns=\"http://www.w3.org/2000/svg\" height=\"24px\"viewBox=\"0 0 24 24\"\n",
              "       width=\"24px\">\n",
              "    <path d=\"M0 0h24v24H0V0z\" fill=\"none\"/>\n",
              "    <path d=\"M18.56 5.44l.94 2.06.94-2.06 2.06-.94-2.06-.94-.94-2.06-.94 2.06-2.06.94zm-11 1L8.5 8.5l.94-2.06 2.06-.94-2.06-.94L8.5 2.5l-.94 2.06-2.06.94zm10 10l.94 2.06.94-2.06 2.06-.94-2.06-.94-.94-2.06-.94 2.06-2.06.94z\"/><path d=\"M17.41 7.96l-1.37-1.37c-.4-.4-.92-.59-1.43-.59-.52 0-1.04.2-1.43.59L10.3 9.45l-7.72 7.72c-.78.78-.78 2.05 0 2.83L4 21.41c.39.39.9.59 1.41.59.51 0 1.02-.2 1.41-.59l7.78-7.78 2.81-2.81c.8-.78.8-2.07 0-2.86zM5.41 20L4 18.59l7.72-7.72 1.47 1.35L5.41 20z\"/>\n",
              "  </svg>\n",
              "      </button>\n",
              "      \n",
              "  <style>\n",
              "    .colab-df-container {\n",
              "      display:flex;\n",
              "      flex-wrap:wrap;\n",
              "      gap: 12px;\n",
              "    }\n",
              "\n",
              "    .colab-df-convert {\n",
              "      background-color: #E8F0FE;\n",
              "      border: none;\n",
              "      border-radius: 50%;\n",
              "      cursor: pointer;\n",
              "      display: none;\n",
              "      fill: #1967D2;\n",
              "      height: 32px;\n",
              "      padding: 0 0 0 0;\n",
              "      width: 32px;\n",
              "    }\n",
              "\n",
              "    .colab-df-convert:hover {\n",
              "      background-color: #E2EBFA;\n",
              "      box-shadow: 0px 1px 2px rgba(60, 64, 67, 0.3), 0px 1px 3px 1px rgba(60, 64, 67, 0.15);\n",
              "      fill: #174EA6;\n",
              "    }\n",
              "\n",
              "    [theme=dark] .colab-df-convert {\n",
              "      background-color: #3B4455;\n",
              "      fill: #D2E3FC;\n",
              "    }\n",
              "\n",
              "    [theme=dark] .colab-df-convert:hover {\n",
              "      background-color: #434B5C;\n",
              "      box-shadow: 0px 1px 3px 1px rgba(0, 0, 0, 0.15);\n",
              "      filter: drop-shadow(0px 1px 2px rgba(0, 0, 0, 0.3));\n",
              "      fill: #FFFFFF;\n",
              "    }\n",
              "  </style>\n",
              "\n",
              "      <script>\n",
              "        const buttonEl =\n",
              "          document.querySelector('#df-9ce4a966-0b64-44a9-a148-a67d9f005ee3 button.colab-df-convert');\n",
              "        buttonEl.style.display =\n",
              "          google.colab.kernel.accessAllowed ? 'block' : 'none';\n",
              "\n",
              "        async function convertToInteractive(key) {\n",
              "          const element = document.querySelector('#df-9ce4a966-0b64-44a9-a148-a67d9f005ee3');\n",
              "          const dataTable =\n",
              "            await google.colab.kernel.invokeFunction('convertToInteractive',\n",
              "                                                     [key], {});\n",
              "          if (!dataTable) return;\n",
              "\n",
              "          const docLinkHtml = 'Like what you see? Visit the ' +\n",
              "            '<a target=\"_blank\" href=https://colab.research.google.com/notebooks/data_table.ipynb>data table notebook</a>'\n",
              "            + ' to learn more about interactive tables.';\n",
              "          element.innerHTML = '';\n",
              "          dataTable['output_type'] = 'display_data';\n",
              "          await google.colab.output.renderOutput(dataTable, element);\n",
              "          const docLink = document.createElement('div');\n",
              "          docLink.innerHTML = docLinkHtml;\n",
              "          element.appendChild(docLink);\n",
              "        }\n",
              "      </script>\n",
              "    </div>\n",
              "  </div>\n",
              "  "
            ],
            "text/plain": [
              "      Name  Eccentricity  Inclination  ...  Mean Anomaly  Mean Motion  Hazardous\n",
              "0  3723955      0.351674    28.412996  ...    173.741112     0.845330          0\n",
              "1  2446862      0.348248     4.237961  ...    292.893654     0.559371          1\n",
              "2  3671135      0.563441    17.927751  ...    354.237368     0.647295          0\n",
              "\n",
              "[3 rows x 27 columns]"
            ]
          },
          "metadata": {},
          "execution_count": 16
        }
      ]
    },
    {
      "cell_type": "code",
      "source": [
        "# sample size\n",
        "len(classification_data)"
      ],
      "metadata": {
        "colab": {
          "base_uri": "https://localhost:8080/"
        },
        "id": "y4NsWI4jTzyT",
        "outputId": "1fa1dd74-b07a-4974-af01-598ff1bf77b6"
      },
      "execution_count": null,
      "outputs": [
        {
          "output_type": "execute_result",
          "data": {
            "text/plain": [
              "462"
            ]
          },
          "metadata": {},
          "execution_count": 17
        }
      ]
    },
    {
      "cell_type": "code",
      "source": [
        "# Check for any missing values\n",
        "classification_data.info()"
      ],
      "metadata": {
        "id": "TpKwsAbYx49T",
        "colab": {
          "base_uri": "https://localhost:8080/"
        },
        "outputId": "d64fba16-04a8-498f-bfcb-d0c73e2f8427"
      },
      "execution_count": null,
      "outputs": [
        {
          "output_type": "stream",
          "name": "stdout",
          "text": [
            "<class 'pandas.core.frame.DataFrame'>\n",
            "RangeIndex: 462 entries, 0 to 461\n",
            "Data columns (total 27 columns):\n",
            " #   Column                        Non-Null Count  Dtype  \n",
            "---  ------                        --------------  -----  \n",
            " 0   Name                          462 non-null    int64  \n",
            " 1   Eccentricity                  462 non-null    float64\n",
            " 2   Inclination                   462 non-null    float64\n",
            " 3   Neo Reference ID              462 non-null    int64  \n",
            " 4   Absolute Magnitude            462 non-null    float64\n",
            " 5   Est Dia in Feet(min)          462 non-null    float64\n",
            " 6   Est Dia in Feet(max)          462 non-null    float64\n",
            " 7   Close Approach Date           462 non-null    int64  \n",
            " 8   Epoch Date Close Approach     462 non-null    float64\n",
            " 9   Relative Velocity km per sec  462 non-null    float64\n",
            " 10  Relative Velocity km per hr   462 non-null    float64\n",
            " 11  Miles per hour                462 non-null    float64\n",
            " 12  Miss Dist.(Astronomical)      462 non-null    float64\n",
            " 13  Miss Dist.(lunar)             462 non-null    float64\n",
            " 14  Orbit Uncertainity            462 non-null    int64  \n",
            " 15  Minimum Orbit Intersection    462 non-null    float64\n",
            " 16  Jupiter Tisserand Invariant   462 non-null    float64\n",
            " 17  Semi Major Axis               462 non-null    float64\n",
            " 18  Asc Node Longitude            462 non-null    float64\n",
            " 19  Orbital Period                462 non-null    float64\n",
            " 20  Perihelion Distance           462 non-null    float64\n",
            " 21  Perihelion Arg                462 non-null    float64\n",
            " 22  Aphelion Dist                 462 non-null    float64\n",
            " 23  Perihelion Time               462 non-null    float64\n",
            " 24  Mean Anomaly                  462 non-null    float64\n",
            " 25  Mean Motion                   462 non-null    float64\n",
            " 26  Hazardous                     462 non-null    int64  \n",
            "dtypes: float64(22), int64(5)\n",
            "memory usage: 97.6 KB\n"
          ]
        }
      ]
    },
    {
      "cell_type": "code",
      "source": [
        "# check the frequency of each class\n",
        "plt.hist(classification_data[\"Hazardous\"], bins=3)"
      ],
      "metadata": {
        "colab": {
          "base_uri": "https://localhost:8080/",
          "height": 318
        },
        "id": "3nKxfl7w8TW_",
        "outputId": "efe894f2-0406-43b4-97fe-e5082acab60b"
      },
      "execution_count": null,
      "outputs": [
        {
          "output_type": "execute_result",
          "data": {
            "text/plain": [
              "(array([242.,   0., 220.]),\n",
              " array([0.        , 0.33333333, 0.66666667, 1.        ]),\n",
              " <a list of 3 Patch objects>)"
            ]
          },
          "metadata": {},
          "execution_count": 19
        },
        {
          "output_type": "display_data",
          "data": {
            "image/png": "[encoded data removed]",
            "text/plain": [
              "<Figure size 432x288 with 1 Axes>"
            ]
          },
          "metadata": {
            "needs_background": "light"
          }
        }
      ]
    },
    {
      "cell_type": "markdown",
      "source": [
        "###Randomly split the data into train and test subsets"
      ],
      "metadata": {
        "id": "M6xEmdZUx49U"
      }
    },
    {
      "cell_type": "code",
      "source": [
        "from sklearn.model_selection import train_test_split\n",
        "\n",
        "# uncomment if using Divorce Dataset\n",
        "# X = classification_data.iloc[:, :-1]\n",
        "# y = classification_data[\"Class\"]\n",
        "\n",
        "# uncomment if using Nasa Dataset\n",
        "X = classification_data.iloc[:, 1:-1]\n",
        "y = classification_data[\"Hazardous\"]\n",
        "\n",
        "print(f\"Shape of dataset: {classification_data.shape}\")\n",
        "print(f\"Shape of X: {X.shape}\")\n",
        "print(f\"Shape of y: {y.shape}\")\n",
        "\n",
        "X_train, X_test, y_train, y_test = train_test_split(X, y, test_size = 0.2, random_state = 123)\n",
        "print(f\"Shape of X_train: {X_train.shape}\")"
      ],
      "metadata": {
        "id": "NURtEmyfx49U",
        "colab": {
          "base_uri": "https://localhost:8080/"
        },
        "outputId": "df668b94-46a7-4b29-de14-6f58d6152243"
      },
      "execution_count": null,
      "outputs": [
        {
          "output_type": "stream",
          "name": "stdout",
          "text": [
            "Shape of dataset: (462, 27)\n",
            "Shape of X: (462, 25)\n",
            "Shape of y: (462,)\n",
            "Shape of X_train: (369, 25)\n"
          ]
        }
      ]
    },
    {
      "cell_type": "markdown",
      "source": [
        "###Train logistic regression classifier:\n",
        "\n",
        "Logit Equation:   $log odds = β_{0} + \\beta_{1} X_{1} + ...+ \\beta_{k} X_{k}$\n",
        "\n",
        "Logistic Regression Equation:\n",
        "## $ p = \\frac{1}{1+ e^{-(β_{0} + \\beta_{1} X_{1} + ...+ \\beta_{k} X_{k})}}$"
      ],
      "metadata": {
        "id": "iENXZnB4x49V"
      }
    },
    {
      "cell_type": "code",
      "source": [
        "# create linear regression object\n",
        "logistic_reg = linear_model.LogisticRegression()\n",
        "# fit the linear regression model to your training data\n",
        "logistic_reg.fit(X_train, y_train)\n",
        "print(f\"intercept:{logistic_reg.intercept_}\\n\")\n",
        "print(f\"Estiamted coefficients:{logistic_reg.coef_}\")"
      ],
      "metadata": {
        "colab": {
          "base_uri": "https://localhost:8080/"
        },
        "outputId": "f5e3f9e3-75d1-4d3d-852c-13b9bfbeed3e",
        "id": "1Anqqlz7x49W"
      },
      "execution_count": null,
      "outputs": [
        {
          "output_type": "stream",
          "name": "stdout",
          "text": [
            "intercept:[-2.38321894e-25]\n",
            "\n",
            "Estiamted coefficients:[[ 1.74131655e-25 -3.36198203e-24 -1.65011801e-18 -1.10516961e-23\n",
            "   9.34690562e-22  2.09003163e-21 -1.95509079e-21 -9.37666467e-14\n",
            "   3.01257290e-24  1.08452624e-20  6.73882432e-21 -2.18767999e-26\n",
            "  -8.51007505e-24 -6.14249487e-24 -1.83238138e-25 -1.56348105e-24\n",
            "  -1.85009257e-25 -2.27456419e-25 -4.47768757e-23 -4.76332074e-25\n",
            "  -6.18422426e-23  1.06313559e-25 -5.86205868e-19 -4.77463161e-23\n",
            "  -2.31034340e-25]]\n"
          ]
        }
      ]
    },
    {
      "cell_type": "markdown",
      "source": [
        "###Test the prediction performance:\n",
        "\n",
        "![](https://drive.google.com/uc?export=view&id=1MAzhijNiex7OpXI8ZEwNjJ6005jmnGwT) ![](https://drive.google.com/uc?export=view&id=1xtpS0KAt9j5gqRL4ZB1k3n5dHxJG7fVq)"
      ],
      "metadata": {
        "id": "pzGF5Hzgx49W"
      }
    },
    {
      "cell_type": "code",
      "source": [
        "y_pred = logistic_reg.predict(X_test)\n",
        "print(y_pred)\n",
        "probalilities = logistic_reg.predict_proba(X_test)\n",
        "print(f\"Estiamted Probabilities:{probalilities}\")"
      ],
      "metadata": {
        "id": "hs9F4DpUx49X",
        "colab": {
          "base_uri": "https://localhost:8080/"
        },
        "outputId": "8a6606a6-05bd-47eb-cc0a-b4938b8871ca"
      },
      "execution_count": null,
      "outputs": [
        {
          "output_type": "stream",
          "name": "stdout",
          "text": [
            "[0 0 0 0 0 0 0 0 0 0 0 0 0 0 0 0 0 0 0 0 0 0 0 0 0 0 0 0 0 0 0 0 0 0 0 0 0\n",
            " 0 0 0 0 0 0 0 0 0 0 0 0 0 0 0 0 0 0 0 0 0 0 0 0 0 0 0 0 0 0 0 0 0 0 0 0 0\n",
            " 0 0 0 0 0 0 0 0 0 0 0 0 0 0 0 0 0 0 0]\n",
            "Estiamted Probabilities:[[0.51989147 0.48010853]\n",
            " [0.52087438 0.47912562]\n",
            " [0.51944676 0.48055324]\n",
            " [0.52459388 0.47540612]\n",
            " [0.52482773 0.47517227]\n",
            " [0.53253786 0.46746214]\n",
            " [0.52141257 0.47858743]\n",
            " [0.52108498 0.47891502]\n",
            " [0.52833402 0.47166598]\n",
            " [0.51886158 0.48113842]\n",
            " [0.52412616 0.47587384]\n",
            " [0.52482773 0.47517227]\n",
            " [0.53253786 0.46746214]\n",
            " [0.52080418 0.47919582]\n",
            " [0.53207099 0.46792901]\n",
            " [0.52950218 0.47049782]\n",
            " [0.52078078 0.47921922]\n",
            " [0.52213789 0.47786211]\n",
            " [0.52926858 0.47073142]\n",
            " [0.53043648 0.46956352]\n",
            " [0.52599678 0.47400322]\n",
            " [0.51904885 0.48095115]\n",
            " [0.51893181 0.48106819]\n",
            " [0.52716555 0.47283445]\n",
            " [0.53417147 0.46582853]\n",
            " [0.52926858 0.47073142]\n",
            " [0.52120198 0.47879802]\n",
            " [0.52066377 0.47933623]\n",
            " [0.51888499 0.48111501]\n",
            " [0.53207099 0.46792901]\n",
            " [0.51944676 0.48055324]\n",
            " [0.52459388 0.47540612]\n",
            " [0.51944676 0.48055324]\n",
            " [0.5236584  0.4763416 ]\n",
            " [0.52482773 0.47517227]\n",
            " [0.52739927 0.47260073]\n",
            " [0.52337772 0.47662228]\n",
            " [0.52739927 0.47260073]\n",
            " [0.52529538 0.47470462]\n",
            " [0.51989147 0.48010853]\n",
            " [0.5234245  0.4765755 ]\n",
            " [0.51881477 0.48118523]\n",
            " [0.52739927 0.47260073]\n",
            " [0.52739927 0.47260073]\n",
            " [0.52786667 0.47213333]\n",
            " [0.52412616 0.47587384]\n",
            " [0.53277128 0.46722872]\n",
            " [0.51907225 0.48092775]\n",
            " [0.53347144 0.46652856]\n",
            " [0.52195072 0.47804928]\n",
            " [0.52195072 0.47804928]\n",
            " [0.5236584  0.4763416 ]\n",
            " [0.51853386 0.48146614]\n",
            " [0.51965742 0.48034258]\n",
            " [0.52305025 0.47694975]\n",
            " [0.53253786 0.46746214]\n",
            " [0.51963401 0.48036599]\n",
            " [0.52599678 0.47400322]\n",
            " [0.52295668 0.47704332]\n",
            " [0.52856768 0.47143232]\n",
            " [0.52164656 0.47835344]\n",
            " [0.52307364 0.47692636]\n",
            " [0.52693182 0.47306818]\n",
            " [0.53323807 0.46676193]\n",
            " [0.52312042 0.47687958]\n",
            " [0.52333094 0.47666906]\n",
            " [0.51993828 0.48006172]\n",
            " [0.53417147 0.46582853]\n",
            " [0.5337048  0.4662952 ]\n",
            " [0.52856768 0.47143232]\n",
            " [0.52599678 0.47400322]\n",
            " [0.52646432 0.47353568]\n",
            " [0.53323807 0.46676193]\n",
            " [0.52330755 0.47669245]\n",
            " [0.52623056 0.47376944]\n",
            " [0.51848704 0.48151296]\n",
            " [0.53043648 0.46956352]\n",
            " [0.53253786 0.46746214]\n",
            " [0.53323807 0.46676193]\n",
            " [0.52213789 0.47786211]\n",
            " [0.51895522 0.48104478]\n",
            " [0.53207099 0.46792901]\n",
            " [0.5234245  0.4765755 ]\n",
            " [0.53207099 0.46792901]\n",
            " [0.53207099 0.46792901]\n",
            " [0.52321399 0.47678601]\n",
            " [0.52950218 0.47049782]\n",
            " [0.52552919 0.47447081]\n",
            " [0.52950218 0.47049782]\n",
            " [0.52926858 0.47073142]\n",
            " [0.52244202 0.47755798]\n",
            " [0.52202091 0.47797909]\n",
            " [0.52295668 0.47704332]]\n"
          ]
        }
      ]
    },
    {
      "cell_type": "markdown",
      "source": [
        "The `roc_auc_score` function requires the true binary value and the target scores, which can either be probability estimates of the positive class, confidence values, or binary decisions."
      ],
      "metadata": {
        "id": "zZb5b5GpFfvj"
      }
    },
    {
      "cell_type": "code",
      "source": [
        "# using sklearn metrics\n",
        "acc = metrics.accuracy_score(y_test, y_pred)\n",
        "print(f\"Accuracy: {acc}\\n\")\n",
        "\n",
        "auc = metrics.roc_auc_score(y_test, probalilities[:, 1])\n",
        "print(f\"Area Under ROC curve (AUC): {auc}\\n\")\n",
        "\n",
        "confusion_mat = metrics.confusion_matrix(y_test, y_pred)\n",
        "confusion_mat"
      ],
      "metadata": {
        "colab": {
          "base_uri": "https://localhost:8080/"
        },
        "id": "Rad9y-Ga_IC4",
        "outputId": "f180556b-c560-4048-c499-b93d36f6c00e"
      },
      "execution_count": null,
      "outputs": [
        {
          "output_type": "stream",
          "name": "stdout",
          "text": [
            "Accuracy: 0.45161290322580644\n",
            "\n",
            "Area Under ROC curve (AUC): 0.31746031746031744\n",
            "\n"
          ]
        },
        {
          "output_type": "execute_result",
          "data": {
            "text/plain": [
              "array([[42,  0],\n",
              "       [51,  0]])"
            ]
          },
          "metadata": {},
          "execution_count": 25
        }
      ]
    },
    {
      "cell_type": "markdown",
      "source": [
        "Find TP, TN, FP, and FN to calculate Sensitivity, Specificity, and Precision:"
      ],
      "metadata": {
        "id": "HcftDXqS_xYk"
      }
    },
    {
      "cell_type": "code",
      "source": [
        "tn, fp, fn, tp = confusion_mat.ravel()\n",
        "tn"
      ],
      "metadata": {
        "colab": {
          "base_uri": "https://localhost:8080/"
        },
        "id": "4Is9tuSi_nY4",
        "outputId": "3b08ed9a-ca63-46b5-9a92-767c58d16ae6"
      },
      "execution_count": null,
      "outputs": [
        {
          "output_type": "execute_result",
          "data": {
            "text/plain": [
              "42"
            ]
          },
          "metadata": {},
          "execution_count": 26
        }
      ]
    },
    {
      "cell_type": "markdown",
      "source": [
        "Plot the ROC curve:"
      ],
      "metadata": {
        "id": "X5nBKMg4x49Y"
      }
    },
    {
      "cell_type": "code",
      "source": [
        "metrics.plot_roc_curve(logistic_reg, X_test, y_test)"
      ],
      "metadata": {
        "colab": {
          "base_uri": "https://localhost:8080/",
          "height": 351
        },
        "outputId": "aeb5055c-2e78-41ff-d95f-876245a383f6",
        "id": "ZAMOqUCpx49Y"
      },
      "execution_count": null,
      "outputs": [
        {
          "output_type": "stream",
          "name": "stderr",
          "text": [
            "/usr/local/lib/python3.7/dist-packages/sklearn/utils/deprecation.py:87: FutureWarning: Function plot_roc_curve is deprecated; Function :func:`plot_roc_curve` is deprecated in 1.0 and will be removed in 1.2. Use one of the class methods: :meth:`sklearn.metric.RocCurveDisplay.from_predictions` or :meth:`sklearn.metric.RocCurveDisplay.from_estimator`.\n",
            "  warnings.warn(msg, category=FutureWarning)\n"
          ]
        },
        {
          "output_type": "execute_result",
          "data": {
            "text/plain": [
              "<sklearn.metrics._plot.roc_curve.RocCurveDisplay at 0x7f9fddbea190>"
            ]
          },
          "metadata": {},
          "execution_count": 27
        },
        {
          "output_type": "display_data",
          "data": {
            "image/png": "[encoded data removed]",
            "text/plain": [
              "<Figure size 432x288 with 1 Axes>"
            ]
          },
          "metadata": {
            "needs_background": "light"
          }
        }
      ]
    },
    {
      "cell_type": "code",
      "source": [],
      "metadata": {
        "id": "cJuzp152F5yk"
      },
      "execution_count": null,
      "outputs": []
    },
    {
      "cell_type": "markdown",
      "source": [
        "## Naive Bayes for Classification"
      ],
      "metadata": {
        "id": "Asnao_V-F6EZ"
      }
    },
    {
      "cell_type": "markdown",
      "source": [
        "We will use the same classification data as above. Refer to [sklearn documentation](https://scikit-learn.org/stable/modules/naive_bayes.html#naive-bayes) for Naive Bayes."
      ],
      "metadata": {
        "id": "qs4N-HxAF6EZ"
      }
    },
    {
      "cell_type": "markdown",
      "source": [
        "###Train Naive Bayes classifier:"
      ],
      "metadata": {
        "id": "qiIJr2OIF6Ea"
      }
    },
    {
      "cell_type": "code",
      "source": [
        "# create Naive Bayes classifier\n",
        "Naive_bayes = naive_bayes.GaussianNB()\n",
        "# Naive_bayes = naive_bayes.MultinomialNB()\n",
        "\n",
        "# fit the classifier to your training data\n",
        "Naive_bayes.fit(X_train, y_train)"
      ],
      "metadata": {
        "colab": {
          "base_uri": "https://localhost:8080/"
        },
        "outputId": "c9bb08aa-55cf-4221-be80-c6162bb89029",
        "id": "a13PGjODF6Ea"
      },
      "execution_count": null,
      "outputs": [
        {
          "output_type": "execute_result",
          "data": {
            "text/plain": [
              "GaussianNB()"
            ]
          },
          "metadata": {},
          "execution_count": 28
        }
      ]
    },
    {
      "cell_type": "markdown",
      "source": [
        "###Test the prediction performance:\n"
      ],
      "metadata": {
        "id": "Hc56ndR3F6Eb"
      }
    },
    {
      "cell_type": "code",
      "source": [
        "y_pred = Naive_bayes.predict(X_test)\n",
        "print(y_pred)\n",
        "probalilities = Naive_bayes.predict_proba(X_test)\n",
        "print(f\"Estiamted Probabilities:{probalilities}\")"
      ],
      "metadata": {
        "id": "IKRoMKg1F6Eb",
        "colab": {
          "base_uri": "https://localhost:8080/"
        },
        "outputId": "06e7798a-8741-414c-9bdf-94710d37cfac"
      },
      "execution_count": null,
      "outputs": [
        {
          "output_type": "stream",
          "name": "stdout",
          "text": [
            "[0 0 0 0 0 1 0 0 0 0 0 0 1 0 1 1 0 0 1 1 0 0 0 0 1 1 0 0 0 1 0 0 0 0 0 0 0\n",
            " 0 0 0 0 0 0 0 0 0 1 0 1 0 0 0 0 0 0 1 0 0 0 0 0 0 0 1 0 0 0 1 1 0 0 0 1 0\n",
            " 0 0 1 1 1 0 0 1 0 1 1 0 1 0 1 1 0 0 0]\n",
            "Estiamted Probabilities:[[0.64224237 0.35775763]\n",
            " [0.63088663 0.36911337]\n",
            " [0.64566387 0.35433613]\n",
            " [0.5734463  0.4265537 ]\n",
            " [0.57193115 0.42806885]\n",
            " [0.40710715 0.59289285]\n",
            " [0.6241649  0.3758351 ]\n",
            " [0.62830516 0.37169484]\n",
            " [0.50485965 0.49514035]\n",
            " [0.64948842 0.35051158]\n",
            " [0.58402035 0.41597965]\n",
            " [0.57294848 0.42705152]\n",
            " [0.40381752 0.59618248]\n",
            " [0.63173017 0.36826983]\n",
            " [0.41622018 0.58377982]\n",
            " [0.47970696 0.52029304]\n",
            " [0.63197661 0.36802339]\n",
            " [0.61454791 0.38545209]\n",
            " [0.48166118 0.51833882]\n",
            " [0.45838979 0.54161021]\n",
            " [0.55141621 0.44858379]\n",
            " [0.64777529 0.35222471]\n",
            " [0.64925693 0.35074307]\n",
            " [0.52852349 0.47147651]\n",
            " [0.36546716 0.63453284]\n",
            " [0.48248432 0.51751568]\n",
            " [0.62409879 0.37590121]\n",
            " [0.63337493 0.36662507]\n",
            " [0.652061   0.347939  ]\n",
            " [0.41909038 0.58090962]\n",
            " [0.64697826 0.35302174]\n",
            " [0.57690636 0.42309364]\n",
            " [0.64419163 0.35580837]\n",
            " [0.59221286 0.40778714]\n",
            " [0.57193398 0.42806602]\n",
            " [0.52193912 0.47806088]\n",
            " [0.59660972 0.40339028]\n",
            " [0.52446463 0.47553537]\n",
            " [0.56386245 0.43613755]\n",
            " [0.63950537 0.36049463]\n",
            " [0.59446023 0.40553977]\n",
            " [0.65271579 0.34728421]\n",
            " [0.52446678 0.47553322]\n",
            " [0.52176267 0.47823733]\n",
            " [0.51580276 0.48419724]\n",
            " [0.58447044 0.41552956]\n",
            " [0.39875501 0.60124499]\n",
            " [0.64951922 0.35048078]\n",
            " [0.38122181 0.61877819]\n",
            " [0.61632806 0.38367194]\n",
            " [0.61552754 0.38447246]\n",
            " [0.58843143 0.41156857]\n",
            " [0.65312206 0.34687794]\n",
            " [0.64463066 0.35536934]\n",
            " [0.60052372 0.39947628]\n",
            " [0.40464893 0.59535107]\n",
            " [0.64353881 0.35646119]\n",
            " [0.55181499 0.44818501]\n",
            " [0.59910634 0.40089366]\n",
            " [0.50018964 0.49981036]\n",
            " [0.62114936 0.37885064]\n",
            " [0.60115584 0.39884416]\n",
            " [0.53322218 0.46677782]\n",
            " [0.38991687 0.61008313]\n",
            " [0.59751787 0.40248213]\n",
            " [0.59379396 0.40620604]\n",
            " [0.63882214 0.36117786]\n",
            " [0.36237025 0.63762975]\n",
            " [0.37805358 0.62194642]\n",
            " [0.50076901 0.49923099]\n",
            " [0.55141127 0.44858873]\n",
            " [0.54269981 0.45730019]\n",
            " [0.38712288 0.61287712]\n",
            " [0.59411723 0.40588277]\n",
            " [0.54524676 0.45475324]\n",
            " [0.65654056 0.34345944]\n",
            " [0.4588323  0.5411677 ]\n",
            " [0.40777006 0.59222994]\n",
            " [0.38616297 0.61383703]\n",
            " [0.61351362 0.38648638]\n",
            " [0.65209551 0.34790449]\n",
            " [0.41936363 0.58063637]\n",
            " [0.59599594 0.40400406]\n",
            " [0.41650539 0.58349461]\n",
            " [0.41855541 0.58144459]\n",
            " [0.59556692 0.40443308]\n",
            " [0.47954985 0.52045015]\n",
            " [0.56090051 0.43909949]\n",
            " [0.47971951 0.52028049]\n",
            " [0.48260159 0.51739841]\n",
            " [0.60740915 0.39259085]\n",
            " [0.61308596 0.38691404]\n",
            " [0.60144998 0.39855002]]\n"
          ]
        }
      ]
    },
    {
      "cell_type": "markdown",
      "source": [
        "The `roc_auc_score` function requires the true binary value and the target scores, which can either be probability estimates of the positive class, confidence values, or binary decisions."
      ],
      "metadata": {
        "id": "_pxo9_drF6Eb"
      }
    },
    {
      "cell_type": "code",
      "source": [
        "# using sklearn metrics\n",
        "acc = (y_test == y_pred).mean()\n",
        "print(f\"Calculated Accuracy: {acc}\\n\")\n",
        "acc1 = metrics.accuracy_score(y_test, y_pred)\n",
        "print(f\"Accuracy: {acc1}\\n\")\n",
        "\n",
        "auc = metrics.roc_auc_score(y_test, probalilities[:, 1])\n",
        "print(f\"Area Under ROC curve (AUC): {auc}\\n\")\n",
        "\n",
        "confusion_mat = metrics.confusion_matrix(y_test, y_pred)\n",
        "confusion_mat"
      ],
      "metadata": {
        "colab": {
          "base_uri": "https://localhost:8080/"
        },
        "outputId": "fcf2b64d-52ae-41d5-8f5c-667dd9677439",
        "id": "ED23-p_-F6Eb"
      },
      "execution_count": null,
      "outputs": [
        {
          "output_type": "stream",
          "name": "stdout",
          "text": [
            "Calculated Accuracy: 0.6129032258064516\n",
            "\n",
            "Accuracy: 0.6129032258064516\n",
            "\n",
            "Area Under ROC curve (AUC): 0.6909430438842203\n",
            "\n"
          ]
        },
        {
          "output_type": "execute_result",
          "data": {
            "text/plain": [
              "array([[37,  5],\n",
              "       [31, 20]])"
            ]
          },
          "metadata": {},
          "execution_count": 30
        }
      ]
    },
    {
      "cell_type": "markdown",
      "source": [
        "Find TP, TN, FP, and FN to calculate Sensitivity, Specificity, and Precision:"
      ],
      "metadata": {
        "id": "-Y-3lplmF6Eb"
      }
    },
    {
      "cell_type": "code",
      "source": [
        "tn, fp, fn, tp = confusion_mat.ravel()\n",
        "\n",
        "sensitivity = tp/(tp+fn)\n",
        "specificity = tn/(tn+fp)\n",
        "print(f\"sensitivity: {sensitivity}\")\n",
        "print(f\"specificity: {specificity}\")"
      ],
      "metadata": {
        "colab": {
          "base_uri": "https://localhost:8080/"
        },
        "outputId": "8fdc9a4d-0503-407f-87b1-377375d6b7de",
        "id": "owTHBdYeF6Eb"
      },
      "execution_count": null,
      "outputs": [
        {
          "output_type": "stream",
          "name": "stdout",
          "text": [
            "sensitivity: 0.39215686274509803\n",
            "specificity: 0.8809523809523809\n"
          ]
        }
      ]
    },
    {
      "cell_type": "markdown",
      "source": [
        "Plot the ROC curve:"
      ],
      "metadata": {
        "id": "e1s_EfBgF6Eb"
      }
    },
    {
      "cell_type": "code",
      "source": [
        "metrics.plot_roc_curve(Naive_bayes, X_test, y_test)"
      ],
      "metadata": {
        "colab": {
          "base_uri": "https://localhost:8080/",
          "height": 351
        },
        "outputId": "e067111b-8219-401a-a884-3522dad1f074",
        "id": "nbFLLSiyF6Eb"
      },
      "execution_count": null,
      "outputs": [
        {
          "output_type": "stream",
          "name": "stderr",
          "text": [
            "/usr/local/lib/python3.7/dist-packages/sklearn/utils/deprecation.py:87: FutureWarning: Function plot_roc_curve is deprecated; Function :func:`plot_roc_curve` is deprecated in 1.0 and will be removed in 1.2. Use one of the class methods: :meth:`sklearn.metric.RocCurveDisplay.from_predictions` or :meth:`sklearn.metric.RocCurveDisplay.from_estimator`.\n",
            "  warnings.warn(msg, category=FutureWarning)\n"
          ]
        },
        {
          "output_type": "execute_result",
          "data": {
            "text/plain": [
              "<sklearn.metrics._plot.roc_curve.RocCurveDisplay at 0x7f9fd5316a90>"
            ]
          },
          "metadata": {},
          "execution_count": 32
        },
        {
          "output_type": "display_data",
          "data": {
            "image/png": "[encoded data removed]",
            "text/plain": [
              "<Figure size 432x288 with 1 Axes>"
            ]
          },
          "metadata": {
            "needs_background": "light"
          }
        }
      ]
    },
    {
      "cell_type": "markdown",
      "source": [
        "Which Classification model performs better on Nasa's comet classification task?"
      ],
      "metadata": {
        "id": "Aq8-57sVCJS5"
      }
    }
  ]
}